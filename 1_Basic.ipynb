{
  "nbformat": 4,
  "nbformat_minor": 0,
  "metadata": {
    "colab": {
      "provenance": [],
      "toc_visible": true,
      "authorship_tag": "ABX9TyOKWdGU2+JUmHjzqfFkjtOX",
      "include_colab_link": true
    },
    "kernelspec": {
      "name": "ir",
      "display_name": "R"
    },
    "language_info": {
      "name": "R"
    }
  },
  "cells": [
    {
      "cell_type": "markdown",
      "metadata": {
        "id": "view-in-github",
        "colab_type": "text"
      },
      "source": [
        "<a href=\"https://colab.research.google.com/github/jayarnim/study-RBasicSyntax/blob/main/1_Basic.ipynb\" target=\"_parent\"><img src=\"https://colab.research.google.com/assets/colab-badge.svg\" alt=\"Open In Colab\"/></a>"
      ]
    },
    {
      "cell_type": "markdown",
      "source": [
        "# 0. Basic"
      ],
      "metadata": {
        "id": "BGK-iVXScyi1"
      }
    },
    {
      "cell_type": "markdown",
      "source": [
        "## 도움말"
      ],
      "metadata": {
        "id": "H0jIgqhCc2cI"
      }
    },
    {
      "cell_type": "code",
      "source": [
        "# help(what you want to know)\n",
        "help(print)"
      ],
      "metadata": {
        "id": "ILkF2Snic454"
      },
      "execution_count": null,
      "outputs": []
    },
    {
      "cell_type": "markdown",
      "source": [
        "## 패키지"
      ],
      "metadata": {
        "id": "smz3fdLodEZ1"
      }
    },
    {
      "cell_type": "markdown",
      "source": [
        "- 패키지가 CRAN에 등록되어 있는지 확인하기"
      ],
      "metadata": {
        "id": "MViP-LK4NblK"
      }
    },
    {
      "cell_type": "code",
      "source": [
        "# available.packages(\"packageName\")\n",
        "available.packages(\"readxl\")"
      ],
      "metadata": {
        "colab": {
          "base_uri": "https://localhost:8080/",
          "height": 140
        },
        "id": "Jjlm5IL0Nfj4",
        "outputId": "650fc065-3332-442b-91bf-dae816238589"
      },
      "execution_count": null,
      "outputs": [
        {
          "output_type": "stream",
          "name": "stderr",
          "text": [
            "Warning message:\n",
            "“unable to access index for repository readxl:\n",
            "  cannot open URL 'readxl/PACKAGES'”\n"
          ]
        },
        {
          "output_type": "display_data",
          "data": {
            "text/html": [
              "<table class=\"dataframe\">\n",
              "<caption>A matrix: 0 × 17 of type chr</caption>\n",
              "<thead>\n",
              "\t<tr><th scope=col>Package</th><th scope=col>Version</th><th scope=col>Priority</th><th scope=col>Depends</th><th scope=col>Imports</th><th scope=col>LinkingTo</th><th scope=col>Suggests</th><th scope=col>Enhances</th><th scope=col>License</th><th scope=col>License_is_FOSS</th><th scope=col>License_restricts_use</th><th scope=col>OS_type</th><th scope=col>Archs</th><th scope=col>MD5sum</th><th scope=col>NeedsCompilation</th><th scope=col>File</th><th scope=col>Repository</th></tr>\n",
              "</thead>\n",
              "<tbody>\n",
              "</tbody>\n",
              "</table>\n"
            ],
            "text/markdown": "\nA matrix: 0 × 17 of type chr\n\n| Package | Version | Priority | Depends | Imports | LinkingTo | Suggests | Enhances | License | License_is_FOSS | License_restricts_use | OS_type | Archs | MD5sum | NeedsCompilation | File | Repository |\n|---|---|---|---|---|---|---|---|---|---|---|---|---|---|---|---|---|\n\n",
            "text/latex": "A matrix: 0 × 17 of type chr\n\\begin{tabular}{lllllllllllllllll}\n Package & Version & Priority & Depends & Imports & LinkingTo & Suggests & Enhances & License & License\\_is\\_FOSS & License\\_restricts\\_use & OS\\_type & Archs & MD5sum & NeedsCompilation & File & Repository\\\\\n\\hline\n\\end{tabular}\n",
            "text/plain": [
              "     Package Version Priority Depends Imports LinkingTo Suggests Enhances\n",
              "     License License_is_FOSS License_restricts_use OS_type Archs MD5sum\n",
              "     NeedsCompilation File Repository"
            ]
          },
          "metadata": {}
        }
      ]
    },
    {
      "cell_type": "markdown",
      "source": [
        "- 패키지 설치하기"
      ],
      "metadata": {
        "id": "_aSHvQTcdOY_"
      }
    },
    {
      "cell_type": "code",
      "source": [
        "# install.packages(\"packageName\")\n",
        "install.packages(\"readxl\")"
      ],
      "metadata": {
        "id": "OlFqUznXc_wE",
        "colab": {
          "base_uri": "https://localhost:8080/"
        },
        "outputId": "f27b51a8-ce6f-4fe4-b128-7e78805ed1ea"
      },
      "execution_count": null,
      "outputs": [
        {
          "output_type": "stream",
          "name": "stderr",
          "text": [
            "Installing package into ‘/usr/local/lib/R/site-library’\n",
            "(as ‘lib’ is unspecified)\n",
            "\n"
          ]
        }
      ]
    },
    {
      "cell_type": "markdown",
      "source": [
        "- 패키지 불러오기"
      ],
      "metadata": {
        "id": "JIGyRu0OdWBD"
      }
    },
    {
      "cell_type": "code",
      "source": [
        "# library(packageName)\n",
        "library(readxl)"
      ],
      "metadata": {
        "id": "LJzqnwCXdZRJ"
      },
      "execution_count": null,
      "outputs": []
    },
    {
      "cell_type": "markdown",
      "source": [
        "- 패키지 전체를 불러오지 않고 특정 함수만 사용하고 싶을 경우"
      ],
      "metadata": {
        "id": "UWbStL4NdoXC"
      }
    },
    {
      "cell_type": "code",
      "source": [
        "# packageName::functionName()\n",
        "# readxl::read_excel()"
      ],
      "metadata": {
        "id": "FsW6Rueiddpi"
      },
      "execution_count": null,
      "outputs": []
    },
    {
      "cell_type": "markdown",
      "source": [
        "- 패키지 정보(라이센스, 버전, 제작자, 함수 등) 확인하기"
      ],
      "metadata": {
        "id": "n0DbQpwofGbI"
      }
    },
    {
      "cell_type": "code",
      "source": [
        "# library(help = packageName)\n",
        "library(help = readxl)"
      ],
      "metadata": {
        "id": "4QhrefaqfJux"
      },
      "execution_count": null,
      "outputs": []
    },
    {
      "cell_type": "markdown",
      "source": [
        "- 패키지 업데이트하기"
      ],
      "metadata": {
        "id": "dfEYnJgze1R3"
      }
    },
    {
      "cell_type": "code",
      "source": [
        "# update.packages(\"packageName\")\n",
        "# 업데이트할 패키지명을 인자로 주지 않는 경우 모든 패키지를 업데이트함\n",
        "update.packages(\"readxl\")"
      ],
      "metadata": {
        "id": "bijSqDYUe3cx"
      },
      "execution_count": null,
      "outputs": []
    },
    {
      "cell_type": "markdown",
      "source": [
        "- 패키지 삭제하기"
      ],
      "metadata": {
        "id": "KXR4urR1e-G5"
      }
    },
    {
      "cell_type": "code",
      "source": [
        "# remove.packages(\"packageName\")\n",
        "# 삭제할 패키지명을 인자로 주지 않는 경우 모든 패키지를 삭제함\n",
        "remove.packages(\"readxl\")"
      ],
      "metadata": {
        "id": "nNYG-W5-e_6p",
        "colab": {
          "base_uri": "https://localhost:8080/"
        },
        "outputId": "55442442-1b17-40db-8f00-fb4eeba676a5"
      },
      "execution_count": null,
      "outputs": [
        {
          "output_type": "stream",
          "name": "stderr",
          "text": [
            "Removing package from ‘/usr/local/lib/R/site-library’\n",
            "(as ‘lib’ is unspecified)\n",
            "\n"
          ]
        }
      ]
    },
    {
      "cell_type": "markdown",
      "source": [
        "## 통합 개발 환경으로 Colab 사용하기\n",
        "\n",
        "- https://colab.research.google.com/notebook#create=ture&language=r\n",
        "- `런타임` -> `런타임 유형 변경` -> `런타임 유형` -> `R`\n",
        "- 구글은 R 에 대해서는 Drive Mount 를 지원하지 않음"
      ],
      "metadata": {
        "id": "fij-v7JzfxiF"
      }
    },
    {
      "cell_type": "markdown",
      "source": [
        "### Colab 에서 구글 드라이브 접근하기"
      ],
      "metadata": {
        "id": "_etORJZ-JnPN"
      }
    },
    {
      "cell_type": "markdown",
      "source": [
        "- [Tutorial](https://youtu.be/ugNlbyOlWlQ?feature=shared)"
      ],
      "metadata": {
        "id": "A1ftHddzGnGy"
      }
    },
    {
      "cell_type": "code",
      "source": [
        "# system(\"gdown --id\")"
      ],
      "metadata": {
        "id": "cgfmljyEJql1"
      },
      "execution_count": null,
      "outputs": []
    },
    {
      "cell_type": "markdown",
      "source": [
        "- [Tutorial](https://stackoverflow.com/questions/56679549/how-to-mount-google-drive-to-r-notebook-in-colab)"
      ],
      "metadata": {
        "id": "IoMW06XNGgtD"
      }
    },
    {
      "cell_type": "code",
      "source": [
        "install.packages(\"googledrive\")\n",
        "library(\"googledrive\")\n",
        "\n",
        "if (file.exists(\"/usr/local/lib/python3.6/dist-packages/google/colab_ipython.py\")){\n",
        "\n",
        "    install.packages(\"R.utils\")\n",
        "    library(\"R.utils\")\n",
        "    library(\"httr\")\n",
        "\n",
        "    my_check <- function(){\n",
        "        return(TRUE)\n",
        "        }\n",
        "\n",
        "    reassignInPackage(\n",
        "        \"is_interactive\",\n",
        "        pkgName = \"httr\",\n",
        "        my_check\n",
        "        )\n",
        "\n",
        "    options(rlang_interactive = TRUE)\n",
        "    }\n",
        "\n",
        "drive_auth(\n",
        "    use_oob = TRUE,\n",
        "    cache = TRUE\n",
        "    )"
      ],
      "metadata": {
        "id": "RItaJXx4F4Ik"
      },
      "execution_count": null,
      "outputs": []
    },
    {
      "cell_type": "markdown",
      "source": [
        "# 1. Variable\n",
        "\n",
        "- 변수 명명 시 주의사항\n",
        "    1. 첫 번째 글자는 반드시 알파벳일 것\n",
        "    2. 대소문자를 구분할 것\n",
        "    3. 되도록 소문자로 작성할 것\n",
        "    4. 띄어쓰기는 under bar(_)를 활용할 것\n",
        "    5. 명사화되거나 의미를 식별하기 쉬운 이름으로 지을 것"
      ],
      "metadata": {
        "id": "BSaUxn88gCCA"
      }
    },
    {
      "cell_type": "markdown",
      "source": [
        "- 변수 선언 및 초기화"
      ],
      "metadata": {
        "id": "SXL9-Qj7gb17"
      }
    },
    {
      "cell_type": "code",
      "source": [
        "# 변수 선언 절차 없음\n",
        "x <- 1"
      ],
      "metadata": {
        "id": "ZTO3enQegErz"
      },
      "execution_count": null,
      "outputs": []
    },
    {
      "cell_type": "markdown",
      "source": [
        "- 변수 삭제"
      ],
      "metadata": {
        "id": "Yh4-SzSfgelr"
      }
    },
    {
      "cell_type": "code",
      "source": [
        "rm(x)"
      ],
      "metadata": {
        "id": "yHUzQ-vZgUc5"
      },
      "execution_count": null,
      "outputs": []
    },
    {
      "cell_type": "markdown",
      "source": [
        "# 2. Data Type"
      ],
      "metadata": {
        "id": "qX2taI6vhFLD"
      }
    },
    {
      "cell_type": "markdown",
      "source": [
        "## 숫자형(Numerical Type)"
      ],
      "metadata": {
        "id": "jwujAK2IhL8b"
      }
    },
    {
      "cell_type": "markdown",
      "source": [
        "### 실수형(Double)"
      ],
      "metadata": {
        "id": "j5uXz_JnhO75"
      }
    },
    {
      "cell_type": "code",
      "source": [
        "x1 <- 1.0\n",
        "typeof(x1)"
      ],
      "metadata": {
        "id": "W9eBXVbZhVw7",
        "colab": {
          "base_uri": "https://localhost:8080/",
          "height": 34
        },
        "outputId": "c59a8d66-feb2-4291-c3a4-84fb24889ee0"
      },
      "execution_count": null,
      "outputs": [
        {
          "output_type": "display_data",
          "data": {
            "text/html": [
              "'double'"
            ],
            "text/markdown": "'double'",
            "text/latex": "'double'",
            "text/plain": [
              "[1] \"double\""
            ]
          },
          "metadata": {}
        }
      ]
    },
    {
      "cell_type": "markdown",
      "source": [
        "### 정수형(Integer)"
      ],
      "metadata": {
        "id": "EZXGUFZNhZj3"
      }
    },
    {
      "cell_type": "code",
      "source": [
        "# 숫자의 경우 기본자료형이 실수형임\n",
        "x2 <- 1\n",
        "typeof(x2)"
      ],
      "metadata": {
        "id": "AHbVNwb0hkl8",
        "colab": {
          "base_uri": "https://localhost:8080/",
          "height": 34
        },
        "outputId": "1373f1ad-6fcb-465d-c3d3-ae2e3347a63f"
      },
      "execution_count": null,
      "outputs": [
        {
          "output_type": "display_data",
          "data": {
            "text/html": [
              "'double'"
            ],
            "text/markdown": "'double'",
            "text/latex": "'double'",
            "text/plain": [
              "[1] \"double\""
            ]
          },
          "metadata": {}
        }
      ]
    },
    {
      "cell_type": "code",
      "source": [
        "# 정수형으로 지정하고 싶을 경우 뒤에 L을 붙임\n",
        "x2 <- 1L\n",
        "typeof(x2)"
      ],
      "metadata": {
        "id": "Za6jd3QLhpVd",
        "colab": {
          "base_uri": "https://localhost:8080/",
          "height": 34
        },
        "outputId": "90e6b16b-a355-465f-8f8b-2bbbf7e540fd"
      },
      "execution_count": null,
      "outputs": [
        {
          "output_type": "display_data",
          "data": {
            "text/html": [
              "'integer'"
            ],
            "text/markdown": "'integer'",
            "text/latex": "'integer'",
            "text/plain": [
              "[1] \"integer\""
            ]
          },
          "metadata": {}
        }
      ]
    },
    {
      "cell_type": "markdown",
      "source": [
        "## 문자형(Character Type)"
      ],
      "metadata": {
        "id": "OzluTKv7hzJ7"
      }
    },
    {
      "cell_type": "code",
      "source": [
        "x3 <- \"hello\"\n",
        "typeof(x3)"
      ],
      "metadata": {
        "id": "3J73ddFth5m5",
        "colab": {
          "base_uri": "https://localhost:8080/",
          "height": 34
        },
        "outputId": "ed247828-06f5-4f82-c4ef-d0e23d9810b7"
      },
      "execution_count": null,
      "outputs": [
        {
          "output_type": "display_data",
          "data": {
            "text/html": [
              "'character'"
            ],
            "text/markdown": "'character'",
            "text/latex": "'character'",
            "text/plain": [
              "[1] \"character\""
            ]
          },
          "metadata": {}
        }
      ]
    },
    {
      "cell_type": "markdown",
      "source": [
        "## 논리형(Logical Type)"
      ],
      "metadata": {
        "id": "IJH6d6IciXiu"
      }
    },
    {
      "cell_type": "code",
      "source": [
        "x4 <- TRUE\n",
        "typeof(x4)"
      ],
      "metadata": {
        "id": "8L3jxXnrifrx",
        "colab": {
          "base_uri": "https://localhost:8080/",
          "height": 34
        },
        "outputId": "25f7f32b-8234-41db-c11f-c3a862070980"
      },
      "execution_count": null,
      "outputs": [
        {
          "output_type": "display_data",
          "data": {
            "text/html": [
              "'logical'"
            ],
            "text/markdown": "'logical'",
            "text/latex": "'logical'",
            "text/plain": [
              "[1] \"logical\""
            ]
          },
          "metadata": {}
        }
      ]
    },
    {
      "cell_type": "code",
      "source": [
        "x5 <- FALSE\n",
        "typeof(x5)"
      ],
      "metadata": {
        "id": "SBu6qkvNieUv",
        "colab": {
          "base_uri": "https://localhost:8080/",
          "height": 34
        },
        "outputId": "2c747754-c47e-40b9-9351-097dd96112f7"
      },
      "execution_count": null,
      "outputs": [
        {
          "output_type": "display_data",
          "data": {
            "text/html": [
              "'logical'"
            ],
            "text/markdown": "'logical'",
            "text/latex": "'logical'",
            "text/plain": [
              "[1] \"logical\""
            ]
          },
          "metadata": {}
        }
      ]
    },
    {
      "cell_type": "markdown",
      "source": [
        "## 자료형 조회하기"
      ],
      "metadata": {
        "id": "-eRddF8vjCoU"
      }
    },
    {
      "cell_type": "code",
      "source": [
        "# mode(x) : 숫자형, 문자형, 논리형 여부를 반환함\n",
        "mode(x1)"
      ],
      "metadata": {
        "id": "mi1cu9OijE-6",
        "colab": {
          "base_uri": "https://localhost:8080/",
          "height": 34
        },
        "outputId": "4a278098-f3e7-484c-ad6a-8e56bbfffe08"
      },
      "execution_count": null,
      "outputs": [
        {
          "output_type": "display_data",
          "data": {
            "text/html": [
              "'numeric'"
            ],
            "text/markdown": "'numeric'",
            "text/latex": "'numeric'",
            "text/plain": [
              "[1] \"numeric\""
            ]
          },
          "metadata": {}
        }
      ]
    },
    {
      "cell_type": "code",
      "source": [
        "# typeof(x) : 정수형, 실수형, 문자형, 논리형 여부를 반환함\n",
        "typeof(x1)"
      ],
      "metadata": {
        "id": "2gaNTskEjKcn",
        "colab": {
          "base_uri": "https://localhost:8080/",
          "height": 34
        },
        "outputId": "4961d567-2a28-4694-f55e-2de1b9eae0c2"
      },
      "execution_count": null,
      "outputs": [
        {
          "output_type": "display_data",
          "data": {
            "text/html": [
              "'double'"
            ],
            "text/markdown": "'double'",
            "text/latex": "'double'",
            "text/plain": [
              "[1] \"double\""
            ]
          },
          "metadata": {}
        }
      ]
    },
    {
      "cell_type": "markdown",
      "source": [
        "## 자료형 판별하기"
      ],
      "metadata": {
        "id": "GMJSn70KijAG"
      }
    },
    {
      "cell_type": "code",
      "source": [
        "# is.dataType(data)\n",
        "print(is.double(x2))\n",
        "print(is.integer(x2))\n",
        "print(is.character(x2))\n",
        "print(is.logical(x2))"
      ],
      "metadata": {
        "id": "7xWeUS4Zinks",
        "colab": {
          "base_uri": "https://localhost:8080/"
        },
        "outputId": "25efd19d-b0c5-47db-b0f8-8a2e924252ba"
      },
      "execution_count": null,
      "outputs": [
        {
          "output_type": "stream",
          "name": "stdout",
          "text": [
            "[1] FALSE\n",
            "[1] TRUE\n",
            "[1] FALSE\n",
            "[1] FALSE\n"
          ]
        }
      ]
    },
    {
      "cell_type": "markdown",
      "source": [
        "## 자료형 변환하기"
      ],
      "metadata": {
        "id": "2ZA963t9ix0j"
      }
    },
    {
      "cell_type": "code",
      "source": [
        "# as.dataType(data)\n",
        "y <- as.double(x2)\n",
        "\n",
        "print(typeof(x2))\n",
        "print(typeof(y))"
      ],
      "metadata": {
        "id": "2xA2EZTxi8Hx",
        "colab": {
          "base_uri": "https://localhost:8080/"
        },
        "outputId": "bf26444d-1c59-41bc-f023-4dd51a6e34cd"
      },
      "execution_count": null,
      "outputs": [
        {
          "output_type": "stream",
          "name": "stdout",
          "text": [
            "[1] \"integer\"\n",
            "[1] \"double\"\n"
          ]
        }
      ]
    }
  ]
}