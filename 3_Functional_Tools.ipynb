{
  "nbformat": 4,
  "nbformat_minor": 0,
  "metadata": {
    "colab": {
      "provenance": [],
      "authorship_tag": "ABX9TyNUQ1P9lrPPZFvkt4zQypmA",
      "include_colab_link": true
    },
    "kernelspec": {
      "name": "ir",
      "display_name": "R"
    },
    "language_info": {
      "name": "R"
    }
  },
  "cells": [
    {
      "cell_type": "markdown",
      "metadata": {
        "id": "view-in-github",
        "colab_type": "text"
      },
      "source": [
        "<a href=\"https://colab.research.google.com/github/jayarnim/study-RBasicSyntax/blob/main/3_Functional_Tools.ipynb\" target=\"_parent\"><img src=\"https://colab.research.google.com/assets/colab-badge.svg\" alt=\"Open In Colab\"/></a>"
      ]
    },
    {
      "cell_type": "markdown",
      "source": [
        "# 1. 연산자(Operator)"
      ],
      "metadata": {
        "id": "2FUJh_GB2MmJ"
      }
    },
    {
      "cell_type": "markdown",
      "source": [
        "## 산술연산자(Arithmetric Operator)"
      ],
      "metadata": {
        "id": "wvRifkWB2Yh_"
      }
    },
    {
      "cell_type": "code",
      "source": [
        "# 덧셈\n",
        "1 + 1"
      ],
      "metadata": {
        "id": "_KCOe_jm2cGO",
        "colab": {
          "base_uri": "https://localhost:8080/",
          "height": 34
        },
        "outputId": "43f4a530-81e0-4de9-d6a4-36422bae3a54"
      },
      "execution_count": 1,
      "outputs": [
        {
          "output_type": "display_data",
          "data": {
            "text/html": [
              "2"
            ],
            "text/markdown": "2",
            "text/latex": "2",
            "text/plain": [
              "[1] 2"
            ]
          },
          "metadata": {}
        }
      ]
    },
    {
      "cell_type": "code",
      "source": [
        "# 뺄셈\n",
        "2 - 1"
      ],
      "metadata": {
        "id": "9agxAJ7D2dC4",
        "colab": {
          "base_uri": "https://localhost:8080/",
          "height": 34
        },
        "outputId": "4290268c-3f82-4cc6-fd06-2f98ebbbb598"
      },
      "execution_count": 2,
      "outputs": [
        {
          "output_type": "display_data",
          "data": {
            "text/html": [
              "1"
            ],
            "text/markdown": "1",
            "text/latex": "1",
            "text/plain": [
              "[1] 1"
            ]
          },
          "metadata": {}
        }
      ]
    },
    {
      "cell_type": "code",
      "source": [
        "# 곱셈\n",
        "2 * 2"
      ],
      "metadata": {
        "id": "9XB9CpiQ2eE5",
        "colab": {
          "base_uri": "https://localhost:8080/",
          "height": 34
        },
        "outputId": "821ebe6b-58fe-44d0-b5b1-4d415952d336"
      },
      "execution_count": 3,
      "outputs": [
        {
          "output_type": "display_data",
          "data": {
            "text/html": [
              "4"
            ],
            "text/markdown": "4",
            "text/latex": "4",
            "text/plain": [
              "[1] 4"
            ]
          },
          "metadata": {}
        }
      ]
    },
    {
      "cell_type": "code",
      "source": [
        "# 나눗셈\n",
        "3 / 2"
      ],
      "metadata": {
        "id": "5Q9VeWNt2fGU",
        "colab": {
          "base_uri": "https://localhost:8080/",
          "height": 34
        },
        "outputId": "55d4819c-09ba-4dc9-e8e3-b85c7d7cfaf0"
      },
      "execution_count": 4,
      "outputs": [
        {
          "output_type": "display_data",
          "data": {
            "text/html": [
              "1.5"
            ],
            "text/markdown": "1.5",
            "text/latex": "1.5",
            "text/plain": [
              "[1] 1.5"
            ]
          },
          "metadata": {}
        }
      ]
    },
    {
      "cell_type": "code",
      "source": [
        "# 몫\n",
        "7 %/% 5"
      ],
      "metadata": {
        "id": "wfxPeUxs2f-Z",
        "colab": {
          "base_uri": "https://localhost:8080/",
          "height": 34
        },
        "outputId": "902ab70d-6e48-4285-cc81-8ac9b34306c5"
      },
      "execution_count": 5,
      "outputs": [
        {
          "output_type": "display_data",
          "data": {
            "text/html": [
              "1"
            ],
            "text/markdown": "1",
            "text/latex": "1",
            "text/plain": [
              "[1] 1"
            ]
          },
          "metadata": {}
        }
      ]
    },
    {
      "cell_type": "code",
      "source": [
        "# 나머지\n",
        "7 %% 5"
      ],
      "metadata": {
        "id": "A0gPp8Oh2VBW",
        "colab": {
          "base_uri": "https://localhost:8080/",
          "height": 34
        },
        "outputId": "e83d3b4d-abec-43f2-b79a-1553bc008e57"
      },
      "execution_count": 6,
      "outputs": [
        {
          "output_type": "display_data",
          "data": {
            "text/html": [
              "2"
            ],
            "text/markdown": "2",
            "text/latex": "2",
            "text/plain": [
              "[1] 2"
            ]
          },
          "metadata": {}
        }
      ]
    },
    {
      "cell_type": "code",
      "source": [
        "# 제곱\n",
        "10 ^ 2\n",
        "10 ** 2"
      ],
      "metadata": {
        "id": "y2C8t-ou2mhR",
        "colab": {
          "base_uri": "https://localhost:8080/",
          "height": 52
        },
        "outputId": "03ec6738-48a1-4606-e289-a66ef50c46eb"
      },
      "execution_count": 7,
      "outputs": [
        {
          "output_type": "display_data",
          "data": {
            "text/html": [
              "100"
            ],
            "text/markdown": "100",
            "text/latex": "100",
            "text/plain": [
              "[1] 100"
            ]
          },
          "metadata": {}
        },
        {
          "output_type": "display_data",
          "data": {
            "text/html": [
              "100"
            ],
            "text/markdown": "100",
            "text/latex": "100",
            "text/plain": [
              "[1] 100"
            ]
          },
          "metadata": {}
        }
      ]
    },
    {
      "cell_type": "markdown",
      "source": [
        "## 비교연산자(Comparison Operator)"
      ],
      "metadata": {
        "id": "W87EXjjZ2sPY"
      }
    },
    {
      "cell_type": "code",
      "source": [
        "# 초과\n",
        "10 > 7"
      ],
      "metadata": {
        "id": "rj4O5x9N2uAT",
        "colab": {
          "base_uri": "https://localhost:8080/",
          "height": 34
        },
        "outputId": "dfd8d1f3-0e9f-4c10-ed66-305dcff76b6d"
      },
      "execution_count": 8,
      "outputs": [
        {
          "output_type": "display_data",
          "data": {
            "text/html": [
              "TRUE"
            ],
            "text/markdown": "TRUE",
            "text/latex": "TRUE",
            "text/plain": [
              "[1] TRUE"
            ]
          },
          "metadata": {}
        }
      ]
    },
    {
      "cell_type": "code",
      "source": [
        "# 이상\n",
        "10 >= 7"
      ],
      "metadata": {
        "id": "Zeufvufp2u4K",
        "colab": {
          "base_uri": "https://localhost:8080/",
          "height": 34
        },
        "outputId": "3d743a4f-9b62-4408-d04e-6a598609df1a"
      },
      "execution_count": 9,
      "outputs": [
        {
          "output_type": "display_data",
          "data": {
            "text/html": [
              "TRUE"
            ],
            "text/markdown": "TRUE",
            "text/latex": "TRUE",
            "text/plain": [
              "[1] TRUE"
            ]
          },
          "metadata": {}
        }
      ]
    },
    {
      "cell_type": "code",
      "source": [
        "# 미만\n",
        "10 < 7"
      ],
      "metadata": {
        "id": "yOd8pE362vzD",
        "colab": {
          "base_uri": "https://localhost:8080/",
          "height": 34
        },
        "outputId": "98c6d6b8-f3bf-48ad-b916-576437c74470"
      },
      "execution_count": 10,
      "outputs": [
        {
          "output_type": "display_data",
          "data": {
            "text/html": [
              "FALSE"
            ],
            "text/markdown": "FALSE",
            "text/latex": "FALSE",
            "text/plain": [
              "[1] FALSE"
            ]
          },
          "metadata": {}
        }
      ]
    },
    {
      "cell_type": "code",
      "source": [
        "# 이하\n",
        "10 <= 7"
      ],
      "metadata": {
        "id": "egQ9x7Za2w2d",
        "colab": {
          "base_uri": "https://localhost:8080/",
          "height": 34
        },
        "outputId": "22a7e6cb-8b0b-472b-d4e6-2900272f96b4"
      },
      "execution_count": 11,
      "outputs": [
        {
          "output_type": "display_data",
          "data": {
            "text/html": [
              "FALSE"
            ],
            "text/markdown": "FALSE",
            "text/latex": "FALSE",
            "text/plain": [
              "[1] FALSE"
            ]
          },
          "metadata": {}
        }
      ]
    },
    {
      "cell_type": "code",
      "source": [
        "# 같음\n",
        "10 == 7"
      ],
      "metadata": {
        "id": "RRWBEt7e2yj8",
        "colab": {
          "base_uri": "https://localhost:8080/",
          "height": 34
        },
        "outputId": "747b4102-ef1a-4dca-fd55-24fdd7600681"
      },
      "execution_count": 12,
      "outputs": [
        {
          "output_type": "display_data",
          "data": {
            "text/html": [
              "FALSE"
            ],
            "text/markdown": "FALSE",
            "text/latex": "FALSE",
            "text/plain": [
              "[1] FALSE"
            ]
          },
          "metadata": {}
        }
      ]
    },
    {
      "cell_type": "code",
      "source": [
        "# 같지 않음\n",
        "10 != 7"
      ],
      "metadata": {
        "id": "-qJsG3Z12q2m",
        "colab": {
          "base_uri": "https://localhost:8080/",
          "height": 34
        },
        "outputId": "ed8990ed-4b88-4162-c843-bbf5f398a6b3"
      },
      "execution_count": 13,
      "outputs": [
        {
          "output_type": "display_data",
          "data": {
            "text/html": [
              "TRUE"
            ],
            "text/markdown": "TRUE",
            "text/latex": "TRUE",
            "text/plain": [
              "[1] TRUE"
            ]
          },
          "metadata": {}
        }
      ]
    },
    {
      "cell_type": "markdown",
      "source": [
        "## 논리연산자(Logical or Boolen Operator)"
      ],
      "metadata": {
        "id": "RuX6kNRX3Cr1"
      }
    },
    {
      "cell_type": "code",
      "source": [
        "# AND(논리곱) : 전항 * 후항 = 1\n",
        "(10 > 7) & (7 > 10)"
      ],
      "metadata": {
        "id": "YL3EFgPg3FT2",
        "colab": {
          "base_uri": "https://localhost:8080/",
          "height": 34
        },
        "outputId": "f0c612e4-7238-47fe-d57f-84dbd679477e"
      },
      "execution_count": 42,
      "outputs": [
        {
          "output_type": "display_data",
          "data": {
            "text/html": [
              "FALSE"
            ],
            "text/markdown": "FALSE",
            "text/latex": "FALSE",
            "text/plain": [
              "[1] FALSE"
            ]
          },
          "metadata": {}
        }
      ]
    },
    {
      "cell_type": "code",
      "source": [
        "# OR(논리합) : 전항 + 후항 = 1\n",
        "(10 > 7) | (7 > 10)"
      ],
      "metadata": {
        "id": "JViBi1QN3F1V",
        "colab": {
          "base_uri": "https://localhost:8080/",
          "height": 34
        },
        "outputId": "054b221e-f500-4c1e-f5ac-b4bf069bcb67"
      },
      "execution_count": 43,
      "outputs": [
        {
          "output_type": "display_data",
          "data": {
            "text/html": [
              "TRUE"
            ],
            "text/markdown": "TRUE",
            "text/latex": "TRUE",
            "text/plain": [
              "[1] TRUE"
            ]
          },
          "metadata": {}
        }
      ]
    },
    {
      "cell_type": "code",
      "source": [
        "# XOR(배타적 논리합; 참이고 거짓이거나, 거짓이고 참) : 전항 != 후항\n",
        "xor(10 > 7, 7 > 10)"
      ],
      "metadata": {
        "colab": {
          "base_uri": "https://localhost:8080/",
          "height": 34
        },
        "id": "_Xu5z0wH3s7G",
        "outputId": "fed96f02-e8d2-495e-9bfd-130c04425caa"
      },
      "execution_count": 15,
      "outputs": [
        {
          "output_type": "display_data",
          "data": {
            "text/html": [
              "TRUE"
            ],
            "text/markdown": "TRUE",
            "text/latex": "TRUE",
            "text/plain": [
              "[1] TRUE"
            ]
          },
          "metadata": {}
        }
      ]
    },
    {
      "cell_type": "code",
      "source": [
        "xor(10 > 7, 7 < 10)"
      ],
      "metadata": {
        "id": "u5FWfwZa40tQ",
        "colab": {
          "base_uri": "https://localhost:8080/",
          "height": 34
        },
        "outputId": "3845597c-6d27-493c-8684-1be66eff54a2"
      },
      "execution_count": 16,
      "outputs": [
        {
          "output_type": "display_data",
          "data": {
            "text/html": [
              "FALSE"
            ],
            "text/markdown": "FALSE",
            "text/latex": "FALSE",
            "text/plain": [
              "[1] FALSE"
            ]
          },
          "metadata": {}
        }
      ]
    },
    {
      "cell_type": "code",
      "source": [
        "xor(10 < 7, 7 > 10)"
      ],
      "metadata": {
        "id": "ue9Clryv41uq",
        "colab": {
          "base_uri": "https://localhost:8080/",
          "height": 34
        },
        "outputId": "c539c717-9946-42cc-afa9-ea8f436eae4a"
      },
      "execution_count": 17,
      "outputs": [
        {
          "output_type": "display_data",
          "data": {
            "text/html": [
              "FALSE"
            ],
            "text/markdown": "FALSE",
            "text/latex": "FALSE",
            "text/plain": [
              "[1] FALSE"
            ]
          },
          "metadata": {}
        }
      ]
    },
    {
      "cell_type": "markdown",
      "source": [
        "# 2. 제어문(Control Statement)"
      ],
      "metadata": {
        "id": "5fJ1iLxw48ez"
      }
    },
    {
      "cell_type": "markdown",
      "source": [
        "## 조건문 if\n",
        "\n",
        "```\n",
        "if(conditional statement){\n",
        "    executable statement if TRUE\n",
        "    }\n",
        "```"
      ],
      "metadata": {
        "id": "3mGS4nLK5DK8"
      }
    },
    {
      "cell_type": "code",
      "source": [
        "x <- 10.0\n",
        "\n",
        "if(typeof(x) == 'double'){\n",
        "    print(\"type of x is double.\")\n",
        "    }"
      ],
      "metadata": {
        "id": "EmlT9O6j5Fk5",
        "colab": {
          "base_uri": "https://localhost:8080/"
        },
        "outputId": "ae38d6bd-e3c6-4e4a-ef06-bb29c71bf9bb"
      },
      "execution_count": 18,
      "outputs": [
        {
          "output_type": "stream",
          "name": "stdout",
          "text": [
            "[1] \"type of x is double.\"\n"
          ]
        }
      ]
    },
    {
      "cell_type": "markdown",
      "source": [
        "### else\n",
        "\n",
        "```\n",
        "if(conditional statement){\n",
        "    executable statement if TRUE\n",
        "    }else{\n",
        "        excutable statement if FALSE\n",
        "        }\n",
        "```"
      ],
      "metadata": {
        "id": "dmva6bPbb3pK"
      }
    },
    {
      "cell_type": "code",
      "source": [
        "x <- \"hello\"\n",
        "\n",
        "if(mode(x) == 'numeric'){\n",
        "    print(\"type of x is numeric.\")\n",
        "    }else{\n",
        "        print(\"type of x is not numeric.\")\n",
        "        }"
      ],
      "metadata": {
        "colab": {
          "base_uri": "https://localhost:8080/"
        },
        "id": "dvKmyLUKT6Nm",
        "outputId": "4ee43834-eb27-4c08-b140-68d13397a154"
      },
      "execution_count": 19,
      "outputs": [
        {
          "output_type": "stream",
          "name": "stdout",
          "text": [
            "[1] \"type of x is not numeric.\"\n"
          ]
        }
      ]
    },
    {
      "cell_type": "markdown",
      "source": [
        "### else if\n",
        "\n",
        "```\n",
        "if(conditional statement){\n",
        "    executable statement if TRUE\n",
        "    }else if(conditional statement if first conditional statement is FALSE){\n",
        "        excutable statement if second conditional statement is TRUE\n",
        "    }else{\n",
        "        excutable statement if all conditional statement is FALSE\n",
        "        }\n",
        "```"
      ],
      "metadata": {
        "id": "12Ty5QLka2Yg"
      }
    },
    {
      "cell_type": "code",
      "source": [
        "x <- TRUE\n",
        "\n",
        "if(mode(x) == \"numeric\"){\n",
        "    print(\"type of x is numeric.\")\n",
        "    }else if(mode(x) == \"character\"){\n",
        "        print(\"type of x is character.\")\n",
        "        }else{\n",
        "            print(\"type of x is not numeric or character.\")\n",
        "            }"
      ],
      "metadata": {
        "colab": {
          "base_uri": "https://localhost:8080/"
        },
        "id": "4hZ5O7V9T9W_",
        "outputId": "c0d011f3-d7a1-48af-ea37-8bff3a15f9fa"
      },
      "execution_count": 20,
      "outputs": [
        {
          "output_type": "stream",
          "name": "stdout",
          "text": [
            "[1] \"type of x is not numeric or character.\"\n"
          ]
        }
      ]
    },
    {
      "cell_type": "markdown",
      "source": [
        "### ifelse\n",
        "\n",
        "```\n",
        "ifelse(\n",
        "    condtional statement,\n",
        "    executable statement if TRUE,\n",
        "    executable statement if FALSE\n",
        "    )\n",
        "```"
      ],
      "metadata": {
        "id": "rHNVC9Krahgl"
      }
    },
    {
      "cell_type": "code",
      "source": [
        "major <- \"political science\"\n",
        "majorCondition <- c(\"economics\", \"commerce\", \"business management\")\n",
        "\n",
        "ifelse(\n",
        "    major %in% majorCondition,\n",
        "    print(\"welcome to finance\"),\n",
        "    print(\"sorry, bye\")\n",
        "    )"
      ],
      "metadata": {
        "colab": {
          "base_uri": "https://localhost:8080/",
          "height": 52
        },
        "id": "3kfDn5dPUEOc",
        "outputId": "4c54e554-4c96-4aea-ac30-396b74a72401"
      },
      "execution_count": 21,
      "outputs": [
        {
          "output_type": "stream",
          "name": "stdout",
          "text": [
            "[1] \"sorry, bye\"\n"
          ]
        },
        {
          "output_type": "display_data",
          "data": {
            "text/html": [
              "'sorry, bye'"
            ],
            "text/markdown": "'sorry, bye'",
            "text/latex": "'sorry, bye'",
            "text/plain": [
              "[1] \"sorry, bye\""
            ]
          },
          "metadata": {}
        }
      ]
    },
    {
      "cell_type": "markdown",
      "source": [
        "## 반복문 for\n",
        "\n",
        "```\n",
        "for(x in xs){\n",
        "    executable statements\n",
        "    }\n",
        "```"
      ],
      "metadata": {
        "id": "cKhYZsSa5FCU"
      }
    },
    {
      "cell_type": "code",
      "source": [
        "# 모임 xs 의 원소 x 에 대하여 순차로 수행문을 반복 실행함\n",
        "# 특정 조건에 한하여 수행문을 실행하고 싶지 않을 경우 조건을 걸어 다음 회차로 넘길 수 있음\n",
        "\n",
        "xs <- c(\"I\", \"Why\", \"Something_New\", \"This_Christmas\", \"What_Do_I_Call_You\")\n",
        "i <- 0\n",
        "\n",
        "for(x in xs){\n",
        "    i <- i + 1\n",
        "\n",
        "    print(paste(\"태연의 미니\", i, \"집 앨범명 :\", x))\n",
        "    }"
      ],
      "metadata": {
        "id": "kqx9Jt7C5Lf6",
        "colab": {
          "base_uri": "https://localhost:8080/"
        },
        "outputId": "65a92c67-f4f8-4823-cb5a-b35f1a11a27a"
      },
      "execution_count": 22,
      "outputs": [
        {
          "output_type": "stream",
          "name": "stdout",
          "text": [
            "[1] \"태연의 미니 1 집 앨범명 : I\"\n",
            "[1] \"태연의 미니 2 집 앨범명 : Why\"\n",
            "[1] \"태연의 미니 3 집 앨범명 : Something_New\"\n",
            "[1] \"태연의 미니 4 집 앨범명 : This_Christmas\"\n",
            "[1] \"태연의 미니 5 집 앨범명 : What_Do_I_Call_You\"\n"
          ]
        }
      ]
    },
    {
      "cell_type": "markdown",
      "source": [
        "### next"
      ],
      "metadata": {
        "id": "4UslUe_DcUP3"
      }
    },
    {
      "cell_type": "code",
      "source": [
        "# 특정 조건에 한하여 수행문을 실행하고 싶지 않을 경우 조건을 걸어 다음 회차로 넘길 수 있음\n",
        "\n",
        "xs <- c(\"I\", \"Why\", \"Something_New\", \"This_Christmas\", \"What_Do_I_Call_You\")\n",
        "i <- 0\n",
        "\n",
        "for(x in xs){\n",
        "    if(x == \"This_Christmas\"){\n",
        "        next\n",
        "        }\n",
        "\n",
        "    i <- i + 1\n",
        "\n",
        "    print(paste(\"태연의 미니\", i, \"집 앨범명 :\", x))\n",
        "    }"
      ],
      "metadata": {
        "colab": {
          "base_uri": "https://localhost:8080/"
        },
        "id": "h7Qp5XSRcQh-",
        "outputId": "f84a2fda-e8ec-41af-f8b9-ecc76a09b57a"
      },
      "execution_count": 23,
      "outputs": [
        {
          "output_type": "stream",
          "name": "stdout",
          "text": [
            "[1] \"태연의 미니 1 집 앨범명 : I\"\n",
            "[1] \"태연의 미니 2 집 앨범명 : Why\"\n",
            "[1] \"태연의 미니 3 집 앨범명 : Something_New\"\n",
            "[1] \"태연의 미니 4 집 앨범명 : What_Do_I_Call_You\"\n"
          ]
        }
      ]
    },
    {
      "cell_type": "markdown",
      "source": [
        "## 조건 반복문 while\n",
        "\n",
        "```\n",
        "while(conditional statement){\n",
        "    executable statements\n",
        "    }\n",
        "```"
      ],
      "metadata": {
        "id": "G8yjO6vo5HkR"
      }
    },
    {
      "cell_type": "code",
      "source": [
        "# 조건문이 참일 경우 수행문을 반복 실행함\n",
        "\n",
        "i <- 1\n",
        "\n",
        "while(i < 10){\n",
        "    print(i)\n",
        "\n",
        "    i <- i + 1\n",
        "    }"
      ],
      "metadata": {
        "id": "4bDXOqCY5Lsx",
        "colab": {
          "base_uri": "https://localhost:8080/"
        },
        "outputId": "153b066a-8214-40d9-996a-b9e69b9298d5"
      },
      "execution_count": 24,
      "outputs": [
        {
          "output_type": "stream",
          "name": "stdout",
          "text": [
            "[1] 1\n",
            "[1] 2\n",
            "[1] 3\n",
            "[1] 4\n",
            "[1] 5\n",
            "[1] 6\n",
            "[1] 7\n",
            "[1] 8\n",
            "[1] 9\n"
          ]
        }
      ]
    },
    {
      "cell_type": "markdown",
      "source": [
        "### break"
      ],
      "metadata": {
        "id": "8jqnnKkycZZg"
      }
    },
    {
      "cell_type": "code",
      "source": [
        "# 조건이 참일 경우 무한반복됨\n",
        "# 무한 반복을 원하지 않을 경우 수행문에 조건을 걸어 반복을 중단할 수 있음\n",
        "\n",
        "i <- 1\n",
        "\n",
        "while(TRUE){\n",
        "    print(i)\n",
        "\n",
        "    i <- i + 1\n",
        "\n",
        "    if(i >= 10){\n",
        "        break\n",
        "        }\n",
        "    }"
      ],
      "metadata": {
        "colab": {
          "base_uri": "https://localhost:8080/"
        },
        "id": "33fJG08iaXgv",
        "outputId": "d4349fe3-589e-41be-fa04-e313792d2cac"
      },
      "execution_count": 25,
      "outputs": [
        {
          "output_type": "stream",
          "name": "stdout",
          "text": [
            "[1] 1\n",
            "[1] 2\n",
            "[1] 3\n",
            "[1] 4\n",
            "[1] 5\n",
            "[1] 6\n",
            "[1] 7\n",
            "[1] 8\n",
            "[1] 9\n"
          ]
        }
      ]
    },
    {
      "cell_type": "markdown",
      "source": [
        "# 3. 사용자 정의 함수(User-Defined Function; UDF)\n",
        "\n",
        "```\n",
        "FuncName <- function(input){\n",
        "    executable statements\n",
        "    return(output)\n",
        "    }\n",
        "```"
      ],
      "metadata": {
        "id": "S_BROfj55MfO"
      }
    },
    {
      "cell_type": "markdown",
      "source": [
        "## 입력값과 반환값"
      ],
      "metadata": {
        "id": "uCP_hewfSRNA"
      }
    },
    {
      "cell_type": "markdown",
      "source": [
        "- 입력값과 반환값이 모두 존재하지 않는 경우"
      ],
      "metadata": {
        "id": "0ufLJ7QFSkmz"
      }
    },
    {
      "cell_type": "code",
      "source": [
        "myFunc <- function(){\n",
        "    print(\"함수 myFunc이 실행되었음\")\n",
        "    }"
      ],
      "metadata": {
        "id": "xc5OxKBPSd1E"
      },
      "execution_count": 26,
      "outputs": []
    },
    {
      "cell_type": "code",
      "source": [
        "myFunc()"
      ],
      "metadata": {
        "colab": {
          "base_uri": "https://localhost:8080/"
        },
        "id": "QrsmEKYXSjx5",
        "outputId": "3fad15ae-994e-4fc8-bae3-a71caf6393ad"
      },
      "execution_count": 27,
      "outputs": [
        {
          "output_type": "stream",
          "name": "stdout",
          "text": [
            "[1] \"함수 myFunc이 실행되었음\"\n"
          ]
        }
      ]
    },
    {
      "cell_type": "markdown",
      "source": [
        "- 입력값은 존재하나 반환값은 존재하지 않는 경우"
      ],
      "metadata": {
        "id": "Rjbk2vLHSoa8"
      }
    },
    {
      "cell_type": "code",
      "source": [
        "myFunc <- function(a){\n",
        "    print(\"파라미터 a의 아규먼트 : \", a)\n",
        "    }"
      ],
      "metadata": {
        "id": "q_gbsp5eSsRb"
      },
      "execution_count": 28,
      "outputs": []
    },
    {
      "cell_type": "code",
      "source": [
        "myFunc(18)"
      ],
      "metadata": {
        "colab": {
          "base_uri": "https://localhost:8080/"
        },
        "id": "Srh7D4IDTOic",
        "outputId": "fa7da1b9-29ea-495d-de5c-4b75d3e593fd"
      },
      "execution_count": 29,
      "outputs": [
        {
          "output_type": "stream",
          "name": "stdout",
          "text": [
            "[1] \"파라미터 a의 아규먼트 : \"\n"
          ]
        }
      ]
    },
    {
      "cell_type": "markdown",
      "source": [
        "- 입력값은 존재하지 않고 반환값만 존재하는 경우"
      ],
      "metadata": {
        "id": "P_G9amvwTO72"
      }
    },
    {
      "cell_type": "code",
      "source": [
        "myLikeNumber <- function(){\n",
        "    return(18)\n",
        "    }"
      ],
      "metadata": {
        "id": "rBufKT0OTTBh"
      },
      "execution_count": 30,
      "outputs": []
    },
    {
      "cell_type": "code",
      "source": [
        "myLikeNumber()"
      ],
      "metadata": {
        "colab": {
          "base_uri": "https://localhost:8080/",
          "height": 34
        },
        "id": "JeWP5MBBTTW1",
        "outputId": "949d241a-48d7-47d7-9935-abd12c587ece"
      },
      "execution_count": 31,
      "outputs": [
        {
          "output_type": "display_data",
          "data": {
            "text/html": [
              "18"
            ],
            "text/markdown": "18",
            "text/latex": "18",
            "text/plain": [
              "[1] 18"
            ]
          },
          "metadata": {}
        }
      ]
    },
    {
      "cell_type": "markdown",
      "source": [
        "- 입력값과 반환값이 모두 존재하는 경우"
      ],
      "metadata": {
        "id": "3Tfer4YdTTrD"
      }
    },
    {
      "cell_type": "code",
      "source": [
        "myFunc <- function(a){\n",
        "    b <- a * 10\n",
        "    return(b)\n",
        "    }"
      ],
      "metadata": {
        "id": "aK338bf1TVno"
      },
      "execution_count": 32,
      "outputs": []
    },
    {
      "cell_type": "code",
      "source": [
        "myFunc(18)"
      ],
      "metadata": {
        "colab": {
          "base_uri": "https://localhost:8080/",
          "height": 34
        },
        "id": "OFc3uYzlTV0z",
        "outputId": "818dc0b1-4423-4e6b-c7e4-253d2e8ebca7"
      },
      "execution_count": 33,
      "outputs": [
        {
          "output_type": "display_data",
          "data": {
            "text/html": [
              "180"
            ],
            "text/markdown": "180",
            "text/latex": "180",
            "text/plain": [
              "[1] 180"
            ]
          },
          "metadata": {}
        }
      ]
    },
    {
      "cell_type": "markdown",
      "source": [
        "## 파라미터"
      ],
      "metadata": {
        "id": "4F6Ev75SSNKp"
      }
    },
    {
      "cell_type": "markdown",
      "source": [
        "- 일반 파라미터 : 기본값이 설정되어 있지 않고, 파라미터명과 그 갯수가 명시되어 있는 파라미터"
      ],
      "metadata": {
        "id": "a_hpw3VTRoR7"
      }
    },
    {
      "cell_type": "code",
      "source": [
        "myFunc <- function(a, b){\n",
        "    c <- a - b\n",
        "    return(c)\n",
        "    }"
      ],
      "metadata": {
        "id": "nv1h7E0R5QJ3"
      },
      "execution_count": 34,
      "outputs": []
    },
    {
      "cell_type": "code",
      "source": [
        "myFunc(a = 20, b = 15)"
      ],
      "metadata": {
        "colab": {
          "base_uri": "https://localhost:8080/",
          "height": 34
        },
        "id": "3tLFt9mDRwXw",
        "outputId": "701ffbef-9d1f-4f3d-9711-9da24f6d23dd"
      },
      "execution_count": 35,
      "outputs": [
        {
          "output_type": "display_data",
          "data": {
            "text/html": [
              "5"
            ],
            "text/markdown": "5",
            "text/latex": "5",
            "text/plain": [
              "[1] 5"
            ]
          },
          "metadata": {}
        }
      ]
    },
    {
      "cell_type": "code",
      "source": [
        "# 두 개의 일반 파라미터에 대한 아규먼트를 요구하고 있으므로 이를 충족하지 않으면 오류 발생\n",
        "# myFunc(a = 20)"
      ],
      "metadata": {
        "id": "2fJJYL4uR0sq"
      },
      "execution_count": 36,
      "outputs": []
    },
    {
      "cell_type": "markdown",
      "source": [
        "- 기본 파라미터 : 기본값이 설정되어 있는 파라미터"
      ],
      "metadata": {
        "id": "wFg_5pfDQ2xU"
      }
    },
    {
      "cell_type": "code",
      "source": [
        "myFunc <- function(a, b = 10){\n",
        "    c <- a - b\n",
        "    return(c)\n",
        "    }"
      ],
      "metadata": {
        "id": "-f4C1uI9P86q"
      },
      "execution_count": 37,
      "outputs": []
    },
    {
      "cell_type": "code",
      "source": [
        "# 파라미터 b 의 아규먼트를 설정하지 않는 경우 기본값 10 으로 자동 설정됨\n",
        "myFunc(a = 40)"
      ],
      "metadata": {
        "colab": {
          "base_uri": "https://localhost:8080/",
          "height": 34
        },
        "id": "J9NKxKTbQ_do",
        "outputId": "b384b483-5369-4289-dfdb-b51881f18564"
      },
      "execution_count": 38,
      "outputs": [
        {
          "output_type": "display_data",
          "data": {
            "text/html": [
              "30"
            ],
            "text/markdown": "30",
            "text/latex": "30",
            "text/plain": [
              "[1] 30"
            ]
          },
          "metadata": {}
        }
      ]
    },
    {
      "cell_type": "code",
      "source": [
        "# 파라미터 b 의 아규먼트를 설정하는 경우 기본값이 아니라 새로 부여한 값으로 설정됨\n",
        "myFunc(a = 40, b = 20)"
      ],
      "metadata": {
        "colab": {
          "base_uri": "https://localhost:8080/",
          "height": 34
        },
        "id": "dQp4WLKPRPym",
        "outputId": "3fcbccc1-f130-4cc4-cd1c-726d5b3007e9"
      },
      "execution_count": 39,
      "outputs": [
        {
          "output_type": "display_data",
          "data": {
            "text/html": [
              "20"
            ],
            "text/markdown": "20",
            "text/latex": "20",
            "text/plain": [
              "[1] 20"
            ]
          },
          "metadata": {}
        }
      ]
    },
    {
      "cell_type": "markdown",
      "source": [
        "- 가변 파라미터 : 파라미터명 및 갯수가 특정되지 않는 경우로서 예약어로 `...` 을 사용함"
      ],
      "metadata": {
        "id": "ncrYRFuGQqPy"
      }
    },
    {
      "cell_type": "code",
      "source": [
        "myFunc <- function(...){\n",
        "    args <- list(...)\n",
        "    for(i in args){\n",
        "        print(i)\n",
        "        }\n",
        "    }"
      ],
      "metadata": {
        "id": "I5yB4wn-QEOD"
      },
      "execution_count": 40,
      "outputs": []
    },
    {
      "cell_type": "code",
      "source": [
        "myFunc(c(1:10))"
      ],
      "metadata": {
        "colab": {
          "base_uri": "https://localhost:8080/"
        },
        "id": "49V17RAQQkAz",
        "outputId": "2d7dd9d0-10cc-4d4e-da5a-73598c288e63"
      },
      "execution_count": 41,
      "outputs": [
        {
          "output_type": "stream",
          "name": "stdout",
          "text": [
            " [1]  1  2  3  4  5  6  7  8  9 10\n"
          ]
        }
      ]
    }
  ]
}