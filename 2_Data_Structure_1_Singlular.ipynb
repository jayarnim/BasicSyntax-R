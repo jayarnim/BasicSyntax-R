{
  "nbformat": 4,
  "nbformat_minor": 0,
  "metadata": {
    "colab": {
      "provenance": [],
      "authorship_tag": "ABX9TyMKWIgg/Qj1OxM/1fGIJ5TC",
      "include_colab_link": true
    },
    "kernelspec": {
      "name": "ir",
      "display_name": "R"
    },
    "language_info": {
      "name": "R"
    }
  },
  "cells": [
    {
      "cell_type": "markdown",
      "metadata": {
        "id": "view-in-github",
        "colab_type": "text"
      },
      "source": [
        "<a href=\"https://colab.research.google.com/github/jayarnim/study-RBasicSyntax/blob/main/2_Data_Structure_1_Singlular.ipynb\" target=\"_parent\"><img src=\"https://colab.research.google.com/assets/colab-badge.svg\" alt=\"Open In Colab\"/></a>"
      ]
    },
    {
      "cell_type": "markdown",
      "source": [
        "# 0. 단일집합자료형(Singular Data Sturcture)\n",
        "\n",
        "- 정의\n",
        "    - 원소의 자료형이 단일로 통일되어 있는 집합자료형\n",
        "    - 통일되어 있지 않을 경우 우선순위에 따라 원소에 대하여 강제 형변환함\n",
        "        - 우선순위 : 문자형, 숫자형, 논리형 순\n",
        "    - 원소로 집합자료형을 할당하는 경우 강제 Unpacking 함\n",
        "\n",
        "- 종류\n",
        "    - 벡터(Vector) : 1차원 단일집합자료형\n",
        "    - 팩터(Factor) : 범주형 자료를 다루는 1차원 단일집합자료형, 혹은 그러한 범주\n",
        "    - 행렬(Matrix) : 2차원 단일집합자료형\n",
        "    - 배열(Array) : n차원 단일집합자료형"
      ],
      "metadata": {
        "id": "zlemdyJ5mQnb"
      }
    },
    {
      "cell_type": "markdown",
      "source": [
        "# 1. Vector"
      ],
      "metadata": {
        "id": "wcS2NNBDm94g"
      }
    },
    {
      "cell_type": "markdown",
      "source": [
        "## 벡터 생성하기"
      ],
      "metadata": {
        "id": "dhkfijPim_H8"
      }
    },
    {
      "cell_type": "markdown",
      "source": [
        "### combine 함수"
      ],
      "metadata": {
        "id": "pddcu_kXoQXm"
      }
    },
    {
      "cell_type": "code",
      "source": [
        "xs1 <- c(1, 5, 7)\n",
        "xs1"
      ],
      "metadata": {
        "id": "-Dtp_mVYnwaa",
        "colab": {
          "base_uri": "https://localhost:8080/",
          "height": 34
        },
        "outputId": "744f5b13-f846-46a6-ff33-4ff62eca0ae8"
      },
      "execution_count": 1,
      "outputs": [
        {
          "output_type": "display_data",
          "data": {
            "text/html": [
              "<style>\n",
              ".list-inline {list-style: none; margin:0; padding: 0}\n",
              ".list-inline>li {display: inline-block}\n",
              ".list-inline>li:not(:last-child)::after {content: \"\\00b7\"; padding: 0 .5ex}\n",
              "</style>\n",
              "<ol class=list-inline><li>1</li><li>5</li><li>7</li></ol>\n"
            ],
            "text/markdown": "1. 1\n2. 5\n3. 7\n\n\n",
            "text/latex": "\\begin{enumerate*}\n\\item 1\n\\item 5\n\\item 7\n\\end{enumerate*}\n",
            "text/plain": [
              "[1] 1 5 7"
            ]
          },
          "metadata": {}
        }
      ]
    },
    {
      "cell_type": "code",
      "source": [
        "xs2 <- c(1:8)\n",
        "xs2"
      ],
      "metadata": {
        "id": "9TUYiu3voTq9",
        "colab": {
          "base_uri": "https://localhost:8080/",
          "height": 34
        },
        "outputId": "a275e20d-caed-4d00-d712-cfb537989b91"
      },
      "execution_count": 2,
      "outputs": [
        {
          "output_type": "display_data",
          "data": {
            "text/html": [
              "<style>\n",
              ".list-inline {list-style: none; margin:0; padding: 0}\n",
              ".list-inline>li {display: inline-block}\n",
              ".list-inline>li:not(:last-child)::after {content: \"\\00b7\"; padding: 0 .5ex}\n",
              "</style>\n",
              "<ol class=list-inline><li>1</li><li>2</li><li>3</li><li>4</li><li>5</li><li>6</li><li>7</li><li>8</li></ol>\n"
            ],
            "text/markdown": "1. 1\n2. 2\n3. 3\n4. 4\n5. 5\n6. 6\n7. 7\n8. 8\n\n\n",
            "text/latex": "\\begin{enumerate*}\n\\item 1\n\\item 2\n\\item 3\n\\item 4\n\\item 5\n\\item 6\n\\item 7\n\\item 8\n\\end{enumerate*}\n",
            "text/plain": [
              "[1] 1 2 3 4 5 6 7 8"
            ]
          },
          "metadata": {}
        }
      ]
    },
    {
      "cell_type": "markdown",
      "source": [
        "### sequence 함수"
      ],
      "metadata": {
        "id": "_IMw6A8LoVRy"
      }
    },
    {
      "cell_type": "code",
      "source": [
        "xs3 <- seq(1, 50, by = 3)\n",
        "xs3"
      ],
      "metadata": {
        "id": "MHKdq1X-nyIJ",
        "colab": {
          "base_uri": "https://localhost:8080/",
          "height": 34
        },
        "outputId": "0184ed7d-4a58-4679-a448-bfc336356c09"
      },
      "execution_count": 3,
      "outputs": [
        {
          "output_type": "display_data",
          "data": {
            "text/html": [
              "<style>\n",
              ".list-inline {list-style: none; margin:0; padding: 0}\n",
              ".list-inline>li {display: inline-block}\n",
              ".list-inline>li:not(:last-child)::after {content: \"\\00b7\"; padding: 0 .5ex}\n",
              "</style>\n",
              "<ol class=list-inline><li>1</li><li>4</li><li>7</li><li>10</li><li>13</li><li>16</li><li>19</li><li>22</li><li>25</li><li>28</li><li>31</li><li>34</li><li>37</li><li>40</li><li>43</li><li>46</li><li>49</li></ol>\n"
            ],
            "text/markdown": "1. 1\n2. 4\n3. 7\n4. 10\n5. 13\n6. 16\n7. 19\n8. 22\n9. 25\n10. 28\n11. 31\n12. 34\n13. 37\n14. 40\n15. 43\n16. 46\n17. 49\n\n\n",
            "text/latex": "\\begin{enumerate*}\n\\item 1\n\\item 4\n\\item 7\n\\item 10\n\\item 13\n\\item 16\n\\item 19\n\\item 22\n\\item 25\n\\item 28\n\\item 31\n\\item 34\n\\item 37\n\\item 40\n\\item 43\n\\item 46\n\\item 49\n\\end{enumerate*}\n",
            "text/plain": [
              " [1]  1  4  7 10 13 16 19 22 25 28 31 34 37 40 43 46 49"
            ]
          },
          "metadata": {}
        }
      ]
    },
    {
      "cell_type": "markdown",
      "source": [
        "## Keyword Mapping"
      ],
      "metadata": {
        "id": "ldBWfpEmofQy"
      }
    },
    {
      "cell_type": "code",
      "source": [
        "ks <- c(\"태연\", \"써니\", \"티파니\", \"효연\", \"유리\", \"수영\", \"윤아\", \"서현\")\n",
        "ks_keyword <- c(\"메인보컬\", \"리드보컬\", \"리드보컬\", \"메인댄서\", \"리드댄서\", \"리드댄서\", \"센터\", \"리드보컬\")"
      ],
      "metadata": {
        "id": "ighAUET-okEK"
      },
      "execution_count": 4,
      "outputs": []
    },
    {
      "cell_type": "code",
      "source": [
        "# 벡터 ks1 에 벡터 ks2 를 keyword mapping\n",
        "names(ks) <- ks_keyword"
      ],
      "metadata": {
        "id": "TvW0C5DXo8b_"
      },
      "execution_count": 5,
      "outputs": []
    },
    {
      "cell_type": "code",
      "source": [
        "# ks 조회\n",
        "ks"
      ],
      "metadata": {
        "id": "H-enp9gDpAJ8",
        "colab": {
          "base_uri": "https://localhost:8080/",
          "height": 34
        },
        "outputId": "ec8878f0-7e9d-4626-cdf3-e3c6bd4bef03"
      },
      "execution_count": 6,
      "outputs": [
        {
          "output_type": "display_data",
          "data": {
            "text/html": [
              "<style>\n",
              ".dl-inline {width: auto; margin:0; padding: 0}\n",
              ".dl-inline>dt, .dl-inline>dd {float: none; width: auto; display: inline-block}\n",
              ".dl-inline>dt::after {content: \":\\0020\"; padding-right: .5ex}\n",
              ".dl-inline>dt:not(:first-of-type) {padding-left: .5ex}\n",
              "</style><dl class=dl-inline><dt>메인보컬</dt><dd>'태연'</dd><dt>리드보컬</dt><dd>'써니'</dd><dt>리드보컬</dt><dd>'티파니'</dd><dt>메인댄서</dt><dd>'효연'</dd><dt>리드댄서</dt><dd>'유리'</dd><dt>리드댄서</dt><dd>'수영'</dd><dt>센터</dt><dd>'윤아'</dd><dt>리드보컬</dt><dd>'서현'</dd></dl>\n"
            ],
            "text/markdown": "메인보컬\n:   '태연'리드보컬\n:   '써니'리드보컬\n:   '티파니'메인댄서\n:   '효연'리드댄서\n:   '유리'리드댄서\n:   '수영'센터\n:   '윤아'리드보컬\n:   '서현'\n\n",
            "text/latex": "\\begin{description*}\n\\item[메인보컬] '태연'\n\\item[리드보컬] '써니'\n\\item[리드보컬] '티파니'\n\\item[메인댄서] '효연'\n\\item[리드댄서] '유리'\n\\item[리드댄서] '수영'\n\\item[센터] '윤아'\n\\item[리드보컬] '서현'\n\\end{description*}\n",
            "text/plain": [
              "메인보컬 리드보컬 리드보컬 메인댄서 리드댄서 리드댄서     센터 리드보컬 \n",
              "  \"태연\"   \"써니\" \"티파니\"   \"효연\"   \"유리\"   \"수영\"   \"윤아\"   \"서현\" "
            ]
          },
          "metadata": {}
        }
      ]
    },
    {
      "cell_type": "code",
      "source": [
        "# ks names 조회\n",
        "names(ks)"
      ],
      "metadata": {
        "id": "JqeUX4KcpBB5",
        "colab": {
          "base_uri": "https://localhost:8080/",
          "height": 34
        },
        "outputId": "0f959f1a-b036-4635-e00c-f36a16d04e06"
      },
      "execution_count": 7,
      "outputs": [
        {
          "output_type": "display_data",
          "data": {
            "text/html": [
              "<style>\n",
              ".list-inline {list-style: none; margin:0; padding: 0}\n",
              ".list-inline>li {display: inline-block}\n",
              ".list-inline>li:not(:last-child)::after {content: \"\\00b7\"; padding: 0 .5ex}\n",
              "</style>\n",
              "<ol class=list-inline><li>'메인보컬'</li><li>'리드보컬'</li><li>'리드보컬'</li><li>'메인댄서'</li><li>'리드댄서'</li><li>'리드댄서'</li><li>'센터'</li><li>'리드보컬'</li></ol>\n"
            ],
            "text/markdown": "1. '메인보컬'\n2. '리드보컬'\n3. '리드보컬'\n4. '메인댄서'\n5. '리드댄서'\n6. '리드댄서'\n7. '센터'\n8. '리드보컬'\n\n\n",
            "text/latex": "\\begin{enumerate*}\n\\item '메인보컬'\n\\item '리드보컬'\n\\item '리드보컬'\n\\item '메인댄서'\n\\item '리드댄서'\n\\item '리드댄서'\n\\item '센터'\n\\item '리드보컬'\n\\end{enumerate*}\n",
            "text/plain": [
              "[1] \"메인보컬\" \"리드보컬\" \"리드보컬\" \"메인댄서\" \"리드댄서\" \"리드댄서\" \"센터\"    \n",
              "[8] \"리드보컬\""
            ]
          },
          "metadata": {}
        }
      ]
    },
    {
      "cell_type": "markdown",
      "source": [
        "## 벡터 탐색하기"
      ],
      "metadata": {
        "id": "LyA2xWKGpNPP"
      }
    },
    {
      "cell_type": "code",
      "source": [
        "# reps = c(1, 2, 3, 4, 1, 2, 3, 4, 1, 2, 3, 4, 1, 2, 3, 4)\n",
        "reps <- rep(c(1:4), times = 4)"
      ],
      "metadata": {
        "id": "c4-rdZNLw-wv"
      },
      "execution_count": 8,
      "outputs": []
    },
    {
      "cell_type": "markdown",
      "source": [
        "### 자료 형상"
      ],
      "metadata": {
        "id": "A3WFXoBJxPmg"
      }
    },
    {
      "cell_type": "code",
      "source": [
        "str(reps)"
      ],
      "metadata": {
        "id": "J2N3qtC7w2Ef",
        "colab": {
          "base_uri": "https://localhost:8080/"
        },
        "outputId": "43de47cf-e032-4783-b541-d3fef63508af"
      },
      "execution_count": 9,
      "outputs": [
        {
          "output_type": "stream",
          "name": "stdout",
          "text": [
            " int [1:16] 1 2 3 4 1 2 3 4 1 2 ...\n"
          ]
        }
      ]
    },
    {
      "cell_type": "markdown",
      "source": [
        "### 자료 클래스"
      ],
      "metadata": {
        "id": "P0WNr4SExXuW"
      }
    },
    {
      "cell_type": "code",
      "source": [
        "class(reps)"
      ],
      "metadata": {
        "colab": {
          "base_uri": "https://localhost:8080/",
          "height": 34
        },
        "id": "im-AunKYw4EI",
        "outputId": "f462222f-a48f-4ba8-bda4-ceacf1987b47"
      },
      "execution_count": 10,
      "outputs": [
        {
          "output_type": "display_data",
          "data": {
            "text/html": [
              "'integer'"
            ],
            "text/markdown": "'integer'",
            "text/latex": "'integer'",
            "text/plain": [
              "[1] \"integer\""
            ]
          },
          "metadata": {}
        }
      ]
    },
    {
      "cell_type": "markdown",
      "source": [
        "### 원소 자료형"
      ],
      "metadata": {
        "id": "J9Hh4UMrxboc"
      }
    },
    {
      "cell_type": "code",
      "source": [
        "mode(reps)"
      ],
      "metadata": {
        "colab": {
          "base_uri": "https://localhost:8080/",
          "height": 34
        },
        "id": "eWWjuN15w4jf",
        "outputId": "fdf9237c-f8ff-43cd-9d01-a96398a8f3f4"
      },
      "execution_count": 11,
      "outputs": [
        {
          "output_type": "display_data",
          "data": {
            "text/html": [
              "'numeric'"
            ],
            "text/markdown": "'numeric'",
            "text/latex": "'numeric'",
            "text/plain": [
              "[1] \"numeric\""
            ]
          },
          "metadata": {}
        }
      ]
    },
    {
      "cell_type": "code",
      "source": [
        "typeof(reps)"
      ],
      "metadata": {
        "colab": {
          "base_uri": "https://localhost:8080/",
          "height": 34
        },
        "id": "BdRUtjCNxL65",
        "outputId": "d118efde-737a-42bc-ad8d-c78d0f4174f3"
      },
      "execution_count": 12,
      "outputs": [
        {
          "output_type": "display_data",
          "data": {
            "text/html": [
              "'integer'"
            ],
            "text/markdown": "'integer'",
            "text/latex": "'integer'",
            "text/plain": [
              "[1] \"integer\""
            ]
          },
          "metadata": {}
        }
      ]
    },
    {
      "cell_type": "markdown",
      "source": [
        "### 원소 갯수"
      ],
      "metadata": {
        "id": "eBaXMOPpxfp1"
      }
    },
    {
      "cell_type": "code",
      "source": [
        "length(ks)"
      ],
      "metadata": {
        "id": "JYSPJq5uw63G",
        "colab": {
          "base_uri": "https://localhost:8080/",
          "height": 34
        },
        "outputId": "78d1c0f1-d308-48cb-dfc8-540196da2399"
      },
      "execution_count": 13,
      "outputs": [
        {
          "output_type": "display_data",
          "data": {
            "text/html": [
              "8"
            ],
            "text/markdown": "8",
            "text/latex": "8",
            "text/plain": [
              "[1] 8"
            ]
          },
          "metadata": {}
        }
      ]
    },
    {
      "cell_type": "markdown",
      "source": [
        "### Unique Value"
      ],
      "metadata": {
        "id": "Yb6vT6hmx5NL"
      }
    },
    {
      "cell_type": "code",
      "source": [
        "unique(reps)"
      ],
      "metadata": {
        "id": "ronn3j3nw9G5",
        "colab": {
          "base_uri": "https://localhost:8080/",
          "height": 34
        },
        "outputId": "88966e84-5f0e-4cec-b17f-159e063f525b"
      },
      "execution_count": 14,
      "outputs": [
        {
          "output_type": "display_data",
          "data": {
            "text/html": [
              "<style>\n",
              ".list-inline {list-style: none; margin:0; padding: 0}\n",
              ".list-inline>li {display: inline-block}\n",
              ".list-inline>li:not(:last-child)::after {content: \"\\00b7\"; padding: 0 .5ex}\n",
              "</style>\n",
              "<ol class=list-inline><li>1</li><li>2</li><li>3</li><li>4</li></ol>\n"
            ],
            "text/markdown": "1. 1\n2. 2\n3. 3\n4. 4\n\n\n",
            "text/latex": "\\begin{enumerate*}\n\\item 1\n\\item 2\n\\item 3\n\\item 4\n\\end{enumerate*}\n",
            "text/plain": [
              "[1] 1 2 3 4"
            ]
          },
          "metadata": {}
        }
      ]
    },
    {
      "cell_type": "markdown",
      "source": [
        "## Indexing"
      ],
      "metadata": {
        "id": "07qR5FILyCL2"
      }
    },
    {
      "cell_type": "markdown",
      "source": [
        "### With Index"
      ],
      "metadata": {
        "id": "7fBUwLtRyFH3"
      }
    },
    {
      "cell_type": "code",
      "source": [
        "ks[2]"
      ],
      "metadata": {
        "id": "2r1dgXNGyIiH",
        "colab": {
          "base_uri": "https://localhost:8080/",
          "height": 34
        },
        "outputId": "d78d068f-03de-4cd2-dd06-d2fc7432aaf8"
      },
      "execution_count": 15,
      "outputs": [
        {
          "output_type": "display_data",
          "data": {
            "text/html": [
              "<strong>리드보컬:</strong> '써니'"
            ],
            "text/markdown": "**리드보컬:** '써니'",
            "text/latex": "\\textbf{리드보컬:} '써니'",
            "text/plain": [
              "리드보컬 \n",
              "  \"써니\" "
            ]
          },
          "metadata": {}
        }
      ]
    },
    {
      "cell_type": "code",
      "source": [
        "ks[[2]]"
      ],
      "metadata": {
        "colab": {
          "base_uri": "https://localhost:8080/",
          "height": 34
        },
        "id": "4Kz6BcKJPO9G",
        "outputId": "816a7102-a012-4e48-ba19-e13b493bb3e6"
      },
      "execution_count": 16,
      "outputs": [
        {
          "output_type": "display_data",
          "data": {
            "text/html": [
              "'써니'"
            ],
            "text/markdown": "'써니'",
            "text/latex": "'써니'",
            "text/plain": [
              "[1] \"써니\""
            ]
          },
          "metadata": {}
        }
      ]
    },
    {
      "cell_type": "markdown",
      "source": [
        "### With Keyword"
      ],
      "metadata": {
        "id": "VsWU8tgRyS4V"
      }
    },
    {
      "cell_type": "code",
      "source": [
        "ks[\"메인보컬\"]"
      ],
      "metadata": {
        "colab": {
          "base_uri": "https://localhost:8080/",
          "height": 34
        },
        "id": "S0TMXAxMPnUF",
        "outputId": "25af16df-fa19-426d-a840-f7eaed08f1d1"
      },
      "execution_count": 17,
      "outputs": [
        {
          "output_type": "display_data",
          "data": {
            "text/html": [
              "<strong>메인보컬:</strong> '태연'"
            ],
            "text/markdown": "**메인보컬:** '태연'",
            "text/latex": "\\textbf{메인보컬:} '태연'",
            "text/plain": [
              "메인보컬 \n",
              "  \"태연\" "
            ]
          },
          "metadata": {}
        }
      ]
    },
    {
      "cell_type": "code",
      "execution_count": 18,
      "metadata": {
        "id": "98NcIffukLBx",
        "colab": {
          "base_uri": "https://localhost:8080/",
          "height": 34
        },
        "outputId": "e8a50c51-9acd-4ebf-8565-0ee51f0b3f91"
      },
      "outputs": [
        {
          "output_type": "display_data",
          "data": {
            "text/html": [
              "'태연'"
            ],
            "text/markdown": "'태연'",
            "text/latex": "'태연'",
            "text/plain": [
              "[1] \"태연\""
            ]
          },
          "metadata": {}
        }
      ],
      "source": [
        "ks[[\"메인보컬\"]]"
      ]
    },
    {
      "cell_type": "code",
      "source": [
        "# keyword 가 여러 개 사용되는 경우 가장 먼저 mapping 된 value 를 가져옴\n",
        "ks[\"리드보컬\"]"
      ],
      "metadata": {
        "colab": {
          "base_uri": "https://localhost:8080/",
          "height": 34
        },
        "id": "TlrrPyQDQA3Z",
        "outputId": "91716bed-3a48-46ce-c4aa-9401762f7687"
      },
      "execution_count": 19,
      "outputs": [
        {
          "output_type": "display_data",
          "data": {
            "text/html": [
              "<strong>리드보컬:</strong> '써니'"
            ],
            "text/markdown": "**리드보컬:** '써니'",
            "text/latex": "\\textbf{리드보컬:} '써니'",
            "text/plain": [
              "리드보컬 \n",
              "  \"써니\" "
            ]
          },
          "metadata": {}
        }
      ]
    },
    {
      "cell_type": "markdown",
      "source": [
        "### Slicing"
      ],
      "metadata": {
        "id": "HNJ5fTmCPp9t"
      }
    },
    {
      "cell_type": "code",
      "source": [
        "ks[2:6]"
      ],
      "metadata": {
        "colab": {
          "base_uri": "https://localhost:8080/",
          "height": 34
        },
        "id": "LACwsB5jPIwz",
        "outputId": "8a2bf20b-1576-4bd0-9da5-eaf681961cf4"
      },
      "execution_count": 20,
      "outputs": [
        {
          "output_type": "display_data",
          "data": {
            "text/html": [
              "<style>\n",
              ".dl-inline {width: auto; margin:0; padding: 0}\n",
              ".dl-inline>dt, .dl-inline>dd {float: none; width: auto; display: inline-block}\n",
              ".dl-inline>dt::after {content: \":\\0020\"; padding-right: .5ex}\n",
              ".dl-inline>dt:not(:first-of-type) {padding-left: .5ex}\n",
              "</style><dl class=dl-inline><dt>리드보컬</dt><dd>'써니'</dd><dt>리드보컬</dt><dd>'티파니'</dd><dt>메인댄서</dt><dd>'효연'</dd><dt>리드댄서</dt><dd>'유리'</dd><dt>리드댄서</dt><dd>'수영'</dd></dl>\n"
            ],
            "text/markdown": "리드보컬\n:   '써니'리드보컬\n:   '티파니'메인댄서\n:   '효연'리드댄서\n:   '유리'리드댄서\n:   '수영'\n\n",
            "text/latex": "\\begin{description*}\n\\item[리드보컬] '써니'\n\\item[리드보컬] '티파니'\n\\item[메인댄서] '효연'\n\\item[리드댄서] '유리'\n\\item[리드댄서] '수영'\n\\end{description*}\n",
            "text/plain": [
              "리드보컬 리드보컬 메인댄서 리드댄서 리드댄서 \n",
              "  \"써니\" \"티파니\"   \"효연\"   \"유리\"   \"수영\" "
            ]
          },
          "metadata": {}
        }
      ]
    },
    {
      "cell_type": "code",
      "source": [
        "ks[c(2, 4, 6)]"
      ],
      "metadata": {
        "colab": {
          "base_uri": "https://localhost:8080/",
          "height": 34
        },
        "id": "8uT0pWJGPKN-",
        "outputId": "9f621c5a-041b-43d0-8708-258579ddb76c"
      },
      "execution_count": 21,
      "outputs": [
        {
          "output_type": "display_data",
          "data": {
            "text/html": [
              "<style>\n",
              ".dl-inline {width: auto; margin:0; padding: 0}\n",
              ".dl-inline>dt, .dl-inline>dd {float: none; width: auto; display: inline-block}\n",
              ".dl-inline>dt::after {content: \":\\0020\"; padding-right: .5ex}\n",
              ".dl-inline>dt:not(:first-of-type) {padding-left: .5ex}\n",
              "</style><dl class=dl-inline><dt>리드보컬</dt><dd>'써니'</dd><dt>메인댄서</dt><dd>'효연'</dd><dt>리드댄서</dt><dd>'수영'</dd></dl>\n"
            ],
            "text/markdown": "리드보컬\n:   '써니'메인댄서\n:   '효연'리드댄서\n:   '수영'\n\n",
            "text/latex": "\\begin{description*}\n\\item[리드보컬] '써니'\n\\item[메인댄서] '효연'\n\\item[리드댄서] '수영'\n\\end{description*}\n",
            "text/plain": [
              "리드보컬 메인댄서 리드댄서 \n",
              "  \"써니\"   \"효연\"   \"수영\" "
            ]
          },
          "metadata": {}
        }
      ]
    },
    {
      "cell_type": "code",
      "source": [
        "# 슬라이싱의 경우 인덱싱과 달리 value 만 단독으로 가져올 수 없음\n",
        "# ks[[2, 4, 6]]"
      ],
      "metadata": {
        "id": "A5stEO9ePsT0"
      },
      "execution_count": 22,
      "outputs": []
    },
    {
      "cell_type": "markdown",
      "source": [
        "# 3. Matrix"
      ],
      "metadata": {
        "id": "pfj-jMrPpcBq"
      }
    },
    {
      "cell_type": "code",
      "source": [
        "gg <- c(\"태연\", \"서현\", \"티파니\", \"써니\", \"효연\", \"유리\", \"수영\", \"윤아\")\n",
        "gg_num <- c(1:8)"
      ],
      "metadata": {
        "id": "JbQzcnqeQXxw"
      },
      "execution_count": 23,
      "outputs": []
    },
    {
      "cell_type": "markdown",
      "source": [
        "## 행렬 생성하기"
      ],
      "metadata": {
        "id": "afqfcg1Kz7NE"
      }
    },
    {
      "cell_type": "markdown",
      "source": [
        "### matrix 함수\n",
        "\n",
        "```\n",
        "matrix(\n",
        "    data,\n",
        "    nrow,\n",
        "    ncol,\n",
        "    byrow = FALSE,\n",
        "    dimnames\n",
        "    )\n",
        "```"
      ],
      "metadata": {
        "id": "LfpKUj6gz8ib"
      }
    },
    {
      "cell_type": "markdown",
      "source": [
        "- `nrow` : 주어진 자료를 설정한 행 갯수로 나누어 행 순서로 배열함"
      ],
      "metadata": {
        "id": "Gxqfv5iwVgPQ"
      }
    },
    {
      "cell_type": "code",
      "source": [
        "ex1_mat1 <- matrix(\n",
        "    gg,\n",
        "    nrow = 2\n",
        "    )\n",
        "\n",
        "View(ex1_mat1)"
      ],
      "metadata": {
        "colab": {
          "base_uri": "https://localhost:8080/",
          "height": 97
        },
        "id": "P1h_VEo1QbBp",
        "outputId": "a91f9b2d-9c30-4928-adb4-36c1d2784648"
      },
      "execution_count": 24,
      "outputs": [
        {
          "output_type": "display_data",
          "data": {
            "text/plain": [
              "     [,1] [,2]   [,3] [,4]\n",
              "[1,] 태연 티파니 효연 수영\n",
              "[2,] 서현 써니   유리 윤아"
            ],
            "text/html": [
              "<table class=\"dataframe\">\n",
              "<caption>A matrix: 2 × 4 of type chr</caption>\n",
              "<tbody>\n",
              "\t<tr><td>태연</td><td>티파니</td><td>효연</td><td>수영</td></tr>\n",
              "\t<tr><td>서현</td><td>써니  </td><td>유리</td><td>윤아</td></tr>\n",
              "</tbody>\n",
              "</table>\n"
            ],
            "text/markdown": "\nA matrix: 2 × 4 of type chr\n\n| 태연 | 티파니 | 효연 | 수영 |\n| 서현 | 써니   | 유리 | 윤아 |\n\n",
            "text/latex": "A matrix: 2 × 4 of type chr\n\\begin{tabular}{llll}\n\t 태연 & 티파니 & 효연 & 수영\\\\\n\t 서현 & 써니   & 유리 & 윤아\\\\\n\\end{tabular}\n"
          },
          "metadata": {}
        }
      ]
    },
    {
      "cell_type": "markdown",
      "source": [
        "- `ncol` : 열 갯수"
      ],
      "metadata": {
        "id": "8DJCiVgnVmhD"
      }
    },
    {
      "cell_type": "code",
      "source": [
        "ex1_mat2 <- matrix(\n",
        "    gg,\n",
        "    ncol = 2\n",
        "    )\n",
        "\n",
        "View(ex1_mat2)"
      ],
      "metadata": {
        "colab": {
          "base_uri": "https://localhost:8080/",
          "height": 177
        },
        "id": "ztYaD0eoQdib",
        "outputId": "b7af0e39-5de8-45b2-fa32-76ef9f5ae752"
      },
      "execution_count": 25,
      "outputs": [
        {
          "output_type": "display_data",
          "data": {
            "text/plain": [
              "     [,1]   [,2]\n",
              "[1,] 태연   효연\n",
              "[2,] 서현   유리\n",
              "[3,] 티파니 수영\n",
              "[4,] 써니   윤아"
            ],
            "text/html": [
              "<table class=\"dataframe\">\n",
              "<caption>A matrix: 4 × 2 of type chr</caption>\n",
              "<tbody>\n",
              "\t<tr><td>태연  </td><td>효연</td></tr>\n",
              "\t<tr><td>서현  </td><td>유리</td></tr>\n",
              "\t<tr><td>티파니</td><td>수영</td></tr>\n",
              "\t<tr><td>써니  </td><td>윤아</td></tr>\n",
              "</tbody>\n",
              "</table>\n"
            ],
            "text/markdown": "\nA matrix: 4 × 2 of type chr\n\n| 태연   | 효연 |\n| 서현   | 유리 |\n| 티파니 | 수영 |\n| 써니   | 윤아 |\n\n",
            "text/latex": "A matrix: 4 × 2 of type chr\n\\begin{tabular}{ll}\n\t 태연   & 효연\\\\\n\t 서현   & 유리\\\\\n\t 티파니 & 수영\\\\\n\t 써니   & 윤아\\\\\n\\end{tabular}\n"
          },
          "metadata": {}
        }
      ]
    },
    {
      "cell_type": "markdown",
      "source": [
        "- `byrow = FALSE` : 행을 기준으로 채워넣을 것인가"
      ],
      "metadata": {
        "id": "YBaU5JpEVrzi"
      }
    },
    {
      "cell_type": "code",
      "source": [
        "ex1_mat3 <- matrix(\n",
        "    gg,\n",
        "    ncol = 2,\n",
        "    byrow = FALSE\n",
        "    )\n",
        "\n",
        "View(ex1_mat3)"
      ],
      "metadata": {
        "colab": {
          "base_uri": "https://localhost:8080/",
          "height": 177
        },
        "id": "NEZiWfzDQfed",
        "outputId": "87499a09-9d65-4c8a-ae65-dee31f533160"
      },
      "execution_count": 26,
      "outputs": [
        {
          "output_type": "display_data",
          "data": {
            "text/plain": [
              "     [,1]   [,2]\n",
              "[1,] 태연   효연\n",
              "[2,] 서현   유리\n",
              "[3,] 티파니 수영\n",
              "[4,] 써니   윤아"
            ],
            "text/html": [
              "<table class=\"dataframe\">\n",
              "<caption>A matrix: 4 × 2 of type chr</caption>\n",
              "<tbody>\n",
              "\t<tr><td>태연  </td><td>효연</td></tr>\n",
              "\t<tr><td>서현  </td><td>유리</td></tr>\n",
              "\t<tr><td>티파니</td><td>수영</td></tr>\n",
              "\t<tr><td>써니  </td><td>윤아</td></tr>\n",
              "</tbody>\n",
              "</table>\n"
            ],
            "text/markdown": "\nA matrix: 4 × 2 of type chr\n\n| 태연   | 효연 |\n| 서현   | 유리 |\n| 티파니 | 수영 |\n| 써니   | 윤아 |\n\n",
            "text/latex": "A matrix: 4 × 2 of type chr\n\\begin{tabular}{ll}\n\t 태연   & 효연\\\\\n\t 서현   & 유리\\\\\n\t 티파니 & 수영\\\\\n\t 써니   & 윤아\\\\\n\\end{tabular}\n"
          },
          "metadata": {}
        }
      ]
    },
    {
      "cell_type": "code",
      "source": [
        "ex1_mat4 <- matrix(\n",
        "    gg,\n",
        "    ncol = 2,\n",
        "    byrow = TRUE\n",
        "    )\n",
        "\n",
        "View(ex1_mat4)"
      ],
      "metadata": {
        "colab": {
          "base_uri": "https://localhost:8080/",
          "height": 177
        },
        "id": "BeMA1KN9QkUL",
        "outputId": "70943211-30e2-432f-efa0-67dcfccbad69"
      },
      "execution_count": 27,
      "outputs": [
        {
          "output_type": "display_data",
          "data": {
            "text/plain": [
              "     [,1]   [,2]\n",
              "[1,] 태연   서현\n",
              "[2,] 티파니 써니\n",
              "[3,] 효연   유리\n",
              "[4,] 수영   윤아"
            ],
            "text/html": [
              "<table class=\"dataframe\">\n",
              "<caption>A matrix: 4 × 2 of type chr</caption>\n",
              "<tbody>\n",
              "\t<tr><td>태연  </td><td>서현</td></tr>\n",
              "\t<tr><td>티파니</td><td>써니</td></tr>\n",
              "\t<tr><td>효연  </td><td>유리</td></tr>\n",
              "\t<tr><td>수영  </td><td>윤아</td></tr>\n",
              "</tbody>\n",
              "</table>\n"
            ],
            "text/markdown": "\nA matrix: 4 × 2 of type chr\n\n| 태연   | 서현 |\n| 티파니 | 써니 |\n| 효연   | 유리 |\n| 수영   | 윤아 |\n\n",
            "text/latex": "A matrix: 4 × 2 of type chr\n\\begin{tabular}{ll}\n\t 태연   & 서현\\\\\n\t 티파니 & 써니\\\\\n\t 효연   & 유리\\\\\n\t 수영   & 윤아\\\\\n\\end{tabular}\n"
          },
          "metadata": {}
        }
      ]
    },
    {
      "cell_type": "markdown",
      "source": [
        "- `dimnames` : 행 이름, 열 이름 설정"
      ],
      "metadata": {
        "id": "VZoNBv_2Vw7e"
      }
    },
    {
      "cell_type": "code",
      "source": [
        "ex1_mat5 <- matrix(\n",
        "    gg,\n",
        "    ncol = 2,\n",
        "    byrow = FALSE,\n",
        "    dimnames = list(c(1:4), c(\"보컬\", \"댄서\"))\n",
        "    )\n",
        "\n",
        "View(ex1_mat5)"
      ],
      "metadata": {
        "id": "3lzO6R3Rz499",
        "colab": {
          "base_uri": "https://localhost:8080/",
          "height": 210
        },
        "outputId": "0b64482c-29db-4fac-e54e-a88df5d85294"
      },
      "execution_count": 28,
      "outputs": [
        {
          "output_type": "display_data",
          "data": {
            "text/plain": [
              "  보컬   댄서\n",
              "1 태연   효연\n",
              "2 서현   유리\n",
              "3 티파니 수영\n",
              "4 써니   윤아"
            ],
            "text/html": [
              "<table class=\"dataframe\">\n",
              "<caption>A matrix: 4 × 2 of type chr</caption>\n",
              "<thead>\n",
              "\t<tr><th></th><th scope=col>보컬</th><th scope=col>댄서</th></tr>\n",
              "</thead>\n",
              "<tbody>\n",
              "\t<tr><th scope=row>1</th><td>태연  </td><td>효연</td></tr>\n",
              "\t<tr><th scope=row>2</th><td>서현  </td><td>유리</td></tr>\n",
              "\t<tr><th scope=row>3</th><td>티파니</td><td>수영</td></tr>\n",
              "\t<tr><th scope=row>4</th><td>써니  </td><td>윤아</td></tr>\n",
              "</tbody>\n",
              "</table>\n"
            ],
            "text/markdown": "\nA matrix: 4 × 2 of type chr\n\n| <!--/--> | 보컬 | 댄서 |\n|---|---|---|\n| 1 | 태연   | 효연 |\n| 2 | 서현   | 유리 |\n| 3 | 티파니 | 수영 |\n| 4 | 써니   | 윤아 |\n\n",
            "text/latex": "A matrix: 4 × 2 of type chr\n\\begin{tabular}{r|ll}\n  & 보컬 & 댄서\\\\\n\\hline\n\t1 & 태연   & 효연\\\\\n\t2 & 서현   & 유리\\\\\n\t3 & 티파니 & 수영\\\\\n\t4 & 써니   & 윤아\\\\\n\\end{tabular}\n"
          },
          "metadata": {}
        }
      ]
    },
    {
      "cell_type": "markdown",
      "source": [
        "### 벡터 결합"
      ],
      "metadata": {
        "id": "lrm1IV5_0-tU"
      }
    },
    {
      "cell_type": "code",
      "source": [
        "# 행 기준 결합\n",
        "ex2_mat1 <- rbind(gg, gg_num)\n",
        "View(ex2_mat1)"
      ],
      "metadata": {
        "colab": {
          "base_uri": "https://localhost:8080/",
          "height": 97
        },
        "id": "HTpfLeZHQu2W",
        "outputId": "3a3a418f-2113-4ecb-b054-a40e1d293e1e"
      },
      "execution_count": 29,
      "outputs": [
        {
          "output_type": "display_data",
          "data": {
            "text/plain": [
              "       [,1] [,2] [,3]   [,4] [,5] [,6] [,7] [,8]\n",
              "gg     태연 서현 티파니 써니 효연 유리 수영 윤아\n",
              "gg_num 1    2    3      4    5    6    7    8   "
            ],
            "text/html": [
              "<table class=\"dataframe\">\n",
              "<caption>A matrix: 2 × 8 of type chr</caption>\n",
              "<tbody>\n",
              "\t<tr><th scope=row>gg</th><td>태연</td><td>서현</td><td>티파니</td><td>써니</td><td>효연</td><td>유리</td><td>수영</td><td>윤아</td></tr>\n",
              "\t<tr><th scope=row>gg_num</th><td>1   </td><td>2   </td><td>3     </td><td>4   </td><td>5   </td><td>6   </td><td>7   </td><td>8   </td></tr>\n",
              "</tbody>\n",
              "</table>\n"
            ],
            "text/markdown": "\nA matrix: 2 × 8 of type chr\n\n| gg | 태연 | 서현 | 티파니 | 써니 | 효연 | 유리 | 수영 | 윤아 |\n| gg_num | 1    | 2    | 3      | 4    | 5    | 6    | 7    | 8    |\n\n",
            "text/latex": "A matrix: 2 × 8 of type chr\n\\begin{tabular}{r|llllllll}\n\tgg & 태연 & 서현 & 티파니 & 써니 & 효연 & 유리 & 수영 & 윤아\\\\\n\tgg\\_num & 1    & 2    & 3      & 4    & 5    & 6    & 7    & 8   \\\\\n\\end{tabular}\n"
          },
          "metadata": {}
        }
      ]
    },
    {
      "cell_type": "code",
      "source": [
        "# 열 기준 결합\n",
        "ex2_mat2 <- cbind(gg, gg_num)\n",
        "View(ex2_mat2)"
      ],
      "metadata": {
        "id": "G5y0XqQt1QBA",
        "colab": {
          "base_uri": "https://localhost:8080/",
          "height": 335
        },
        "outputId": "6e6de3ef-a9dc-46f6-aa63-d59f9840638b"
      },
      "execution_count": 30,
      "outputs": [
        {
          "output_type": "display_data",
          "data": {
            "text/plain": [
              "     gg     gg_num\n",
              "[1,] 태연   1     \n",
              "[2,] 서현   2     \n",
              "[3,] 티파니 3     \n",
              "[4,] 써니   4     \n",
              "[5,] 효연   5     \n",
              "[6,] 유리   6     \n",
              "[7,] 수영   7     \n",
              "[8,] 윤아   8     "
            ],
            "text/html": [
              "<table class=\"dataframe\">\n",
              "<caption>A matrix: 8 × 2 of type chr</caption>\n",
              "<thead>\n",
              "\t<tr><th scope=col>gg</th><th scope=col>gg_num</th></tr>\n",
              "</thead>\n",
              "<tbody>\n",
              "\t<tr><td>태연  </td><td>1</td></tr>\n",
              "\t<tr><td>서현  </td><td>2</td></tr>\n",
              "\t<tr><td>티파니</td><td>3</td></tr>\n",
              "\t<tr><td>써니  </td><td>4</td></tr>\n",
              "\t<tr><td>효연  </td><td>5</td></tr>\n",
              "\t<tr><td>유리  </td><td>6</td></tr>\n",
              "\t<tr><td>수영  </td><td>7</td></tr>\n",
              "\t<tr><td>윤아  </td><td>8</td></tr>\n",
              "</tbody>\n",
              "</table>\n"
            ],
            "text/markdown": "\nA matrix: 8 × 2 of type chr\n\n| gg | gg_num |\n|---|---|\n| 태연   | 1 |\n| 서현   | 2 |\n| 티파니 | 3 |\n| 써니   | 4 |\n| 효연   | 5 |\n| 유리   | 6 |\n| 수영   | 7 |\n| 윤아   | 8 |\n\n",
            "text/latex": "A matrix: 8 × 2 of type chr\n\\begin{tabular}{ll}\n gg & gg\\_num\\\\\n\\hline\n\t 태연   & 1\\\\\n\t 서현   & 2\\\\\n\t 티파니 & 3\\\\\n\t 써니   & 4\\\\\n\t 효연   & 5\\\\\n\t 유리   & 6\\\\\n\t 수영   & 7\\\\\n\t 윤아   & 8\\\\\n\\end{tabular}\n"
          },
          "metadata": {}
        }
      ]
    },
    {
      "cell_type": "markdown",
      "source": [
        "## 행렬 탐색하기"
      ],
      "metadata": {
        "id": "GP6mDeYD1L8M"
      }
    },
    {
      "cell_type": "code",
      "source": [
        "ex3_mat <- cbind(gg, gg_num)\n",
        "View(ex3_mat)"
      ],
      "metadata": {
        "colab": {
          "base_uri": "https://localhost:8080/",
          "height": 335
        },
        "id": "VntfoboHQ9wt",
        "outputId": "264fe3f9-d46c-4bdd-dd27-c80b788b14da"
      },
      "execution_count": 31,
      "outputs": [
        {
          "output_type": "display_data",
          "data": {
            "text/plain": [
              "     gg     gg_num\n",
              "[1,] 태연   1     \n",
              "[2,] 서현   2     \n",
              "[3,] 티파니 3     \n",
              "[4,] 써니   4     \n",
              "[5,] 효연   5     \n",
              "[6,] 유리   6     \n",
              "[7,] 수영   7     \n",
              "[8,] 윤아   8     "
            ],
            "text/html": [
              "<table class=\"dataframe\">\n",
              "<caption>A matrix: 8 × 2 of type chr</caption>\n",
              "<thead>\n",
              "\t<tr><th scope=col>gg</th><th scope=col>gg_num</th></tr>\n",
              "</thead>\n",
              "<tbody>\n",
              "\t<tr><td>태연  </td><td>1</td></tr>\n",
              "\t<tr><td>서현  </td><td>2</td></tr>\n",
              "\t<tr><td>티파니</td><td>3</td></tr>\n",
              "\t<tr><td>써니  </td><td>4</td></tr>\n",
              "\t<tr><td>효연  </td><td>5</td></tr>\n",
              "\t<tr><td>유리  </td><td>6</td></tr>\n",
              "\t<tr><td>수영  </td><td>7</td></tr>\n",
              "\t<tr><td>윤아  </td><td>8</td></tr>\n",
              "</tbody>\n",
              "</table>\n"
            ],
            "text/markdown": "\nA matrix: 8 × 2 of type chr\n\n| gg | gg_num |\n|---|---|\n| 태연   | 1 |\n| 서현   | 2 |\n| 티파니 | 3 |\n| 써니   | 4 |\n| 효연   | 5 |\n| 유리   | 6 |\n| 수영   | 7 |\n| 윤아   | 8 |\n\n",
            "text/latex": "A matrix: 8 × 2 of type chr\n\\begin{tabular}{ll}\n gg & gg\\_num\\\\\n\\hline\n\t 태연   & 1\\\\\n\t 서현   & 2\\\\\n\t 티파니 & 3\\\\\n\t 써니   & 4\\\\\n\t 효연   & 5\\\\\n\t 유리   & 6\\\\\n\t 수영   & 7\\\\\n\t 윤아   & 8\\\\\n\\end{tabular}\n"
          },
          "metadata": {}
        }
      ]
    },
    {
      "cell_type": "markdown",
      "source": [
        "### 자료 형상"
      ],
      "metadata": {
        "id": "-d0_8GnlRuQW"
      }
    },
    {
      "cell_type": "code",
      "source": [
        "str(ex3_mat)"
      ],
      "metadata": {
        "colab": {
          "base_uri": "https://localhost:8080/"
        },
        "id": "h9bcy5ZKRvnO",
        "outputId": "c5d56124-9f11-4eb1-bc09-6d07ec555e5e"
      },
      "execution_count": 32,
      "outputs": [
        {
          "output_type": "stream",
          "name": "stdout",
          "text": [
            " chr [1:8, 1:2] \"태연\" \"서현\" \"티파니\" \"써니\" \"효연\" \"유리\" \"수영\" \"윤아\" ...\n",
            " - attr(*, \"dimnames\")=List of 2\n",
            "  ..$ : NULL\n",
            "  ..$ : chr [1:2] \"gg\" \"gg_num\"\n"
          ]
        }
      ]
    },
    {
      "cell_type": "markdown",
      "source": [
        "### 자료 클래스"
      ],
      "metadata": {
        "id": "5s3ry2U9Rv70"
      }
    },
    {
      "cell_type": "code",
      "source": [
        "class(ex3_mat)"
      ],
      "metadata": {
        "colab": {
          "base_uri": "https://localhost:8080/",
          "height": 34
        },
        "id": "4QN51B_GRxdB",
        "outputId": "ad54df5d-4815-42d0-8cf4-a843b76f65bd"
      },
      "execution_count": 33,
      "outputs": [
        {
          "output_type": "display_data",
          "data": {
            "text/html": [
              "<style>\n",
              ".list-inline {list-style: none; margin:0; padding: 0}\n",
              ".list-inline>li {display: inline-block}\n",
              ".list-inline>li:not(:last-child)::after {content: \"\\00b7\"; padding: 0 .5ex}\n",
              "</style>\n",
              "<ol class=list-inline><li>'matrix'</li><li>'array'</li></ol>\n"
            ],
            "text/markdown": "1. 'matrix'\n2. 'array'\n\n\n",
            "text/latex": "\\begin{enumerate*}\n\\item 'matrix'\n\\item 'array'\n\\end{enumerate*}\n",
            "text/plain": [
              "[1] \"matrix\" \"array\" "
            ]
          },
          "metadata": {}
        }
      ]
    },
    {
      "cell_type": "markdown",
      "source": [
        "### 원소 자료형"
      ],
      "metadata": {
        "id": "HtYU3t0_Rx62"
      }
    },
    {
      "cell_type": "code",
      "source": [
        "mode(ex3_mat)"
      ],
      "metadata": {
        "colab": {
          "base_uri": "https://localhost:8080/",
          "height": 34
        },
        "id": "AIxVQooSRzAr",
        "outputId": "b1aa708c-02f4-4a5c-bc93-3b458716944b"
      },
      "execution_count": 34,
      "outputs": [
        {
          "output_type": "display_data",
          "data": {
            "text/html": [
              "'character'"
            ],
            "text/markdown": "'character'",
            "text/latex": "'character'",
            "text/plain": [
              "[1] \"character\""
            ]
          },
          "metadata": {}
        }
      ]
    },
    {
      "cell_type": "code",
      "source": [
        "typeof(ex3_mat)"
      ],
      "metadata": {
        "colab": {
          "base_uri": "https://localhost:8080/",
          "height": 34
        },
        "id": "RPbDCBqBRzR2",
        "outputId": "3a878402-a94e-4cce-fbeb-578e93454f8b"
      },
      "execution_count": 35,
      "outputs": [
        {
          "output_type": "display_data",
          "data": {
            "text/html": [
              "'character'"
            ],
            "text/markdown": "'character'",
            "text/latex": "'character'",
            "text/plain": [
              "[1] \"character\""
            ]
          },
          "metadata": {}
        }
      ]
    },
    {
      "cell_type": "markdown",
      "source": [
        "### 행, 열 이름"
      ],
      "metadata": {
        "id": "R_93gtOLUFUu"
      }
    },
    {
      "cell_type": "code",
      "source": [
        "# 행 이름, 열 이름 모두 탐색\n",
        "dimnames(ex3_mat)"
      ],
      "metadata": {
        "colab": {
          "base_uri": "https://localhost:8080/",
          "height": 80
        },
        "id": "KMqInN22Ts7r",
        "outputId": "7d02dab4-3faf-4cb4-8203-a875a86c2b64"
      },
      "execution_count": 36,
      "outputs": [
        {
          "output_type": "display_data",
          "data": {
            "text/html": [
              "<ol>\n",
              "\t<li>NULL</li>\n",
              "\t<li><style>\n",
              ".list-inline {list-style: none; margin:0; padding: 0}\n",
              ".list-inline>li {display: inline-block}\n",
              ".list-inline>li:not(:last-child)::after {content: \"\\00b7\"; padding: 0 .5ex}\n",
              "</style>\n",
              "<ol class=list-inline><li>'gg'</li><li>'gg_num'</li></ol>\n",
              "</li>\n",
              "</ol>\n"
            ],
            "text/markdown": "1. NULL\n2. 1. 'gg'\n2. 'gg_num'\n\n\n\n\n\n",
            "text/latex": "\\begin{enumerate}\n\\item NULL\n\\item \\begin{enumerate*}\n\\item 'gg'\n\\item 'gg\\_num'\n\\end{enumerate*}\n\n\\end{enumerate}\n",
            "text/plain": [
              "[[1]]\n",
              "NULL\n",
              "\n",
              "[[2]]\n",
              "[1] \"gg\"     \"gg_num\"\n"
            ]
          },
          "metadata": {}
        }
      ]
    },
    {
      "cell_type": "code",
      "source": [
        "# 행 이름만 탐색\n",
        "rownames(ex3_mat)"
      ],
      "metadata": {
        "colab": {
          "base_uri": "https://localhost:8080/",
          "height": 35
        },
        "id": "JHmRLSUVTwiL",
        "outputId": "e906c5f4-c1cd-419d-c088-7e4dac6109c4"
      },
      "execution_count": 37,
      "outputs": [
        {
          "output_type": "display_data",
          "data": {
            "text/plain": [
              "NULL"
            ]
          },
          "metadata": {}
        }
      ]
    },
    {
      "cell_type": "code",
      "source": [
        "# 열 이름만 탐색\n",
        "colnames(ex3_mat)"
      ],
      "metadata": {
        "colab": {
          "base_uri": "https://localhost:8080/",
          "height": 34
        },
        "id": "E4AkJGtQTyiO",
        "outputId": "99a57767-dd5f-4b98-84a1-b2b118ff8a13"
      },
      "execution_count": 38,
      "outputs": [
        {
          "output_type": "display_data",
          "data": {
            "text/html": [
              "<style>\n",
              ".list-inline {list-style: none; margin:0; padding: 0}\n",
              ".list-inline>li {display: inline-block}\n",
              ".list-inline>li:not(:last-child)::after {content: \"\\00b7\"; padding: 0 .5ex}\n",
              "</style>\n",
              "<ol class=list-inline><li>'gg'</li><li>'gg_num'</li></ol>\n"
            ],
            "text/markdown": "1. 'gg'\n2. 'gg_num'\n\n\n",
            "text/latex": "\\begin{enumerate*}\n\\item 'gg'\n\\item 'gg\\_num'\n\\end{enumerate*}\n",
            "text/plain": [
              "[1] \"gg\"     \"gg_num\""
            ]
          },
          "metadata": {}
        }
      ]
    },
    {
      "cell_type": "markdown",
      "source": [
        "### 크기"
      ],
      "metadata": {
        "id": "tf9VdDleUTYG"
      }
    },
    {
      "cell_type": "code",
      "source": [
        "# 차원 탐색\n",
        "dim(ex3_mat)"
      ],
      "metadata": {
        "colab": {
          "base_uri": "https://localhost:8080/",
          "height": 34
        },
        "id": "QcxxHd3KUVov",
        "outputId": "5b1db91d-9232-4864-f1ae-3faa0643ab67"
      },
      "execution_count": 39,
      "outputs": [
        {
          "output_type": "display_data",
          "data": {
            "text/html": [
              "<style>\n",
              ".list-inline {list-style: none; margin:0; padding: 0}\n",
              ".list-inline>li {display: inline-block}\n",
              ".list-inline>li:not(:last-child)::after {content: \"\\00b7\"; padding: 0 .5ex}\n",
              "</style>\n",
              "<ol class=list-inline><li>8</li><li>2</li></ol>\n"
            ],
            "text/markdown": "1. 8\n2. 2\n\n\n",
            "text/latex": "\\begin{enumerate*}\n\\item 8\n\\item 2\n\\end{enumerate*}\n",
            "text/plain": [
              "[1] 8 2"
            ]
          },
          "metadata": {}
        }
      ]
    },
    {
      "cell_type": "code",
      "source": [
        "# 행 갯수 탐색\n",
        "nrow(ex3_mat)"
      ],
      "metadata": {
        "id": "qwWGM6UA1Ki1",
        "colab": {
          "base_uri": "https://localhost:8080/",
          "height": 34
        },
        "outputId": "39d917dd-79b7-4da8-bacb-cf0a5583ccb5"
      },
      "execution_count": 40,
      "outputs": [
        {
          "output_type": "display_data",
          "data": {
            "text/html": [
              "8"
            ],
            "text/markdown": "8",
            "text/latex": "8",
            "text/plain": [
              "[1] 8"
            ]
          },
          "metadata": {}
        }
      ]
    },
    {
      "cell_type": "code",
      "source": [
        "# 열 갯수 탐색\n",
        "ncol(ex3_mat)"
      ],
      "metadata": {
        "colab": {
          "base_uri": "https://localhost:8080/",
          "height": 34
        },
        "id": "wEP1DU_LUXw5",
        "outputId": "a3817f1d-1ccf-4327-80da-332d671974cf"
      },
      "execution_count": 41,
      "outputs": [
        {
          "output_type": "display_data",
          "data": {
            "text/html": [
              "2"
            ],
            "text/markdown": "2",
            "text/latex": "2",
            "text/plain": [
              "[1] 2"
            ]
          },
          "metadata": {}
        }
      ]
    },
    {
      "cell_type": "code",
      "source": [
        "# 원소 갯수 탐색\n",
        "length(ex3_mat)"
      ],
      "metadata": {
        "colab": {
          "base_uri": "https://localhost:8080/",
          "height": 34
        },
        "id": "4sKXfqHgUY9K",
        "outputId": "17ef8d57-339f-443b-83f6-4539df524025"
      },
      "execution_count": 42,
      "outputs": [
        {
          "output_type": "display_data",
          "data": {
            "text/html": [
              "16"
            ],
            "text/markdown": "16",
            "text/latex": "16",
            "text/plain": [
              "[1] 16"
            ]
          },
          "metadata": {}
        }
      ]
    },
    {
      "cell_type": "markdown",
      "source": [
        "## Indexing"
      ],
      "metadata": {
        "id": "hXMdyQB71S_J"
      }
    },
    {
      "cell_type": "code",
      "source": [
        "ex4_mat <- matrix(\n",
        "    gg,\n",
        "    nrow = 2\n",
        "    )"
      ],
      "metadata": {
        "id": "qPj5VePfRZmc"
      },
      "execution_count": 43,
      "outputs": []
    },
    {
      "cell_type": "code",
      "source": [
        "# [행 번호, 열 번호] 혹은 [행 이름, 열 이름]을 통해 해당 자리에 위치한 원소를 masking 함\n",
        "ex4_mat[1, 1]"
      ],
      "metadata": {
        "id": "q1onC5Ua09Zd",
        "colab": {
          "base_uri": "https://localhost:8080/",
          "height": 34
        },
        "outputId": "a87e7111-1129-4ec9-d647-6c086f81c63f"
      },
      "execution_count": 44,
      "outputs": [
        {
          "output_type": "display_data",
          "data": {
            "text/html": [
              "'태연'"
            ],
            "text/markdown": "'태연'",
            "text/latex": "'태연'",
            "text/plain": [
              "[1] \"태연\""
            ]
          },
          "metadata": {}
        }
      ]
    },
    {
      "cell_type": "code",
      "source": [
        "# 여러 원소를 masking 하고 싶은 경우\n",
        "ex4_mat[1, 1:3]\n",
        "ex4_mat[1, c(1, 3)]"
      ],
      "metadata": {
        "colab": {
          "base_uri": "https://localhost:8080/",
          "height": 52
        },
        "id": "B_2D0080RbaF",
        "outputId": "dbb53479-24ba-4a40-caca-512a38ae5a82"
      },
      "execution_count": 45,
      "outputs": [
        {
          "output_type": "display_data",
          "data": {
            "text/html": [
              "<style>\n",
              ".list-inline {list-style: none; margin:0; padding: 0}\n",
              ".list-inline>li {display: inline-block}\n",
              ".list-inline>li:not(:last-child)::after {content: \"\\00b7\"; padding: 0 .5ex}\n",
              "</style>\n",
              "<ol class=list-inline><li>'태연'</li><li>'티파니'</li><li>'효연'</li></ol>\n"
            ],
            "text/markdown": "1. '태연'\n2. '티파니'\n3. '효연'\n\n\n",
            "text/latex": "\\begin{enumerate*}\n\\item '태연'\n\\item '티파니'\n\\item '효연'\n\\end{enumerate*}\n",
            "text/plain": [
              "[1] \"태연\"   \"티파니\" \"효연\"  "
            ]
          },
          "metadata": {}
        },
        {
          "output_type": "display_data",
          "data": {
            "text/html": [
              "<style>\n",
              ".list-inline {list-style: none; margin:0; padding: 0}\n",
              ".list-inline>li {display: inline-block}\n",
              ".list-inline>li:not(:last-child)::after {content: \"\\00b7\"; padding: 0 .5ex}\n",
              "</style>\n",
              "<ol class=list-inline><li>'태연'</li><li>'효연'</li></ol>\n"
            ],
            "text/markdown": "1. '태연'\n2. '효연'\n\n\n",
            "text/latex": "\\begin{enumerate*}\n\\item '태연'\n\\item '효연'\n\\end{enumerate*}\n",
            "text/plain": [
              "[1] \"태연\" \"효연\""
            ]
          },
          "metadata": {}
        }
      ]
    },
    {
      "cell_type": "markdown",
      "source": [
        "## 행렬 연산"
      ],
      "metadata": {
        "id": "dlW3gJBf1bGG"
      }
    },
    {
      "cell_type": "markdown",
      "source": [
        "### 원소 간 대표값 집계"
      ],
      "metadata": {
        "id": "s9FwIdNi1dmf"
      }
    },
    {
      "cell_type": "code",
      "source": [
        "ex5_mat1 <- matrix(c(1:25), ncol = 5)"
      ],
      "metadata": {
        "id": "Oeuq5fUx1Z_o"
      },
      "execution_count": 46,
      "outputs": []
    },
    {
      "cell_type": "code",
      "source": [
        "# 행별 평균\n",
        "rowMeans(ex5_mat1)"
      ],
      "metadata": {
        "colab": {
          "base_uri": "https://localhost:8080/",
          "height": 34
        },
        "id": "EE81KjRQWbq4",
        "outputId": "ae17244a-aa7f-4de9-fe69-78e0488aa7ee"
      },
      "execution_count": 47,
      "outputs": [
        {
          "output_type": "display_data",
          "data": {
            "text/html": [
              "<style>\n",
              ".list-inline {list-style: none; margin:0; padding: 0}\n",
              ".list-inline>li {display: inline-block}\n",
              ".list-inline>li:not(:last-child)::after {content: \"\\00b7\"; padding: 0 .5ex}\n",
              "</style>\n",
              "<ol class=list-inline><li>11</li><li>12</li><li>13</li><li>14</li><li>15</li></ol>\n"
            ],
            "text/markdown": "1. 11\n2. 12\n3. 13\n4. 14\n5. 15\n\n\n",
            "text/latex": "\\begin{enumerate*}\n\\item 11\n\\item 12\n\\item 13\n\\item 14\n\\item 15\n\\end{enumerate*}\n",
            "text/plain": [
              "[1] 11 12 13 14 15"
            ]
          },
          "metadata": {}
        }
      ]
    },
    {
      "cell_type": "code",
      "source": [
        "# 열별 평균\n",
        "colMeans(ex5_mat1)"
      ],
      "metadata": {
        "colab": {
          "base_uri": "https://localhost:8080/",
          "height": 34
        },
        "id": "N8_CwB0bWd78",
        "outputId": "ba8a247b-86eb-4c68-b15f-b371677f21be"
      },
      "execution_count": 48,
      "outputs": [
        {
          "output_type": "display_data",
          "data": {
            "text/html": [
              "<style>\n",
              ".list-inline {list-style: none; margin:0; padding: 0}\n",
              ".list-inline>li {display: inline-block}\n",
              ".list-inline>li:not(:last-child)::after {content: \"\\00b7\"; padding: 0 .5ex}\n",
              "</style>\n",
              "<ol class=list-inline><li>3</li><li>8</li><li>13</li><li>18</li><li>23</li></ol>\n"
            ],
            "text/markdown": "1. 3\n2. 8\n3. 13\n4. 18\n5. 23\n\n\n",
            "text/latex": "\\begin{enumerate*}\n\\item 3\n\\item 8\n\\item 13\n\\item 18\n\\item 23\n\\end{enumerate*}\n",
            "text/plain": [
              "[1]  3  8 13 18 23"
            ]
          },
          "metadata": {}
        }
      ]
    },
    {
      "cell_type": "markdown",
      "source": [
        "### Matrix & Scala\n",
        "\n",
        "- 행렬의 각 원소에 대하여 스칼라만큼 연산함"
      ],
      "metadata": {
        "id": "i_m8bIQI1mug"
      }
    },
    {
      "cell_type": "code",
      "source": [
        "ex5_mat2 <- matrix(c(1:4), ncol = 2)"
      ],
      "metadata": {
        "id": "pNtNMd5B1h30"
      },
      "execution_count": 49,
      "outputs": []
    },
    {
      "cell_type": "code",
      "source": [
        "# 덧셈\n",
        "ex5_mat2 + 2"
      ],
      "metadata": {
        "colab": {
          "base_uri": "https://localhost:8080/",
          "height": 167
        },
        "id": "NMQC51ZQWjmQ",
        "outputId": "8c09b7e9-405a-4a84-9ce2-8ac78c49b484"
      },
      "execution_count": 50,
      "outputs": [
        {
          "output_type": "display_data",
          "data": {
            "text/html": [
              "<table class=\"dataframe\">\n",
              "<caption>A matrix: 2 × 2 of type dbl</caption>\n",
              "<tbody>\n",
              "\t<tr><td>3</td><td>5</td></tr>\n",
              "\t<tr><td>4</td><td>6</td></tr>\n",
              "</tbody>\n",
              "</table>\n"
            ],
            "text/markdown": "\nA matrix: 2 × 2 of type dbl\n\n| 3 | 5 |\n| 4 | 6 |\n\n",
            "text/latex": "A matrix: 2 × 2 of type dbl\n\\begin{tabular}{ll}\n\t 3 & 5\\\\\n\t 4 & 6\\\\\n\\end{tabular}\n",
            "text/plain": [
              "     [,1] [,2]\n",
              "[1,] 3    5   \n",
              "[2,] 4    6   "
            ]
          },
          "metadata": {}
        }
      ]
    },
    {
      "cell_type": "code",
      "source": [
        "# 뺄셈\n",
        "ex5_mat2 - 2"
      ],
      "metadata": {
        "colab": {
          "base_uri": "https://localhost:8080/",
          "height": 167
        },
        "id": "13d--ZHfWkwF",
        "outputId": "91d8cb7f-b9de-4a42-b9e6-f239e10c6d9c"
      },
      "execution_count": 51,
      "outputs": [
        {
          "output_type": "display_data",
          "data": {
            "text/html": [
              "<table class=\"dataframe\">\n",
              "<caption>A matrix: 2 × 2 of type dbl</caption>\n",
              "<tbody>\n",
              "\t<tr><td>-1</td><td>1</td></tr>\n",
              "\t<tr><td> 0</td><td>2</td></tr>\n",
              "</tbody>\n",
              "</table>\n"
            ],
            "text/markdown": "\nA matrix: 2 × 2 of type dbl\n\n| -1 | 1 |\n|  0 | 2 |\n\n",
            "text/latex": "A matrix: 2 × 2 of type dbl\n\\begin{tabular}{ll}\n\t -1 & 1\\\\\n\t  0 & 2\\\\\n\\end{tabular}\n",
            "text/plain": [
              "     [,1] [,2]\n",
              "[1,] -1   1   \n",
              "[2,]  0   2   "
            ]
          },
          "metadata": {}
        }
      ]
    },
    {
      "cell_type": "code",
      "source": [
        "# 곱셈\n",
        "ex5_mat2 * 10"
      ],
      "metadata": {
        "colab": {
          "base_uri": "https://localhost:8080/",
          "height": 132
        },
        "id": "S8v9KKGfWl1Q",
        "outputId": "e111ad19-09a8-438e-9e5d-ead3818201e2"
      },
      "execution_count": 52,
      "outputs": [
        {
          "output_type": "display_data",
          "data": {
            "text/html": [
              "<table class=\"dataframe\">\n",
              "<caption>A matrix: 2 × 2 of type dbl</caption>\n",
              "<tbody>\n",
              "\t<tr><td>10</td><td>30</td></tr>\n",
              "\t<tr><td>20</td><td>40</td></tr>\n",
              "</tbody>\n",
              "</table>\n"
            ],
            "text/markdown": "\nA matrix: 2 × 2 of type dbl\n\n| 10 | 30 |\n| 20 | 40 |\n\n",
            "text/latex": "A matrix: 2 × 2 of type dbl\n\\begin{tabular}{ll}\n\t 10 & 30\\\\\n\t 20 & 40\\\\\n\\end{tabular}\n",
            "text/plain": [
              "     [,1] [,2]\n",
              "[1,] 10   30  \n",
              "[2,] 20   40  "
            ]
          },
          "metadata": {}
        }
      ]
    },
    {
      "cell_type": "code",
      "source": [
        "# 나눗셈\n",
        "ex5_mat2 / 10"
      ],
      "metadata": {
        "colab": {
          "base_uri": "https://localhost:8080/",
          "height": 132
        },
        "id": "hYg_qGh1Wmts",
        "outputId": "40dc8678-d86c-4e64-f48f-0a4fab03cb48"
      },
      "execution_count": 53,
      "outputs": [
        {
          "output_type": "display_data",
          "data": {
            "text/html": [
              "<table class=\"dataframe\">\n",
              "<caption>A matrix: 2 × 2 of type dbl</caption>\n",
              "<tbody>\n",
              "\t<tr><td>0.1</td><td>0.3</td></tr>\n",
              "\t<tr><td>0.2</td><td>0.4</td></tr>\n",
              "</tbody>\n",
              "</table>\n"
            ],
            "text/markdown": "\nA matrix: 2 × 2 of type dbl\n\n| 0.1 | 0.3 |\n| 0.2 | 0.4 |\n\n",
            "text/latex": "A matrix: 2 × 2 of type dbl\n\\begin{tabular}{ll}\n\t 0.1 & 0.3\\\\\n\t 0.2 & 0.4\\\\\n\\end{tabular}\n",
            "text/plain": [
              "     [,1] [,2]\n",
              "[1,] 0.1  0.3 \n",
              "[2,] 0.2  0.4 "
            ]
          },
          "metadata": {}
        }
      ]
    },
    {
      "cell_type": "markdown",
      "source": [
        "### Matrix & Matrix"
      ],
      "metadata": {
        "id": "gBSWS8wg1px7"
      }
    },
    {
      "cell_type": "code",
      "source": [
        "ex5_mat3_1 <- matrix(c(1:6), ncol = 2)\n",
        "ex5_mat3_2 <- matrix(c(11:16), ncol = 2)\n",
        "ex5_mat3_3 <- matrix(c(1:6), nrow = 2)"
      ],
      "metadata": {
        "id": "8TMd8lG11jcm"
      },
      "execution_count": 54,
      "outputs": []
    },
    {
      "cell_type": "markdown",
      "source": [
        "#### 덧셈과 뺄셈\n",
        "\n",
        "- 조건 : 피연산자 A, B는 차원이 같음"
      ],
      "metadata": {
        "id": "G8labngHXhXy"
      }
    },
    {
      "cell_type": "code",
      "source": [
        "# 차원이 같은 경우\n",
        "ex5_mat3_1 + ex5_mat3_2"
      ],
      "metadata": {
        "colab": {
          "base_uri": "https://localhost:8080/",
          "height": 163
        },
        "id": "zkqapMl1WpcX",
        "outputId": "7972d815-6a21-4bd9-dfd3-d767bbb5f464"
      },
      "execution_count": 55,
      "outputs": [
        {
          "output_type": "display_data",
          "data": {
            "text/html": [
              "<table class=\"dataframe\">\n",
              "<caption>A matrix: 3 × 2 of type int</caption>\n",
              "<tbody>\n",
              "\t<tr><td>12</td><td>18</td></tr>\n",
              "\t<tr><td>14</td><td>20</td></tr>\n",
              "\t<tr><td>16</td><td>22</td></tr>\n",
              "</tbody>\n",
              "</table>\n"
            ],
            "text/markdown": "\nA matrix: 3 × 2 of type int\n\n| 12 | 18 |\n| 14 | 20 |\n| 16 | 22 |\n\n",
            "text/latex": "A matrix: 3 × 2 of type int\n\\begin{tabular}{ll}\n\t 12 & 18\\\\\n\t 14 & 20\\\\\n\t 16 & 22\\\\\n\\end{tabular}\n",
            "text/plain": [
              "     [,1] [,2]\n",
              "[1,] 12   18  \n",
              "[2,] 14   20  \n",
              "[3,] 16   22  "
            ]
          },
          "metadata": {}
        }
      ]
    },
    {
      "cell_type": "code",
      "source": [
        "# 차원이 다른 경우\n",
        "# ex5_mat3_1 - ex5_mat3_3"
      ],
      "metadata": {
        "id": "cvecwJIPW49Y"
      },
      "execution_count": 56,
      "outputs": []
    },
    {
      "cell_type": "markdown",
      "source": [
        "#### 내적\n",
        "\n",
        "- 조건 : 피연산자 A, B는 적합성 조건을 만족함"
      ],
      "metadata": {
        "id": "fgIHTERDYCFY"
      }
    },
    {
      "cell_type": "code",
      "source": [
        "# 적합성 조건을 만족하는 경우\n",
        "ex5_mat3_1 %*% ex5_mat3_3"
      ],
      "metadata": {
        "colab": {
          "base_uri": "https://localhost:8080/",
          "height": 146
        },
        "id": "I2pnp0EGWqhP",
        "outputId": "c5118ca4-b1f6-457a-9e08-a935f2439886"
      },
      "execution_count": 57,
      "outputs": [
        {
          "output_type": "display_data",
          "data": {
            "text/html": [
              "<table class=\"dataframe\">\n",
              "<caption>A matrix: 3 × 3 of type dbl</caption>\n",
              "<tbody>\n",
              "\t<tr><td> 9</td><td>19</td><td>29</td></tr>\n",
              "\t<tr><td>12</td><td>26</td><td>40</td></tr>\n",
              "\t<tr><td>15</td><td>33</td><td>51</td></tr>\n",
              "</tbody>\n",
              "</table>\n"
            ],
            "text/markdown": "\nA matrix: 3 × 3 of type dbl\n\n|  9 | 19 | 29 |\n| 12 | 26 | 40 |\n| 15 | 33 | 51 |\n\n",
            "text/latex": "A matrix: 3 × 3 of type dbl\n\\begin{tabular}{lll}\n\t  9 & 19 & 29\\\\\n\t 12 & 26 & 40\\\\\n\t 15 & 33 & 51\\\\\n\\end{tabular}\n",
            "text/plain": [
              "     [,1] [,2] [,3]\n",
              "[1,]  9   19   29  \n",
              "[2,] 12   26   40  \n",
              "[3,] 15   33   51  "
            ]
          },
          "metadata": {}
        }
      ]
    },
    {
      "cell_type": "code",
      "source": [
        "# 적합성 조건을 만족하지 않는 경우\n",
        "# ex5_mat3_1 %*% ex5_mat3_2"
      ],
      "metadata": {
        "id": "-Du1X-b2XM-3"
      },
      "execution_count": 59,
      "outputs": []
    },
    {
      "cell_type": "markdown",
      "source": [
        "## 특수한 행렬 생성하기"
      ],
      "metadata": {
        "id": "0QbCoN03piUG"
      }
    },
    {
      "cell_type": "markdown",
      "source": [
        "### 대각행렬"
      ],
      "metadata": {
        "id": "JbmfrG14px4H"
      }
    },
    {
      "cell_type": "code",
      "source": [
        "# diag(x1, x2, ..., xn) : 대각원소가 x1, x2, ..., xn인 n차원 정방행렬을 생성함\n",
        "ex3_mat1 <- diag(c(1:3))\n",
        "View(ex3_mat1)"
      ],
      "metadata": {
        "colab": {
          "base_uri": "https://localhost:8080/",
          "height": 163
        },
        "id": "G-6hq7qkplrX",
        "outputId": "b0f8ab97-7849-479c-f78c-de074c1a1535"
      },
      "execution_count": 60,
      "outputs": [
        {
          "output_type": "display_data",
          "data": {
            "text/plain": [
              "     [,1] [,2] [,3]\n",
              "[1,] 1    0    0   \n",
              "[2,] 0    2    0   \n",
              "[3,] 0    0    3   "
            ],
            "text/html": [
              "<table class=\"dataframe\">\n",
              "<caption>A matrix: 3 × 3 of type int</caption>\n",
              "<tbody>\n",
              "\t<tr><td>1</td><td>0</td><td>0</td></tr>\n",
              "\t<tr><td>0</td><td>2</td><td>0</td></tr>\n",
              "\t<tr><td>0</td><td>0</td><td>3</td></tr>\n",
              "</tbody>\n",
              "</table>\n"
            ],
            "text/markdown": "\nA matrix: 3 × 3 of type int\n\n| 1 | 0 | 0 |\n| 0 | 2 | 0 |\n| 0 | 0 | 3 |\n\n",
            "text/latex": "A matrix: 3 × 3 of type int\n\\begin{tabular}{lll}\n\t 1 & 0 & 0\\\\\n\t 0 & 2 & 0\\\\\n\t 0 & 0 & 3\\\\\n\\end{tabular}\n"
          },
          "metadata": {}
        }
      ]
    },
    {
      "cell_type": "markdown",
      "source": [
        "### 삼각행렬"
      ],
      "metadata": {
        "id": "eKn4O5Nfpz5E"
      }
    },
    {
      "cell_type": "code",
      "source": [
        "# lower.tri(ex_mat) : 정방행렬 ex_mat 의 하삼각원소들을 masking 함\n",
        "ex3_mat2 <- matrix(c(1:16), ncol = 4)\n",
        "ex3_mat2[lower.tri(ex3_mat2, diag = TRUE)] <- 0\n",
        "View(ex3_mat2)"
      ],
      "metadata": {
        "id": "ZPkYyW21pmuD",
        "colab": {
          "base_uri": "https://localhost:8080/",
          "height": 177
        },
        "outputId": "47c0c235-4dce-4150-d837-81b0a676d3e8"
      },
      "execution_count": 61,
      "outputs": [
        {
          "output_type": "display_data",
          "data": {
            "text/plain": [
              "     [,1] [,2] [,3] [,4]\n",
              "[1,] 0    5     9   13  \n",
              "[2,] 0    0    10   14  \n",
              "[3,] 0    0     0   15  \n",
              "[4,] 0    0     0    0  "
            ],
            "text/html": [
              "<table class=\"dataframe\">\n",
              "<caption>A matrix: 4 × 4 of type dbl</caption>\n",
              "<tbody>\n",
              "\t<tr><td>0</td><td>5</td><td> 9</td><td>13</td></tr>\n",
              "\t<tr><td>0</td><td>0</td><td>10</td><td>14</td></tr>\n",
              "\t<tr><td>0</td><td>0</td><td> 0</td><td>15</td></tr>\n",
              "\t<tr><td>0</td><td>0</td><td> 0</td><td> 0</td></tr>\n",
              "</tbody>\n",
              "</table>\n"
            ],
            "text/markdown": "\nA matrix: 4 × 4 of type dbl\n\n| 0 | 5 |  9 | 13 |\n| 0 | 0 | 10 | 14 |\n| 0 | 0 |  0 | 15 |\n| 0 | 0 |  0 |  0 |\n\n",
            "text/latex": "A matrix: 4 × 4 of type dbl\n\\begin{tabular}{llll}\n\t 0 & 5 &  9 & 13\\\\\n\t 0 & 0 & 10 & 14\\\\\n\t 0 & 0 &  0 & 15\\\\\n\t 0 & 0 &  0 &  0\\\\\n\\end{tabular}\n"
          },
          "metadata": {}
        }
      ]
    },
    {
      "cell_type": "code",
      "source": [
        "# upper.tri(ex_mat) : 정방행렬 ex_mat 의 상삼각원소들을 masking 함\n",
        "ex3_mat3 <- matrix(c(1:16), ncol = 4)\n",
        "ex3_mat3[upper.tri(ex3_mat3, diag = TRUE)] <- 0\n",
        "View(ex3_mat3)"
      ],
      "metadata": {
        "id": "inX2E2Eppn1r",
        "colab": {
          "base_uri": "https://localhost:8080/",
          "height": 177
        },
        "outputId": "a2ba8e39-1861-41fe-cd91-1238b289d3cd"
      },
      "execution_count": 62,
      "outputs": [
        {
          "output_type": "display_data",
          "data": {
            "text/plain": [
              "     [,1] [,2] [,3] [,4]\n",
              "[1,] 0    0     0   0   \n",
              "[2,] 2    0     0   0   \n",
              "[3,] 3    7     0   0   \n",
              "[4,] 4    8    12   0   "
            ],
            "text/html": [
              "<table class=\"dataframe\">\n",
              "<caption>A matrix: 4 × 4 of type dbl</caption>\n",
              "<tbody>\n",
              "\t<tr><td>0</td><td>0</td><td> 0</td><td>0</td></tr>\n",
              "\t<tr><td>2</td><td>0</td><td> 0</td><td>0</td></tr>\n",
              "\t<tr><td>3</td><td>7</td><td> 0</td><td>0</td></tr>\n",
              "\t<tr><td>4</td><td>8</td><td>12</td><td>0</td></tr>\n",
              "</tbody>\n",
              "</table>\n"
            ],
            "text/markdown": "\nA matrix: 4 × 4 of type dbl\n\n| 0 | 0 |  0 | 0 |\n| 2 | 0 |  0 | 0 |\n| 3 | 7 |  0 | 0 |\n| 4 | 8 | 12 | 0 |\n\n",
            "text/latex": "A matrix: 4 × 4 of type dbl\n\\begin{tabular}{llll}\n\t 0 & 0 &  0 & 0\\\\\n\t 2 & 0 &  0 & 0\\\\\n\t 3 & 7 &  0 & 0\\\\\n\t 4 & 8 & 12 & 0\\\\\n\\end{tabular}\n"
          },
          "metadata": {}
        }
      ]
    },
    {
      "cell_type": "markdown",
      "source": [
        "### 역행렬"
      ],
      "metadata": {
        "id": "C0LiGJecp2JW"
      }
    },
    {
      "cell_type": "code",
      "source": [
        "# solve(A, B) : 가역성을 가지는 두 행렬 A, B에 대하여, A * X = B 를 충족하는 행렬 X를 구함\n",
        "# B를 할당하지 않을 경우 A의 역행렬을 구함\n",
        "solve(matrix(c(1, 2, 6, -1), ncol = 2))"
      ],
      "metadata": {
        "id": "cI_gLX9jppzS",
        "colab": {
          "base_uri": "https://localhost:8080/",
          "height": 97
        },
        "outputId": "46f5cb80-c3b2-4b93-8455-d601f4e12952"
      },
      "execution_count": 74,
      "outputs": [
        {
          "output_type": "display_data",
          "data": {
            "text/html": [
              "<table class=\"dataframe\">\n",
              "<caption>A matrix: 2 × 2 of type dbl</caption>\n",
              "<tbody>\n",
              "\t<tr><td>0.07692308</td><td> 0.46153846</td></tr>\n",
              "\t<tr><td>0.15384615</td><td>-0.07692308</td></tr>\n",
              "</tbody>\n",
              "</table>\n"
            ],
            "text/markdown": "\nA matrix: 2 × 2 of type dbl\n\n| 0.07692308 |  0.46153846 |\n| 0.15384615 | -0.07692308 |\n\n",
            "text/latex": "A matrix: 2 × 2 of type dbl\n\\begin{tabular}{ll}\n\t 0.07692308 &  0.46153846\\\\\n\t 0.15384615 & -0.07692308\\\\\n\\end{tabular}\n",
            "text/plain": [
              "     [,1]       [,2]       \n",
              "[1,] 0.07692308  0.46153846\n",
              "[2,] 0.15384615 -0.07692308"
            ]
          },
          "metadata": {}
        }
      ]
    },
    {
      "cell_type": "markdown",
      "source": [
        "### 전치행렬"
      ],
      "metadata": {
        "id": "sMqP8xDap57x"
      }
    },
    {
      "cell_type": "code",
      "source": [
        "t(matrix(c(1:16), ncol = 4))"
      ],
      "metadata": {
        "id": "SjC1nOdRpkQB",
        "colab": {
          "base_uri": "https://localhost:8080/",
          "height": 177
        },
        "outputId": "411e8a94-254b-4b9b-ee5c-c9bdfb677ac4"
      },
      "execution_count": 69,
      "outputs": [
        {
          "output_type": "display_data",
          "data": {
            "text/html": [
              "<table class=\"dataframe\">\n",
              "<caption>A matrix: 4 × 4 of type int</caption>\n",
              "<tbody>\n",
              "\t<tr><td> 1</td><td> 2</td><td> 3</td><td> 4</td></tr>\n",
              "\t<tr><td> 5</td><td> 6</td><td> 7</td><td> 8</td></tr>\n",
              "\t<tr><td> 9</td><td>10</td><td>11</td><td>12</td></tr>\n",
              "\t<tr><td>13</td><td>14</td><td>15</td><td>16</td></tr>\n",
              "</tbody>\n",
              "</table>\n"
            ],
            "text/markdown": "\nA matrix: 4 × 4 of type int\n\n|  1 |  2 |  3 |  4 |\n|  5 |  6 |  7 |  8 |\n|  9 | 10 | 11 | 12 |\n| 13 | 14 | 15 | 16 |\n\n",
            "text/latex": "A matrix: 4 × 4 of type int\n\\begin{tabular}{llll}\n\t  1 &  2 &  3 &  4\\\\\n\t  5 &  6 &  7 &  8\\\\\n\t  9 & 10 & 11 & 12\\\\\n\t 13 & 14 & 15 & 16\\\\\n\\end{tabular}\n",
            "text/plain": [
              "     [,1] [,2] [,3] [,4]\n",
              "[1,]  1    2    3    4  \n",
              "[2,]  5    6    7    8  \n",
              "[3,]  9   10   11   12  \n",
              "[4,] 13   14   15   16  "
            ]
          },
          "metadata": {}
        }
      ]
    },
    {
      "cell_type": "markdown",
      "source": [
        "# 4. Array"
      ],
      "metadata": {
        "id": "uBUXbZQwqzGg"
      }
    },
    {
      "cell_type": "markdown",
      "source": [
        "## 배열 생성하기"
      ],
      "metadata": {
        "id": "m4QY1cfbq3BW"
      }
    },
    {
      "cell_type": "markdown",
      "source": [
        "### array 함수\n",
        "\n",
        "```\n",
        "array(\n",
        "    data,\n",
        "    dim = c(nrow, ncol, nchannel)\n",
        "    )\n",
        "```"
      ],
      "metadata": {
        "id": "luiUib7yq5g_"
      }
    },
    {
      "cell_type": "code",
      "source": [
        "View(\n",
        "    array(\n",
        "        c(1:6),\n",
        "        dim = c(2, 3, 4))\n",
        "    )"
      ],
      "metadata": {
        "id": "i_l8NlzDq0YD",
        "colab": {
          "base_uri": "https://localhost:8080/",
          "height": 34
        },
        "outputId": "0a53fa80-74da-4550-c604-03be57b3f3cb"
      },
      "execution_count": 76,
      "outputs": [
        {
          "output_type": "display_data",
          "data": {
            "text/plain": [
              ", , 1\n",
              "\n",
              "     [,1] [,2] [,3]\n",
              "[1,]    1    3    5\n",
              "[2,]    2    4    6\n",
              "\n",
              ", , 2\n",
              "\n",
              "     [,1] [,2] [,3]\n",
              "[1,]    1    3    5\n",
              "[2,]    2    4    6\n",
              "\n",
              ", , 3\n",
              "\n",
              "     [,1] [,2] [,3]\n",
              "[1,]    1    3    5\n",
              "[2,]    2    4    6\n",
              "\n",
              ", , 4\n",
              "\n",
              "     [,1] [,2] [,3]\n",
              "[1,]    1    3    5\n",
              "[2,]    2    4    6\n"
            ],
            "text/html": [
              "<style>\n",
              ".list-inline {list-style: none; margin:0; padding: 0}\n",
              ".list-inline>li {display: inline-block}\n",
              ".list-inline>li:not(:last-child)::after {content: \"\\00b7\"; padding: 0 .5ex}\n",
              "</style>\n",
              "<ol class=list-inline><li>1</li><li>2</li><li>3</li><li>4</li><li>5</li><li>6</li><li>1</li><li>2</li><li>3</li><li>4</li><li>5</li><li>6</li><li>1</li><li>2</li><li>3</li><li>4</li><li>5</li><li>6</li><li>1</li><li>2</li><li>3</li><li>4</li><li>5</li><li>6</li></ol>\n"
            ],
            "text/markdown": "1. 1\n2. 2\n3. 3\n4. 4\n5. 5\n6. 6\n7. 1\n8. 2\n9. 3\n10. 4\n11. 5\n12. 6\n13. 1\n14. 2\n15. 3\n16. 4\n17. 5\n18. 6\n19. 1\n20. 2\n21. 3\n22. 4\n23. 5\n24. 6\n\n\n",
            "text/latex": "\\begin{enumerate*}\n\\item 1\n\\item 2\n\\item 3\n\\item 4\n\\item 5\n\\item 6\n\\item 1\n\\item 2\n\\item 3\n\\item 4\n\\item 5\n\\item 6\n\\item 1\n\\item 2\n\\item 3\n\\item 4\n\\item 5\n\\item 6\n\\item 1\n\\item 2\n\\item 3\n\\item 4\n\\item 5\n\\item 6\n\\end{enumerate*}\n"
          },
          "metadata": {}
        }
      ]
    }
  ]
}