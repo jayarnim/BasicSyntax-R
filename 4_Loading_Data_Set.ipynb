{
  "nbformat": 4,
  "nbformat_minor": 0,
  "metadata": {
    "colab": {
      "provenance": [],
      "toc_visible": true,
      "authorship_tag": "ABX9TyMezuZK5B2EOedrYoCZ2DJO",
      "include_colab_link": true
    },
    "kernelspec": {
      "name": "ir",
      "display_name": "R"
    },
    "language_info": {
      "name": "R"
    }
  },
  "cells": [
    {
      "cell_type": "markdown",
      "metadata": {
        "id": "view-in-github",
        "colab_type": "text"
      },
      "source": [
        "<a href=\"https://colab.research.google.com/github/jayarnim/study-RBasicSyntax/blob/main/4_Loading_Data_Set.ipynb\" target=\"_parent\"><img src=\"https://colab.research.google.com/assets/colab-badge.svg\" alt=\"Open In Colab\"/></a>"
      ]
    },
    {
      "cell_type": "markdown",
      "source": [
        "# 0. Working Directory\n",
        "\n",
        "- 구글은 R 에 대해서는 Drive Mount 를 지원하지 않음\n",
        "- 때문에 매 런타임마다 세션에 자료를 불러와서 작업해야 함"
      ],
      "metadata": {
        "id": "uJtMk5nBA9zD"
      }
    },
    {
      "cell_type": "code",
      "source": [
        "# working directory 조회\n",
        "getwd()"
      ],
      "metadata": {
        "colab": {
          "base_uri": "https://localhost:8080/",
          "height": 34
        },
        "id": "uPAZgjthBAli",
        "outputId": "f317e73e-08d0-4604-ed72-77b5b2bccec8"
      },
      "execution_count": 1,
      "outputs": [
        {
          "output_type": "display_data",
          "data": {
            "text/html": [
              "'/content'"
            ],
            "text/markdown": "'/content'",
            "text/latex": "'/content'",
            "text/plain": [
              "[1] \"/content\""
            ]
          },
          "metadata": {}
        }
      ]
    },
    {
      "cell_type": "code",
      "execution_count": 2,
      "metadata": {
        "id": "Nr_P0HbvAxFh"
      },
      "outputs": [],
      "source": [
        "# working directory 설정\n",
        "# setwd(\"path\")"
      ]
    },
    {
      "cell_type": "code",
      "source": [
        "# working directory 하위 파일 조회\n",
        "list.files()"
      ],
      "metadata": {
        "id": "1WZEDPdgBB1F",
        "colab": {
          "base_uri": "https://localhost:8080/",
          "height": 34
        },
        "outputId": "b17d1614-6470-4f9d-d304-32a81283583e"
      },
      "execution_count": 3,
      "outputs": [
        {
          "output_type": "display_data",
          "data": {
            "text/html": [
              "<style>\n",
              ".list-inline {list-style: none; margin:0; padding: 0}\n",
              ".list-inline>li {display: inline-block}\n",
              ".list-inline>li:not(:last-child)::after {content: \"\\00b7\"; padding: 0 .5ex}\n",
              "</style>\n",
              "<ol class=list-inline><li>'data'</li><li>'sample_data'</li></ol>\n"
            ],
            "text/markdown": "1. 'data'\n2. 'sample_data'\n\n\n",
            "text/latex": "\\begin{enumerate*}\n\\item 'data'\n\\item 'sample\\_data'\n\\end{enumerate*}\n",
            "text/plain": [
              "[1] \"data\"        \"sample_data\""
            ]
          },
          "metadata": {}
        }
      ]
    },
    {
      "cell_type": "markdown",
      "source": [
        "# 1. 원시적인 방법으로 자료 입력하기"
      ],
      "metadata": {
        "id": "WBrTRhJbBOcb"
      }
    },
    {
      "cell_type": "code",
      "source": [
        "# 데이터 1, 2, 3, 4, 5를 변수 ID에 할당\n",
        "ID <- c(1, 2, 3, 4, 5)\n",
        "\n",
        "# 데이터 F, M, F, M, F를 변수 SEX에 할당\n",
        "SEX <- c(\"F\", \"M\", \"F\", \"M\", \"F\")\n",
        "\n",
        "# ID와 SEX로 데이터 프레임 생성\n",
        "DATA <- data.frame(ID = ID, SEX = SEX)\n",
        "\n",
        "# DATA 조회\n",
        "View(DATA)"
      ],
      "metadata": {
        "colab": {
          "base_uri": "https://localhost:8080/",
          "height": 272
        },
        "id": "ZrT5viU61AWf",
        "outputId": "3f696ab2-0832-4994-b073-707cece2a326"
      },
      "execution_count": 4,
      "outputs": [
        {
          "output_type": "display_data",
          "data": {
            "text/plain": [
              "  ID SEX\n",
              "1 1  F  \n",
              "2 2  M  \n",
              "3 3  F  \n",
              "4 4  M  \n",
              "5 5  F  "
            ],
            "text/html": [
              "<table class=\"dataframe\">\n",
              "<caption>A data.frame: 5 × 2</caption>\n",
              "<thead>\n",
              "\t<tr><th scope=col>ID</th><th scope=col>SEX</th></tr>\n",
              "\t<tr><th scope=col>&lt;dbl&gt;</th><th scope=col>&lt;chr&gt;</th></tr>\n",
              "</thead>\n",
              "<tbody>\n",
              "\t<tr><td>1</td><td>F</td></tr>\n",
              "\t<tr><td>2</td><td>M</td></tr>\n",
              "\t<tr><td>3</td><td>F</td></tr>\n",
              "\t<tr><td>4</td><td>M</td></tr>\n",
              "\t<tr><td>5</td><td>F</td></tr>\n",
              "</tbody>\n",
              "</table>\n"
            ],
            "text/markdown": "\nA data.frame: 5 × 2\n\n| ID &lt;dbl&gt; | SEX &lt;chr&gt; |\n|---|---|\n| 1 | F |\n| 2 | M |\n| 3 | F |\n| 4 | M |\n| 5 | F |\n\n",
            "text/latex": "A data.frame: 5 × 2\n\\begin{tabular}{ll}\n ID & SEX\\\\\n <dbl> & <chr>\\\\\n\\hline\n\t 1 & F\\\\\n\t 2 & M\\\\\n\t 3 & F\\\\\n\t 4 & M\\\\\n\t 5 & F\\\\\n\\end{tabular}\n"
          },
          "metadata": {}
        }
      ]
    },
    {
      "cell_type": "markdown",
      "source": [
        "# 2. Working Directory 에서 불러오기"
      ],
      "metadata": {
        "id": "HpkL0PdgBscS"
      }
    },
    {
      "cell_type": "markdown",
      "source": [
        "## TXT\n",
        "\n",
        "```\n",
        "read.table(\n",
        "    file,   # 불러올 파일 경로\n",
        "    header = FALSE, # 1행을 컬럼명으로 설정할 것인지 여부\n",
        "    col.names,  # 컬럼명으로 설정할 벡터\n",
        "    skip,   # 몇 행까지 불러오기를 skip 할 것인가\n",
        "    nrows,  # 몇 행까지만 불러올 것인가\n",
        "    stringsAsFactor,    # 범주형 변수 벡터에 대하여 그 unique value 만을 원소로 하는 factor 로 변환할 것인가\n",
        "    sep,    # 구분자\n",
        "    fileEncoding,   # 파일 인코딩 방식\n",
        "    encoding    # R 인코딩 방식\n",
        "    )\n",
        "```"
      ],
      "metadata": {
        "id": "84pJxgiJuqiC"
      }
    },
    {
      "cell_type": "code",
      "source": [
        "ex <- read.table(file = \"data/data_ex.txt\")\n",
        "ex"
      ],
      "metadata": {
        "colab": {
          "base_uri": "https://localhost:8080/",
          "height": 443
        },
        "id": "tsoGJdPk3Cjs",
        "outputId": "00adca9e-1b77-47cb-989f-c7627bae9827"
      },
      "execution_count": 6,
      "outputs": [
        {
          "output_type": "display_data",
          "data": {
            "text/html": [
              "<table class=\"dataframe\">\n",
              "<caption>A data.frame: 11 × 4</caption>\n",
              "<thead>\n",
              "\t<tr><th scope=col>V1</th><th scope=col>V2</th><th scope=col>V3</th><th scope=col>V4</th></tr>\n",
              "\t<tr><th scope=col>&lt;chr&gt;</th><th scope=col>&lt;chr&gt;</th><th scope=col>&lt;chr&gt;</th><th scope=col>&lt;chr&gt;</th></tr>\n",
              "</thead>\n",
              "<tbody>\n",
              "\t<tr><td>ID</td><td>SEX</td><td>AGE</td><td>AREA</td></tr>\n",
              "\t<tr><td>1 </td><td>F  </td><td>50 </td><td>서울</td></tr>\n",
              "\t<tr><td>2 </td><td>M  </td><td>40 </td><td>경기</td></tr>\n",
              "\t<tr><td>3 </td><td>F  </td><td>28 </td><td>제주</td></tr>\n",
              "\t<tr><td>4 </td><td>M  </td><td>50 </td><td>서울</td></tr>\n",
              "\t<tr><td>5 </td><td>M  </td><td>27 </td><td>서울</td></tr>\n",
              "\t<tr><td>6 </td><td>F  </td><td>23 </td><td>서울</td></tr>\n",
              "\t<tr><td>7 </td><td>F  </td><td>56 </td><td>경기</td></tr>\n",
              "\t<tr><td>8 </td><td>F  </td><td>47 </td><td>서울</td></tr>\n",
              "\t<tr><td>9 </td><td>M  </td><td>20 </td><td>인천</td></tr>\n",
              "\t<tr><td>10</td><td>F  </td><td>38 </td><td>경기</td></tr>\n",
              "</tbody>\n",
              "</table>\n"
            ],
            "text/markdown": "\nA data.frame: 11 × 4\n\n| V1 &lt;chr&gt; | V2 &lt;chr&gt; | V3 &lt;chr&gt; | V4 &lt;chr&gt; |\n|---|---|---|---|\n| ID | SEX | AGE | AREA |\n| 1  | F   | 50  | 서울 |\n| 2  | M   | 40  | 경기 |\n| 3  | F   | 28  | 제주 |\n| 4  | M   | 50  | 서울 |\n| 5  | M   | 27  | 서울 |\n| 6  | F   | 23  | 서울 |\n| 7  | F   | 56  | 경기 |\n| 8  | F   | 47  | 서울 |\n| 9  | M   | 20  | 인천 |\n| 10 | F   | 38  | 경기 |\n\n",
            "text/latex": "A data.frame: 11 × 4\n\\begin{tabular}{llll}\n V1 & V2 & V3 & V4\\\\\n <chr> & <chr> & <chr> & <chr>\\\\\n\\hline\n\t ID & SEX & AGE & AREA\\\\\n\t 1  & F   & 50  & 서울\\\\\n\t 2  & M   & 40  & 경기\\\\\n\t 3  & F   & 28  & 제주\\\\\n\t 4  & M   & 50  & 서울\\\\\n\t 5  & M   & 27  & 서울\\\\\n\t 6  & F   & 23  & 서울\\\\\n\t 7  & F   & 56  & 경기\\\\\n\t 8  & F   & 47  & 서울\\\\\n\t 9  & M   & 20  & 인천\\\\\n\t 10 & F   & 38  & 경기\\\\\n\\end{tabular}\n",
            "text/plain": [
              "   V1 V2  V3  V4  \n",
              "1  ID SEX AGE AREA\n",
              "2  1  F   50  서울\n",
              "3  2  M   40  경기\n",
              "4  3  F   28  제주\n",
              "5  4  M   50  서울\n",
              "6  5  M   27  서울\n",
              "7  6  F   23  서울\n",
              "8  7  F   56  경기\n",
              "9  8  F   47  서울\n",
              "10 9  M   20  인천\n",
              "11 10 F   38  경기"
            ]
          },
          "metadata": {}
        }
      ]
    },
    {
      "cell_type": "markdown",
      "source": [
        "- `header` : 1행을 칼럼명으로 지정할 것인지 여부"
      ],
      "metadata": {
        "id": "0wMaC-MT1Svq"
      }
    },
    {
      "cell_type": "code",
      "source": [
        "ex <- read.table(\n",
        "    file = \"data/data_ex.txt\",\n",
        "    header = TRUE\n",
        "    )\n",
        "\n",
        "# 1행 [ID, SEX, AGE, AREA] 을 칼럼명으로 설정함\n",
        "ex"
      ],
      "metadata": {
        "colab": {
          "base_uri": "https://localhost:8080/",
          "height": 412
        },
        "id": "yl1HRiSN3WbR",
        "outputId": "f9617436-c383-40d2-d48c-385fd1bc0fa4"
      },
      "execution_count": 7,
      "outputs": [
        {
          "output_type": "display_data",
          "data": {
            "text/html": [
              "<table class=\"dataframe\">\n",
              "<caption>A data.frame: 10 × 4</caption>\n",
              "<thead>\n",
              "\t<tr><th scope=col>ID</th><th scope=col>SEX</th><th scope=col>AGE</th><th scope=col>AREA</th></tr>\n",
              "\t<tr><th scope=col>&lt;int&gt;</th><th scope=col>&lt;chr&gt;</th><th scope=col>&lt;int&gt;</th><th scope=col>&lt;chr&gt;</th></tr>\n",
              "</thead>\n",
              "<tbody>\n",
              "\t<tr><td> 1</td><td>F</td><td>50</td><td>서울</td></tr>\n",
              "\t<tr><td> 2</td><td>M</td><td>40</td><td>경기</td></tr>\n",
              "\t<tr><td> 3</td><td>F</td><td>28</td><td>제주</td></tr>\n",
              "\t<tr><td> 4</td><td>M</td><td>50</td><td>서울</td></tr>\n",
              "\t<tr><td> 5</td><td>M</td><td>27</td><td>서울</td></tr>\n",
              "\t<tr><td> 6</td><td>F</td><td>23</td><td>서울</td></tr>\n",
              "\t<tr><td> 7</td><td>F</td><td>56</td><td>경기</td></tr>\n",
              "\t<tr><td> 8</td><td>F</td><td>47</td><td>서울</td></tr>\n",
              "\t<tr><td> 9</td><td>M</td><td>20</td><td>인천</td></tr>\n",
              "\t<tr><td>10</td><td>F</td><td>38</td><td>경기</td></tr>\n",
              "</tbody>\n",
              "</table>\n"
            ],
            "text/markdown": "\nA data.frame: 10 × 4\n\n| ID &lt;int&gt; | SEX &lt;chr&gt; | AGE &lt;int&gt; | AREA &lt;chr&gt; |\n|---|---|---|---|\n|  1 | F | 50 | 서울 |\n|  2 | M | 40 | 경기 |\n|  3 | F | 28 | 제주 |\n|  4 | M | 50 | 서울 |\n|  5 | M | 27 | 서울 |\n|  6 | F | 23 | 서울 |\n|  7 | F | 56 | 경기 |\n|  8 | F | 47 | 서울 |\n|  9 | M | 20 | 인천 |\n| 10 | F | 38 | 경기 |\n\n",
            "text/latex": "A data.frame: 10 × 4\n\\begin{tabular}{llll}\n ID & SEX & AGE & AREA\\\\\n <int> & <chr> & <int> & <chr>\\\\\n\\hline\n\t  1 & F & 50 & 서울\\\\\n\t  2 & M & 40 & 경기\\\\\n\t  3 & F & 28 & 제주\\\\\n\t  4 & M & 50 & 서울\\\\\n\t  5 & M & 27 & 서울\\\\\n\t  6 & F & 23 & 서울\\\\\n\t  7 & F & 56 & 경기\\\\\n\t  8 & F & 47 & 서울\\\\\n\t  9 & M & 20 & 인천\\\\\n\t 10 & F & 38 & 경기\\\\\n\\end{tabular}\n",
            "text/plain": [
              "   ID SEX AGE AREA\n",
              "1   1 F   50  서울\n",
              "2   2 M   40  경기\n",
              "3   3 F   28  제주\n",
              "4   4 M   50  서울\n",
              "5   5 M   27  서울\n",
              "6   6 F   23  서울\n",
              "7   7 F   56  경기\n",
              "8   8 F   47  서울\n",
              "9   9 M   20  인천\n",
              "10 10 F   38  경기"
            ]
          },
          "metadata": {}
        }
      ]
    },
    {
      "cell_type": "markdown",
      "source": [
        "- `col.names` : 컬럼명으로 설정할 새로운 행 벡터"
      ],
      "metadata": {
        "id": "cPb0PriLYmQw"
      }
    },
    {
      "cell_type": "code",
      "source": [
        "col_names <- c(\"아이디\", \"성별\", \"나이\", \"지역\")\n",
        "\n",
        "ex <- read.table(\n",
        "    file = \"data/data_ex.txt\",\n",
        "    header = TRUE,\n",
        "    col.names = col_names\n",
        "    )\n",
        "\n",
        "# 새로운 행 벡터 [\"아이디\", \"성별\", \"나이\", \"지역\"] 을 컬럼명으로 설정함\n",
        "ex"
      ],
      "metadata": {
        "colab": {
          "base_uri": "https://localhost:8080/",
          "height": 412
        },
        "id": "MyfhYzziYRf_",
        "outputId": "b76e52d8-85ca-40e6-dcfa-1d7ee11a1dfd"
      },
      "execution_count": 8,
      "outputs": [
        {
          "output_type": "display_data",
          "data": {
            "text/html": [
              "<table class=\"dataframe\">\n",
              "<caption>A data.frame: 10 × 4</caption>\n",
              "<thead>\n",
              "\t<tr><th scope=col>아이디</th><th scope=col>성별</th><th scope=col>나이</th><th scope=col>지역</th></tr>\n",
              "\t<tr><th scope=col>&lt;int&gt;</th><th scope=col>&lt;chr&gt;</th><th scope=col>&lt;int&gt;</th><th scope=col>&lt;chr&gt;</th></tr>\n",
              "</thead>\n",
              "<tbody>\n",
              "\t<tr><td> 1</td><td>F</td><td>50</td><td>서울</td></tr>\n",
              "\t<tr><td> 2</td><td>M</td><td>40</td><td>경기</td></tr>\n",
              "\t<tr><td> 3</td><td>F</td><td>28</td><td>제주</td></tr>\n",
              "\t<tr><td> 4</td><td>M</td><td>50</td><td>서울</td></tr>\n",
              "\t<tr><td> 5</td><td>M</td><td>27</td><td>서울</td></tr>\n",
              "\t<tr><td> 6</td><td>F</td><td>23</td><td>서울</td></tr>\n",
              "\t<tr><td> 7</td><td>F</td><td>56</td><td>경기</td></tr>\n",
              "\t<tr><td> 8</td><td>F</td><td>47</td><td>서울</td></tr>\n",
              "\t<tr><td> 9</td><td>M</td><td>20</td><td>인천</td></tr>\n",
              "\t<tr><td>10</td><td>F</td><td>38</td><td>경기</td></tr>\n",
              "</tbody>\n",
              "</table>\n"
            ],
            "text/markdown": "\nA data.frame: 10 × 4\n\n| 아이디 &lt;int&gt; | 성별 &lt;chr&gt; | 나이 &lt;int&gt; | 지역 &lt;chr&gt; |\n|---|---|---|---|\n|  1 | F | 50 | 서울 |\n|  2 | M | 40 | 경기 |\n|  3 | F | 28 | 제주 |\n|  4 | M | 50 | 서울 |\n|  5 | M | 27 | 서울 |\n|  6 | F | 23 | 서울 |\n|  7 | F | 56 | 경기 |\n|  8 | F | 47 | 서울 |\n|  9 | M | 20 | 인천 |\n| 10 | F | 38 | 경기 |\n\n",
            "text/latex": "A data.frame: 10 × 4\n\\begin{tabular}{llll}\n 아이디 & 성별 & 나이 & 지역\\\\\n <int> & <chr> & <int> & <chr>\\\\\n\\hline\n\t  1 & F & 50 & 서울\\\\\n\t  2 & M & 40 & 경기\\\\\n\t  3 & F & 28 & 제주\\\\\n\t  4 & M & 50 & 서울\\\\\n\t  5 & M & 27 & 서울\\\\\n\t  6 & F & 23 & 서울\\\\\n\t  7 & F & 56 & 경기\\\\\n\t  8 & F & 47 & 서울\\\\\n\t  9 & M & 20 & 인천\\\\\n\t 10 & F & 38 & 경기\\\\\n\\end{tabular}\n",
            "text/plain": [
              "   아이디 성별 나이 지역\n",
              "1   1     F    50   서울\n",
              "2   2     M    40   경기\n",
              "3   3     F    28   제주\n",
              "4   4     M    50   서울\n",
              "5   5     M    27   서울\n",
              "6   6     F    23   서울\n",
              "7   7     F    56   경기\n",
              "8   8     F    47   서울\n",
              "9   9     M    20   인천\n",
              "10 10     F    38   경기"
            ]
          },
          "metadata": {}
        }
      ]
    },
    {
      "cell_type": "markdown",
      "source": [
        "- `skip` : 몇 행까지 불러오지 않을 것인가"
      ],
      "metadata": {
        "id": "6dM4LL_FUY83"
      }
    },
    {
      "cell_type": "code",
      "source": [
        "ex <- read.table(\n",
        "    file = \"data/data_ex.txt\",\n",
        "    skip = 3\n",
        "    )\n",
        "\n",
        "# 1행(칼럼명), 2행(ID == 1), 3행(ID == 2)까지 skip\n",
        "ex"
      ],
      "metadata": {
        "colab": {
          "base_uri": "https://localhost:8080/",
          "height": 349
        },
        "id": "HA9glf0q3pU9",
        "outputId": "c2840068-7c0a-46ce-d69b-64e1e83231b6"
      },
      "execution_count": 9,
      "outputs": [
        {
          "output_type": "display_data",
          "data": {
            "text/html": [
              "<table class=\"dataframe\">\n",
              "<caption>A data.frame: 8 × 4</caption>\n",
              "<thead>\n",
              "\t<tr><th scope=col>V1</th><th scope=col>V2</th><th scope=col>V3</th><th scope=col>V4</th></tr>\n",
              "\t<tr><th scope=col>&lt;int&gt;</th><th scope=col>&lt;chr&gt;</th><th scope=col>&lt;int&gt;</th><th scope=col>&lt;chr&gt;</th></tr>\n",
              "</thead>\n",
              "<tbody>\n",
              "\t<tr><td> 3</td><td>F</td><td>28</td><td>제주</td></tr>\n",
              "\t<tr><td> 4</td><td>M</td><td>50</td><td>서울</td></tr>\n",
              "\t<tr><td> 5</td><td>M</td><td>27</td><td>서울</td></tr>\n",
              "\t<tr><td> 6</td><td>F</td><td>23</td><td>서울</td></tr>\n",
              "\t<tr><td> 7</td><td>F</td><td>56</td><td>경기</td></tr>\n",
              "\t<tr><td> 8</td><td>F</td><td>47</td><td>서울</td></tr>\n",
              "\t<tr><td> 9</td><td>M</td><td>20</td><td>인천</td></tr>\n",
              "\t<tr><td>10</td><td>F</td><td>38</td><td>경기</td></tr>\n",
              "</tbody>\n",
              "</table>\n"
            ],
            "text/markdown": "\nA data.frame: 8 × 4\n\n| V1 &lt;int&gt; | V2 &lt;chr&gt; | V3 &lt;int&gt; | V4 &lt;chr&gt; |\n|---|---|---|---|\n|  3 | F | 28 | 제주 |\n|  4 | M | 50 | 서울 |\n|  5 | M | 27 | 서울 |\n|  6 | F | 23 | 서울 |\n|  7 | F | 56 | 경기 |\n|  8 | F | 47 | 서울 |\n|  9 | M | 20 | 인천 |\n| 10 | F | 38 | 경기 |\n\n",
            "text/latex": "A data.frame: 8 × 4\n\\begin{tabular}{llll}\n V1 & V2 & V3 & V4\\\\\n <int> & <chr> & <int> & <chr>\\\\\n\\hline\n\t  3 & F & 28 & 제주\\\\\n\t  4 & M & 50 & 서울\\\\\n\t  5 & M & 27 & 서울\\\\\n\t  6 & F & 23 & 서울\\\\\n\t  7 & F & 56 & 경기\\\\\n\t  8 & F & 47 & 서울\\\\\n\t  9 & M & 20 & 인천\\\\\n\t 10 & F & 38 & 경기\\\\\n\\end{tabular}\n",
            "text/plain": [
              "  V1 V2 V3 V4  \n",
              "1  3 F  28 제주\n",
              "2  4 M  50 서울\n",
              "3  5 M  27 서울\n",
              "4  6 F  23 서울\n",
              "5  7 F  56 경기\n",
              "6  8 F  47 서울\n",
              "7  9 M  20 인천\n",
              "8 10 F  38 경기"
            ]
          },
          "metadata": {}
        }
      ]
    },
    {
      "cell_type": "markdown",
      "source": [
        "- `nrows` : 몇 행까지만 불러올 것인가"
      ],
      "metadata": {
        "id": "cofmX9zBUtbh"
      }
    },
    {
      "cell_type": "code",
      "source": [
        "ex <- read.table(\n",
        "    file = \"data/data_ex.txt\",\n",
        "    nrows = 3\n",
        "    )\n",
        "\n",
        "# 1행(칼럼명), 2행(ID == 1), 3행(ID == 2)까지만 불러옴\n",
        "ex"
      ],
      "metadata": {
        "colab": {
          "base_uri": "https://localhost:8080/",
          "height": 192
        },
        "id": "Ukp3PqG54uUq",
        "outputId": "2061ac2f-3ced-4532-abc1-232f56f45450"
      },
      "execution_count": 10,
      "outputs": [
        {
          "output_type": "display_data",
          "data": {
            "text/html": [
              "<table class=\"dataframe\">\n",
              "<caption>A data.frame: 3 × 4</caption>\n",
              "<thead>\n",
              "\t<tr><th scope=col>V1</th><th scope=col>V2</th><th scope=col>V3</th><th scope=col>V4</th></tr>\n",
              "\t<tr><th scope=col>&lt;chr&gt;</th><th scope=col>&lt;chr&gt;</th><th scope=col>&lt;chr&gt;</th><th scope=col>&lt;chr&gt;</th></tr>\n",
              "</thead>\n",
              "<tbody>\n",
              "\t<tr><td>ID</td><td>SEX</td><td>AGE</td><td>AREA</td></tr>\n",
              "\t<tr><td>1 </td><td>F  </td><td>50 </td><td>서울</td></tr>\n",
              "\t<tr><td>2 </td><td>M  </td><td>40 </td><td>경기</td></tr>\n",
              "</tbody>\n",
              "</table>\n"
            ],
            "text/markdown": "\nA data.frame: 3 × 4\n\n| V1 &lt;chr&gt; | V2 &lt;chr&gt; | V3 &lt;chr&gt; | V4 &lt;chr&gt; |\n|---|---|---|---|\n| ID | SEX | AGE | AREA |\n| 1  | F   | 50  | 서울 |\n| 2  | M   | 40  | 경기 |\n\n",
            "text/latex": "A data.frame: 3 × 4\n\\begin{tabular}{llll}\n V1 & V2 & V3 & V4\\\\\n <chr> & <chr> & <chr> & <chr>\\\\\n\\hline\n\t ID & SEX & AGE & AREA\\\\\n\t 1  & F   & 50  & 서울\\\\\n\t 2  & M   & 40  & 경기\\\\\n\\end{tabular}\n",
            "text/plain": [
              "  V1 V2  V3  V4  \n",
              "1 ID SEX AGE AREA\n",
              "2 1  F   50  서울\n",
              "3 2  M   40  경기"
            ]
          },
          "metadata": {}
        }
      ]
    },
    {
      "cell_type": "markdown",
      "source": [
        "- `stringAsFactor` : 자료형이 `character` 인 변수 `vector` 에 대하여 그 `unique` 값들을 범주로 가지는 `factor` 로 변환할 것인가"
      ],
      "metadata": {
        "id": "_3bZP0XwUy8f"
      }
    },
    {
      "cell_type": "code",
      "source": [
        "ex <- read.table(\n",
        "    file = \"data/data_ex.txt\",\n",
        "    header = TRUE,\n",
        "    stringsAsFactor = TRUE\n",
        "    )\n",
        "\n",
        "# 범주형 변수 벡터 SEX, AREA 의 경우\n",
        "# SEX : M, F\n",
        "# AREA : 서울, 경기, 제주, 인천\n",
        "# 이상의 unique value 만을 할당할 수 있는 factor type 임\n",
        "# SEX 에 UNKNOWN 을, AREA 에 세종 을 할당하면 결측치로 판단함\n",
        "ex[11,] <- c(11, \"UNKNOWN\", 20, \"세종\")\n",
        "\n",
        "ex"
      ],
      "metadata": {
        "colab": {
          "base_uri": "https://localhost:8080/",
          "height": 514
        },
        "id": "ko0TDLRz5GHe",
        "outputId": "e1a6f147-c171-44a6-aa79-e6e9952f7be8"
      },
      "execution_count": 11,
      "outputs": [
        {
          "output_type": "stream",
          "name": "stderr",
          "text": [
            "Warning message in `[<-.factor`(`*tmp*`, iseq, value = \"UNKNOWN\"):\n",
            "“invalid factor level, NA generated”\n",
            "Warning message in `[<-.factor`(`*tmp*`, iseq, value = \"세종\"):\n",
            "“invalid factor level, NA generated”\n"
          ]
        },
        {
          "output_type": "display_data",
          "data": {
            "text/html": [
              "<table class=\"dataframe\">\n",
              "<caption>A data.frame: 11 × 4</caption>\n",
              "<thead>\n",
              "\t<tr><th></th><th scope=col>ID</th><th scope=col>SEX</th><th scope=col>AGE</th><th scope=col>AREA</th></tr>\n",
              "\t<tr><th></th><th scope=col>&lt;chr&gt;</th><th scope=col>&lt;fct&gt;</th><th scope=col>&lt;chr&gt;</th><th scope=col>&lt;fct&gt;</th></tr>\n",
              "</thead>\n",
              "<tbody>\n",
              "\t<tr><th scope=row>1</th><td>1 </td><td>F </td><td>50</td><td>서울</td></tr>\n",
              "\t<tr><th scope=row>2</th><td>2 </td><td>M </td><td>40</td><td>경기</td></tr>\n",
              "\t<tr><th scope=row>3</th><td>3 </td><td>F </td><td>28</td><td>제주</td></tr>\n",
              "\t<tr><th scope=row>4</th><td>4 </td><td>M </td><td>50</td><td>서울</td></tr>\n",
              "\t<tr><th scope=row>5</th><td>5 </td><td>M </td><td>27</td><td>서울</td></tr>\n",
              "\t<tr><th scope=row>6</th><td>6 </td><td>F </td><td>23</td><td>서울</td></tr>\n",
              "\t<tr><th scope=row>7</th><td>7 </td><td>F </td><td>56</td><td>경기</td></tr>\n",
              "\t<tr><th scope=row>8</th><td>8 </td><td>F </td><td>47</td><td>서울</td></tr>\n",
              "\t<tr><th scope=row>9</th><td>9 </td><td>M </td><td>20</td><td>인천</td></tr>\n",
              "\t<tr><th scope=row>10</th><td>10</td><td>F </td><td>38</td><td>경기</td></tr>\n",
              "\t<tr><th scope=row>11</th><td>11</td><td>NA</td><td>20</td><td>NA  </td></tr>\n",
              "</tbody>\n",
              "</table>\n"
            ],
            "text/markdown": "\nA data.frame: 11 × 4\n\n| <!--/--> | ID &lt;chr&gt; | SEX &lt;fct&gt; | AGE &lt;chr&gt; | AREA &lt;fct&gt; |\n|---|---|---|---|---|\n| 1 | 1  | F  | 50 | 서울 |\n| 2 | 2  | M  | 40 | 경기 |\n| 3 | 3  | F  | 28 | 제주 |\n| 4 | 4  | M  | 50 | 서울 |\n| 5 | 5  | M  | 27 | 서울 |\n| 6 | 6  | F  | 23 | 서울 |\n| 7 | 7  | F  | 56 | 경기 |\n| 8 | 8  | F  | 47 | 서울 |\n| 9 | 9  | M  | 20 | 인천 |\n| 10 | 10 | F  | 38 | 경기 |\n| 11 | 11 | NA | 20 | NA   |\n\n",
            "text/latex": "A data.frame: 11 × 4\n\\begin{tabular}{r|llll}\n  & ID & SEX & AGE & AREA\\\\\n  & <chr> & <fct> & <chr> & <fct>\\\\\n\\hline\n\t1 & 1  & F  & 50 & 서울\\\\\n\t2 & 2  & M  & 40 & 경기\\\\\n\t3 & 3  & F  & 28 & 제주\\\\\n\t4 & 4  & M  & 50 & 서울\\\\\n\t5 & 5  & M  & 27 & 서울\\\\\n\t6 & 6  & F  & 23 & 서울\\\\\n\t7 & 7  & F  & 56 & 경기\\\\\n\t8 & 8  & F  & 47 & 서울\\\\\n\t9 & 9  & M  & 20 & 인천\\\\\n\t10 & 10 & F  & 38 & 경기\\\\\n\t11 & 11 & NA & 20 & NA  \\\\\n\\end{tabular}\n",
            "text/plain": [
              "   ID SEX AGE AREA\n",
              "1  1  F   50  서울\n",
              "2  2  M   40  경기\n",
              "3  3  F   28  제주\n",
              "4  4  M   50  서울\n",
              "5  5  M   27  서울\n",
              "6  6  F   23  서울\n",
              "7  7  F   56  경기\n",
              "8  8  F   47  서울\n",
              "9  9  M   20  인천\n",
              "10 10 F   38  경기\n",
              "11 11 NA  20  NA  "
            ]
          },
          "metadata": {}
        }
      ]
    },
    {
      "cell_type": "markdown",
      "source": [
        "- `sep` : 구분자"
      ],
      "metadata": {
        "id": "jYK5v-aLWpyI"
      }
    },
    {
      "cell_type": "code",
      "source": [
        "ex_tab <- read.table(\n",
        "    file = \"data/data_ex.txt\",\n",
        "    sep = \"\\t\"\n",
        "    )\n",
        "\n",
        "ex_tab"
      ],
      "metadata": {
        "colab": {
          "base_uri": "https://localhost:8080/",
          "height": 443
        },
        "id": "tGVga2-GWsKB",
        "outputId": "52512a52-aadf-417e-af91-3925a9324fc1"
      },
      "execution_count": 12,
      "outputs": [
        {
          "output_type": "display_data",
          "data": {
            "text/html": [
              "<table class=\"dataframe\">\n",
              "<caption>A data.frame: 11 × 4</caption>\n",
              "<thead>\n",
              "\t<tr><th scope=col>V1</th><th scope=col>V2</th><th scope=col>V3</th><th scope=col>V4</th></tr>\n",
              "\t<tr><th scope=col>&lt;chr&gt;</th><th scope=col>&lt;chr&gt;</th><th scope=col>&lt;chr&gt;</th><th scope=col>&lt;chr&gt;</th></tr>\n",
              "</thead>\n",
              "<tbody>\n",
              "\t<tr><td>ID</td><td>SEX</td><td>AGE</td><td>AREA</td></tr>\n",
              "\t<tr><td>1 </td><td>F  </td><td>50 </td><td>서울</td></tr>\n",
              "\t<tr><td>2 </td><td>M  </td><td>40 </td><td>경기</td></tr>\n",
              "\t<tr><td>3 </td><td>F  </td><td>28 </td><td>제주</td></tr>\n",
              "\t<tr><td>4 </td><td>M  </td><td>50 </td><td>서울</td></tr>\n",
              "\t<tr><td>5 </td><td>M  </td><td>27 </td><td>서울</td></tr>\n",
              "\t<tr><td>6 </td><td>F  </td><td>23 </td><td>서울</td></tr>\n",
              "\t<tr><td>7 </td><td>F  </td><td>56 </td><td>경기</td></tr>\n",
              "\t<tr><td>8 </td><td>F  </td><td>47 </td><td>서울</td></tr>\n",
              "\t<tr><td>9 </td><td>M  </td><td>20 </td><td>인천</td></tr>\n",
              "\t<tr><td>10</td><td>F  </td><td>38 </td><td>경기</td></tr>\n",
              "</tbody>\n",
              "</table>\n"
            ],
            "text/markdown": "\nA data.frame: 11 × 4\n\n| V1 &lt;chr&gt; | V2 &lt;chr&gt; | V3 &lt;chr&gt; | V4 &lt;chr&gt; |\n|---|---|---|---|\n| ID | SEX | AGE | AREA |\n| 1  | F   | 50  | 서울 |\n| 2  | M   | 40  | 경기 |\n| 3  | F   | 28  | 제주 |\n| 4  | M   | 50  | 서울 |\n| 5  | M   | 27  | 서울 |\n| 6  | F   | 23  | 서울 |\n| 7  | F   | 56  | 경기 |\n| 8  | F   | 47  | 서울 |\n| 9  | M   | 20  | 인천 |\n| 10 | F   | 38  | 경기 |\n\n",
            "text/latex": "A data.frame: 11 × 4\n\\begin{tabular}{llll}\n V1 & V2 & V3 & V4\\\\\n <chr> & <chr> & <chr> & <chr>\\\\\n\\hline\n\t ID & SEX & AGE & AREA\\\\\n\t 1  & F   & 50  & 서울\\\\\n\t 2  & M   & 40  & 경기\\\\\n\t 3  & F   & 28  & 제주\\\\\n\t 4  & M   & 50  & 서울\\\\\n\t 5  & M   & 27  & 서울\\\\\n\t 6  & F   & 23  & 서울\\\\\n\t 7  & F   & 56  & 경기\\\\\n\t 8  & F   & 47  & 서울\\\\\n\t 9  & M   & 20  & 인천\\\\\n\t 10 & F   & 38  & 경기\\\\\n\\end{tabular}\n",
            "text/plain": [
              "   V1 V2  V3  V4  \n",
              "1  ID SEX AGE AREA\n",
              "2  1  F   50  서울\n",
              "3  2  M   40  경기\n",
              "4  3  F   28  제주\n",
              "5  4  M   50  서울\n",
              "6  5  M   27  서울\n",
              "7  6  F   23  서울\n",
              "8  7  F   56  경기\n",
              "9  8  F   47  서울\n",
              "10 9  M   20  인천\n",
              "11 10 F   38  경기"
            ]
          },
          "metadata": {}
        }
      ]
    },
    {
      "cell_type": "code",
      "source": [
        "ex_comma <- read.table(\n",
        "    file = \"data/data_ex.txt\",\n",
        "    sep = \",\"\n",
        "    )\n",
        "\n",
        "# tab으로 구분되어 작성된 문서이므로 comma를 구분자로 설정하면 컬럼들이 제대로 구분되어 출력되지 않음\n",
        "ex_comma"
      ],
      "metadata": {
        "colab": {
          "base_uri": "https://localhost:8080/",
          "height": 443
        },
        "id": "SD1GwBSnaLXj",
        "outputId": "4c005861-b056-4b2c-e9bf-547e473dba5e"
      },
      "execution_count": 13,
      "outputs": [
        {
          "output_type": "display_data",
          "data": {
            "text/html": [
              "<table class=\"dataframe\">\n",
              "<caption>A data.frame: 11 × 1</caption>\n",
              "<thead>\n",
              "\t<tr><th scope=col>V1</th></tr>\n",
              "\t<tr><th scope=col>&lt;chr&gt;</th></tr>\n",
              "</thead>\n",
              "<tbody>\n",
              "\t<tr><td>ID\tSEX\tAGE\tAREA</td></tr>\n",
              "\t<tr><td>1\tF\t50\t서울    </td></tr>\n",
              "\t<tr><td>2\tM\t40\t경기    </td></tr>\n",
              "\t<tr><td>3\tF\t28\t제주    </td></tr>\n",
              "\t<tr><td>4\tM\t50\t서울    </td></tr>\n",
              "\t<tr><td>5\tM\t27\t서울    </td></tr>\n",
              "\t<tr><td>6\tF\t23\t서울    </td></tr>\n",
              "\t<tr><td>7\tF\t56\t경기    </td></tr>\n",
              "\t<tr><td>8\tF\t47\t서울    </td></tr>\n",
              "\t<tr><td>9\tM\t20\t인천    </td></tr>\n",
              "\t<tr><td>10\tF\t38\t경기   </td></tr>\n",
              "</tbody>\n",
              "</table>\n"
            ],
            "text/markdown": "\nA data.frame: 11 × 1\n\n| V1 &lt;chr&gt; |\n|---|\n| ID\tSEX\tAGE\tAREA |\n| 1\tF\t50\t서울     |\n| 2\tM\t40\t경기     |\n| 3\tF\t28\t제주     |\n| 4\tM\t50\t서울     |\n| 5\tM\t27\t서울     |\n| 6\tF\t23\t서울     |\n| 7\tF\t56\t경기     |\n| 8\tF\t47\t서울     |\n| 9\tM\t20\t인천     |\n| 10\tF\t38\t경기    |\n\n",
            "text/latex": "A data.frame: 11 × 1\n\\begin{tabular}{l}\n V1\\\\\n <chr>\\\\\n\\hline\n\t ID\tSEX\tAGE\tAREA\\\\\n\t 1\tF\t50\t서울    \\\\\n\t 2\tM\t40\t경기    \\\\\n\t 3\tF\t28\t제주    \\\\\n\t 4\tM\t50\t서울    \\\\\n\t 5\tM\t27\t서울    \\\\\n\t 6\tF\t23\t서울    \\\\\n\t 7\tF\t56\t경기    \\\\\n\t 8\tF\t47\t서울    \\\\\n\t 9\tM\t20\t인천    \\\\\n\t 10\tF\t38\t경기   \\\\\n\\end{tabular}\n",
            "text/plain": [
              "   V1                \n",
              "1  ID\\tSEX\\tAGE\\tAREA\n",
              "2  1\\tF\\t50\\t서울    \n",
              "3  2\\tM\\t40\\t경기    \n",
              "4  3\\tF\\t28\\t제주    \n",
              "5  4\\tM\\t50\\t서울    \n",
              "6  5\\tM\\t27\\t서울    \n",
              "7  6\\tF\\t23\\t서울    \n",
              "8  7\\tF\\t56\\t경기    \n",
              "9  8\\tF\\t47\\t서울    \n",
              "10 9\\tM\\t20\\t인천    \n",
              "11 10\\tF\\t38\\t경기   "
            ]
          },
          "metadata": {}
        }
      ]
    },
    {
      "cell_type": "markdown",
      "source": [
        "## CSV\n",
        "\n",
        "```\n",
        "read.csv(\n",
        "    file,   # 불러올 파일 경로\n",
        "    header = TRUE,  # 1행을 컬럼명으로 설정할지 여부\n",
        "    sep = \",\"   # 구분자\n",
        "    )\n",
        "```"
      ],
      "metadata": {
        "id": "8ZgVuDNmUjrj"
      }
    },
    {
      "cell_type": "code",
      "source": [
        "ex <- read.csv(file = \"data/data_ex.csv\")\n",
        "\n",
        "# read.csv 는 read.table 의 일부 파라미터에 대하여 csv 파일을 읽기에 적절한 아규먼트로 설정한 함수임\n",
        "ex"
      ],
      "metadata": {
        "colab": {
          "base_uri": "https://localhost:8080/",
          "height": 255
        },
        "id": "IzXRbEwIVJMt",
        "outputId": "09a44ca7-fc40-4e05-c293-98aa6e63debb"
      },
      "execution_count": 14,
      "outputs": [
        {
          "output_type": "display_data",
          "data": {
            "text/html": [
              "<table class=\"dataframe\">\n",
              "<caption>A data.frame: 5 × 3</caption>\n",
              "<thead>\n",
              "\t<tr><th scope=col>X</th><th scope=col>ID</th><th scope=col>SEX</th></tr>\n",
              "\t<tr><th scope=col>&lt;int&gt;</th><th scope=col>&lt;int&gt;</th><th scope=col>&lt;chr&gt;</th></tr>\n",
              "</thead>\n",
              "<tbody>\n",
              "\t<tr><td>1</td><td>1</td><td>F</td></tr>\n",
              "\t<tr><td>2</td><td>2</td><td>M</td></tr>\n",
              "\t<tr><td>3</td><td>3</td><td>F</td></tr>\n",
              "\t<tr><td>4</td><td>4</td><td>M</td></tr>\n",
              "\t<tr><td>5</td><td>5</td><td>F</td></tr>\n",
              "</tbody>\n",
              "</table>\n"
            ],
            "text/markdown": "\nA data.frame: 5 × 3\n\n| X &lt;int&gt; | ID &lt;int&gt; | SEX &lt;chr&gt; |\n|---|---|---|\n| 1 | 1 | F |\n| 2 | 2 | M |\n| 3 | 3 | F |\n| 4 | 4 | M |\n| 5 | 5 | F |\n\n",
            "text/latex": "A data.frame: 5 × 3\n\\begin{tabular}{lll}\n X & ID & SEX\\\\\n <int> & <int> & <chr>\\\\\n\\hline\n\t 1 & 1 & F\\\\\n\t 2 & 2 & M\\\\\n\t 3 & 3 & F\\\\\n\t 4 & 4 & M\\\\\n\t 5 & 5 & F\\\\\n\\end{tabular}\n",
            "text/plain": [
              "  X ID SEX\n",
              "1 1 1  F  \n",
              "2 2 2  M  \n",
              "3 3 3  F  \n",
              "4 4 4  M  \n",
              "5 5 5  F  "
            ]
          },
          "metadata": {}
        }
      ]
    },
    {
      "cell_type": "markdown",
      "source": [
        "## EXCEL\n",
        "\n",
        "```\n",
        "readxl::read_excel(\n",
        "    path,   # 불러올 파일 경로\n",
        "    sheet = 1,  # 불러올 시트 번호 혹은 이름\n",
        "    col_names,  # 컬럼명으로 설정할 벡터\n",
        "    range   # 불러올 행 범위\n",
        "    )\n",
        "```"
      ],
      "metadata": {
        "id": "Te6-SkZTuuAd"
      }
    },
    {
      "cell_type": "code",
      "source": [
        "# 엑셀 파일을 읽어들이는 패키지 설치 및 불러오기\n",
        "install.packages(\"data/readxl\")\n",
        "library(readxl)"
      ],
      "metadata": {
        "colab": {
          "base_uri": "https://localhost:8080/"
        },
        "id": "Xjd4BJnMw0sD",
        "outputId": "b55d578d-b0e0-425e-8187-9d2ce99e6631"
      },
      "execution_count": 15,
      "outputs": [
        {
          "output_type": "stream",
          "name": "stderr",
          "text": [
            "Installing package into ‘/usr/local/lib/R/site-library’\n",
            "(as ‘lib’ is unspecified)\n",
            "\n",
            "Warning message:\n",
            "“package ‘data/readxl’ is not available for this version of R\n",
            "\n",
            "A version of this package for your version of R might be available elsewhere,\n",
            "see the ideas at\n",
            "https://cran.r-project.org/doc/manuals/r-patched/R-admin.html#Installing-packages”\n"
          ]
        }
      ]
    },
    {
      "cell_type": "code",
      "source": [
        "ex <- read_excel(path = \"data/data_ex.xlsx\")\n",
        "ex"
      ],
      "metadata": {
        "id": "qk7O8zXRuxHO",
        "colab": {
          "base_uri": "https://localhost:8080/",
          "height": 1000
        },
        "outputId": "556a1bd9-322a-4bdd-a705-b820ce724c0e"
      },
      "execution_count": 16,
      "outputs": [
        {
          "output_type": "display_data",
          "data": {
            "text/html": [
              "<table class=\"dataframe\">\n",
              "<caption>A tibble: 150 × 5</caption>\n",
              "<thead>\n",
              "\t<tr><th scope=col>Sepal.Length</th><th scope=col>Sepal.Width</th><th scope=col>Petal.Length</th><th scope=col>Petal.Width</th><th scope=col>Species</th></tr>\n",
              "\t<tr><th scope=col>&lt;dbl&gt;</th><th scope=col>&lt;dbl&gt;</th><th scope=col>&lt;dbl&gt;</th><th scope=col>&lt;dbl&gt;</th><th scope=col>&lt;chr&gt;</th></tr>\n",
              "</thead>\n",
              "<tbody>\n",
              "\t<tr><td>5.1</td><td>3.5</td><td>1.4</td><td>0.2</td><td>setosa</td></tr>\n",
              "\t<tr><td>4.9</td><td>3.0</td><td>1.4</td><td>0.2</td><td>setosa</td></tr>\n",
              "\t<tr><td>4.7</td><td>3.2</td><td>1.3</td><td>0.2</td><td>setosa</td></tr>\n",
              "\t<tr><td>4.6</td><td>3.1</td><td>1.5</td><td>0.2</td><td>setosa</td></tr>\n",
              "\t<tr><td>5.0</td><td>3.6</td><td>1.4</td><td>0.2</td><td>setosa</td></tr>\n",
              "\t<tr><td>5.4</td><td>3.9</td><td>1.7</td><td>0.4</td><td>setosa</td></tr>\n",
              "\t<tr><td>4.6</td><td>3.4</td><td>1.4</td><td>0.3</td><td>setosa</td></tr>\n",
              "\t<tr><td>5.0</td><td>3.4</td><td>1.5</td><td>0.2</td><td>setosa</td></tr>\n",
              "\t<tr><td>4.4</td><td>2.9</td><td>1.4</td><td>0.2</td><td>setosa</td></tr>\n",
              "\t<tr><td>4.9</td><td>3.1</td><td>1.5</td><td>0.1</td><td>setosa</td></tr>\n",
              "\t<tr><td>5.4</td><td>3.7</td><td>1.5</td><td>0.2</td><td>setosa</td></tr>\n",
              "\t<tr><td>4.8</td><td>3.4</td><td>1.6</td><td>0.2</td><td>setosa</td></tr>\n",
              "\t<tr><td>4.8</td><td>3.0</td><td>1.4</td><td>0.1</td><td>setosa</td></tr>\n",
              "\t<tr><td>4.3</td><td>3.0</td><td>1.1</td><td>0.1</td><td>setosa</td></tr>\n",
              "\t<tr><td>5.8</td><td>4.0</td><td>1.2</td><td>0.2</td><td>setosa</td></tr>\n",
              "\t<tr><td>5.7</td><td>4.4</td><td>1.5</td><td>0.4</td><td>setosa</td></tr>\n",
              "\t<tr><td>5.4</td><td>3.9</td><td>1.3</td><td>0.4</td><td>setosa</td></tr>\n",
              "\t<tr><td>5.1</td><td>3.5</td><td>1.4</td><td>0.3</td><td>setosa</td></tr>\n",
              "\t<tr><td>5.7</td><td>3.8</td><td>1.7</td><td>0.3</td><td>setosa</td></tr>\n",
              "\t<tr><td>5.1</td><td>3.8</td><td>1.5</td><td>0.3</td><td>setosa</td></tr>\n",
              "\t<tr><td>5.4</td><td>3.4</td><td>1.7</td><td>0.2</td><td>setosa</td></tr>\n",
              "\t<tr><td>5.1</td><td>3.7</td><td>1.5</td><td>0.4</td><td>setosa</td></tr>\n",
              "\t<tr><td>4.6</td><td>3.6</td><td>1.0</td><td>0.2</td><td>setosa</td></tr>\n",
              "\t<tr><td>5.1</td><td>3.3</td><td>1.7</td><td>0.5</td><td>setosa</td></tr>\n",
              "\t<tr><td>4.8</td><td>3.4</td><td>1.9</td><td>0.2</td><td>setosa</td></tr>\n",
              "\t<tr><td>5.0</td><td>3.0</td><td>1.6</td><td>0.2</td><td>setosa</td></tr>\n",
              "\t<tr><td>5.0</td><td>3.4</td><td>1.6</td><td>0.4</td><td>setosa</td></tr>\n",
              "\t<tr><td>5.2</td><td>3.5</td><td>1.5</td><td>0.2</td><td>setosa</td></tr>\n",
              "\t<tr><td>5.2</td><td>3.4</td><td>1.4</td><td>0.2</td><td>setosa</td></tr>\n",
              "\t<tr><td>4.7</td><td>3.2</td><td>1.6</td><td>0.2</td><td>setosa</td></tr>\n",
              "\t<tr><td>⋮</td><td>⋮</td><td>⋮</td><td>⋮</td><td>⋮</td></tr>\n",
              "\t<tr><td>6.9</td><td>3.2</td><td>5.7</td><td>2.3</td><td>virginica</td></tr>\n",
              "\t<tr><td>5.6</td><td>2.8</td><td>4.9</td><td>2.0</td><td>virginica</td></tr>\n",
              "\t<tr><td>7.7</td><td>2.8</td><td>6.7</td><td>2.0</td><td>virginica</td></tr>\n",
              "\t<tr><td>6.3</td><td>2.7</td><td>4.9</td><td>1.8</td><td>virginica</td></tr>\n",
              "\t<tr><td>6.7</td><td>3.3</td><td>5.7</td><td>2.1</td><td>virginica</td></tr>\n",
              "\t<tr><td>7.2</td><td>3.2</td><td>6.0</td><td>1.8</td><td>virginica</td></tr>\n",
              "\t<tr><td>6.2</td><td>2.8</td><td>4.8</td><td>1.8</td><td>virginica</td></tr>\n",
              "\t<tr><td>6.1</td><td>3.0</td><td>4.9</td><td>1.8</td><td>virginica</td></tr>\n",
              "\t<tr><td>6.4</td><td>2.8</td><td>5.6</td><td>2.1</td><td>virginica</td></tr>\n",
              "\t<tr><td>7.2</td><td>3.0</td><td>5.8</td><td>1.6</td><td>virginica</td></tr>\n",
              "\t<tr><td>7.4</td><td>2.8</td><td>6.1</td><td>1.9</td><td>virginica</td></tr>\n",
              "\t<tr><td>7.9</td><td>3.8</td><td>6.4</td><td>2.0</td><td>virginica</td></tr>\n",
              "\t<tr><td>6.4</td><td>2.8</td><td>5.6</td><td>2.2</td><td>virginica</td></tr>\n",
              "\t<tr><td>6.3</td><td>2.8</td><td>5.1</td><td>1.5</td><td>virginica</td></tr>\n",
              "\t<tr><td>6.1</td><td>2.6</td><td>5.6</td><td>1.4</td><td>virginica</td></tr>\n",
              "\t<tr><td>7.7</td><td>3.0</td><td>6.1</td><td>2.3</td><td>virginica</td></tr>\n",
              "\t<tr><td>6.3</td><td>3.4</td><td>5.6</td><td>2.4</td><td>virginica</td></tr>\n",
              "\t<tr><td>6.4</td><td>3.1</td><td>5.5</td><td>1.8</td><td>virginica</td></tr>\n",
              "\t<tr><td>6.0</td><td>3.0</td><td>4.8</td><td>1.8</td><td>virginica</td></tr>\n",
              "\t<tr><td>6.9</td><td>3.1</td><td>5.4</td><td>2.1</td><td>virginica</td></tr>\n",
              "\t<tr><td>6.7</td><td>3.1</td><td>5.6</td><td>2.4</td><td>virginica</td></tr>\n",
              "\t<tr><td>6.9</td><td>3.1</td><td>5.1</td><td>2.3</td><td>virginica</td></tr>\n",
              "\t<tr><td>5.8</td><td>2.7</td><td>5.1</td><td>1.9</td><td>virginica</td></tr>\n",
              "\t<tr><td>6.8</td><td>3.2</td><td>5.9</td><td>2.3</td><td>virginica</td></tr>\n",
              "\t<tr><td>6.7</td><td>3.3</td><td>5.7</td><td>2.5</td><td>virginica</td></tr>\n",
              "\t<tr><td>6.7</td><td>3.0</td><td>5.2</td><td>2.3</td><td>virginica</td></tr>\n",
              "\t<tr><td>6.3</td><td>2.5</td><td>5.0</td><td>1.9</td><td>virginica</td></tr>\n",
              "\t<tr><td>6.5</td><td>3.0</td><td>5.2</td><td>2.0</td><td>virginica</td></tr>\n",
              "\t<tr><td>6.2</td><td>3.4</td><td>5.4</td><td>2.3</td><td>virginica</td></tr>\n",
              "\t<tr><td>5.9</td><td>3.0</td><td>5.1</td><td>1.8</td><td>virginica</td></tr>\n",
              "</tbody>\n",
              "</table>\n"
            ],
            "text/markdown": "\nA tibble: 150 × 5\n\n| Sepal.Length &lt;dbl&gt; | Sepal.Width &lt;dbl&gt; | Petal.Length &lt;dbl&gt; | Petal.Width &lt;dbl&gt; | Species &lt;chr&gt; |\n|---|---|---|---|---|\n| 5.1 | 3.5 | 1.4 | 0.2 | setosa |\n| 4.9 | 3.0 | 1.4 | 0.2 | setosa |\n| 4.7 | 3.2 | 1.3 | 0.2 | setosa |\n| 4.6 | 3.1 | 1.5 | 0.2 | setosa |\n| 5.0 | 3.6 | 1.4 | 0.2 | setosa |\n| 5.4 | 3.9 | 1.7 | 0.4 | setosa |\n| 4.6 | 3.4 | 1.4 | 0.3 | setosa |\n| 5.0 | 3.4 | 1.5 | 0.2 | setosa |\n| 4.4 | 2.9 | 1.4 | 0.2 | setosa |\n| 4.9 | 3.1 | 1.5 | 0.1 | setosa |\n| 5.4 | 3.7 | 1.5 | 0.2 | setosa |\n| 4.8 | 3.4 | 1.6 | 0.2 | setosa |\n| 4.8 | 3.0 | 1.4 | 0.1 | setosa |\n| 4.3 | 3.0 | 1.1 | 0.1 | setosa |\n| 5.8 | 4.0 | 1.2 | 0.2 | setosa |\n| 5.7 | 4.4 | 1.5 | 0.4 | setosa |\n| 5.4 | 3.9 | 1.3 | 0.4 | setosa |\n| 5.1 | 3.5 | 1.4 | 0.3 | setosa |\n| 5.7 | 3.8 | 1.7 | 0.3 | setosa |\n| 5.1 | 3.8 | 1.5 | 0.3 | setosa |\n| 5.4 | 3.4 | 1.7 | 0.2 | setosa |\n| 5.1 | 3.7 | 1.5 | 0.4 | setosa |\n| 4.6 | 3.6 | 1.0 | 0.2 | setosa |\n| 5.1 | 3.3 | 1.7 | 0.5 | setosa |\n| 4.8 | 3.4 | 1.9 | 0.2 | setosa |\n| 5.0 | 3.0 | 1.6 | 0.2 | setosa |\n| 5.0 | 3.4 | 1.6 | 0.4 | setosa |\n| 5.2 | 3.5 | 1.5 | 0.2 | setosa |\n| 5.2 | 3.4 | 1.4 | 0.2 | setosa |\n| 4.7 | 3.2 | 1.6 | 0.2 | setosa |\n| ⋮ | ⋮ | ⋮ | ⋮ | ⋮ |\n| 6.9 | 3.2 | 5.7 | 2.3 | virginica |\n| 5.6 | 2.8 | 4.9 | 2.0 | virginica |\n| 7.7 | 2.8 | 6.7 | 2.0 | virginica |\n| 6.3 | 2.7 | 4.9 | 1.8 | virginica |\n| 6.7 | 3.3 | 5.7 | 2.1 | virginica |\n| 7.2 | 3.2 | 6.0 | 1.8 | virginica |\n| 6.2 | 2.8 | 4.8 | 1.8 | virginica |\n| 6.1 | 3.0 | 4.9 | 1.8 | virginica |\n| 6.4 | 2.8 | 5.6 | 2.1 | virginica |\n| 7.2 | 3.0 | 5.8 | 1.6 | virginica |\n| 7.4 | 2.8 | 6.1 | 1.9 | virginica |\n| 7.9 | 3.8 | 6.4 | 2.0 | virginica |\n| 6.4 | 2.8 | 5.6 | 2.2 | virginica |\n| 6.3 | 2.8 | 5.1 | 1.5 | virginica |\n| 6.1 | 2.6 | 5.6 | 1.4 | virginica |\n| 7.7 | 3.0 | 6.1 | 2.3 | virginica |\n| 6.3 | 3.4 | 5.6 | 2.4 | virginica |\n| 6.4 | 3.1 | 5.5 | 1.8 | virginica |\n| 6.0 | 3.0 | 4.8 | 1.8 | virginica |\n| 6.9 | 3.1 | 5.4 | 2.1 | virginica |\n| 6.7 | 3.1 | 5.6 | 2.4 | virginica |\n| 6.9 | 3.1 | 5.1 | 2.3 | virginica |\n| 5.8 | 2.7 | 5.1 | 1.9 | virginica |\n| 6.8 | 3.2 | 5.9 | 2.3 | virginica |\n| 6.7 | 3.3 | 5.7 | 2.5 | virginica |\n| 6.7 | 3.0 | 5.2 | 2.3 | virginica |\n| 6.3 | 2.5 | 5.0 | 1.9 | virginica |\n| 6.5 | 3.0 | 5.2 | 2.0 | virginica |\n| 6.2 | 3.4 | 5.4 | 2.3 | virginica |\n| 5.9 | 3.0 | 5.1 | 1.8 | virginica |\n\n",
            "text/latex": "A tibble: 150 × 5\n\\begin{tabular}{lllll}\n Sepal.Length & Sepal.Width & Petal.Length & Petal.Width & Species\\\\\n <dbl> & <dbl> & <dbl> & <dbl> & <chr>\\\\\n\\hline\n\t 5.1 & 3.5 & 1.4 & 0.2 & setosa\\\\\n\t 4.9 & 3.0 & 1.4 & 0.2 & setosa\\\\\n\t 4.7 & 3.2 & 1.3 & 0.2 & setosa\\\\\n\t 4.6 & 3.1 & 1.5 & 0.2 & setosa\\\\\n\t 5.0 & 3.6 & 1.4 & 0.2 & setosa\\\\\n\t 5.4 & 3.9 & 1.7 & 0.4 & setosa\\\\\n\t 4.6 & 3.4 & 1.4 & 0.3 & setosa\\\\\n\t 5.0 & 3.4 & 1.5 & 0.2 & setosa\\\\\n\t 4.4 & 2.9 & 1.4 & 0.2 & setosa\\\\\n\t 4.9 & 3.1 & 1.5 & 0.1 & setosa\\\\\n\t 5.4 & 3.7 & 1.5 & 0.2 & setosa\\\\\n\t 4.8 & 3.4 & 1.6 & 0.2 & setosa\\\\\n\t 4.8 & 3.0 & 1.4 & 0.1 & setosa\\\\\n\t 4.3 & 3.0 & 1.1 & 0.1 & setosa\\\\\n\t 5.8 & 4.0 & 1.2 & 0.2 & setosa\\\\\n\t 5.7 & 4.4 & 1.5 & 0.4 & setosa\\\\\n\t 5.4 & 3.9 & 1.3 & 0.4 & setosa\\\\\n\t 5.1 & 3.5 & 1.4 & 0.3 & setosa\\\\\n\t 5.7 & 3.8 & 1.7 & 0.3 & setosa\\\\\n\t 5.1 & 3.8 & 1.5 & 0.3 & setosa\\\\\n\t 5.4 & 3.4 & 1.7 & 0.2 & setosa\\\\\n\t 5.1 & 3.7 & 1.5 & 0.4 & setosa\\\\\n\t 4.6 & 3.6 & 1.0 & 0.2 & setosa\\\\\n\t 5.1 & 3.3 & 1.7 & 0.5 & setosa\\\\\n\t 4.8 & 3.4 & 1.9 & 0.2 & setosa\\\\\n\t 5.0 & 3.0 & 1.6 & 0.2 & setosa\\\\\n\t 5.0 & 3.4 & 1.6 & 0.4 & setosa\\\\\n\t 5.2 & 3.5 & 1.5 & 0.2 & setosa\\\\\n\t 5.2 & 3.4 & 1.4 & 0.2 & setosa\\\\\n\t 4.7 & 3.2 & 1.6 & 0.2 & setosa\\\\\n\t ⋮ & ⋮ & ⋮ & ⋮ & ⋮\\\\\n\t 6.9 & 3.2 & 5.7 & 2.3 & virginica\\\\\n\t 5.6 & 2.8 & 4.9 & 2.0 & virginica\\\\\n\t 7.7 & 2.8 & 6.7 & 2.0 & virginica\\\\\n\t 6.3 & 2.7 & 4.9 & 1.8 & virginica\\\\\n\t 6.7 & 3.3 & 5.7 & 2.1 & virginica\\\\\n\t 7.2 & 3.2 & 6.0 & 1.8 & virginica\\\\\n\t 6.2 & 2.8 & 4.8 & 1.8 & virginica\\\\\n\t 6.1 & 3.0 & 4.9 & 1.8 & virginica\\\\\n\t 6.4 & 2.8 & 5.6 & 2.1 & virginica\\\\\n\t 7.2 & 3.0 & 5.8 & 1.6 & virginica\\\\\n\t 7.4 & 2.8 & 6.1 & 1.9 & virginica\\\\\n\t 7.9 & 3.8 & 6.4 & 2.0 & virginica\\\\\n\t 6.4 & 2.8 & 5.6 & 2.2 & virginica\\\\\n\t 6.3 & 2.8 & 5.1 & 1.5 & virginica\\\\\n\t 6.1 & 2.6 & 5.6 & 1.4 & virginica\\\\\n\t 7.7 & 3.0 & 6.1 & 2.3 & virginica\\\\\n\t 6.3 & 3.4 & 5.6 & 2.4 & virginica\\\\\n\t 6.4 & 3.1 & 5.5 & 1.8 & virginica\\\\\n\t 6.0 & 3.0 & 4.8 & 1.8 & virginica\\\\\n\t 6.9 & 3.1 & 5.4 & 2.1 & virginica\\\\\n\t 6.7 & 3.1 & 5.6 & 2.4 & virginica\\\\\n\t 6.9 & 3.1 & 5.1 & 2.3 & virginica\\\\\n\t 5.8 & 2.7 & 5.1 & 1.9 & virginica\\\\\n\t 6.8 & 3.2 & 5.9 & 2.3 & virginica\\\\\n\t 6.7 & 3.3 & 5.7 & 2.5 & virginica\\\\\n\t 6.7 & 3.0 & 5.2 & 2.3 & virginica\\\\\n\t 6.3 & 2.5 & 5.0 & 1.9 & virginica\\\\\n\t 6.5 & 3.0 & 5.2 & 2.0 & virginica\\\\\n\t 6.2 & 3.4 & 5.4 & 2.3 & virginica\\\\\n\t 5.9 & 3.0 & 5.1 & 1.8 & virginica\\\\\n\\end{tabular}\n",
            "text/plain": [
              "    Sepal.Length Sepal.Width Petal.Length Petal.Width Species  \n",
              "1   5.1          3.5         1.4          0.2         setosa   \n",
              "2   4.9          3.0         1.4          0.2         setosa   \n",
              "3   4.7          3.2         1.3          0.2         setosa   \n",
              "4   4.6          3.1         1.5          0.2         setosa   \n",
              "5   5.0          3.6         1.4          0.2         setosa   \n",
              "6   5.4          3.9         1.7          0.4         setosa   \n",
              "7   4.6          3.4         1.4          0.3         setosa   \n",
              "8   5.0          3.4         1.5          0.2         setosa   \n",
              "9   4.4          2.9         1.4          0.2         setosa   \n",
              "10  4.9          3.1         1.5          0.1         setosa   \n",
              "11  5.4          3.7         1.5          0.2         setosa   \n",
              "12  4.8          3.4         1.6          0.2         setosa   \n",
              "13  4.8          3.0         1.4          0.1         setosa   \n",
              "14  4.3          3.0         1.1          0.1         setosa   \n",
              "15  5.8          4.0         1.2          0.2         setosa   \n",
              "16  5.7          4.4         1.5          0.4         setosa   \n",
              "17  5.4          3.9         1.3          0.4         setosa   \n",
              "18  5.1          3.5         1.4          0.3         setosa   \n",
              "19  5.7          3.8         1.7          0.3         setosa   \n",
              "20  5.1          3.8         1.5          0.3         setosa   \n",
              "21  5.4          3.4         1.7          0.2         setosa   \n",
              "22  5.1          3.7         1.5          0.4         setosa   \n",
              "23  4.6          3.6         1.0          0.2         setosa   \n",
              "24  5.1          3.3         1.7          0.5         setosa   \n",
              "25  4.8          3.4         1.9          0.2         setosa   \n",
              "26  5.0          3.0         1.6          0.2         setosa   \n",
              "27  5.0          3.4         1.6          0.4         setosa   \n",
              "28  5.2          3.5         1.5          0.2         setosa   \n",
              "29  5.2          3.4         1.4          0.2         setosa   \n",
              "30  4.7          3.2         1.6          0.2         setosa   \n",
              "⋮   ⋮            ⋮           ⋮            ⋮           ⋮        \n",
              "121 6.9          3.2         5.7          2.3         virginica\n",
              "122 5.6          2.8         4.9          2.0         virginica\n",
              "123 7.7          2.8         6.7          2.0         virginica\n",
              "124 6.3          2.7         4.9          1.8         virginica\n",
              "125 6.7          3.3         5.7          2.1         virginica\n",
              "126 7.2          3.2         6.0          1.8         virginica\n",
              "127 6.2          2.8         4.8          1.8         virginica\n",
              "128 6.1          3.0         4.9          1.8         virginica\n",
              "129 6.4          2.8         5.6          2.1         virginica\n",
              "130 7.2          3.0         5.8          1.6         virginica\n",
              "131 7.4          2.8         6.1          1.9         virginica\n",
              "132 7.9          3.8         6.4          2.0         virginica\n",
              "133 6.4          2.8         5.6          2.2         virginica\n",
              "134 6.3          2.8         5.1          1.5         virginica\n",
              "135 6.1          2.6         5.6          1.4         virginica\n",
              "136 7.7          3.0         6.1          2.3         virginica\n",
              "137 6.3          3.4         5.6          2.4         virginica\n",
              "138 6.4          3.1         5.5          1.8         virginica\n",
              "139 6.0          3.0         4.8          1.8         virginica\n",
              "140 6.9          3.1         5.4          2.1         virginica\n",
              "141 6.7          3.1         5.6          2.4         virginica\n",
              "142 6.9          3.1         5.1          2.3         virginica\n",
              "143 5.8          2.7         5.1          1.9         virginica\n",
              "144 6.8          3.2         5.9          2.3         virginica\n",
              "145 6.7          3.3         5.7          2.5         virginica\n",
              "146 6.7          3.0         5.2          2.3         virginica\n",
              "147 6.3          2.5         5.0          1.9         virginica\n",
              "148 6.5          3.0         5.2          2.0         virginica\n",
              "149 6.2          3.4         5.4          2.3         virginica\n",
              "150 5.9          3.0         5.1          1.8         virginica"
            ]
          },
          "metadata": {}
        }
      ]
    },
    {
      "cell_type": "markdown",
      "source": [
        "- `sheet` : 문서에 시트가 여러 장일 경우 불러오고 싶은 시트 번호 혹은 이름"
      ],
      "metadata": {
        "id": "nUklwGEdaLzB"
      }
    },
    {
      "cell_type": "code",
      "source": [
        "ex_sheet1 <- read_excel(\n",
        "    path = \"data/data_ex.xlsx\",\n",
        "    sheet = 1\n",
        "    )\n",
        "\n",
        "ex_sheet1"
      ],
      "metadata": {
        "colab": {
          "base_uri": "https://localhost:8080/",
          "height": 1000
        },
        "id": "7vHs9lFri2rx",
        "outputId": "f2054473-c576-4b89-8c47-7e4ec254bfdb"
      },
      "execution_count": 17,
      "outputs": [
        {
          "output_type": "display_data",
          "data": {
            "text/html": [
              "<table class=\"dataframe\">\n",
              "<caption>A tibble: 150 × 5</caption>\n",
              "<thead>\n",
              "\t<tr><th scope=col>Sepal.Length</th><th scope=col>Sepal.Width</th><th scope=col>Petal.Length</th><th scope=col>Petal.Width</th><th scope=col>Species</th></tr>\n",
              "\t<tr><th scope=col>&lt;dbl&gt;</th><th scope=col>&lt;dbl&gt;</th><th scope=col>&lt;dbl&gt;</th><th scope=col>&lt;dbl&gt;</th><th scope=col>&lt;chr&gt;</th></tr>\n",
              "</thead>\n",
              "<tbody>\n",
              "\t<tr><td>5.1</td><td>3.5</td><td>1.4</td><td>0.2</td><td>setosa</td></tr>\n",
              "\t<tr><td>4.9</td><td>3.0</td><td>1.4</td><td>0.2</td><td>setosa</td></tr>\n",
              "\t<tr><td>4.7</td><td>3.2</td><td>1.3</td><td>0.2</td><td>setosa</td></tr>\n",
              "\t<tr><td>4.6</td><td>3.1</td><td>1.5</td><td>0.2</td><td>setosa</td></tr>\n",
              "\t<tr><td>5.0</td><td>3.6</td><td>1.4</td><td>0.2</td><td>setosa</td></tr>\n",
              "\t<tr><td>5.4</td><td>3.9</td><td>1.7</td><td>0.4</td><td>setosa</td></tr>\n",
              "\t<tr><td>4.6</td><td>3.4</td><td>1.4</td><td>0.3</td><td>setosa</td></tr>\n",
              "\t<tr><td>5.0</td><td>3.4</td><td>1.5</td><td>0.2</td><td>setosa</td></tr>\n",
              "\t<tr><td>4.4</td><td>2.9</td><td>1.4</td><td>0.2</td><td>setosa</td></tr>\n",
              "\t<tr><td>4.9</td><td>3.1</td><td>1.5</td><td>0.1</td><td>setosa</td></tr>\n",
              "\t<tr><td>5.4</td><td>3.7</td><td>1.5</td><td>0.2</td><td>setosa</td></tr>\n",
              "\t<tr><td>4.8</td><td>3.4</td><td>1.6</td><td>0.2</td><td>setosa</td></tr>\n",
              "\t<tr><td>4.8</td><td>3.0</td><td>1.4</td><td>0.1</td><td>setosa</td></tr>\n",
              "\t<tr><td>4.3</td><td>3.0</td><td>1.1</td><td>0.1</td><td>setosa</td></tr>\n",
              "\t<tr><td>5.8</td><td>4.0</td><td>1.2</td><td>0.2</td><td>setosa</td></tr>\n",
              "\t<tr><td>5.7</td><td>4.4</td><td>1.5</td><td>0.4</td><td>setosa</td></tr>\n",
              "\t<tr><td>5.4</td><td>3.9</td><td>1.3</td><td>0.4</td><td>setosa</td></tr>\n",
              "\t<tr><td>5.1</td><td>3.5</td><td>1.4</td><td>0.3</td><td>setosa</td></tr>\n",
              "\t<tr><td>5.7</td><td>3.8</td><td>1.7</td><td>0.3</td><td>setosa</td></tr>\n",
              "\t<tr><td>5.1</td><td>3.8</td><td>1.5</td><td>0.3</td><td>setosa</td></tr>\n",
              "\t<tr><td>5.4</td><td>3.4</td><td>1.7</td><td>0.2</td><td>setosa</td></tr>\n",
              "\t<tr><td>5.1</td><td>3.7</td><td>1.5</td><td>0.4</td><td>setosa</td></tr>\n",
              "\t<tr><td>4.6</td><td>3.6</td><td>1.0</td><td>0.2</td><td>setosa</td></tr>\n",
              "\t<tr><td>5.1</td><td>3.3</td><td>1.7</td><td>0.5</td><td>setosa</td></tr>\n",
              "\t<tr><td>4.8</td><td>3.4</td><td>1.9</td><td>0.2</td><td>setosa</td></tr>\n",
              "\t<tr><td>5.0</td><td>3.0</td><td>1.6</td><td>0.2</td><td>setosa</td></tr>\n",
              "\t<tr><td>5.0</td><td>3.4</td><td>1.6</td><td>0.4</td><td>setosa</td></tr>\n",
              "\t<tr><td>5.2</td><td>3.5</td><td>1.5</td><td>0.2</td><td>setosa</td></tr>\n",
              "\t<tr><td>5.2</td><td>3.4</td><td>1.4</td><td>0.2</td><td>setosa</td></tr>\n",
              "\t<tr><td>4.7</td><td>3.2</td><td>1.6</td><td>0.2</td><td>setosa</td></tr>\n",
              "\t<tr><td>⋮</td><td>⋮</td><td>⋮</td><td>⋮</td><td>⋮</td></tr>\n",
              "\t<tr><td>6.9</td><td>3.2</td><td>5.7</td><td>2.3</td><td>virginica</td></tr>\n",
              "\t<tr><td>5.6</td><td>2.8</td><td>4.9</td><td>2.0</td><td>virginica</td></tr>\n",
              "\t<tr><td>7.7</td><td>2.8</td><td>6.7</td><td>2.0</td><td>virginica</td></tr>\n",
              "\t<tr><td>6.3</td><td>2.7</td><td>4.9</td><td>1.8</td><td>virginica</td></tr>\n",
              "\t<tr><td>6.7</td><td>3.3</td><td>5.7</td><td>2.1</td><td>virginica</td></tr>\n",
              "\t<tr><td>7.2</td><td>3.2</td><td>6.0</td><td>1.8</td><td>virginica</td></tr>\n",
              "\t<tr><td>6.2</td><td>2.8</td><td>4.8</td><td>1.8</td><td>virginica</td></tr>\n",
              "\t<tr><td>6.1</td><td>3.0</td><td>4.9</td><td>1.8</td><td>virginica</td></tr>\n",
              "\t<tr><td>6.4</td><td>2.8</td><td>5.6</td><td>2.1</td><td>virginica</td></tr>\n",
              "\t<tr><td>7.2</td><td>3.0</td><td>5.8</td><td>1.6</td><td>virginica</td></tr>\n",
              "\t<tr><td>7.4</td><td>2.8</td><td>6.1</td><td>1.9</td><td>virginica</td></tr>\n",
              "\t<tr><td>7.9</td><td>3.8</td><td>6.4</td><td>2.0</td><td>virginica</td></tr>\n",
              "\t<tr><td>6.4</td><td>2.8</td><td>5.6</td><td>2.2</td><td>virginica</td></tr>\n",
              "\t<tr><td>6.3</td><td>2.8</td><td>5.1</td><td>1.5</td><td>virginica</td></tr>\n",
              "\t<tr><td>6.1</td><td>2.6</td><td>5.6</td><td>1.4</td><td>virginica</td></tr>\n",
              "\t<tr><td>7.7</td><td>3.0</td><td>6.1</td><td>2.3</td><td>virginica</td></tr>\n",
              "\t<tr><td>6.3</td><td>3.4</td><td>5.6</td><td>2.4</td><td>virginica</td></tr>\n",
              "\t<tr><td>6.4</td><td>3.1</td><td>5.5</td><td>1.8</td><td>virginica</td></tr>\n",
              "\t<tr><td>6.0</td><td>3.0</td><td>4.8</td><td>1.8</td><td>virginica</td></tr>\n",
              "\t<tr><td>6.9</td><td>3.1</td><td>5.4</td><td>2.1</td><td>virginica</td></tr>\n",
              "\t<tr><td>6.7</td><td>3.1</td><td>5.6</td><td>2.4</td><td>virginica</td></tr>\n",
              "\t<tr><td>6.9</td><td>3.1</td><td>5.1</td><td>2.3</td><td>virginica</td></tr>\n",
              "\t<tr><td>5.8</td><td>2.7</td><td>5.1</td><td>1.9</td><td>virginica</td></tr>\n",
              "\t<tr><td>6.8</td><td>3.2</td><td>5.9</td><td>2.3</td><td>virginica</td></tr>\n",
              "\t<tr><td>6.7</td><td>3.3</td><td>5.7</td><td>2.5</td><td>virginica</td></tr>\n",
              "\t<tr><td>6.7</td><td>3.0</td><td>5.2</td><td>2.3</td><td>virginica</td></tr>\n",
              "\t<tr><td>6.3</td><td>2.5</td><td>5.0</td><td>1.9</td><td>virginica</td></tr>\n",
              "\t<tr><td>6.5</td><td>3.0</td><td>5.2</td><td>2.0</td><td>virginica</td></tr>\n",
              "\t<tr><td>6.2</td><td>3.4</td><td>5.4</td><td>2.3</td><td>virginica</td></tr>\n",
              "\t<tr><td>5.9</td><td>3.0</td><td>5.1</td><td>1.8</td><td>virginica</td></tr>\n",
              "</tbody>\n",
              "</table>\n"
            ],
            "text/markdown": "\nA tibble: 150 × 5\n\n| Sepal.Length &lt;dbl&gt; | Sepal.Width &lt;dbl&gt; | Petal.Length &lt;dbl&gt; | Petal.Width &lt;dbl&gt; | Species &lt;chr&gt; |\n|---|---|---|---|---|\n| 5.1 | 3.5 | 1.4 | 0.2 | setosa |\n| 4.9 | 3.0 | 1.4 | 0.2 | setosa |\n| 4.7 | 3.2 | 1.3 | 0.2 | setosa |\n| 4.6 | 3.1 | 1.5 | 0.2 | setosa |\n| 5.0 | 3.6 | 1.4 | 0.2 | setosa |\n| 5.4 | 3.9 | 1.7 | 0.4 | setosa |\n| 4.6 | 3.4 | 1.4 | 0.3 | setosa |\n| 5.0 | 3.4 | 1.5 | 0.2 | setosa |\n| 4.4 | 2.9 | 1.4 | 0.2 | setosa |\n| 4.9 | 3.1 | 1.5 | 0.1 | setosa |\n| 5.4 | 3.7 | 1.5 | 0.2 | setosa |\n| 4.8 | 3.4 | 1.6 | 0.2 | setosa |\n| 4.8 | 3.0 | 1.4 | 0.1 | setosa |\n| 4.3 | 3.0 | 1.1 | 0.1 | setosa |\n| 5.8 | 4.0 | 1.2 | 0.2 | setosa |\n| 5.7 | 4.4 | 1.5 | 0.4 | setosa |\n| 5.4 | 3.9 | 1.3 | 0.4 | setosa |\n| 5.1 | 3.5 | 1.4 | 0.3 | setosa |\n| 5.7 | 3.8 | 1.7 | 0.3 | setosa |\n| 5.1 | 3.8 | 1.5 | 0.3 | setosa |\n| 5.4 | 3.4 | 1.7 | 0.2 | setosa |\n| 5.1 | 3.7 | 1.5 | 0.4 | setosa |\n| 4.6 | 3.6 | 1.0 | 0.2 | setosa |\n| 5.1 | 3.3 | 1.7 | 0.5 | setosa |\n| 4.8 | 3.4 | 1.9 | 0.2 | setosa |\n| 5.0 | 3.0 | 1.6 | 0.2 | setosa |\n| 5.0 | 3.4 | 1.6 | 0.4 | setosa |\n| 5.2 | 3.5 | 1.5 | 0.2 | setosa |\n| 5.2 | 3.4 | 1.4 | 0.2 | setosa |\n| 4.7 | 3.2 | 1.6 | 0.2 | setosa |\n| ⋮ | ⋮ | ⋮ | ⋮ | ⋮ |\n| 6.9 | 3.2 | 5.7 | 2.3 | virginica |\n| 5.6 | 2.8 | 4.9 | 2.0 | virginica |\n| 7.7 | 2.8 | 6.7 | 2.0 | virginica |\n| 6.3 | 2.7 | 4.9 | 1.8 | virginica |\n| 6.7 | 3.3 | 5.7 | 2.1 | virginica |\n| 7.2 | 3.2 | 6.0 | 1.8 | virginica |\n| 6.2 | 2.8 | 4.8 | 1.8 | virginica |\n| 6.1 | 3.0 | 4.9 | 1.8 | virginica |\n| 6.4 | 2.8 | 5.6 | 2.1 | virginica |\n| 7.2 | 3.0 | 5.8 | 1.6 | virginica |\n| 7.4 | 2.8 | 6.1 | 1.9 | virginica |\n| 7.9 | 3.8 | 6.4 | 2.0 | virginica |\n| 6.4 | 2.8 | 5.6 | 2.2 | virginica |\n| 6.3 | 2.8 | 5.1 | 1.5 | virginica |\n| 6.1 | 2.6 | 5.6 | 1.4 | virginica |\n| 7.7 | 3.0 | 6.1 | 2.3 | virginica |\n| 6.3 | 3.4 | 5.6 | 2.4 | virginica |\n| 6.4 | 3.1 | 5.5 | 1.8 | virginica |\n| 6.0 | 3.0 | 4.8 | 1.8 | virginica |\n| 6.9 | 3.1 | 5.4 | 2.1 | virginica |\n| 6.7 | 3.1 | 5.6 | 2.4 | virginica |\n| 6.9 | 3.1 | 5.1 | 2.3 | virginica |\n| 5.8 | 2.7 | 5.1 | 1.9 | virginica |\n| 6.8 | 3.2 | 5.9 | 2.3 | virginica |\n| 6.7 | 3.3 | 5.7 | 2.5 | virginica |\n| 6.7 | 3.0 | 5.2 | 2.3 | virginica |\n| 6.3 | 2.5 | 5.0 | 1.9 | virginica |\n| 6.5 | 3.0 | 5.2 | 2.0 | virginica |\n| 6.2 | 3.4 | 5.4 | 2.3 | virginica |\n| 5.9 | 3.0 | 5.1 | 1.8 | virginica |\n\n",
            "text/latex": "A tibble: 150 × 5\n\\begin{tabular}{lllll}\n Sepal.Length & Sepal.Width & Petal.Length & Petal.Width & Species\\\\\n <dbl> & <dbl> & <dbl> & <dbl> & <chr>\\\\\n\\hline\n\t 5.1 & 3.5 & 1.4 & 0.2 & setosa\\\\\n\t 4.9 & 3.0 & 1.4 & 0.2 & setosa\\\\\n\t 4.7 & 3.2 & 1.3 & 0.2 & setosa\\\\\n\t 4.6 & 3.1 & 1.5 & 0.2 & setosa\\\\\n\t 5.0 & 3.6 & 1.4 & 0.2 & setosa\\\\\n\t 5.4 & 3.9 & 1.7 & 0.4 & setosa\\\\\n\t 4.6 & 3.4 & 1.4 & 0.3 & setosa\\\\\n\t 5.0 & 3.4 & 1.5 & 0.2 & setosa\\\\\n\t 4.4 & 2.9 & 1.4 & 0.2 & setosa\\\\\n\t 4.9 & 3.1 & 1.5 & 0.1 & setosa\\\\\n\t 5.4 & 3.7 & 1.5 & 0.2 & setosa\\\\\n\t 4.8 & 3.4 & 1.6 & 0.2 & setosa\\\\\n\t 4.8 & 3.0 & 1.4 & 0.1 & setosa\\\\\n\t 4.3 & 3.0 & 1.1 & 0.1 & setosa\\\\\n\t 5.8 & 4.0 & 1.2 & 0.2 & setosa\\\\\n\t 5.7 & 4.4 & 1.5 & 0.4 & setosa\\\\\n\t 5.4 & 3.9 & 1.3 & 0.4 & setosa\\\\\n\t 5.1 & 3.5 & 1.4 & 0.3 & setosa\\\\\n\t 5.7 & 3.8 & 1.7 & 0.3 & setosa\\\\\n\t 5.1 & 3.8 & 1.5 & 0.3 & setosa\\\\\n\t 5.4 & 3.4 & 1.7 & 0.2 & setosa\\\\\n\t 5.1 & 3.7 & 1.5 & 0.4 & setosa\\\\\n\t 4.6 & 3.6 & 1.0 & 0.2 & setosa\\\\\n\t 5.1 & 3.3 & 1.7 & 0.5 & setosa\\\\\n\t 4.8 & 3.4 & 1.9 & 0.2 & setosa\\\\\n\t 5.0 & 3.0 & 1.6 & 0.2 & setosa\\\\\n\t 5.0 & 3.4 & 1.6 & 0.4 & setosa\\\\\n\t 5.2 & 3.5 & 1.5 & 0.2 & setosa\\\\\n\t 5.2 & 3.4 & 1.4 & 0.2 & setosa\\\\\n\t 4.7 & 3.2 & 1.6 & 0.2 & setosa\\\\\n\t ⋮ & ⋮ & ⋮ & ⋮ & ⋮\\\\\n\t 6.9 & 3.2 & 5.7 & 2.3 & virginica\\\\\n\t 5.6 & 2.8 & 4.9 & 2.0 & virginica\\\\\n\t 7.7 & 2.8 & 6.7 & 2.0 & virginica\\\\\n\t 6.3 & 2.7 & 4.9 & 1.8 & virginica\\\\\n\t 6.7 & 3.3 & 5.7 & 2.1 & virginica\\\\\n\t 7.2 & 3.2 & 6.0 & 1.8 & virginica\\\\\n\t 6.2 & 2.8 & 4.8 & 1.8 & virginica\\\\\n\t 6.1 & 3.0 & 4.9 & 1.8 & virginica\\\\\n\t 6.4 & 2.8 & 5.6 & 2.1 & virginica\\\\\n\t 7.2 & 3.0 & 5.8 & 1.6 & virginica\\\\\n\t 7.4 & 2.8 & 6.1 & 1.9 & virginica\\\\\n\t 7.9 & 3.8 & 6.4 & 2.0 & virginica\\\\\n\t 6.4 & 2.8 & 5.6 & 2.2 & virginica\\\\\n\t 6.3 & 2.8 & 5.1 & 1.5 & virginica\\\\\n\t 6.1 & 2.6 & 5.6 & 1.4 & virginica\\\\\n\t 7.7 & 3.0 & 6.1 & 2.3 & virginica\\\\\n\t 6.3 & 3.4 & 5.6 & 2.4 & virginica\\\\\n\t 6.4 & 3.1 & 5.5 & 1.8 & virginica\\\\\n\t 6.0 & 3.0 & 4.8 & 1.8 & virginica\\\\\n\t 6.9 & 3.1 & 5.4 & 2.1 & virginica\\\\\n\t 6.7 & 3.1 & 5.6 & 2.4 & virginica\\\\\n\t 6.9 & 3.1 & 5.1 & 2.3 & virginica\\\\\n\t 5.8 & 2.7 & 5.1 & 1.9 & virginica\\\\\n\t 6.8 & 3.2 & 5.9 & 2.3 & virginica\\\\\n\t 6.7 & 3.3 & 5.7 & 2.5 & virginica\\\\\n\t 6.7 & 3.0 & 5.2 & 2.3 & virginica\\\\\n\t 6.3 & 2.5 & 5.0 & 1.9 & virginica\\\\\n\t 6.5 & 3.0 & 5.2 & 2.0 & virginica\\\\\n\t 6.2 & 3.4 & 5.4 & 2.3 & virginica\\\\\n\t 5.9 & 3.0 & 5.1 & 1.8 & virginica\\\\\n\\end{tabular}\n",
            "text/plain": [
              "    Sepal.Length Sepal.Width Petal.Length Petal.Width Species  \n",
              "1   5.1          3.5         1.4          0.2         setosa   \n",
              "2   4.9          3.0         1.4          0.2         setosa   \n",
              "3   4.7          3.2         1.3          0.2         setosa   \n",
              "4   4.6          3.1         1.5          0.2         setosa   \n",
              "5   5.0          3.6         1.4          0.2         setosa   \n",
              "6   5.4          3.9         1.7          0.4         setosa   \n",
              "7   4.6          3.4         1.4          0.3         setosa   \n",
              "8   5.0          3.4         1.5          0.2         setosa   \n",
              "9   4.4          2.9         1.4          0.2         setosa   \n",
              "10  4.9          3.1         1.5          0.1         setosa   \n",
              "11  5.4          3.7         1.5          0.2         setosa   \n",
              "12  4.8          3.4         1.6          0.2         setosa   \n",
              "13  4.8          3.0         1.4          0.1         setosa   \n",
              "14  4.3          3.0         1.1          0.1         setosa   \n",
              "15  5.8          4.0         1.2          0.2         setosa   \n",
              "16  5.7          4.4         1.5          0.4         setosa   \n",
              "17  5.4          3.9         1.3          0.4         setosa   \n",
              "18  5.1          3.5         1.4          0.3         setosa   \n",
              "19  5.7          3.8         1.7          0.3         setosa   \n",
              "20  5.1          3.8         1.5          0.3         setosa   \n",
              "21  5.4          3.4         1.7          0.2         setosa   \n",
              "22  5.1          3.7         1.5          0.4         setosa   \n",
              "23  4.6          3.6         1.0          0.2         setosa   \n",
              "24  5.1          3.3         1.7          0.5         setosa   \n",
              "25  4.8          3.4         1.9          0.2         setosa   \n",
              "26  5.0          3.0         1.6          0.2         setosa   \n",
              "27  5.0          3.4         1.6          0.4         setosa   \n",
              "28  5.2          3.5         1.5          0.2         setosa   \n",
              "29  5.2          3.4         1.4          0.2         setosa   \n",
              "30  4.7          3.2         1.6          0.2         setosa   \n",
              "⋮   ⋮            ⋮           ⋮            ⋮           ⋮        \n",
              "121 6.9          3.2         5.7          2.3         virginica\n",
              "122 5.6          2.8         4.9          2.0         virginica\n",
              "123 7.7          2.8         6.7          2.0         virginica\n",
              "124 6.3          2.7         4.9          1.8         virginica\n",
              "125 6.7          3.3         5.7          2.1         virginica\n",
              "126 7.2          3.2         6.0          1.8         virginica\n",
              "127 6.2          2.8         4.8          1.8         virginica\n",
              "128 6.1          3.0         4.9          1.8         virginica\n",
              "129 6.4          2.8         5.6          2.1         virginica\n",
              "130 7.2          3.0         5.8          1.6         virginica\n",
              "131 7.4          2.8         6.1          1.9         virginica\n",
              "132 7.9          3.8         6.4          2.0         virginica\n",
              "133 6.4          2.8         5.6          2.2         virginica\n",
              "134 6.3          2.8         5.1          1.5         virginica\n",
              "135 6.1          2.6         5.6          1.4         virginica\n",
              "136 7.7          3.0         6.1          2.3         virginica\n",
              "137 6.3          3.4         5.6          2.4         virginica\n",
              "138 6.4          3.1         5.5          1.8         virginica\n",
              "139 6.0          3.0         4.8          1.8         virginica\n",
              "140 6.9          3.1         5.4          2.1         virginica\n",
              "141 6.7          3.1         5.6          2.4         virginica\n",
              "142 6.9          3.1         5.1          2.3         virginica\n",
              "143 5.8          2.7         5.1          1.9         virginica\n",
              "144 6.8          3.2         5.9          2.3         virginica\n",
              "145 6.7          3.3         5.7          2.5         virginica\n",
              "146 6.7          3.0         5.2          2.3         virginica\n",
              "147 6.3          2.5         5.0          1.9         virginica\n",
              "148 6.5          3.0         5.2          2.0         virginica\n",
              "149 6.2          3.4         5.4          2.3         virginica\n",
              "150 5.9          3.0         5.1          1.8         virginica"
            ]
          },
          "metadata": {}
        }
      ]
    },
    {
      "cell_type": "code",
      "source": [
        "ex_sheet2 <- read_excel(\n",
        "    path = \"data/data_ex.xlsx\",\n",
        "    sheet = 2\n",
        "    )\n",
        "\n",
        "ex_sheet2"
      ],
      "metadata": {
        "colab": {
          "base_uri": "https://localhost:8080/",
          "height": 1000
        },
        "id": "82jwzVmik6zZ",
        "outputId": "f97322cb-e98f-4d94-c7dd-e22d220e0573"
      },
      "execution_count": 18,
      "outputs": [
        {
          "output_type": "display_data",
          "data": {
            "text/html": [
              "<table class=\"dataframe\">\n",
              "<caption>A tibble: 32 × 11</caption>\n",
              "<thead>\n",
              "\t<tr><th scope=col>mpg</th><th scope=col>cyl</th><th scope=col>disp</th><th scope=col>hp</th><th scope=col>drat</th><th scope=col>wt</th><th scope=col>qsec</th><th scope=col>vs</th><th scope=col>am</th><th scope=col>gear</th><th scope=col>carb</th></tr>\n",
              "\t<tr><th scope=col>&lt;dbl&gt;</th><th scope=col>&lt;dbl&gt;</th><th scope=col>&lt;dbl&gt;</th><th scope=col>&lt;dbl&gt;</th><th scope=col>&lt;dbl&gt;</th><th scope=col>&lt;dbl&gt;</th><th scope=col>&lt;dbl&gt;</th><th scope=col>&lt;dbl&gt;</th><th scope=col>&lt;dbl&gt;</th><th scope=col>&lt;dbl&gt;</th><th scope=col>&lt;dbl&gt;</th></tr>\n",
              "</thead>\n",
              "<tbody>\n",
              "\t<tr><td>21.0</td><td>6</td><td>160.0</td><td>110</td><td>3.90</td><td>2.620</td><td>16.46</td><td>0</td><td>1</td><td>4</td><td>4</td></tr>\n",
              "\t<tr><td>21.0</td><td>6</td><td>160.0</td><td>110</td><td>3.90</td><td>2.875</td><td>17.02</td><td>0</td><td>1</td><td>4</td><td>4</td></tr>\n",
              "\t<tr><td>22.8</td><td>4</td><td>108.0</td><td> 93</td><td>3.85</td><td>2.320</td><td>18.61</td><td>1</td><td>1</td><td>4</td><td>1</td></tr>\n",
              "\t<tr><td>21.4</td><td>6</td><td>258.0</td><td>110</td><td>3.08</td><td>3.215</td><td>19.44</td><td>1</td><td>0</td><td>3</td><td>1</td></tr>\n",
              "\t<tr><td>18.7</td><td>8</td><td>360.0</td><td>175</td><td>3.15</td><td>3.440</td><td>17.02</td><td>0</td><td>0</td><td>3</td><td>2</td></tr>\n",
              "\t<tr><td>18.1</td><td>6</td><td>225.0</td><td>105</td><td>2.76</td><td>3.460</td><td>20.22</td><td>1</td><td>0</td><td>3</td><td>1</td></tr>\n",
              "\t<tr><td>14.3</td><td>8</td><td>360.0</td><td>245</td><td>3.21</td><td>3.570</td><td>15.84</td><td>0</td><td>0</td><td>3</td><td>4</td></tr>\n",
              "\t<tr><td>24.4</td><td>4</td><td>146.7</td><td> 62</td><td>3.69</td><td>3.190</td><td>20.00</td><td>1</td><td>0</td><td>4</td><td>2</td></tr>\n",
              "\t<tr><td>22.8</td><td>4</td><td>140.8</td><td> 95</td><td>3.92</td><td>3.150</td><td>22.90</td><td>1</td><td>0</td><td>4</td><td>2</td></tr>\n",
              "\t<tr><td>19.2</td><td>6</td><td>167.6</td><td>123</td><td>3.92</td><td>3.440</td><td>18.30</td><td>1</td><td>0</td><td>4</td><td>4</td></tr>\n",
              "\t<tr><td>17.8</td><td>6</td><td>167.6</td><td>123</td><td>3.92</td><td>3.440</td><td>18.90</td><td>1</td><td>0</td><td>4</td><td>4</td></tr>\n",
              "\t<tr><td>16.4</td><td>8</td><td>275.8</td><td>180</td><td>3.07</td><td>4.070</td><td>17.40</td><td>0</td><td>0</td><td>3</td><td>3</td></tr>\n",
              "\t<tr><td>17.3</td><td>8</td><td>275.8</td><td>180</td><td>3.07</td><td>3.730</td><td>17.60</td><td>0</td><td>0</td><td>3</td><td>3</td></tr>\n",
              "\t<tr><td>15.2</td><td>8</td><td>275.8</td><td>180</td><td>3.07</td><td>3.780</td><td>18.00</td><td>0</td><td>0</td><td>3</td><td>3</td></tr>\n",
              "\t<tr><td>10.4</td><td>8</td><td>472.0</td><td>205</td><td>2.93</td><td>5.250</td><td>17.98</td><td>0</td><td>0</td><td>3</td><td>4</td></tr>\n",
              "\t<tr><td>10.4</td><td>8</td><td>460.0</td><td>215</td><td>3.00</td><td>5.424</td><td>17.82</td><td>0</td><td>0</td><td>3</td><td>4</td></tr>\n",
              "\t<tr><td>14.7</td><td>8</td><td>440.0</td><td>230</td><td>3.23</td><td>5.345</td><td>17.42</td><td>0</td><td>0</td><td>3</td><td>4</td></tr>\n",
              "\t<tr><td>32.4</td><td>4</td><td> 78.7</td><td> 66</td><td>4.08</td><td>2.200</td><td>19.47</td><td>1</td><td>1</td><td>4</td><td>1</td></tr>\n",
              "\t<tr><td>30.4</td><td>4</td><td> 75.7</td><td> 52</td><td>4.93</td><td>1.615</td><td>18.52</td><td>1</td><td>1</td><td>4</td><td>2</td></tr>\n",
              "\t<tr><td>33.9</td><td>4</td><td> 71.1</td><td> 65</td><td>4.22</td><td>1.835</td><td>19.90</td><td>1</td><td>1</td><td>4</td><td>1</td></tr>\n",
              "\t<tr><td>21.5</td><td>4</td><td>120.1</td><td> 97</td><td>3.70</td><td>2.465</td><td>20.01</td><td>1</td><td>0</td><td>3</td><td>1</td></tr>\n",
              "\t<tr><td>15.5</td><td>8</td><td>318.0</td><td>150</td><td>2.76</td><td>3.520</td><td>16.87</td><td>0</td><td>0</td><td>3</td><td>2</td></tr>\n",
              "\t<tr><td>15.2</td><td>8</td><td>304.0</td><td>150</td><td>3.15</td><td>3.435</td><td>17.30</td><td>0</td><td>0</td><td>3</td><td>2</td></tr>\n",
              "\t<tr><td>13.3</td><td>8</td><td>350.0</td><td>245</td><td>3.73</td><td>3.840</td><td>15.41</td><td>0</td><td>0</td><td>3</td><td>4</td></tr>\n",
              "\t<tr><td>19.2</td><td>8</td><td>400.0</td><td>175</td><td>3.08</td><td>3.845</td><td>17.05</td><td>0</td><td>0</td><td>3</td><td>2</td></tr>\n",
              "\t<tr><td>27.3</td><td>4</td><td> 79.0</td><td> 66</td><td>4.08</td><td>1.935</td><td>18.90</td><td>1</td><td>1</td><td>4</td><td>1</td></tr>\n",
              "\t<tr><td>26.0</td><td>4</td><td>120.3</td><td> 91</td><td>4.43</td><td>2.140</td><td>16.70</td><td>0</td><td>1</td><td>5</td><td>2</td></tr>\n",
              "\t<tr><td>30.4</td><td>4</td><td> 95.1</td><td>113</td><td>3.77</td><td>1.513</td><td>16.90</td><td>1</td><td>1</td><td>5</td><td>2</td></tr>\n",
              "\t<tr><td>15.8</td><td>8</td><td>351.0</td><td>264</td><td>4.22</td><td>3.170</td><td>14.50</td><td>0</td><td>1</td><td>5</td><td>4</td></tr>\n",
              "\t<tr><td>19.7</td><td>6</td><td>145.0</td><td>175</td><td>3.62</td><td>2.770</td><td>15.50</td><td>0</td><td>1</td><td>5</td><td>6</td></tr>\n",
              "\t<tr><td>15.0</td><td>8</td><td>301.0</td><td>335</td><td>3.54</td><td>3.570</td><td>14.60</td><td>0</td><td>1</td><td>5</td><td>8</td></tr>\n",
              "\t<tr><td>21.4</td><td>4</td><td>121.0</td><td>109</td><td>4.11</td><td>2.780</td><td>18.60</td><td>1</td><td>1</td><td>4</td><td>2</td></tr>\n",
              "</tbody>\n",
              "</table>\n"
            ],
            "text/markdown": "\nA tibble: 32 × 11\n\n| mpg &lt;dbl&gt; | cyl &lt;dbl&gt; | disp &lt;dbl&gt; | hp &lt;dbl&gt; | drat &lt;dbl&gt; | wt &lt;dbl&gt; | qsec &lt;dbl&gt; | vs &lt;dbl&gt; | am &lt;dbl&gt; | gear &lt;dbl&gt; | carb &lt;dbl&gt; |\n|---|---|---|---|---|---|---|---|---|---|---|\n| 21.0 | 6 | 160.0 | 110 | 3.90 | 2.620 | 16.46 | 0 | 1 | 4 | 4 |\n| 21.0 | 6 | 160.0 | 110 | 3.90 | 2.875 | 17.02 | 0 | 1 | 4 | 4 |\n| 22.8 | 4 | 108.0 |  93 | 3.85 | 2.320 | 18.61 | 1 | 1 | 4 | 1 |\n| 21.4 | 6 | 258.0 | 110 | 3.08 | 3.215 | 19.44 | 1 | 0 | 3 | 1 |\n| 18.7 | 8 | 360.0 | 175 | 3.15 | 3.440 | 17.02 | 0 | 0 | 3 | 2 |\n| 18.1 | 6 | 225.0 | 105 | 2.76 | 3.460 | 20.22 | 1 | 0 | 3 | 1 |\n| 14.3 | 8 | 360.0 | 245 | 3.21 | 3.570 | 15.84 | 0 | 0 | 3 | 4 |\n| 24.4 | 4 | 146.7 |  62 | 3.69 | 3.190 | 20.00 | 1 | 0 | 4 | 2 |\n| 22.8 | 4 | 140.8 |  95 | 3.92 | 3.150 | 22.90 | 1 | 0 | 4 | 2 |\n| 19.2 | 6 | 167.6 | 123 | 3.92 | 3.440 | 18.30 | 1 | 0 | 4 | 4 |\n| 17.8 | 6 | 167.6 | 123 | 3.92 | 3.440 | 18.90 | 1 | 0 | 4 | 4 |\n| 16.4 | 8 | 275.8 | 180 | 3.07 | 4.070 | 17.40 | 0 | 0 | 3 | 3 |\n| 17.3 | 8 | 275.8 | 180 | 3.07 | 3.730 | 17.60 | 0 | 0 | 3 | 3 |\n| 15.2 | 8 | 275.8 | 180 | 3.07 | 3.780 | 18.00 | 0 | 0 | 3 | 3 |\n| 10.4 | 8 | 472.0 | 205 | 2.93 | 5.250 | 17.98 | 0 | 0 | 3 | 4 |\n| 10.4 | 8 | 460.0 | 215 | 3.00 | 5.424 | 17.82 | 0 | 0 | 3 | 4 |\n| 14.7 | 8 | 440.0 | 230 | 3.23 | 5.345 | 17.42 | 0 | 0 | 3 | 4 |\n| 32.4 | 4 |  78.7 |  66 | 4.08 | 2.200 | 19.47 | 1 | 1 | 4 | 1 |\n| 30.4 | 4 |  75.7 |  52 | 4.93 | 1.615 | 18.52 | 1 | 1 | 4 | 2 |\n| 33.9 | 4 |  71.1 |  65 | 4.22 | 1.835 | 19.90 | 1 | 1 | 4 | 1 |\n| 21.5 | 4 | 120.1 |  97 | 3.70 | 2.465 | 20.01 | 1 | 0 | 3 | 1 |\n| 15.5 | 8 | 318.0 | 150 | 2.76 | 3.520 | 16.87 | 0 | 0 | 3 | 2 |\n| 15.2 | 8 | 304.0 | 150 | 3.15 | 3.435 | 17.30 | 0 | 0 | 3 | 2 |\n| 13.3 | 8 | 350.0 | 245 | 3.73 | 3.840 | 15.41 | 0 | 0 | 3 | 4 |\n| 19.2 | 8 | 400.0 | 175 | 3.08 | 3.845 | 17.05 | 0 | 0 | 3 | 2 |\n| 27.3 | 4 |  79.0 |  66 | 4.08 | 1.935 | 18.90 | 1 | 1 | 4 | 1 |\n| 26.0 | 4 | 120.3 |  91 | 4.43 | 2.140 | 16.70 | 0 | 1 | 5 | 2 |\n| 30.4 | 4 |  95.1 | 113 | 3.77 | 1.513 | 16.90 | 1 | 1 | 5 | 2 |\n| 15.8 | 8 | 351.0 | 264 | 4.22 | 3.170 | 14.50 | 0 | 1 | 5 | 4 |\n| 19.7 | 6 | 145.0 | 175 | 3.62 | 2.770 | 15.50 | 0 | 1 | 5 | 6 |\n| 15.0 | 8 | 301.0 | 335 | 3.54 | 3.570 | 14.60 | 0 | 1 | 5 | 8 |\n| 21.4 | 4 | 121.0 | 109 | 4.11 | 2.780 | 18.60 | 1 | 1 | 4 | 2 |\n\n",
            "text/latex": "A tibble: 32 × 11\n\\begin{tabular}{lllllllllll}\n mpg & cyl & disp & hp & drat & wt & qsec & vs & am & gear & carb\\\\\n <dbl> & <dbl> & <dbl> & <dbl> & <dbl> & <dbl> & <dbl> & <dbl> & <dbl> & <dbl> & <dbl>\\\\\n\\hline\n\t 21.0 & 6 & 160.0 & 110 & 3.90 & 2.620 & 16.46 & 0 & 1 & 4 & 4\\\\\n\t 21.0 & 6 & 160.0 & 110 & 3.90 & 2.875 & 17.02 & 0 & 1 & 4 & 4\\\\\n\t 22.8 & 4 & 108.0 &  93 & 3.85 & 2.320 & 18.61 & 1 & 1 & 4 & 1\\\\\n\t 21.4 & 6 & 258.0 & 110 & 3.08 & 3.215 & 19.44 & 1 & 0 & 3 & 1\\\\\n\t 18.7 & 8 & 360.0 & 175 & 3.15 & 3.440 & 17.02 & 0 & 0 & 3 & 2\\\\\n\t 18.1 & 6 & 225.0 & 105 & 2.76 & 3.460 & 20.22 & 1 & 0 & 3 & 1\\\\\n\t 14.3 & 8 & 360.0 & 245 & 3.21 & 3.570 & 15.84 & 0 & 0 & 3 & 4\\\\\n\t 24.4 & 4 & 146.7 &  62 & 3.69 & 3.190 & 20.00 & 1 & 0 & 4 & 2\\\\\n\t 22.8 & 4 & 140.8 &  95 & 3.92 & 3.150 & 22.90 & 1 & 0 & 4 & 2\\\\\n\t 19.2 & 6 & 167.6 & 123 & 3.92 & 3.440 & 18.30 & 1 & 0 & 4 & 4\\\\\n\t 17.8 & 6 & 167.6 & 123 & 3.92 & 3.440 & 18.90 & 1 & 0 & 4 & 4\\\\\n\t 16.4 & 8 & 275.8 & 180 & 3.07 & 4.070 & 17.40 & 0 & 0 & 3 & 3\\\\\n\t 17.3 & 8 & 275.8 & 180 & 3.07 & 3.730 & 17.60 & 0 & 0 & 3 & 3\\\\\n\t 15.2 & 8 & 275.8 & 180 & 3.07 & 3.780 & 18.00 & 0 & 0 & 3 & 3\\\\\n\t 10.4 & 8 & 472.0 & 205 & 2.93 & 5.250 & 17.98 & 0 & 0 & 3 & 4\\\\\n\t 10.4 & 8 & 460.0 & 215 & 3.00 & 5.424 & 17.82 & 0 & 0 & 3 & 4\\\\\n\t 14.7 & 8 & 440.0 & 230 & 3.23 & 5.345 & 17.42 & 0 & 0 & 3 & 4\\\\\n\t 32.4 & 4 &  78.7 &  66 & 4.08 & 2.200 & 19.47 & 1 & 1 & 4 & 1\\\\\n\t 30.4 & 4 &  75.7 &  52 & 4.93 & 1.615 & 18.52 & 1 & 1 & 4 & 2\\\\\n\t 33.9 & 4 &  71.1 &  65 & 4.22 & 1.835 & 19.90 & 1 & 1 & 4 & 1\\\\\n\t 21.5 & 4 & 120.1 &  97 & 3.70 & 2.465 & 20.01 & 1 & 0 & 3 & 1\\\\\n\t 15.5 & 8 & 318.0 & 150 & 2.76 & 3.520 & 16.87 & 0 & 0 & 3 & 2\\\\\n\t 15.2 & 8 & 304.0 & 150 & 3.15 & 3.435 & 17.30 & 0 & 0 & 3 & 2\\\\\n\t 13.3 & 8 & 350.0 & 245 & 3.73 & 3.840 & 15.41 & 0 & 0 & 3 & 4\\\\\n\t 19.2 & 8 & 400.0 & 175 & 3.08 & 3.845 & 17.05 & 0 & 0 & 3 & 2\\\\\n\t 27.3 & 4 &  79.0 &  66 & 4.08 & 1.935 & 18.90 & 1 & 1 & 4 & 1\\\\\n\t 26.0 & 4 & 120.3 &  91 & 4.43 & 2.140 & 16.70 & 0 & 1 & 5 & 2\\\\\n\t 30.4 & 4 &  95.1 & 113 & 3.77 & 1.513 & 16.90 & 1 & 1 & 5 & 2\\\\\n\t 15.8 & 8 & 351.0 & 264 & 4.22 & 3.170 & 14.50 & 0 & 1 & 5 & 4\\\\\n\t 19.7 & 6 & 145.0 & 175 & 3.62 & 2.770 & 15.50 & 0 & 1 & 5 & 6\\\\\n\t 15.0 & 8 & 301.0 & 335 & 3.54 & 3.570 & 14.60 & 0 & 1 & 5 & 8\\\\\n\t 21.4 & 4 & 121.0 & 109 & 4.11 & 2.780 & 18.60 & 1 & 1 & 4 & 2\\\\\n\\end{tabular}\n",
            "text/plain": [
              "   mpg  cyl disp  hp  drat wt    qsec  vs am gear carb\n",
              "1  21.0 6   160.0 110 3.90 2.620 16.46 0  1  4    4   \n",
              "2  21.0 6   160.0 110 3.90 2.875 17.02 0  1  4    4   \n",
              "3  22.8 4   108.0  93 3.85 2.320 18.61 1  1  4    1   \n",
              "4  21.4 6   258.0 110 3.08 3.215 19.44 1  0  3    1   \n",
              "5  18.7 8   360.0 175 3.15 3.440 17.02 0  0  3    2   \n",
              "6  18.1 6   225.0 105 2.76 3.460 20.22 1  0  3    1   \n",
              "7  14.3 8   360.0 245 3.21 3.570 15.84 0  0  3    4   \n",
              "8  24.4 4   146.7  62 3.69 3.190 20.00 1  0  4    2   \n",
              "9  22.8 4   140.8  95 3.92 3.150 22.90 1  0  4    2   \n",
              "10 19.2 6   167.6 123 3.92 3.440 18.30 1  0  4    4   \n",
              "11 17.8 6   167.6 123 3.92 3.440 18.90 1  0  4    4   \n",
              "12 16.4 8   275.8 180 3.07 4.070 17.40 0  0  3    3   \n",
              "13 17.3 8   275.8 180 3.07 3.730 17.60 0  0  3    3   \n",
              "14 15.2 8   275.8 180 3.07 3.780 18.00 0  0  3    3   \n",
              "15 10.4 8   472.0 205 2.93 5.250 17.98 0  0  3    4   \n",
              "16 10.4 8   460.0 215 3.00 5.424 17.82 0  0  3    4   \n",
              "17 14.7 8   440.0 230 3.23 5.345 17.42 0  0  3    4   \n",
              "18 32.4 4    78.7  66 4.08 2.200 19.47 1  1  4    1   \n",
              "19 30.4 4    75.7  52 4.93 1.615 18.52 1  1  4    2   \n",
              "20 33.9 4    71.1  65 4.22 1.835 19.90 1  1  4    1   \n",
              "21 21.5 4   120.1  97 3.70 2.465 20.01 1  0  3    1   \n",
              "22 15.5 8   318.0 150 2.76 3.520 16.87 0  0  3    2   \n",
              "23 15.2 8   304.0 150 3.15 3.435 17.30 0  0  3    2   \n",
              "24 13.3 8   350.0 245 3.73 3.840 15.41 0  0  3    4   \n",
              "25 19.2 8   400.0 175 3.08 3.845 17.05 0  0  3    2   \n",
              "26 27.3 4    79.0  66 4.08 1.935 18.90 1  1  4    1   \n",
              "27 26.0 4   120.3  91 4.43 2.140 16.70 0  1  5    2   \n",
              "28 30.4 4    95.1 113 3.77 1.513 16.90 1  1  5    2   \n",
              "29 15.8 8   351.0 264 4.22 3.170 14.50 0  1  5    4   \n",
              "30 19.7 6   145.0 175 3.62 2.770 15.50 0  1  5    6   \n",
              "31 15.0 8   301.0 335 3.54 3.570 14.60 0  1  5    8   \n",
              "32 21.4 4   121.0 109 4.11 2.780 18.60 1  1  4    2   "
            ]
          },
          "metadata": {}
        }
      ]
    },
    {
      "cell_type": "code",
      "source": [
        "# 참고 : 시트명을 반환하는 함수 readxl::excel_sheets(path)\n",
        "excel_sheets(path = \"data/data_ex.xlsx\")"
      ],
      "metadata": {
        "colab": {
          "base_uri": "https://localhost:8080/",
          "height": 34
        },
        "id": "fRiYspF2aVkr",
        "outputId": "54d270bd-be29-43fe-9b19-6a21f0d411d9"
      },
      "execution_count": 19,
      "outputs": [
        {
          "output_type": "display_data",
          "data": {
            "text/html": [
              "<style>\n",
              ".list-inline {list-style: none; margin:0; padding: 0}\n",
              ".list-inline>li {display: inline-block}\n",
              ".list-inline>li:not(:last-child)::after {content: \"\\00b7\"; padding: 0 .5ex}\n",
              "</style>\n",
              "<ol class=list-inline><li>'iris'</li><li>'mtcars'</li></ol>\n"
            ],
            "text/markdown": "1. 'iris'\n2. 'mtcars'\n\n\n",
            "text/latex": "\\begin{enumerate*}\n\\item 'iris'\n\\item 'mtcars'\n\\end{enumerate*}\n",
            "text/plain": [
              "[1] \"iris\"   \"mtcars\""
            ]
          },
          "metadata": {}
        }
      ]
    },
    {
      "cell_type": "markdown",
      "source": [
        "- `col_names` : 컬럼명 설정"
      ],
      "metadata": {
        "id": "BMdY6LNPZ44B"
      }
    },
    {
      "cell_type": "code",
      "source": [
        "col_names <- c(\"꽃밭침:길이\", \"꽃받침:너비\", \"꽃잎:길이\", \"꽃잎:너비\", \"품종\")\n",
        "\n",
        "ex <- read_excel(\n",
        "    path = \"data/data_ex.xlsx\",\n",
        "    sheet = 1,\n",
        "    col_names = col_names\n",
        "    )\n",
        "\n",
        "ex"
      ],
      "metadata": {
        "colab": {
          "base_uri": "https://localhost:8080/",
          "height": 1000
        },
        "id": "zg-xozkMZ08S",
        "outputId": "1f6a1c69-ef12-4d7e-f5c7-4ffb88752b73"
      },
      "execution_count": 20,
      "outputs": [
        {
          "output_type": "display_data",
          "data": {
            "text/html": [
              "<table class=\"dataframe\">\n",
              "<caption>A tibble: 151 × 5</caption>\n",
              "<thead>\n",
              "\t<tr><th scope=col>꽃밭침:길이</th><th scope=col>꽃받침:너비</th><th scope=col>꽃잎:길이</th><th scope=col>꽃잎:너비</th><th scope=col>품종</th></tr>\n",
              "\t<tr><th scope=col>&lt;chr&gt;</th><th scope=col>&lt;chr&gt;</th><th scope=col>&lt;chr&gt;</th><th scope=col>&lt;chr&gt;</th><th scope=col>&lt;chr&gt;</th></tr>\n",
              "</thead>\n",
              "<tbody>\n",
              "\t<tr><td>Sepal.Length      </td><td>Sepal.Width       </td><td>Petal.Length      </td><td>Petal.Width</td><td>Species</td></tr>\n",
              "\t<tr><td>5.0999999999999996</td><td>3.5               </td><td>1.4               </td><td>0.2        </td><td>setosa </td></tr>\n",
              "\t<tr><td>4.9000000000000004</td><td>3                 </td><td>1.4               </td><td>0.2        </td><td>setosa </td></tr>\n",
              "\t<tr><td>4.7               </td><td>3.2               </td><td>1.3               </td><td>0.2        </td><td>setosa </td></tr>\n",
              "\t<tr><td>4.5999999999999996</td><td>3.1               </td><td>1.5               </td><td>0.2        </td><td>setosa </td></tr>\n",
              "\t<tr><td>5                 </td><td>3.6               </td><td>1.4               </td><td>0.2        </td><td>setosa </td></tr>\n",
              "\t<tr><td>5.4               </td><td>3.9               </td><td>1.7               </td><td>0.4        </td><td>setosa </td></tr>\n",
              "\t<tr><td>4.5999999999999996</td><td>3.4               </td><td>1.4               </td><td>0.3        </td><td>setosa </td></tr>\n",
              "\t<tr><td>5                 </td><td>3.4               </td><td>1.5               </td><td>0.2        </td><td>setosa </td></tr>\n",
              "\t<tr><td>4.4000000000000004</td><td>2.9               </td><td>1.4               </td><td>0.2        </td><td>setosa </td></tr>\n",
              "\t<tr><td>4.9000000000000004</td><td>3.1               </td><td>1.5               </td><td>0.1        </td><td>setosa </td></tr>\n",
              "\t<tr><td>5.4               </td><td>3.7               </td><td>1.5               </td><td>0.2        </td><td>setosa </td></tr>\n",
              "\t<tr><td>4.8               </td><td>3.4               </td><td>1.6               </td><td>0.2        </td><td>setosa </td></tr>\n",
              "\t<tr><td>4.8               </td><td>3                 </td><td>1.4               </td><td>0.1        </td><td>setosa </td></tr>\n",
              "\t<tr><td>4.3               </td><td>3                 </td><td>1.1000000000000001</td><td>0.1        </td><td>setosa </td></tr>\n",
              "\t<tr><td>5.8               </td><td>4                 </td><td>1.2               </td><td>0.2        </td><td>setosa </td></tr>\n",
              "\t<tr><td>5.7               </td><td>4.4000000000000004</td><td>1.5               </td><td>0.4        </td><td>setosa </td></tr>\n",
              "\t<tr><td>5.4               </td><td>3.9               </td><td>1.3               </td><td>0.4        </td><td>setosa </td></tr>\n",
              "\t<tr><td>5.0999999999999996</td><td>3.5               </td><td>1.4               </td><td>0.3        </td><td>setosa </td></tr>\n",
              "\t<tr><td>5.7               </td><td>3.8               </td><td>1.7               </td><td>0.3        </td><td>setosa </td></tr>\n",
              "\t<tr><td>5.0999999999999996</td><td>3.8               </td><td>1.5               </td><td>0.3        </td><td>setosa </td></tr>\n",
              "\t<tr><td>5.4               </td><td>3.4               </td><td>1.7               </td><td>0.2        </td><td>setosa </td></tr>\n",
              "\t<tr><td>5.0999999999999996</td><td>3.7               </td><td>1.5               </td><td>0.4        </td><td>setosa </td></tr>\n",
              "\t<tr><td>4.5999999999999996</td><td>3.6               </td><td>1                 </td><td>0.2        </td><td>setosa </td></tr>\n",
              "\t<tr><td>5.0999999999999996</td><td>3.3               </td><td>1.7               </td><td>0.5        </td><td>setosa </td></tr>\n",
              "\t<tr><td>4.8               </td><td>3.4               </td><td>1.9               </td><td>0.2        </td><td>setosa </td></tr>\n",
              "\t<tr><td>5                 </td><td>3                 </td><td>1.6               </td><td>0.2        </td><td>setosa </td></tr>\n",
              "\t<tr><td>5                 </td><td>3.4               </td><td>1.6               </td><td>0.4        </td><td>setosa </td></tr>\n",
              "\t<tr><td>5.2               </td><td>3.5               </td><td>1.5               </td><td>0.2        </td><td>setosa </td></tr>\n",
              "\t<tr><td>5.2               </td><td>3.4               </td><td>1.4               </td><td>0.2        </td><td>setosa </td></tr>\n",
              "\t<tr><td>⋮</td><td>⋮</td><td>⋮</td><td>⋮</td><td>⋮</td></tr>\n",
              "\t<tr><td>6.9</td><td>3.2</td><td>5.7               </td><td>2.2999999999999998</td><td>virginica</td></tr>\n",
              "\t<tr><td>5.6</td><td>2.8</td><td>4.9000000000000004</td><td>2                 </td><td>virginica</td></tr>\n",
              "\t<tr><td>7.7</td><td>2.8</td><td>6.7               </td><td>2                 </td><td>virginica</td></tr>\n",
              "\t<tr><td>6.3</td><td>2.7</td><td>4.9000000000000004</td><td>1.8               </td><td>virginica</td></tr>\n",
              "\t<tr><td>6.7</td><td>3.3</td><td>5.7               </td><td>2.1               </td><td>virginica</td></tr>\n",
              "\t<tr><td>7.2</td><td>3.2</td><td>6                 </td><td>1.8               </td><td>virginica</td></tr>\n",
              "\t<tr><td>6.2</td><td>2.8</td><td>4.8               </td><td>1.8               </td><td>virginica</td></tr>\n",
              "\t<tr><td>6.1</td><td>3  </td><td>4.9000000000000004</td><td>1.8               </td><td>virginica</td></tr>\n",
              "\t<tr><td>6.4</td><td>2.8</td><td>5.6               </td><td>2.1               </td><td>virginica</td></tr>\n",
              "\t<tr><td>7.2</td><td>3  </td><td>5.8               </td><td>1.6               </td><td>virginica</td></tr>\n",
              "\t<tr><td>7.4</td><td>2.8</td><td>6.1               </td><td>1.9               </td><td>virginica</td></tr>\n",
              "\t<tr><td>7.9</td><td>3.8</td><td>6.4               </td><td>2                 </td><td>virginica</td></tr>\n",
              "\t<tr><td>6.4</td><td>2.8</td><td>5.6               </td><td>2.2000000000000002</td><td>virginica</td></tr>\n",
              "\t<tr><td>6.3</td><td>2.8</td><td>5.0999999999999996</td><td>1.5               </td><td>virginica</td></tr>\n",
              "\t<tr><td>6.1</td><td>2.6</td><td>5.6               </td><td>1.4               </td><td>virginica</td></tr>\n",
              "\t<tr><td>7.7</td><td>3  </td><td>6.1               </td><td>2.2999999999999998</td><td>virginica</td></tr>\n",
              "\t<tr><td>6.3</td><td>3.4</td><td>5.6               </td><td>2.4               </td><td>virginica</td></tr>\n",
              "\t<tr><td>6.4</td><td>3.1</td><td>5.5               </td><td>1.8               </td><td>virginica</td></tr>\n",
              "\t<tr><td>6  </td><td>3  </td><td>4.8               </td><td>1.8               </td><td>virginica</td></tr>\n",
              "\t<tr><td>6.9</td><td>3.1</td><td>5.4               </td><td>2.1               </td><td>virginica</td></tr>\n",
              "\t<tr><td>6.7</td><td>3.1</td><td>5.6               </td><td>2.4               </td><td>virginica</td></tr>\n",
              "\t<tr><td>6.9</td><td>3.1</td><td>5.0999999999999996</td><td>2.2999999999999998</td><td>virginica</td></tr>\n",
              "\t<tr><td>5.8</td><td>2.7</td><td>5.0999999999999996</td><td>1.9               </td><td>virginica</td></tr>\n",
              "\t<tr><td>6.8</td><td>3.2</td><td>5.9               </td><td>2.2999999999999998</td><td>virginica</td></tr>\n",
              "\t<tr><td>6.7</td><td>3.3</td><td>5.7               </td><td>2.5               </td><td>virginica</td></tr>\n",
              "\t<tr><td>6.7</td><td>3  </td><td>5.2               </td><td>2.2999999999999998</td><td>virginica</td></tr>\n",
              "\t<tr><td>6.3</td><td>2.5</td><td>5                 </td><td>1.9               </td><td>virginica</td></tr>\n",
              "\t<tr><td>6.5</td><td>3  </td><td>5.2               </td><td>2                 </td><td>virginica</td></tr>\n",
              "\t<tr><td>6.2</td><td>3.4</td><td>5.4               </td><td>2.2999999999999998</td><td>virginica</td></tr>\n",
              "\t<tr><td>5.9</td><td>3  </td><td>5.0999999999999996</td><td>1.8               </td><td>virginica</td></tr>\n",
              "</tbody>\n",
              "</table>\n"
            ],
            "text/markdown": "\nA tibble: 151 × 5\n\n| 꽃밭침:길이 &lt;chr&gt; | 꽃받침:너비 &lt;chr&gt; | 꽃잎:길이 &lt;chr&gt; | 꽃잎:너비 &lt;chr&gt; | 품종 &lt;chr&gt; |\n|---|---|---|---|---|\n| Sepal.Length       | Sepal.Width        | Petal.Length       | Petal.Width | Species |\n| 5.0999999999999996 | 3.5                | 1.4                | 0.2         | setosa  |\n| 4.9000000000000004 | 3                  | 1.4                | 0.2         | setosa  |\n| 4.7                | 3.2                | 1.3                | 0.2         | setosa  |\n| 4.5999999999999996 | 3.1                | 1.5                | 0.2         | setosa  |\n| 5                  | 3.6                | 1.4                | 0.2         | setosa  |\n| 5.4                | 3.9                | 1.7                | 0.4         | setosa  |\n| 4.5999999999999996 | 3.4                | 1.4                | 0.3         | setosa  |\n| 5                  | 3.4                | 1.5                | 0.2         | setosa  |\n| 4.4000000000000004 | 2.9                | 1.4                | 0.2         | setosa  |\n| 4.9000000000000004 | 3.1                | 1.5                | 0.1         | setosa  |\n| 5.4                | 3.7                | 1.5                | 0.2         | setosa  |\n| 4.8                | 3.4                | 1.6                | 0.2         | setosa  |\n| 4.8                | 3                  | 1.4                | 0.1         | setosa  |\n| 4.3                | 3                  | 1.1000000000000001 | 0.1         | setosa  |\n| 5.8                | 4                  | 1.2                | 0.2         | setosa  |\n| 5.7                | 4.4000000000000004 | 1.5                | 0.4         | setosa  |\n| 5.4                | 3.9                | 1.3                | 0.4         | setosa  |\n| 5.0999999999999996 | 3.5                | 1.4                | 0.3         | setosa  |\n| 5.7                | 3.8                | 1.7                | 0.3         | setosa  |\n| 5.0999999999999996 | 3.8                | 1.5                | 0.3         | setosa  |\n| 5.4                | 3.4                | 1.7                | 0.2         | setosa  |\n| 5.0999999999999996 | 3.7                | 1.5                | 0.4         | setosa  |\n| 4.5999999999999996 | 3.6                | 1                  | 0.2         | setosa  |\n| 5.0999999999999996 | 3.3                | 1.7                | 0.5         | setosa  |\n| 4.8                | 3.4                | 1.9                | 0.2         | setosa  |\n| 5                  | 3                  | 1.6                | 0.2         | setosa  |\n| 5                  | 3.4                | 1.6                | 0.4         | setosa  |\n| 5.2                | 3.5                | 1.5                | 0.2         | setosa  |\n| 5.2                | 3.4                | 1.4                | 0.2         | setosa  |\n| ⋮ | ⋮ | ⋮ | ⋮ | ⋮ |\n| 6.9 | 3.2 | 5.7                | 2.2999999999999998 | virginica |\n| 5.6 | 2.8 | 4.9000000000000004 | 2                  | virginica |\n| 7.7 | 2.8 | 6.7                | 2                  | virginica |\n| 6.3 | 2.7 | 4.9000000000000004 | 1.8                | virginica |\n| 6.7 | 3.3 | 5.7                | 2.1                | virginica |\n| 7.2 | 3.2 | 6                  | 1.8                | virginica |\n| 6.2 | 2.8 | 4.8                | 1.8                | virginica |\n| 6.1 | 3   | 4.9000000000000004 | 1.8                | virginica |\n| 6.4 | 2.8 | 5.6                | 2.1                | virginica |\n| 7.2 | 3   | 5.8                | 1.6                | virginica |\n| 7.4 | 2.8 | 6.1                | 1.9                | virginica |\n| 7.9 | 3.8 | 6.4                | 2                  | virginica |\n| 6.4 | 2.8 | 5.6                | 2.2000000000000002 | virginica |\n| 6.3 | 2.8 | 5.0999999999999996 | 1.5                | virginica |\n| 6.1 | 2.6 | 5.6                | 1.4                | virginica |\n| 7.7 | 3   | 6.1                | 2.2999999999999998 | virginica |\n| 6.3 | 3.4 | 5.6                | 2.4                | virginica |\n| 6.4 | 3.1 | 5.5                | 1.8                | virginica |\n| 6   | 3   | 4.8                | 1.8                | virginica |\n| 6.9 | 3.1 | 5.4                | 2.1                | virginica |\n| 6.7 | 3.1 | 5.6                | 2.4                | virginica |\n| 6.9 | 3.1 | 5.0999999999999996 | 2.2999999999999998 | virginica |\n| 5.8 | 2.7 | 5.0999999999999996 | 1.9                | virginica |\n| 6.8 | 3.2 | 5.9                | 2.2999999999999998 | virginica |\n| 6.7 | 3.3 | 5.7                | 2.5                | virginica |\n| 6.7 | 3   | 5.2                | 2.2999999999999998 | virginica |\n| 6.3 | 2.5 | 5                  | 1.9                | virginica |\n| 6.5 | 3   | 5.2                | 2                  | virginica |\n| 6.2 | 3.4 | 5.4                | 2.2999999999999998 | virginica |\n| 5.9 | 3   | 5.0999999999999996 | 1.8                | virginica |\n\n",
            "text/latex": "A tibble: 151 × 5\n\\begin{tabular}{lllll}\n 꽃밭침:길이 & 꽃받침:너비 & 꽃잎:길이 & 꽃잎:너비 & 품종\\\\\n <chr> & <chr> & <chr> & <chr> & <chr>\\\\\n\\hline\n\t Sepal.Length       & Sepal.Width        & Petal.Length       & Petal.Width & Species\\\\\n\t 5.0999999999999996 & 3.5                & 1.4                & 0.2         & setosa \\\\\n\t 4.9000000000000004 & 3                  & 1.4                & 0.2         & setosa \\\\\n\t 4.7                & 3.2                & 1.3                & 0.2         & setosa \\\\\n\t 4.5999999999999996 & 3.1                & 1.5                & 0.2         & setosa \\\\\n\t 5                  & 3.6                & 1.4                & 0.2         & setosa \\\\\n\t 5.4                & 3.9                & 1.7                & 0.4         & setosa \\\\\n\t 4.5999999999999996 & 3.4                & 1.4                & 0.3         & setosa \\\\\n\t 5                  & 3.4                & 1.5                & 0.2         & setosa \\\\\n\t 4.4000000000000004 & 2.9                & 1.4                & 0.2         & setosa \\\\\n\t 4.9000000000000004 & 3.1                & 1.5                & 0.1         & setosa \\\\\n\t 5.4                & 3.7                & 1.5                & 0.2         & setosa \\\\\n\t 4.8                & 3.4                & 1.6                & 0.2         & setosa \\\\\n\t 4.8                & 3                  & 1.4                & 0.1         & setosa \\\\\n\t 4.3                & 3                  & 1.1000000000000001 & 0.1         & setosa \\\\\n\t 5.8                & 4                  & 1.2                & 0.2         & setosa \\\\\n\t 5.7                & 4.4000000000000004 & 1.5                & 0.4         & setosa \\\\\n\t 5.4                & 3.9                & 1.3                & 0.4         & setosa \\\\\n\t 5.0999999999999996 & 3.5                & 1.4                & 0.3         & setosa \\\\\n\t 5.7                & 3.8                & 1.7                & 0.3         & setosa \\\\\n\t 5.0999999999999996 & 3.8                & 1.5                & 0.3         & setosa \\\\\n\t 5.4                & 3.4                & 1.7                & 0.2         & setosa \\\\\n\t 5.0999999999999996 & 3.7                & 1.5                & 0.4         & setosa \\\\\n\t 4.5999999999999996 & 3.6                & 1                  & 0.2         & setosa \\\\\n\t 5.0999999999999996 & 3.3                & 1.7                & 0.5         & setosa \\\\\n\t 4.8                & 3.4                & 1.9                & 0.2         & setosa \\\\\n\t 5                  & 3                  & 1.6                & 0.2         & setosa \\\\\n\t 5                  & 3.4                & 1.6                & 0.4         & setosa \\\\\n\t 5.2                & 3.5                & 1.5                & 0.2         & setosa \\\\\n\t 5.2                & 3.4                & 1.4                & 0.2         & setosa \\\\\n\t ⋮ & ⋮ & ⋮ & ⋮ & ⋮\\\\\n\t 6.9 & 3.2 & 5.7                & 2.2999999999999998 & virginica\\\\\n\t 5.6 & 2.8 & 4.9000000000000004 & 2                  & virginica\\\\\n\t 7.7 & 2.8 & 6.7                & 2                  & virginica\\\\\n\t 6.3 & 2.7 & 4.9000000000000004 & 1.8                & virginica\\\\\n\t 6.7 & 3.3 & 5.7                & 2.1                & virginica\\\\\n\t 7.2 & 3.2 & 6                  & 1.8                & virginica\\\\\n\t 6.2 & 2.8 & 4.8                & 1.8                & virginica\\\\\n\t 6.1 & 3   & 4.9000000000000004 & 1.8                & virginica\\\\\n\t 6.4 & 2.8 & 5.6                & 2.1                & virginica\\\\\n\t 7.2 & 3   & 5.8                & 1.6                & virginica\\\\\n\t 7.4 & 2.8 & 6.1                & 1.9                & virginica\\\\\n\t 7.9 & 3.8 & 6.4                & 2                  & virginica\\\\\n\t 6.4 & 2.8 & 5.6                & 2.2000000000000002 & virginica\\\\\n\t 6.3 & 2.8 & 5.0999999999999996 & 1.5                & virginica\\\\\n\t 6.1 & 2.6 & 5.6                & 1.4                & virginica\\\\\n\t 7.7 & 3   & 6.1                & 2.2999999999999998 & virginica\\\\\n\t 6.3 & 3.4 & 5.6                & 2.4                & virginica\\\\\n\t 6.4 & 3.1 & 5.5                & 1.8                & virginica\\\\\n\t 6   & 3   & 4.8                & 1.8                & virginica\\\\\n\t 6.9 & 3.1 & 5.4                & 2.1                & virginica\\\\\n\t 6.7 & 3.1 & 5.6                & 2.4                & virginica\\\\\n\t 6.9 & 3.1 & 5.0999999999999996 & 2.2999999999999998 & virginica\\\\\n\t 5.8 & 2.7 & 5.0999999999999996 & 1.9                & virginica\\\\\n\t 6.8 & 3.2 & 5.9                & 2.2999999999999998 & virginica\\\\\n\t 6.7 & 3.3 & 5.7                & 2.5                & virginica\\\\\n\t 6.7 & 3   & 5.2                & 2.2999999999999998 & virginica\\\\\n\t 6.3 & 2.5 & 5                  & 1.9                & virginica\\\\\n\t 6.5 & 3   & 5.2                & 2                  & virginica\\\\\n\t 6.2 & 3.4 & 5.4                & 2.2999999999999998 & virginica\\\\\n\t 5.9 & 3   & 5.0999999999999996 & 1.8                & virginica\\\\\n\\end{tabular}\n",
            "text/plain": [
              "    꽃밭침:길이        꽃받침:너비        꽃잎:길이          꽃잎:너비         \n",
              "1   Sepal.Length       Sepal.Width        Petal.Length       Petal.Width       \n",
              "2   5.0999999999999996 3.5                1.4                0.2               \n",
              "3   4.9000000000000004 3                  1.4                0.2               \n",
              "4   4.7                3.2                1.3                0.2               \n",
              "5   4.5999999999999996 3.1                1.5                0.2               \n",
              "6   5                  3.6                1.4                0.2               \n",
              "7   5.4                3.9                1.7                0.4               \n",
              "8   4.5999999999999996 3.4                1.4                0.3               \n",
              "9   5                  3.4                1.5                0.2               \n",
              "10  4.4000000000000004 2.9                1.4                0.2               \n",
              "11  4.9000000000000004 3.1                1.5                0.1               \n",
              "12  5.4                3.7                1.5                0.2               \n",
              "13  4.8                3.4                1.6                0.2               \n",
              "14  4.8                3                  1.4                0.1               \n",
              "15  4.3                3                  1.1000000000000001 0.1               \n",
              "16  5.8                4                  1.2                0.2               \n",
              "17  5.7                4.4000000000000004 1.5                0.4               \n",
              "18  5.4                3.9                1.3                0.4               \n",
              "19  5.0999999999999996 3.5                1.4                0.3               \n",
              "20  5.7                3.8                1.7                0.3               \n",
              "21  5.0999999999999996 3.8                1.5                0.3               \n",
              "22  5.4                3.4                1.7                0.2               \n",
              "23  5.0999999999999996 3.7                1.5                0.4               \n",
              "24  4.5999999999999996 3.6                1                  0.2               \n",
              "25  5.0999999999999996 3.3                1.7                0.5               \n",
              "26  4.8                3.4                1.9                0.2               \n",
              "27  5                  3                  1.6                0.2               \n",
              "28  5                  3.4                1.6                0.4               \n",
              "29  5.2                3.5                1.5                0.2               \n",
              "30  5.2                3.4                1.4                0.2               \n",
              "⋮   ⋮                  ⋮                  ⋮                  ⋮                 \n",
              "122 6.9                3.2                5.7                2.2999999999999998\n",
              "123 5.6                2.8                4.9000000000000004 2                 \n",
              "124 7.7                2.8                6.7                2                 \n",
              "125 6.3                2.7                4.9000000000000004 1.8               \n",
              "126 6.7                3.3                5.7                2.1               \n",
              "127 7.2                3.2                6                  1.8               \n",
              "128 6.2                2.8                4.8                1.8               \n",
              "129 6.1                3                  4.9000000000000004 1.8               \n",
              "130 6.4                2.8                5.6                2.1               \n",
              "131 7.2                3                  5.8                1.6               \n",
              "132 7.4                2.8                6.1                1.9               \n",
              "133 7.9                3.8                6.4                2                 \n",
              "134 6.4                2.8                5.6                2.2000000000000002\n",
              "135 6.3                2.8                5.0999999999999996 1.5               \n",
              "136 6.1                2.6                5.6                1.4               \n",
              "137 7.7                3                  6.1                2.2999999999999998\n",
              "138 6.3                3.4                5.6                2.4               \n",
              "139 6.4                3.1                5.5                1.8               \n",
              "140 6                  3                  4.8                1.8               \n",
              "141 6.9                3.1                5.4                2.1               \n",
              "142 6.7                3.1                5.6                2.4               \n",
              "143 6.9                3.1                5.0999999999999996 2.2999999999999998\n",
              "144 5.8                2.7                5.0999999999999996 1.9               \n",
              "145 6.8                3.2                5.9                2.2999999999999998\n",
              "146 6.7                3.3                5.7                2.5               \n",
              "147 6.7                3                  5.2                2.2999999999999998\n",
              "148 6.3                2.5                5                  1.9               \n",
              "149 6.5                3                  5.2                2                 \n",
              "150 6.2                3.4                5.4                2.2999999999999998\n",
              "151 5.9                3                  5.0999999999999996 1.8               \n",
              "    품종     \n",
              "1   Species  \n",
              "2   setosa   \n",
              "3   setosa   \n",
              "4   setosa   \n",
              "5   setosa   \n",
              "6   setosa   \n",
              "7   setosa   \n",
              "8   setosa   \n",
              "9   setosa   \n",
              "10  setosa   \n",
              "11  setosa   \n",
              "12  setosa   \n",
              "13  setosa   \n",
              "14  setosa   \n",
              "15  setosa   \n",
              "16  setosa   \n",
              "17  setosa   \n",
              "18  setosa   \n",
              "19  setosa   \n",
              "20  setosa   \n",
              "21  setosa   \n",
              "22  setosa   \n",
              "23  setosa   \n",
              "24  setosa   \n",
              "25  setosa   \n",
              "26  setosa   \n",
              "27  setosa   \n",
              "28  setosa   \n",
              "29  setosa   \n",
              "30  setosa   \n",
              "⋮   ⋮        \n",
              "122 virginica\n",
              "123 virginica\n",
              "124 virginica\n",
              "125 virginica\n",
              "126 virginica\n",
              "127 virginica\n",
              "128 virginica\n",
              "129 virginica\n",
              "130 virginica\n",
              "131 virginica\n",
              "132 virginica\n",
              "133 virginica\n",
              "134 virginica\n",
              "135 virginica\n",
              "136 virginica\n",
              "137 virginica\n",
              "138 virginica\n",
              "139 virginica\n",
              "140 virginica\n",
              "141 virginica\n",
              "142 virginica\n",
              "143 virginica\n",
              "144 virginica\n",
              "145 virginica\n",
              "146 virginica\n",
              "147 virginica\n",
              "148 virginica\n",
              "149 virginica\n",
              "150 virginica\n",
              "151 virginica"
            ]
          },
          "metadata": {}
        }
      ]
    },
    {
      "cell_type": "markdown",
      "source": [
        "- `range` : 특정 행만 불러오고 싶을 경우"
      ],
      "metadata": {
        "id": "dhDuMB0NZ9u4"
      }
    },
    {
      "cell_type": "code",
      "source": [
        "col_names <- c(\"꽃밭침:길이\", \"꽃받침:너비\", \"꽃잎:길이\", \"꽃잎:너비\", \"품종\")\n",
        "\n",
        "ex <- read_excel(\n",
        "    path = \"data/data_ex.xlsx\",\n",
        "    sheet = 1,\n",
        "    col_names = col_names,\n",
        "    range = cell_rows(4:7)\n",
        "    )\n",
        "\n",
        "ex"
      ],
      "metadata": {
        "colab": {
          "base_uri": "https://localhost:8080/",
          "height": 224
        },
        "id": "n2_JcsE9lLka",
        "outputId": "f5ba590b-d296-443c-bc59-d9a74463420d"
      },
      "execution_count": 21,
      "outputs": [
        {
          "output_type": "display_data",
          "data": {
            "text/html": [
              "<table class=\"dataframe\">\n",
              "<caption>A tibble: 4 × 5</caption>\n",
              "<thead>\n",
              "\t<tr><th scope=col>꽃밭침:길이</th><th scope=col>꽃받침:너비</th><th scope=col>꽃잎:길이</th><th scope=col>꽃잎:너비</th><th scope=col>품종</th></tr>\n",
              "\t<tr><th scope=col>&lt;dbl&gt;</th><th scope=col>&lt;dbl&gt;</th><th scope=col>&lt;dbl&gt;</th><th scope=col>&lt;dbl&gt;</th><th scope=col>&lt;chr&gt;</th></tr>\n",
              "</thead>\n",
              "<tbody>\n",
              "\t<tr><td>4.7</td><td>3.2</td><td>1.3</td><td>0.2</td><td>setosa</td></tr>\n",
              "\t<tr><td>4.6</td><td>3.1</td><td>1.5</td><td>0.2</td><td>setosa</td></tr>\n",
              "\t<tr><td>5.0</td><td>3.6</td><td>1.4</td><td>0.2</td><td>setosa</td></tr>\n",
              "\t<tr><td>5.4</td><td>3.9</td><td>1.7</td><td>0.4</td><td>setosa</td></tr>\n",
              "</tbody>\n",
              "</table>\n"
            ],
            "text/markdown": "\nA tibble: 4 × 5\n\n| 꽃밭침:길이 &lt;dbl&gt; | 꽃받침:너비 &lt;dbl&gt; | 꽃잎:길이 &lt;dbl&gt; | 꽃잎:너비 &lt;dbl&gt; | 품종 &lt;chr&gt; |\n|---|---|---|---|---|\n| 4.7 | 3.2 | 1.3 | 0.2 | setosa |\n| 4.6 | 3.1 | 1.5 | 0.2 | setosa |\n| 5.0 | 3.6 | 1.4 | 0.2 | setosa |\n| 5.4 | 3.9 | 1.7 | 0.4 | setosa |\n\n",
            "text/latex": "A tibble: 4 × 5\n\\begin{tabular}{lllll}\n 꽃밭침:길이 & 꽃받침:너비 & 꽃잎:길이 & 꽃잎:너비 & 품종\\\\\n <dbl> & <dbl> & <dbl> & <dbl> & <chr>\\\\\n\\hline\n\t 4.7 & 3.2 & 1.3 & 0.2 & setosa\\\\\n\t 4.6 & 3.1 & 1.5 & 0.2 & setosa\\\\\n\t 5.0 & 3.6 & 1.4 & 0.2 & setosa\\\\\n\t 5.4 & 3.9 & 1.7 & 0.4 & setosa\\\\\n\\end{tabular}\n",
            "text/plain": [
              "  꽃밭침:길이 꽃받침:너비 꽃잎:길이 꽃잎:너비 품종  \n",
              "1 4.7         3.2         1.3       0.2       setosa\n",
              "2 4.6         3.1         1.5       0.2       setosa\n",
              "3 5.0         3.6         1.4       0.2       setosa\n",
              "4 5.4         3.9         1.7       0.4       setosa"
            ]
          },
          "metadata": {}
        }
      ]
    },
    {
      "cell_type": "markdown",
      "source": [
        "# 3. 자료 저장하기"
      ],
      "metadata": {
        "id": "bRaXj3ixCDcY"
      }
    },
    {
      "cell_type": "markdown",
      "source": [
        "## TXT\n",
        "\n",
        "```\n",
        "write.table(\n",
        "    data,  # 저장할 자료\n",
        "    file,  # 저장할 파일 경로 및 파일명\n",
        "    append = FALSE, # 동일 파일명이 존재할 경우 기존 파일에 이어 붙일 것인지(TRUE), 기존 파일을 덮어쓰기할 것인지(FALSE)\n",
        "    quote = TRUE,   # 컬럼명 및 문자형에 따옴표를 포함할 것인지 여부\n",
        "    sep = \" \",  # 구분자\n",
        "    row.names = TRUE,   # 행 이름(번호) 포함 여부\n",
        "    col.names = TRUE,   # 열 이름(번호) 포함 여부\n",
        "    fileEncoding   # 파일 인코딩 방식 설정\n",
        "    )\n",
        "```"
      ],
      "metadata": {
        "id": "h9aozFk23TsJ"
      }
    },
    {
      "cell_type": "markdown",
      "source": [
        "## CSV\n",
        "\n",
        "```\n",
        "write.csv(\n",
        "    data,  # 저장할 자료\n",
        "    file,  # 저장할 파일 경로 및 파일명\n",
        "    append = FALSE, # 동일 파일명이 존재할 경우 기존 파일에 이어 붙일 것인지(TRUE), 기존 파일을 덮어쓰기할 것인지(FALSE)\n",
        "    quote = TRUE,   # 컬럼명 및 문자형에 따옴표를 포함할 것인지 여부\n",
        "    sep = \",\",  # 구분자\n",
        "    row.names = TRUE,   # 행 이름(번호) 포함 여부\n",
        "    col.names = TRUE,   # 열 이름(번호) 포함 여부\n",
        "    fileEncoding   # 파일 인코딩 방식 설정\n",
        "    )\n",
        "```"
      ],
      "metadata": {
        "id": "AJ65CAPG3Hb6"
      }
    },
    {
      "cell_type": "markdown",
      "source": [
        "## EXCEL\n",
        "\n",
        "```\n",
        "writexl::write_xlsx(\n",
        "    data,   # 저장할 자료\n",
        "    path,   # 저장할 파일 경로 및 파일명\n",
        "    col_names,   # 컬럼명 저장 여부\n",
        "    format_headers  # 컬럼명을 가운데 정렬 및 굵게 표시할지 여부\n",
        "    )\n",
        "```"
      ],
      "metadata": {
        "id": "Lq1WWVThVwbW"
      }
    },
    {
      "cell_type": "code",
      "source": [
        "# 엑셀 파일을 읽어들이는 패키지 설치 및 불러오기\n",
        "install.packages(\"writexl\")\n",
        "library(writexl)"
      ],
      "metadata": {
        "colab": {
          "base_uri": "https://localhost:8080/"
        },
        "id": "CLNlBdESciIo",
        "outputId": "e4d5fcff-cb5b-42d2-e6f2-a4d257d5b4e0"
      },
      "execution_count": 22,
      "outputs": [
        {
          "output_type": "stream",
          "name": "stderr",
          "text": [
            "Installing package into ‘/usr/local/lib/R/site-library’\n",
            "(as ‘lib’ is unspecified)\n",
            "\n"
          ]
        }
      ]
    }
  ]
}