{
  "nbformat": 4,
  "nbformat_minor": 0,
  "metadata": {
    "colab": {
      "provenance": [],
      "toc_visible": true,
      "authorship_tag": "ABX9TyOaQXS0R+gXOZokmyQr65f2",
      "include_colab_link": true
    },
    "kernelspec": {
      "name": "ir",
      "display_name": "R"
    },
    "language_info": {
      "name": "R"
    }
  },
  "cells": [
    {
      "cell_type": "markdown",
      "metadata": {
        "id": "view-in-github",
        "colab_type": "text"
      },
      "source": [
        "<a href=\"https://colab.research.google.com/github/jayarnim/study-RBasicSyntax/blob/main/5_EDA.ipynb\" target=\"_parent\"><img src=\"https://colab.research.google.com/assets/colab-badge.svg\" alt=\"Open In Colab\"/></a>"
      ]
    },
    {
      "cell_type": "code",
      "source": [
        "install.packages(\"readxl\")\n",
        "library(readxl)"
      ],
      "metadata": {
        "colab": {
          "base_uri": "https://localhost:8080/"
        },
        "id": "KKP6cI0NimE6",
        "outputId": "e8443288-00a6-4a6a-83ab-3b3f7f22a1c8"
      },
      "execution_count": 1,
      "outputs": [
        {
          "output_type": "stream",
          "name": "stderr",
          "text": [
            "Installing package into ‘/usr/local/lib/R/site-library’\n",
            "(as ‘lib’ is unspecified)\n",
            "\n",
            "Warning message:\n",
            "“package ‘data/readxl’ is not available for this version of R\n",
            "\n",
            "A version of this package for your version of R might be available elsewhere,\n",
            "see the ideas at\n",
            "https://cran.r-project.org/doc/manuals/r-patched/R-admin.html#Installing-packages”\n"
          ]
        }
      ]
    },
    {
      "cell_type": "code",
      "source": [
        "df <- read_excel(\"data/Sample1.xlsx\")"
      ],
      "metadata": {
        "id": "iurU4AZ3jR5A"
      },
      "execution_count": 26,
      "outputs": []
    },
    {
      "cell_type": "markdown",
      "source": [
        "# 0. Glance"
      ],
      "metadata": {
        "id": "WCk_zoUKkVFE"
      }
    },
    {
      "cell_type": "code",
      "source": [
        "# 데이터 세트 내용 확인\n",
        "View(df)"
      ],
      "metadata": {
        "colab": {
          "base_uri": "https://localhost:8080/",
          "height": 412
        },
        "id": "mHeXQVF5i1vC",
        "outputId": "61fe9c72-88bf-4494-ca71-fc3111c1650b"
      },
      "execution_count": 2,
      "outputs": [
        {
          "output_type": "display_data",
          "data": {
            "text/plain": [
              "   ID SEX AGE AREA AMT17   Y17_CNT AMT16  Y16_CNT\n",
              "1   1 F   50  서울 1300000 50      100000 40     \n",
              "2   2 M   40  경기  450000 25      700000 30     \n",
              "3   3 F   28  제주  275000 10       50000  5     \n",
              "4   4 M   50  서울  400000  8      125000  3     \n",
              "5   5 M   27  서울  845000 30      760000 28     \n",
              "6   6 F   23  서울   42900  1      300000  6     \n",
              "7   7 F   56  경기  150000  2      130000  2     \n",
              "8   8 F   47  서울  570000 10      400000  7     \n",
              "9   9 M   20  인천  930000  4      250000  2     \n",
              "10 10 F   38  경기  520000 17      550000 16     "
            ],
            "text/html": [
              "<table class=\"dataframe\">\n",
              "<caption>A tibble: 10 × 8</caption>\n",
              "<thead>\n",
              "\t<tr><th scope=col>ID</th><th scope=col>SEX</th><th scope=col>AGE</th><th scope=col>AREA</th><th scope=col>AMT17</th><th scope=col>Y17_CNT</th><th scope=col>AMT16</th><th scope=col>Y16_CNT</th></tr>\n",
              "\t<tr><th scope=col>&lt;dbl&gt;</th><th scope=col>&lt;chr&gt;</th><th scope=col>&lt;dbl&gt;</th><th scope=col>&lt;chr&gt;</th><th scope=col>&lt;dbl&gt;</th><th scope=col>&lt;dbl&gt;</th><th scope=col>&lt;dbl&gt;</th><th scope=col>&lt;dbl&gt;</th></tr>\n",
              "</thead>\n",
              "<tbody>\n",
              "\t<tr><td> 1</td><td>F</td><td>50</td><td>서울</td><td>1300000</td><td>50</td><td>100000</td><td>40</td></tr>\n",
              "\t<tr><td> 2</td><td>M</td><td>40</td><td>경기</td><td> 450000</td><td>25</td><td>700000</td><td>30</td></tr>\n",
              "\t<tr><td> 3</td><td>F</td><td>28</td><td>제주</td><td> 275000</td><td>10</td><td> 50000</td><td> 5</td></tr>\n",
              "\t<tr><td> 4</td><td>M</td><td>50</td><td>서울</td><td> 400000</td><td> 8</td><td>125000</td><td> 3</td></tr>\n",
              "\t<tr><td> 5</td><td>M</td><td>27</td><td>서울</td><td> 845000</td><td>30</td><td>760000</td><td>28</td></tr>\n",
              "\t<tr><td> 6</td><td>F</td><td>23</td><td>서울</td><td>  42900</td><td> 1</td><td>300000</td><td> 6</td></tr>\n",
              "\t<tr><td> 7</td><td>F</td><td>56</td><td>경기</td><td> 150000</td><td> 2</td><td>130000</td><td> 2</td></tr>\n",
              "\t<tr><td> 8</td><td>F</td><td>47</td><td>서울</td><td> 570000</td><td>10</td><td>400000</td><td> 7</td></tr>\n",
              "\t<tr><td> 9</td><td>M</td><td>20</td><td>인천</td><td> 930000</td><td> 4</td><td>250000</td><td> 2</td></tr>\n",
              "\t<tr><td>10</td><td>F</td><td>38</td><td>경기</td><td> 520000</td><td>17</td><td>550000</td><td>16</td></tr>\n",
              "</tbody>\n",
              "</table>\n"
            ],
            "text/markdown": "\nA tibble: 10 × 8\n\n| ID &lt;dbl&gt; | SEX &lt;chr&gt; | AGE &lt;dbl&gt; | AREA &lt;chr&gt; | AMT17 &lt;dbl&gt; | Y17_CNT &lt;dbl&gt; | AMT16 &lt;dbl&gt; | Y16_CNT &lt;dbl&gt; |\n|---|---|---|---|---|---|---|---|\n|  1 | F | 50 | 서울 | 1300000 | 50 | 100000 | 40 |\n|  2 | M | 40 | 경기 |  450000 | 25 | 700000 | 30 |\n|  3 | F | 28 | 제주 |  275000 | 10 |  50000 |  5 |\n|  4 | M | 50 | 서울 |  400000 |  8 | 125000 |  3 |\n|  5 | M | 27 | 서울 |  845000 | 30 | 760000 | 28 |\n|  6 | F | 23 | 서울 |   42900 |  1 | 300000 |  6 |\n|  7 | F | 56 | 경기 |  150000 |  2 | 130000 |  2 |\n|  8 | F | 47 | 서울 |  570000 | 10 | 400000 |  7 |\n|  9 | M | 20 | 인천 |  930000 |  4 | 250000 |  2 |\n| 10 | F | 38 | 경기 |  520000 | 17 | 550000 | 16 |\n\n",
            "text/latex": "A tibble: 10 × 8\n\\begin{tabular}{llllllll}\n ID & SEX & AGE & AREA & AMT17 & Y17\\_CNT & AMT16 & Y16\\_CNT\\\\\n <dbl> & <chr> & <dbl> & <chr> & <dbl> & <dbl> & <dbl> & <dbl>\\\\\n\\hline\n\t  1 & F & 50 & 서울 & 1300000 & 50 & 100000 & 40\\\\\n\t  2 & M & 40 & 경기 &  450000 & 25 & 700000 & 30\\\\\n\t  3 & F & 28 & 제주 &  275000 & 10 &  50000 &  5\\\\\n\t  4 & M & 50 & 서울 &  400000 &  8 & 125000 &  3\\\\\n\t  5 & M & 27 & 서울 &  845000 & 30 & 760000 & 28\\\\\n\t  6 & F & 23 & 서울 &   42900 &  1 & 300000 &  6\\\\\n\t  7 & F & 56 & 경기 &  150000 &  2 & 130000 &  2\\\\\n\t  8 & F & 47 & 서울 &  570000 & 10 & 400000 &  7\\\\\n\t  9 & M & 20 & 인천 &  930000 &  4 & 250000 &  2\\\\\n\t 10 & F & 38 & 경기 &  520000 & 17 & 550000 & 16\\\\\n\\end{tabular}\n"
          },
          "metadata": {}
        }
      ]
    },
    {
      "cell_type": "code",
      "source": [
        "# 데이터 세트 변수 확인\n",
        "ls(df)"
      ],
      "metadata": {
        "colab": {
          "base_uri": "https://localhost:8080/",
          "height": 34
        },
        "id": "ij-BO5XTi9M_",
        "outputId": "b90f7419-3ad9-4040-b35a-a4ba2d810a38"
      },
      "execution_count": 3,
      "outputs": [
        {
          "output_type": "display_data",
          "data": {
            "text/html": [
              "<style>\n",
              ".list-inline {list-style: none; margin:0; padding: 0}\n",
              ".list-inline>li {display: inline-block}\n",
              ".list-inline>li:not(:last-child)::after {content: \"\\00b7\"; padding: 0 .5ex}\n",
              "</style>\n",
              "<ol class=list-inline><li>'AGE'</li><li>'AMT16'</li><li>'AMT17'</li><li>'AREA'</li><li>'ID'</li><li>'SEX'</li><li>'Y16_CNT'</li><li>'Y17_CNT'</li></ol>\n"
            ],
            "text/markdown": "1. 'AGE'\n2. 'AMT16'\n3. 'AMT17'\n4. 'AREA'\n5. 'ID'\n6. 'SEX'\n7. 'Y16_CNT'\n8. 'Y17_CNT'\n\n\n",
            "text/latex": "\\begin{enumerate*}\n\\item 'AGE'\n\\item 'AMT16'\n\\item 'AMT17'\n\\item 'AREA'\n\\item 'ID'\n\\item 'SEX'\n\\item 'Y16\\_CNT'\n\\item 'Y17\\_CNT'\n\\end{enumerate*}\n",
            "text/plain": [
              "[1] \"AGE\"     \"AMT16\"   \"AMT17\"   \"AREA\"    \"ID\"      \"SEX\"     \"Y16_CNT\"\n",
              "[8] \"Y17_CNT\""
            ]
          },
          "metadata": {}
        }
      ]
    },
    {
      "cell_type": "code",
      "source": [
        "# 데이터 세트 차원 확인\n",
        "dim(df)"
      ],
      "metadata": {
        "colab": {
          "base_uri": "https://localhost:8080/",
          "height": 34
        },
        "id": "Clkgm_EyjEdo",
        "outputId": "cfcdfb46-eefd-46a7-cb73-a83b6100e64c"
      },
      "execution_count": 4,
      "outputs": [
        {
          "output_type": "display_data",
          "data": {
            "text/html": [
              "<style>\n",
              ".list-inline {list-style: none; margin:0; padding: 0}\n",
              ".list-inline>li {display: inline-block}\n",
              ".list-inline>li:not(:last-child)::after {content: \"\\00b7\"; padding: 0 .5ex}\n",
              "</style>\n",
              "<ol class=list-inline><li>10</li><li>8</li></ol>\n"
            ],
            "text/markdown": "1. 10\n2. 8\n\n\n",
            "text/latex": "\\begin{enumerate*}\n\\item 10\n\\item 8\n\\end{enumerate*}\n",
            "text/plain": [
              "[1] 10  8"
            ]
          },
          "metadata": {}
        }
      ]
    },
    {
      "cell_type": "code",
      "source": [
        "# 데이터 세트 변수 속성 확인\n",
        "str(df)"
      ],
      "metadata": {
        "colab": {
          "base_uri": "https://localhost:8080/"
        },
        "id": "K29PHHrBjI2G",
        "outputId": "f8816366-ee23-4459-fad6-4edbbd0486f7"
      },
      "execution_count": 5,
      "outputs": [
        {
          "output_type": "stream",
          "name": "stdout",
          "text": [
            "tibble [10 × 8] (S3: tbl_df/tbl/data.frame)\n",
            " $ ID     : num [1:10] 1 2 3 4 5 6 7 8 9 10\n",
            " $ SEX    : chr [1:10] \"F\" \"M\" \"F\" \"M\" ...\n",
            " $ AGE    : num [1:10] 50 40 28 50 27 23 56 47 20 38\n",
            " $ AREA   : chr [1:10] \"서울\" \"경기\" \"제주\" \"서울\" ...\n",
            " $ AMT17  : num [1:10] 1300000 450000 275000 400000 845000 42900 150000 570000 930000 520000\n",
            " $ Y17_CNT: num [1:10] 50 25 10 8 30 1 2 10 4 17\n",
            " $ AMT16  : num [1:10] 100000 700000 50000 125000 760000 300000 130000 400000 250000 550000\n",
            " $ Y16_CNT: num [1:10] 40 30 5 3 28 6 2 7 2 16\n"
          ]
        }
      ]
    },
    {
      "cell_type": "markdown",
      "source": [
        "# 1. rename"
      ],
      "metadata": {
        "id": "8Kc6pSIDk76O"
      }
    },
    {
      "cell_type": "code",
      "source": [
        "df <- rename(\n",
        "    df,\n",
        "    CNT17 = Y17_CNT,\n",
        "    CNT16 = Y16_CNT\n",
        "    )\n",
        "\n",
        "df"
      ],
      "metadata": {
        "colab": {
          "base_uri": "https://localhost:8080/",
          "height": 412
        },
        "id": "i6kSyZGEjk60",
        "outputId": "fa91f54d-ed5b-4b8d-c00a-95e8ec5e86a8"
      },
      "execution_count": 27,
      "outputs": [
        {
          "output_type": "display_data",
          "data": {
            "text/html": [
              "<table class=\"dataframe\">\n",
              "<caption>A tibble: 10 × 8</caption>\n",
              "<thead>\n",
              "\t<tr><th scope=col>ID</th><th scope=col>SEX</th><th scope=col>AGE</th><th scope=col>AREA</th><th scope=col>AMT17</th><th scope=col>CNT17</th><th scope=col>AMT16</th><th scope=col>CNT16</th></tr>\n",
              "\t<tr><th scope=col>&lt;dbl&gt;</th><th scope=col>&lt;chr&gt;</th><th scope=col>&lt;dbl&gt;</th><th scope=col>&lt;chr&gt;</th><th scope=col>&lt;dbl&gt;</th><th scope=col>&lt;dbl&gt;</th><th scope=col>&lt;dbl&gt;</th><th scope=col>&lt;dbl&gt;</th></tr>\n",
              "</thead>\n",
              "<tbody>\n",
              "\t<tr><td> 1</td><td>F</td><td>50</td><td>서울</td><td>1300000</td><td>50</td><td>100000</td><td>40</td></tr>\n",
              "\t<tr><td> 2</td><td>M</td><td>40</td><td>경기</td><td> 450000</td><td>25</td><td>700000</td><td>30</td></tr>\n",
              "\t<tr><td> 3</td><td>F</td><td>28</td><td>제주</td><td> 275000</td><td>10</td><td> 50000</td><td> 5</td></tr>\n",
              "\t<tr><td> 4</td><td>M</td><td>50</td><td>서울</td><td> 400000</td><td> 8</td><td>125000</td><td> 3</td></tr>\n",
              "\t<tr><td> 5</td><td>M</td><td>27</td><td>서울</td><td> 845000</td><td>30</td><td>760000</td><td>28</td></tr>\n",
              "\t<tr><td> 6</td><td>F</td><td>23</td><td>서울</td><td>  42900</td><td> 1</td><td>300000</td><td> 6</td></tr>\n",
              "\t<tr><td> 7</td><td>F</td><td>56</td><td>경기</td><td> 150000</td><td> 2</td><td>130000</td><td> 2</td></tr>\n",
              "\t<tr><td> 8</td><td>F</td><td>47</td><td>서울</td><td> 570000</td><td>10</td><td>400000</td><td> 7</td></tr>\n",
              "\t<tr><td> 9</td><td>M</td><td>20</td><td>인천</td><td> 930000</td><td> 4</td><td>250000</td><td> 2</td></tr>\n",
              "\t<tr><td>10</td><td>F</td><td>38</td><td>경기</td><td> 520000</td><td>17</td><td>550000</td><td>16</td></tr>\n",
              "</tbody>\n",
              "</table>\n"
            ],
            "text/markdown": "\nA tibble: 10 × 8\n\n| ID &lt;dbl&gt; | SEX &lt;chr&gt; | AGE &lt;dbl&gt; | AREA &lt;chr&gt; | AMT17 &lt;dbl&gt; | CNT17 &lt;dbl&gt; | AMT16 &lt;dbl&gt; | CNT16 &lt;dbl&gt; |\n|---|---|---|---|---|---|---|---|\n|  1 | F | 50 | 서울 | 1300000 | 50 | 100000 | 40 |\n|  2 | M | 40 | 경기 |  450000 | 25 | 700000 | 30 |\n|  3 | F | 28 | 제주 |  275000 | 10 |  50000 |  5 |\n|  4 | M | 50 | 서울 |  400000 |  8 | 125000 |  3 |\n|  5 | M | 27 | 서울 |  845000 | 30 | 760000 | 28 |\n|  6 | F | 23 | 서울 |   42900 |  1 | 300000 |  6 |\n|  7 | F | 56 | 경기 |  150000 |  2 | 130000 |  2 |\n|  8 | F | 47 | 서울 |  570000 | 10 | 400000 |  7 |\n|  9 | M | 20 | 인천 |  930000 |  4 | 250000 |  2 |\n| 10 | F | 38 | 경기 |  520000 | 17 | 550000 | 16 |\n\n",
            "text/latex": "A tibble: 10 × 8\n\\begin{tabular}{llllllll}\n ID & SEX & AGE & AREA & AMT17 & CNT17 & AMT16 & CNT16\\\\\n <dbl> & <chr> & <dbl> & <chr> & <dbl> & <dbl> & <dbl> & <dbl>\\\\\n\\hline\n\t  1 & F & 50 & 서울 & 1300000 & 50 & 100000 & 40\\\\\n\t  2 & M & 40 & 경기 &  450000 & 25 & 700000 & 30\\\\\n\t  3 & F & 28 & 제주 &  275000 & 10 &  50000 &  5\\\\\n\t  4 & M & 50 & 서울 &  400000 &  8 & 125000 &  3\\\\\n\t  5 & M & 27 & 서울 &  845000 & 30 & 760000 & 28\\\\\n\t  6 & F & 23 & 서울 &   42900 &  1 & 300000 &  6\\\\\n\t  7 & F & 56 & 경기 &  150000 &  2 & 130000 &  2\\\\\n\t  8 & F & 47 & 서울 &  570000 & 10 & 400000 &  7\\\\\n\t  9 & M & 20 & 인천 &  930000 &  4 & 250000 &  2\\\\\n\t 10 & F & 38 & 경기 &  520000 & 17 & 550000 & 16\\\\\n\\end{tabular}\n",
            "text/plain": [
              "   ID SEX AGE AREA AMT17   CNT17 AMT16  CNT16\n",
              "1   1 F   50  서울 1300000 50    100000 40   \n",
              "2   2 M   40  경기  450000 25    700000 30   \n",
              "3   3 F   28  제주  275000 10     50000  5   \n",
              "4   4 M   50  서울  400000  8    125000  3   \n",
              "5   5 M   27  서울  845000 30    760000 28   \n",
              "6   6 F   23  서울   42900  1    300000  6   \n",
              "7   7 F   56  경기  150000  2    130000  2   \n",
              "8   8 F   47  서울  570000 10    400000  7   \n",
              "9   9 M   20  인천  930000  4    250000  2   \n",
              "10 10 F   38  경기  520000 17    550000 16   "
            ]
          },
          "metadata": {}
        }
      ]
    },
    {
      "cell_type": "markdown",
      "source": [
        "# 2. Derived Variables"
      ],
      "metadata": {
        "id": "YEpvpoLPk9W9"
      }
    },
    {
      "cell_type": "code",
      "source": [
        "df <- mutate(\n",
        "    df,\n",
        "    AMT = AMT17 + AMT16,\n",
        "    CNT = CNT17 + CNT16\n",
        "    )\n",
        "\n",
        "df"
      ],
      "metadata": {
        "colab": {
          "base_uri": "https://localhost:8080/",
          "height": 412
        },
        "id": "QjE94DDtjxRz",
        "outputId": "4d65ab28-1ec2-44ee-d78c-71c3937932bb"
      },
      "execution_count": 28,
      "outputs": [
        {
          "output_type": "display_data",
          "data": {
            "text/html": [
              "<table class=\"dataframe\">\n",
              "<caption>A tibble: 10 × 10</caption>\n",
              "<thead>\n",
              "\t<tr><th scope=col>ID</th><th scope=col>SEX</th><th scope=col>AGE</th><th scope=col>AREA</th><th scope=col>AMT17</th><th scope=col>CNT17</th><th scope=col>AMT16</th><th scope=col>CNT16</th><th scope=col>AMT</th><th scope=col>CNT</th></tr>\n",
              "\t<tr><th scope=col>&lt;dbl&gt;</th><th scope=col>&lt;chr&gt;</th><th scope=col>&lt;dbl&gt;</th><th scope=col>&lt;chr&gt;</th><th scope=col>&lt;dbl&gt;</th><th scope=col>&lt;dbl&gt;</th><th scope=col>&lt;dbl&gt;</th><th scope=col>&lt;dbl&gt;</th><th scope=col>&lt;dbl&gt;</th><th scope=col>&lt;dbl&gt;</th></tr>\n",
              "</thead>\n",
              "<tbody>\n",
              "\t<tr><td> 1</td><td>F</td><td>50</td><td>서울</td><td>1300000</td><td>50</td><td>100000</td><td>40</td><td>1400000</td><td>90</td></tr>\n",
              "\t<tr><td> 2</td><td>M</td><td>40</td><td>경기</td><td> 450000</td><td>25</td><td>700000</td><td>30</td><td>1150000</td><td>55</td></tr>\n",
              "\t<tr><td> 3</td><td>F</td><td>28</td><td>제주</td><td> 275000</td><td>10</td><td> 50000</td><td> 5</td><td> 325000</td><td>15</td></tr>\n",
              "\t<tr><td> 4</td><td>M</td><td>50</td><td>서울</td><td> 400000</td><td> 8</td><td>125000</td><td> 3</td><td> 525000</td><td>11</td></tr>\n",
              "\t<tr><td> 5</td><td>M</td><td>27</td><td>서울</td><td> 845000</td><td>30</td><td>760000</td><td>28</td><td>1605000</td><td>58</td></tr>\n",
              "\t<tr><td> 6</td><td>F</td><td>23</td><td>서울</td><td>  42900</td><td> 1</td><td>300000</td><td> 6</td><td> 342900</td><td> 7</td></tr>\n",
              "\t<tr><td> 7</td><td>F</td><td>56</td><td>경기</td><td> 150000</td><td> 2</td><td>130000</td><td> 2</td><td> 280000</td><td> 4</td></tr>\n",
              "\t<tr><td> 8</td><td>F</td><td>47</td><td>서울</td><td> 570000</td><td>10</td><td>400000</td><td> 7</td><td> 970000</td><td>17</td></tr>\n",
              "\t<tr><td> 9</td><td>M</td><td>20</td><td>인천</td><td> 930000</td><td> 4</td><td>250000</td><td> 2</td><td>1180000</td><td> 6</td></tr>\n",
              "\t<tr><td>10</td><td>F</td><td>38</td><td>경기</td><td> 520000</td><td>17</td><td>550000</td><td>16</td><td>1070000</td><td>33</td></tr>\n",
              "</tbody>\n",
              "</table>\n"
            ],
            "text/markdown": "\nA tibble: 10 × 10\n\n| ID &lt;dbl&gt; | SEX &lt;chr&gt; | AGE &lt;dbl&gt; | AREA &lt;chr&gt; | AMT17 &lt;dbl&gt; | CNT17 &lt;dbl&gt; | AMT16 &lt;dbl&gt; | CNT16 &lt;dbl&gt; | AMT &lt;dbl&gt; | CNT &lt;dbl&gt; |\n|---|---|---|---|---|---|---|---|---|---|\n|  1 | F | 50 | 서울 | 1300000 | 50 | 100000 | 40 | 1400000 | 90 |\n|  2 | M | 40 | 경기 |  450000 | 25 | 700000 | 30 | 1150000 | 55 |\n|  3 | F | 28 | 제주 |  275000 | 10 |  50000 |  5 |  325000 | 15 |\n|  4 | M | 50 | 서울 |  400000 |  8 | 125000 |  3 |  525000 | 11 |\n|  5 | M | 27 | 서울 |  845000 | 30 | 760000 | 28 | 1605000 | 58 |\n|  6 | F | 23 | 서울 |   42900 |  1 | 300000 |  6 |  342900 |  7 |\n|  7 | F | 56 | 경기 |  150000 |  2 | 130000 |  2 |  280000 |  4 |\n|  8 | F | 47 | 서울 |  570000 | 10 | 400000 |  7 |  970000 | 17 |\n|  9 | M | 20 | 인천 |  930000 |  4 | 250000 |  2 | 1180000 |  6 |\n| 10 | F | 38 | 경기 |  520000 | 17 | 550000 | 16 | 1070000 | 33 |\n\n",
            "text/latex": "A tibble: 10 × 10\n\\begin{tabular}{llllllllll}\n ID & SEX & AGE & AREA & AMT17 & CNT17 & AMT16 & CNT16 & AMT & CNT\\\\\n <dbl> & <chr> & <dbl> & <chr> & <dbl> & <dbl> & <dbl> & <dbl> & <dbl> & <dbl>\\\\\n\\hline\n\t  1 & F & 50 & 서울 & 1300000 & 50 & 100000 & 40 & 1400000 & 90\\\\\n\t  2 & M & 40 & 경기 &  450000 & 25 & 700000 & 30 & 1150000 & 55\\\\\n\t  3 & F & 28 & 제주 &  275000 & 10 &  50000 &  5 &  325000 & 15\\\\\n\t  4 & M & 50 & 서울 &  400000 &  8 & 125000 &  3 &  525000 & 11\\\\\n\t  5 & M & 27 & 서울 &  845000 & 30 & 760000 & 28 & 1605000 & 58\\\\\n\t  6 & F & 23 & 서울 &   42900 &  1 & 300000 &  6 &  342900 &  7\\\\\n\t  7 & F & 56 & 경기 &  150000 &  2 & 130000 &  2 &  280000 &  4\\\\\n\t  8 & F & 47 & 서울 &  570000 & 10 & 400000 &  7 &  970000 & 17\\\\\n\t  9 & M & 20 & 인천 &  930000 &  4 & 250000 &  2 & 1180000 &  6\\\\\n\t 10 & F & 38 & 경기 &  520000 & 17 & 550000 & 16 & 1070000 & 33\\\\\n\\end{tabular}\n",
            "text/plain": [
              "   ID SEX AGE AREA AMT17   CNT17 AMT16  CNT16 AMT     CNT\n",
              "1   1 F   50  서울 1300000 50    100000 40    1400000 90 \n",
              "2   2 M   40  경기  450000 25    700000 30    1150000 55 \n",
              "3   3 F   28  제주  275000 10     50000  5     325000 15 \n",
              "4   4 M   50  서울  400000  8    125000  3     525000 11 \n",
              "5   5 M   27  서울  845000 30    760000 28    1605000 58 \n",
              "6   6 F   23  서울   42900  1    300000  6     342900  7 \n",
              "7   7 F   56  경기  150000  2    130000  2     280000  4 \n",
              "8   8 F   47  서울  570000 10    400000  7     970000 17 \n",
              "9   9 M   20  인천  930000  4    250000  2    1180000  6 \n",
              "10 10 F   38  경기  520000 17    550000 16    1070000 33 "
            ]
          },
          "metadata": {}
        }
      ]
    },
    {
      "cell_type": "code",
      "source": [
        "df$AVG_AMT <- df$AMT / df$CNT\n",
        "\n",
        "df"
      ],
      "metadata": {
        "colab": {
          "base_uri": "https://localhost:8080/",
          "height": 412
        },
        "id": "q41BbuuKk6-C",
        "outputId": "5c38b2b3-e2f5-4392-9a9b-21de301abf9e"
      },
      "execution_count": 29,
      "outputs": [
        {
          "output_type": "display_data",
          "data": {
            "text/html": [
              "<table class=\"dataframe\">\n",
              "<caption>A tibble: 10 × 11</caption>\n",
              "<thead>\n",
              "\t<tr><th scope=col>ID</th><th scope=col>SEX</th><th scope=col>AGE</th><th scope=col>AREA</th><th scope=col>AMT17</th><th scope=col>CNT17</th><th scope=col>AMT16</th><th scope=col>CNT16</th><th scope=col>AMT</th><th scope=col>CNT</th><th scope=col>AVG_AMT</th></tr>\n",
              "\t<tr><th scope=col>&lt;dbl&gt;</th><th scope=col>&lt;chr&gt;</th><th scope=col>&lt;dbl&gt;</th><th scope=col>&lt;chr&gt;</th><th scope=col>&lt;dbl&gt;</th><th scope=col>&lt;dbl&gt;</th><th scope=col>&lt;dbl&gt;</th><th scope=col>&lt;dbl&gt;</th><th scope=col>&lt;dbl&gt;</th><th scope=col>&lt;dbl&gt;</th><th scope=col>&lt;dbl&gt;</th></tr>\n",
              "</thead>\n",
              "<tbody>\n",
              "\t<tr><td> 1</td><td>F</td><td>50</td><td>서울</td><td>1300000</td><td>50</td><td>100000</td><td>40</td><td>1400000</td><td>90</td><td> 15555.56</td></tr>\n",
              "\t<tr><td> 2</td><td>M</td><td>40</td><td>경기</td><td> 450000</td><td>25</td><td>700000</td><td>30</td><td>1150000</td><td>55</td><td> 20909.09</td></tr>\n",
              "\t<tr><td> 3</td><td>F</td><td>28</td><td>제주</td><td> 275000</td><td>10</td><td> 50000</td><td> 5</td><td> 325000</td><td>15</td><td> 21666.67</td></tr>\n",
              "\t<tr><td> 4</td><td>M</td><td>50</td><td>서울</td><td> 400000</td><td> 8</td><td>125000</td><td> 3</td><td> 525000</td><td>11</td><td> 47727.27</td></tr>\n",
              "\t<tr><td> 5</td><td>M</td><td>27</td><td>서울</td><td> 845000</td><td>30</td><td>760000</td><td>28</td><td>1605000</td><td>58</td><td> 27672.41</td></tr>\n",
              "\t<tr><td> 6</td><td>F</td><td>23</td><td>서울</td><td>  42900</td><td> 1</td><td>300000</td><td> 6</td><td> 342900</td><td> 7</td><td> 48985.71</td></tr>\n",
              "\t<tr><td> 7</td><td>F</td><td>56</td><td>경기</td><td> 150000</td><td> 2</td><td>130000</td><td> 2</td><td> 280000</td><td> 4</td><td> 70000.00</td></tr>\n",
              "\t<tr><td> 8</td><td>F</td><td>47</td><td>서울</td><td> 570000</td><td>10</td><td>400000</td><td> 7</td><td> 970000</td><td>17</td><td> 57058.82</td></tr>\n",
              "\t<tr><td> 9</td><td>M</td><td>20</td><td>인천</td><td> 930000</td><td> 4</td><td>250000</td><td> 2</td><td>1180000</td><td> 6</td><td>196666.67</td></tr>\n",
              "\t<tr><td>10</td><td>F</td><td>38</td><td>경기</td><td> 520000</td><td>17</td><td>550000</td><td>16</td><td>1070000</td><td>33</td><td> 32424.24</td></tr>\n",
              "</tbody>\n",
              "</table>\n"
            ],
            "text/markdown": "\nA tibble: 10 × 11\n\n| ID &lt;dbl&gt; | SEX &lt;chr&gt; | AGE &lt;dbl&gt; | AREA &lt;chr&gt; | AMT17 &lt;dbl&gt; | CNT17 &lt;dbl&gt; | AMT16 &lt;dbl&gt; | CNT16 &lt;dbl&gt; | AMT &lt;dbl&gt; | CNT &lt;dbl&gt; | AVG_AMT &lt;dbl&gt; |\n|---|---|---|---|---|---|---|---|---|---|---|\n|  1 | F | 50 | 서울 | 1300000 | 50 | 100000 | 40 | 1400000 | 90 |  15555.56 |\n|  2 | M | 40 | 경기 |  450000 | 25 | 700000 | 30 | 1150000 | 55 |  20909.09 |\n|  3 | F | 28 | 제주 |  275000 | 10 |  50000 |  5 |  325000 | 15 |  21666.67 |\n|  4 | M | 50 | 서울 |  400000 |  8 | 125000 |  3 |  525000 | 11 |  47727.27 |\n|  5 | M | 27 | 서울 |  845000 | 30 | 760000 | 28 | 1605000 | 58 |  27672.41 |\n|  6 | F | 23 | 서울 |   42900 |  1 | 300000 |  6 |  342900 |  7 |  48985.71 |\n|  7 | F | 56 | 경기 |  150000 |  2 | 130000 |  2 |  280000 |  4 |  70000.00 |\n|  8 | F | 47 | 서울 |  570000 | 10 | 400000 |  7 |  970000 | 17 |  57058.82 |\n|  9 | M | 20 | 인천 |  930000 |  4 | 250000 |  2 | 1180000 |  6 | 196666.67 |\n| 10 | F | 38 | 경기 |  520000 | 17 | 550000 | 16 | 1070000 | 33 |  32424.24 |\n\n",
            "text/latex": "A tibble: 10 × 11\n\\begin{tabular}{lllllllllll}\n ID & SEX & AGE & AREA & AMT17 & CNT17 & AMT16 & CNT16 & AMT & CNT & AVG\\_AMT\\\\\n <dbl> & <chr> & <dbl> & <chr> & <dbl> & <dbl> & <dbl> & <dbl> & <dbl> & <dbl> & <dbl>\\\\\n\\hline\n\t  1 & F & 50 & 서울 & 1300000 & 50 & 100000 & 40 & 1400000 & 90 &  15555.56\\\\\n\t  2 & M & 40 & 경기 &  450000 & 25 & 700000 & 30 & 1150000 & 55 &  20909.09\\\\\n\t  3 & F & 28 & 제주 &  275000 & 10 &  50000 &  5 &  325000 & 15 &  21666.67\\\\\n\t  4 & M & 50 & 서울 &  400000 &  8 & 125000 &  3 &  525000 & 11 &  47727.27\\\\\n\t  5 & M & 27 & 서울 &  845000 & 30 & 760000 & 28 & 1605000 & 58 &  27672.41\\\\\n\t  6 & F & 23 & 서울 &   42900 &  1 & 300000 &  6 &  342900 &  7 &  48985.71\\\\\n\t  7 & F & 56 & 경기 &  150000 &  2 & 130000 &  2 &  280000 &  4 &  70000.00\\\\\n\t  8 & F & 47 & 서울 &  570000 & 10 & 400000 &  7 &  970000 & 17 &  57058.82\\\\\n\t  9 & M & 20 & 인천 &  930000 &  4 & 250000 &  2 & 1180000 &  6 & 196666.67\\\\\n\t 10 & F & 38 & 경기 &  520000 & 17 & 550000 & 16 & 1070000 & 33 &  32424.24\\\\\n\\end{tabular}\n",
            "text/plain": [
              "   ID SEX AGE AREA AMT17   CNT17 AMT16  CNT16 AMT     CNT AVG_AMT  \n",
              "1   1 F   50  서울 1300000 50    100000 40    1400000 90   15555.56\n",
              "2   2 M   40  경기  450000 25    700000 30    1150000 55   20909.09\n",
              "3   3 F   28  제주  275000 10     50000  5     325000 15   21666.67\n",
              "4   4 M   50  서울  400000  8    125000  3     525000 11   47727.27\n",
              "5   5 M   27  서울  845000 30    760000 28    1605000 58   27672.41\n",
              "6   6 F   23  서울   42900  1    300000  6     342900  7   48985.71\n",
              "7   7 F   56  경기  150000  2    130000  2     280000  4   70000.00\n",
              "8   8 F   47  서울  570000 10    400000  7     970000 17   57058.82\n",
              "9   9 M   20  인천  930000  4    250000  2    1180000  6  196666.67\n",
              "10 10 F   38  경기  520000 17    550000 16    1070000 33   32424.24"
            ]
          },
          "metadata": {}
        }
      ]
    },
    {
      "cell_type": "code",
      "source": [
        "df$AGE50_YN <- ifelse(\n",
        "    df$AGE >= 50,\n",
        "    \"Y\",\n",
        "    \"N\"\n",
        "    )\n",
        "\n",
        "df"
      ],
      "metadata": {
        "colab": {
          "base_uri": "https://localhost:8080/",
          "height": 412
        },
        "id": "DoRTxNgjl7Wl",
        "outputId": "9bf2f988-b9e5-45bb-c053-b1d455657b61"
      },
      "execution_count": 30,
      "outputs": [
        {
          "output_type": "display_data",
          "data": {
            "text/html": [
              "<table class=\"dataframe\">\n",
              "<caption>A tibble: 10 × 12</caption>\n",
              "<thead>\n",
              "\t<tr><th scope=col>ID</th><th scope=col>SEX</th><th scope=col>AGE</th><th scope=col>AREA</th><th scope=col>AMT17</th><th scope=col>CNT17</th><th scope=col>AMT16</th><th scope=col>CNT16</th><th scope=col>AMT</th><th scope=col>CNT</th><th scope=col>AVG_AMT</th><th scope=col>AGE50_YN</th></tr>\n",
              "\t<tr><th scope=col>&lt;dbl&gt;</th><th scope=col>&lt;chr&gt;</th><th scope=col>&lt;dbl&gt;</th><th scope=col>&lt;chr&gt;</th><th scope=col>&lt;dbl&gt;</th><th scope=col>&lt;dbl&gt;</th><th scope=col>&lt;dbl&gt;</th><th scope=col>&lt;dbl&gt;</th><th scope=col>&lt;dbl&gt;</th><th scope=col>&lt;dbl&gt;</th><th scope=col>&lt;dbl&gt;</th><th scope=col>&lt;chr&gt;</th></tr>\n",
              "</thead>\n",
              "<tbody>\n",
              "\t<tr><td> 1</td><td>F</td><td>50</td><td>서울</td><td>1300000</td><td>50</td><td>100000</td><td>40</td><td>1400000</td><td>90</td><td> 15555.56</td><td>Y</td></tr>\n",
              "\t<tr><td> 2</td><td>M</td><td>40</td><td>경기</td><td> 450000</td><td>25</td><td>700000</td><td>30</td><td>1150000</td><td>55</td><td> 20909.09</td><td>N</td></tr>\n",
              "\t<tr><td> 3</td><td>F</td><td>28</td><td>제주</td><td> 275000</td><td>10</td><td> 50000</td><td> 5</td><td> 325000</td><td>15</td><td> 21666.67</td><td>N</td></tr>\n",
              "\t<tr><td> 4</td><td>M</td><td>50</td><td>서울</td><td> 400000</td><td> 8</td><td>125000</td><td> 3</td><td> 525000</td><td>11</td><td> 47727.27</td><td>Y</td></tr>\n",
              "\t<tr><td> 5</td><td>M</td><td>27</td><td>서울</td><td> 845000</td><td>30</td><td>760000</td><td>28</td><td>1605000</td><td>58</td><td> 27672.41</td><td>N</td></tr>\n",
              "\t<tr><td> 6</td><td>F</td><td>23</td><td>서울</td><td>  42900</td><td> 1</td><td>300000</td><td> 6</td><td> 342900</td><td> 7</td><td> 48985.71</td><td>N</td></tr>\n",
              "\t<tr><td> 7</td><td>F</td><td>56</td><td>경기</td><td> 150000</td><td> 2</td><td>130000</td><td> 2</td><td> 280000</td><td> 4</td><td> 70000.00</td><td>Y</td></tr>\n",
              "\t<tr><td> 8</td><td>F</td><td>47</td><td>서울</td><td> 570000</td><td>10</td><td>400000</td><td> 7</td><td> 970000</td><td>17</td><td> 57058.82</td><td>N</td></tr>\n",
              "\t<tr><td> 9</td><td>M</td><td>20</td><td>인천</td><td> 930000</td><td> 4</td><td>250000</td><td> 2</td><td>1180000</td><td> 6</td><td>196666.67</td><td>N</td></tr>\n",
              "\t<tr><td>10</td><td>F</td><td>38</td><td>경기</td><td> 520000</td><td>17</td><td>550000</td><td>16</td><td>1070000</td><td>33</td><td> 32424.24</td><td>N</td></tr>\n",
              "</tbody>\n",
              "</table>\n"
            ],
            "text/markdown": "\nA tibble: 10 × 12\n\n| ID &lt;dbl&gt; | SEX &lt;chr&gt; | AGE &lt;dbl&gt; | AREA &lt;chr&gt; | AMT17 &lt;dbl&gt; | CNT17 &lt;dbl&gt; | AMT16 &lt;dbl&gt; | CNT16 &lt;dbl&gt; | AMT &lt;dbl&gt; | CNT &lt;dbl&gt; | AVG_AMT &lt;dbl&gt; | AGE50_YN &lt;chr&gt; |\n|---|---|---|---|---|---|---|---|---|---|---|---|\n|  1 | F | 50 | 서울 | 1300000 | 50 | 100000 | 40 | 1400000 | 90 |  15555.56 | Y |\n|  2 | M | 40 | 경기 |  450000 | 25 | 700000 | 30 | 1150000 | 55 |  20909.09 | N |\n|  3 | F | 28 | 제주 |  275000 | 10 |  50000 |  5 |  325000 | 15 |  21666.67 | N |\n|  4 | M | 50 | 서울 |  400000 |  8 | 125000 |  3 |  525000 | 11 |  47727.27 | Y |\n|  5 | M | 27 | 서울 |  845000 | 30 | 760000 | 28 | 1605000 | 58 |  27672.41 | N |\n|  6 | F | 23 | 서울 |   42900 |  1 | 300000 |  6 |  342900 |  7 |  48985.71 | N |\n|  7 | F | 56 | 경기 |  150000 |  2 | 130000 |  2 |  280000 |  4 |  70000.00 | Y |\n|  8 | F | 47 | 서울 |  570000 | 10 | 400000 |  7 |  970000 | 17 |  57058.82 | N |\n|  9 | M | 20 | 인천 |  930000 |  4 | 250000 |  2 | 1180000 |  6 | 196666.67 | N |\n| 10 | F | 38 | 경기 |  520000 | 17 | 550000 | 16 | 1070000 | 33 |  32424.24 | N |\n\n",
            "text/latex": "A tibble: 10 × 12\n\\begin{tabular}{llllllllllll}\n ID & SEX & AGE & AREA & AMT17 & CNT17 & AMT16 & CNT16 & AMT & CNT & AVG\\_AMT & AGE50\\_YN\\\\\n <dbl> & <chr> & <dbl> & <chr> & <dbl> & <dbl> & <dbl> & <dbl> & <dbl> & <dbl> & <dbl> & <chr>\\\\\n\\hline\n\t  1 & F & 50 & 서울 & 1300000 & 50 & 100000 & 40 & 1400000 & 90 &  15555.56 & Y\\\\\n\t  2 & M & 40 & 경기 &  450000 & 25 & 700000 & 30 & 1150000 & 55 &  20909.09 & N\\\\\n\t  3 & F & 28 & 제주 &  275000 & 10 &  50000 &  5 &  325000 & 15 &  21666.67 & N\\\\\n\t  4 & M & 50 & 서울 &  400000 &  8 & 125000 &  3 &  525000 & 11 &  47727.27 & Y\\\\\n\t  5 & M & 27 & 서울 &  845000 & 30 & 760000 & 28 & 1605000 & 58 &  27672.41 & N\\\\\n\t  6 & F & 23 & 서울 &   42900 &  1 & 300000 &  6 &  342900 &  7 &  48985.71 & N\\\\\n\t  7 & F & 56 & 경기 &  150000 &  2 & 130000 &  2 &  280000 &  4 &  70000.00 & Y\\\\\n\t  8 & F & 47 & 서울 &  570000 & 10 & 400000 &  7 &  970000 & 17 &  57058.82 & N\\\\\n\t  9 & M & 20 & 인천 &  930000 &  4 & 250000 &  2 & 1180000 &  6 & 196666.67 & N\\\\\n\t 10 & F & 38 & 경기 &  520000 & 17 & 550000 & 16 & 1070000 & 33 &  32424.24 & N\\\\\n\\end{tabular}\n",
            "text/plain": [
              "   ID SEX AGE AREA AMT17   CNT17 AMT16  CNT16 AMT     CNT AVG_AMT   AGE50_YN\n",
              "1   1 F   50  서울 1300000 50    100000 40    1400000 90   15555.56 Y       \n",
              "2   2 M   40  경기  450000 25    700000 30    1150000 55   20909.09 N       \n",
              "3   3 F   28  제주  275000 10     50000  5     325000 15   21666.67 N       \n",
              "4   4 M   50  서울  400000  8    125000  3     525000 11   47727.27 Y       \n",
              "5   5 M   27  서울  845000 30    760000 28    1605000 58   27672.41 N       \n",
              "6   6 F   23  서울   42900  1    300000  6     342900  7   48985.71 N       \n",
              "7   7 F   56  경기  150000  2    130000  2     280000  4   70000.00 Y       \n",
              "8   8 F   47  서울  570000 10    400000  7     970000 17   57058.82 N       \n",
              "9   9 M   20  인천  930000  4    250000  2    1180000  6  196666.67 N       \n",
              "10 10 F   38  경기  520000 17    550000 16    1070000 33   32424.24 N       "
            ]
          },
          "metadata": {}
        }
      ]
    },
    {
      "cell_type": "code",
      "source": [
        "df$AGE_GR10 <- ifelse(\n",
        "    df$AGE >= 50,\n",
        "    \"A1.50++\",\n",
        "    ifelse(\n",
        "        df$AGE >= 40,\n",
        "        \"A2.4049\",\n",
        "        ifelse(\n",
        "            df$AGE >= 30,\n",
        "            \"A3.3039\",\n",
        "            ifelse(\n",
        "                df$AGE >= 20,\n",
        "                \"A4.2029\",\n",
        "                \"A5.0019\"\n",
        "                )\n",
        "            )\n",
        "        )\n",
        "    )\n",
        "\n",
        "df"
      ],
      "metadata": {
        "colab": {
          "base_uri": "https://localhost:8080/",
          "height": 412
        },
        "id": "m_bcKnvxogL5",
        "outputId": "a06f92b5-1b52-4231-9966-de8bfb273f55"
      },
      "execution_count": 33,
      "outputs": [
        {
          "output_type": "display_data",
          "data": {
            "text/html": [
              "<table class=\"dataframe\">\n",
              "<caption>A tibble: 10 × 13</caption>\n",
              "<thead>\n",
              "\t<tr><th scope=col>ID</th><th scope=col>SEX</th><th scope=col>AGE</th><th scope=col>AREA</th><th scope=col>AMT17</th><th scope=col>CNT17</th><th scope=col>AMT16</th><th scope=col>CNT16</th><th scope=col>AMT</th><th scope=col>CNT</th><th scope=col>AVG_AMT</th><th scope=col>AGE50_YN</th><th scope=col>AGE_GR10</th></tr>\n",
              "\t<tr><th scope=col>&lt;dbl&gt;</th><th scope=col>&lt;chr&gt;</th><th scope=col>&lt;dbl&gt;</th><th scope=col>&lt;chr&gt;</th><th scope=col>&lt;dbl&gt;</th><th scope=col>&lt;dbl&gt;</th><th scope=col>&lt;dbl&gt;</th><th scope=col>&lt;dbl&gt;</th><th scope=col>&lt;dbl&gt;</th><th scope=col>&lt;dbl&gt;</th><th scope=col>&lt;dbl&gt;</th><th scope=col>&lt;chr&gt;</th><th scope=col>&lt;chr&gt;</th></tr>\n",
              "</thead>\n",
              "<tbody>\n",
              "\t<tr><td> 1</td><td>F</td><td>50</td><td>서울</td><td>1300000</td><td>50</td><td>100000</td><td>40</td><td>1400000</td><td>90</td><td> 15555.56</td><td>Y</td><td>A1.50++</td></tr>\n",
              "\t<tr><td> 2</td><td>M</td><td>40</td><td>경기</td><td> 450000</td><td>25</td><td>700000</td><td>30</td><td>1150000</td><td>55</td><td> 20909.09</td><td>N</td><td>A2.4049</td></tr>\n",
              "\t<tr><td> 3</td><td>F</td><td>28</td><td>제주</td><td> 275000</td><td>10</td><td> 50000</td><td> 5</td><td> 325000</td><td>15</td><td> 21666.67</td><td>N</td><td>A4.2029</td></tr>\n",
              "\t<tr><td> 4</td><td>M</td><td>50</td><td>서울</td><td> 400000</td><td> 8</td><td>125000</td><td> 3</td><td> 525000</td><td>11</td><td> 47727.27</td><td>Y</td><td>A1.50++</td></tr>\n",
              "\t<tr><td> 5</td><td>M</td><td>27</td><td>서울</td><td> 845000</td><td>30</td><td>760000</td><td>28</td><td>1605000</td><td>58</td><td> 27672.41</td><td>N</td><td>A4.2029</td></tr>\n",
              "\t<tr><td> 6</td><td>F</td><td>23</td><td>서울</td><td>  42900</td><td> 1</td><td>300000</td><td> 6</td><td> 342900</td><td> 7</td><td> 48985.71</td><td>N</td><td>A4.2029</td></tr>\n",
              "\t<tr><td> 7</td><td>F</td><td>56</td><td>경기</td><td> 150000</td><td> 2</td><td>130000</td><td> 2</td><td> 280000</td><td> 4</td><td> 70000.00</td><td>Y</td><td>A1.50++</td></tr>\n",
              "\t<tr><td> 8</td><td>F</td><td>47</td><td>서울</td><td> 570000</td><td>10</td><td>400000</td><td> 7</td><td> 970000</td><td>17</td><td> 57058.82</td><td>N</td><td>A2.4049</td></tr>\n",
              "\t<tr><td> 9</td><td>M</td><td>20</td><td>인천</td><td> 930000</td><td> 4</td><td>250000</td><td> 2</td><td>1180000</td><td> 6</td><td>196666.67</td><td>N</td><td>A4.2029</td></tr>\n",
              "\t<tr><td>10</td><td>F</td><td>38</td><td>경기</td><td> 520000</td><td>17</td><td>550000</td><td>16</td><td>1070000</td><td>33</td><td> 32424.24</td><td>N</td><td>A3.3039</td></tr>\n",
              "</tbody>\n",
              "</table>\n"
            ],
            "text/markdown": "\nA tibble: 10 × 13\n\n| ID &lt;dbl&gt; | SEX &lt;chr&gt; | AGE &lt;dbl&gt; | AREA &lt;chr&gt; | AMT17 &lt;dbl&gt; | CNT17 &lt;dbl&gt; | AMT16 &lt;dbl&gt; | CNT16 &lt;dbl&gt; | AMT &lt;dbl&gt; | CNT &lt;dbl&gt; | AVG_AMT &lt;dbl&gt; | AGE50_YN &lt;chr&gt; | AGE_GR10 &lt;chr&gt; |\n|---|---|---|---|---|---|---|---|---|---|---|---|---|\n|  1 | F | 50 | 서울 | 1300000 | 50 | 100000 | 40 | 1400000 | 90 |  15555.56 | Y | A1.50++ |\n|  2 | M | 40 | 경기 |  450000 | 25 | 700000 | 30 | 1150000 | 55 |  20909.09 | N | A2.4049 |\n|  3 | F | 28 | 제주 |  275000 | 10 |  50000 |  5 |  325000 | 15 |  21666.67 | N | A4.2029 |\n|  4 | M | 50 | 서울 |  400000 |  8 | 125000 |  3 |  525000 | 11 |  47727.27 | Y | A1.50++ |\n|  5 | M | 27 | 서울 |  845000 | 30 | 760000 | 28 | 1605000 | 58 |  27672.41 | N | A4.2029 |\n|  6 | F | 23 | 서울 |   42900 |  1 | 300000 |  6 |  342900 |  7 |  48985.71 | N | A4.2029 |\n|  7 | F | 56 | 경기 |  150000 |  2 | 130000 |  2 |  280000 |  4 |  70000.00 | Y | A1.50++ |\n|  8 | F | 47 | 서울 |  570000 | 10 | 400000 |  7 |  970000 | 17 |  57058.82 | N | A2.4049 |\n|  9 | M | 20 | 인천 |  930000 |  4 | 250000 |  2 | 1180000 |  6 | 196666.67 | N | A4.2029 |\n| 10 | F | 38 | 경기 |  520000 | 17 | 550000 | 16 | 1070000 | 33 |  32424.24 | N | A3.3039 |\n\n",
            "text/latex": "A tibble: 10 × 13\n\\begin{tabular}{lllllllllllll}\n ID & SEX & AGE & AREA & AMT17 & CNT17 & AMT16 & CNT16 & AMT & CNT & AVG\\_AMT & AGE50\\_YN & AGE\\_GR10\\\\\n <dbl> & <chr> & <dbl> & <chr> & <dbl> & <dbl> & <dbl> & <dbl> & <dbl> & <dbl> & <dbl> & <chr> & <chr>\\\\\n\\hline\n\t  1 & F & 50 & 서울 & 1300000 & 50 & 100000 & 40 & 1400000 & 90 &  15555.56 & Y & A1.50++\\\\\n\t  2 & M & 40 & 경기 &  450000 & 25 & 700000 & 30 & 1150000 & 55 &  20909.09 & N & A2.4049\\\\\n\t  3 & F & 28 & 제주 &  275000 & 10 &  50000 &  5 &  325000 & 15 &  21666.67 & N & A4.2029\\\\\n\t  4 & M & 50 & 서울 &  400000 &  8 & 125000 &  3 &  525000 & 11 &  47727.27 & Y & A1.50++\\\\\n\t  5 & M & 27 & 서울 &  845000 & 30 & 760000 & 28 & 1605000 & 58 &  27672.41 & N & A4.2029\\\\\n\t  6 & F & 23 & 서울 &   42900 &  1 & 300000 &  6 &  342900 &  7 &  48985.71 & N & A4.2029\\\\\n\t  7 & F & 56 & 경기 &  150000 &  2 & 130000 &  2 &  280000 &  4 &  70000.00 & Y & A1.50++\\\\\n\t  8 & F & 47 & 서울 &  570000 & 10 & 400000 &  7 &  970000 & 17 &  57058.82 & N & A2.4049\\\\\n\t  9 & M & 20 & 인천 &  930000 &  4 & 250000 &  2 & 1180000 &  6 & 196666.67 & N & A4.2029\\\\\n\t 10 & F & 38 & 경기 &  520000 & 17 & 550000 & 16 & 1070000 & 33 &  32424.24 & N & A3.3039\\\\\n\\end{tabular}\n",
            "text/plain": [
              "   ID SEX AGE AREA AMT17   CNT17 AMT16  CNT16 AMT     CNT AVG_AMT   AGE50_YN\n",
              "1   1 F   50  서울 1300000 50    100000 40    1400000 90   15555.56 Y       \n",
              "2   2 M   40  경기  450000 25    700000 30    1150000 55   20909.09 N       \n",
              "3   3 F   28  제주  275000 10     50000  5     325000 15   21666.67 N       \n",
              "4   4 M   50  서울  400000  8    125000  3     525000 11   47727.27 Y       \n",
              "5   5 M   27  서울  845000 30    760000 28    1605000 58   27672.41 N       \n",
              "6   6 F   23  서울   42900  1    300000  6     342900  7   48985.71 N       \n",
              "7   7 F   56  경기  150000  2    130000  2     280000  4   70000.00 Y       \n",
              "8   8 F   47  서울  570000 10    400000  7     970000 17   57058.82 N       \n",
              "9   9 M   20  인천  930000  4    250000  2    1180000  6  196666.67 N       \n",
              "10 10 F   38  경기  520000 17    550000 16    1070000 33   32424.24 N       \n",
              "   AGE_GR10\n",
              "1  A1.50++ \n",
              "2  A2.4049 \n",
              "3  A4.2029 \n",
              "4  A1.50++ \n",
              "5  A4.2029 \n",
              "6  A4.2029 \n",
              "7  A1.50++ \n",
              "8  A2.4049 \n",
              "9  A4.2029 \n",
              "10 A3.3039 "
            ]
          },
          "metadata": {}
        }
      ]
    },
    {
      "cell_type": "markdown",
      "source": [
        "# 3. Filtering"
      ],
      "metadata": {
        "id": "VcP6-AgRCUj8"
      }
    },
    {
      "cell_type": "code",
      "source": [
        "install.packages(\"dplyr\")\n",
        "library(dplyr)"
      ],
      "metadata": {
        "colab": {
          "base_uri": "https://localhost:8080/"
        },
        "id": "wrpU7XTGjZ54",
        "outputId": "195ef9b1-7c4b-4c72-81ae-389dc4fe3fb7"
      },
      "execution_count": 8,
      "outputs": [
        {
          "output_type": "stream",
          "name": "stderr",
          "text": [
            "Installing package into ‘/usr/local/lib/R/site-library’\n",
            "(as ‘lib’ is unspecified)\n",
            "\n",
            "\n",
            "Attaching package: ‘dplyr’\n",
            "\n",
            "\n",
            "The following objects are masked from ‘package:stats’:\n",
            "\n",
            "    filter, lag\n",
            "\n",
            "\n",
            "The following objects are masked from ‘package:base’:\n",
            "\n",
            "    intersect, setdiff, setequal, union\n",
            "\n",
            "\n"
          ]
        }
      ]
    },
    {
      "cell_type": "markdown",
      "source": [
        "## select"
      ],
      "metadata": {
        "id": "SemUzc8cCbdW"
      }
    },
    {
      "cell_type": "code",
      "source": [
        "df %>% select(ID, AREA)"
      ],
      "metadata": {
        "colab": {
          "base_uri": "https://localhost:8080/",
          "height": 412
        },
        "id": "vN09sCXxqC6R",
        "outputId": "ecd9fddb-40e8-467c-b126-d0b1ce259a84"
      },
      "execution_count": 34,
      "outputs": [
        {
          "output_type": "display_data",
          "data": {
            "text/html": [
              "<table class=\"dataframe\">\n",
              "<caption>A tibble: 10 × 2</caption>\n",
              "<thead>\n",
              "\t<tr><th scope=col>ID</th><th scope=col>AREA</th></tr>\n",
              "\t<tr><th scope=col>&lt;dbl&gt;</th><th scope=col>&lt;chr&gt;</th></tr>\n",
              "</thead>\n",
              "<tbody>\n",
              "\t<tr><td> 1</td><td>서울</td></tr>\n",
              "\t<tr><td> 2</td><td>경기</td></tr>\n",
              "\t<tr><td> 3</td><td>제주</td></tr>\n",
              "\t<tr><td> 4</td><td>서울</td></tr>\n",
              "\t<tr><td> 5</td><td>서울</td></tr>\n",
              "\t<tr><td> 6</td><td>서울</td></tr>\n",
              "\t<tr><td> 7</td><td>경기</td></tr>\n",
              "\t<tr><td> 8</td><td>서울</td></tr>\n",
              "\t<tr><td> 9</td><td>인천</td></tr>\n",
              "\t<tr><td>10</td><td>경기</td></tr>\n",
              "</tbody>\n",
              "</table>\n"
            ],
            "text/markdown": "\nA tibble: 10 × 2\n\n| ID &lt;dbl&gt; | AREA &lt;chr&gt; |\n|---|---|\n|  1 | 서울 |\n|  2 | 경기 |\n|  3 | 제주 |\n|  4 | 서울 |\n|  5 | 서울 |\n|  6 | 서울 |\n|  7 | 경기 |\n|  8 | 서울 |\n|  9 | 인천 |\n| 10 | 경기 |\n\n",
            "text/latex": "A tibble: 10 × 2\n\\begin{tabular}{ll}\n ID & AREA\\\\\n <dbl> & <chr>\\\\\n\\hline\n\t  1 & 서울\\\\\n\t  2 & 경기\\\\\n\t  3 & 제주\\\\\n\t  4 & 서울\\\\\n\t  5 & 서울\\\\\n\t  6 & 서울\\\\\n\t  7 & 경기\\\\\n\t  8 & 서울\\\\\n\t  9 & 인천\\\\\n\t 10 & 경기\\\\\n\\end{tabular}\n",
            "text/plain": [
              "   ID AREA\n",
              "1   1 서울\n",
              "2   2 경기\n",
              "3   3 제주\n",
              "4   4 서울\n",
              "5   5 서울\n",
              "6   6 서울\n",
              "7   7 경기\n",
              "8   8 서울\n",
              "9   9 인천\n",
              "10 10 경기"
            ]
          },
          "metadata": {}
        }
      ]
    },
    {
      "cell_type": "code",
      "source": [
        "df %>% select(-SEX, -AGE)"
      ],
      "metadata": {
        "colab": {
          "base_uri": "https://localhost:8080/",
          "height": 412
        },
        "id": "Kob1uMjLqX5p",
        "outputId": "0df78802-34fc-4253-d15f-a40023641faf"
      },
      "execution_count": 40,
      "outputs": [
        {
          "output_type": "display_data",
          "data": {
            "text/html": [
              "<table class=\"dataframe\">\n",
              "<caption>A tibble: 10 × 11</caption>\n",
              "<thead>\n",
              "\t<tr><th scope=col>ID</th><th scope=col>AREA</th><th scope=col>AMT17</th><th scope=col>CNT17</th><th scope=col>AMT16</th><th scope=col>CNT16</th><th scope=col>AMT</th><th scope=col>CNT</th><th scope=col>AVG_AMT</th><th scope=col>AGE50_YN</th><th scope=col>AGE_GR10</th></tr>\n",
              "\t<tr><th scope=col>&lt;dbl&gt;</th><th scope=col>&lt;chr&gt;</th><th scope=col>&lt;dbl&gt;</th><th scope=col>&lt;dbl&gt;</th><th scope=col>&lt;dbl&gt;</th><th scope=col>&lt;dbl&gt;</th><th scope=col>&lt;dbl&gt;</th><th scope=col>&lt;dbl&gt;</th><th scope=col>&lt;dbl&gt;</th><th scope=col>&lt;chr&gt;</th><th scope=col>&lt;chr&gt;</th></tr>\n",
              "</thead>\n",
              "<tbody>\n",
              "\t<tr><td> 1</td><td>서울</td><td>1300000</td><td>50</td><td>100000</td><td>40</td><td>1400000</td><td>90</td><td> 15555.56</td><td>Y</td><td>A1.50++</td></tr>\n",
              "\t<tr><td> 2</td><td>경기</td><td> 450000</td><td>25</td><td>700000</td><td>30</td><td>1150000</td><td>55</td><td> 20909.09</td><td>N</td><td>A2.4049</td></tr>\n",
              "\t<tr><td> 3</td><td>제주</td><td> 275000</td><td>10</td><td> 50000</td><td> 5</td><td> 325000</td><td>15</td><td> 21666.67</td><td>N</td><td>A4.2029</td></tr>\n",
              "\t<tr><td> 4</td><td>서울</td><td> 400000</td><td> 8</td><td>125000</td><td> 3</td><td> 525000</td><td>11</td><td> 47727.27</td><td>Y</td><td>A1.50++</td></tr>\n",
              "\t<tr><td> 5</td><td>서울</td><td> 845000</td><td>30</td><td>760000</td><td>28</td><td>1605000</td><td>58</td><td> 27672.41</td><td>N</td><td>A4.2029</td></tr>\n",
              "\t<tr><td> 6</td><td>서울</td><td>  42900</td><td> 1</td><td>300000</td><td> 6</td><td> 342900</td><td> 7</td><td> 48985.71</td><td>N</td><td>A4.2029</td></tr>\n",
              "\t<tr><td> 7</td><td>경기</td><td> 150000</td><td> 2</td><td>130000</td><td> 2</td><td> 280000</td><td> 4</td><td> 70000.00</td><td>Y</td><td>A1.50++</td></tr>\n",
              "\t<tr><td> 8</td><td>서울</td><td> 570000</td><td>10</td><td>400000</td><td> 7</td><td> 970000</td><td>17</td><td> 57058.82</td><td>N</td><td>A2.4049</td></tr>\n",
              "\t<tr><td> 9</td><td>인천</td><td> 930000</td><td> 4</td><td>250000</td><td> 2</td><td>1180000</td><td> 6</td><td>196666.67</td><td>N</td><td>A4.2029</td></tr>\n",
              "\t<tr><td>10</td><td>경기</td><td> 520000</td><td>17</td><td>550000</td><td>16</td><td>1070000</td><td>33</td><td> 32424.24</td><td>N</td><td>A3.3039</td></tr>\n",
              "</tbody>\n",
              "</table>\n"
            ],
            "text/markdown": "\nA tibble: 10 × 11\n\n| ID &lt;dbl&gt; | AREA &lt;chr&gt; | AMT17 &lt;dbl&gt; | CNT17 &lt;dbl&gt; | AMT16 &lt;dbl&gt; | CNT16 &lt;dbl&gt; | AMT &lt;dbl&gt; | CNT &lt;dbl&gt; | AVG_AMT &lt;dbl&gt; | AGE50_YN &lt;chr&gt; | AGE_GR10 &lt;chr&gt; |\n|---|---|---|---|---|---|---|---|---|---|---|\n|  1 | 서울 | 1300000 | 50 | 100000 | 40 | 1400000 | 90 |  15555.56 | Y | A1.50++ |\n|  2 | 경기 |  450000 | 25 | 700000 | 30 | 1150000 | 55 |  20909.09 | N | A2.4049 |\n|  3 | 제주 |  275000 | 10 |  50000 |  5 |  325000 | 15 |  21666.67 | N | A4.2029 |\n|  4 | 서울 |  400000 |  8 | 125000 |  3 |  525000 | 11 |  47727.27 | Y | A1.50++ |\n|  5 | 서울 |  845000 | 30 | 760000 | 28 | 1605000 | 58 |  27672.41 | N | A4.2029 |\n|  6 | 서울 |   42900 |  1 | 300000 |  6 |  342900 |  7 |  48985.71 | N | A4.2029 |\n|  7 | 경기 |  150000 |  2 | 130000 |  2 |  280000 |  4 |  70000.00 | Y | A1.50++ |\n|  8 | 서울 |  570000 | 10 | 400000 |  7 |  970000 | 17 |  57058.82 | N | A2.4049 |\n|  9 | 인천 |  930000 |  4 | 250000 |  2 | 1180000 |  6 | 196666.67 | N | A4.2029 |\n| 10 | 경기 |  520000 | 17 | 550000 | 16 | 1070000 | 33 |  32424.24 | N | A3.3039 |\n\n",
            "text/latex": "A tibble: 10 × 11\n\\begin{tabular}{lllllllllll}\n ID & AREA & AMT17 & CNT17 & AMT16 & CNT16 & AMT & CNT & AVG\\_AMT & AGE50\\_YN & AGE\\_GR10\\\\\n <dbl> & <chr> & <dbl> & <dbl> & <dbl> & <dbl> & <dbl> & <dbl> & <dbl> & <chr> & <chr>\\\\\n\\hline\n\t  1 & 서울 & 1300000 & 50 & 100000 & 40 & 1400000 & 90 &  15555.56 & Y & A1.50++\\\\\n\t  2 & 경기 &  450000 & 25 & 700000 & 30 & 1150000 & 55 &  20909.09 & N & A2.4049\\\\\n\t  3 & 제주 &  275000 & 10 &  50000 &  5 &  325000 & 15 &  21666.67 & N & A4.2029\\\\\n\t  4 & 서울 &  400000 &  8 & 125000 &  3 &  525000 & 11 &  47727.27 & Y & A1.50++\\\\\n\t  5 & 서울 &  845000 & 30 & 760000 & 28 & 1605000 & 58 &  27672.41 & N & A4.2029\\\\\n\t  6 & 서울 &   42900 &  1 & 300000 &  6 &  342900 &  7 &  48985.71 & N & A4.2029\\\\\n\t  7 & 경기 &  150000 &  2 & 130000 &  2 &  280000 &  4 &  70000.00 & Y & A1.50++\\\\\n\t  8 & 서울 &  570000 & 10 & 400000 &  7 &  970000 & 17 &  57058.82 & N & A2.4049\\\\\n\t  9 & 인천 &  930000 &  4 & 250000 &  2 & 1180000 &  6 & 196666.67 & N & A4.2029\\\\\n\t 10 & 경기 &  520000 & 17 & 550000 & 16 & 1070000 & 33 &  32424.24 & N & A3.3039\\\\\n\\end{tabular}\n",
            "text/plain": [
              "   ID AREA AMT17   CNT17 AMT16  CNT16 AMT     CNT AVG_AMT   AGE50_YN AGE_GR10\n",
              "1   1 서울 1300000 50    100000 40    1400000 90   15555.56 Y        A1.50++ \n",
              "2   2 경기  450000 25    700000 30    1150000 55   20909.09 N        A2.4049 \n",
              "3   3 제주  275000 10     50000  5     325000 15   21666.67 N        A4.2029 \n",
              "4   4 서울  400000  8    125000  3     525000 11   47727.27 Y        A1.50++ \n",
              "5   5 서울  845000 30    760000 28    1605000 58   27672.41 N        A4.2029 \n",
              "6   6 서울   42900  1    300000  6     342900  7   48985.71 N        A4.2029 \n",
              "7   7 경기  150000  2    130000  2     280000  4   70000.00 Y        A1.50++ \n",
              "8   8 서울  570000 10    400000  7     970000 17   57058.82 N        A2.4049 \n",
              "9   9 인천  930000  4    250000  2    1180000  6  196666.67 N        A4.2029 \n",
              "10 10 경기  520000 17    550000 16    1070000 33   32424.24 N        A3.3039 "
            ]
          },
          "metadata": {}
        }
      ]
    },
    {
      "cell_type": "markdown",
      "source": [
        "## filter"
      ],
      "metadata": {
        "id": "zULA_ky2qDJI"
      }
    },
    {
      "cell_type": "code",
      "source": [
        "df %>% filter((AREA == \"서울\") & (CNT17 >= 10))"
      ],
      "metadata": {
        "colab": {
          "base_uri": "https://localhost:8080/",
          "height": 192
        },
        "id": "hbv9PaxYqEFl",
        "outputId": "94f2a23a-d907-42ca-b4de-924311005e80"
      },
      "execution_count": 39,
      "outputs": [
        {
          "output_type": "display_data",
          "data": {
            "text/html": [
              "<table class=\"dataframe\">\n",
              "<caption>A tibble: 3 × 13</caption>\n",
              "<thead>\n",
              "\t<tr><th scope=col>ID</th><th scope=col>SEX</th><th scope=col>AGE</th><th scope=col>AREA</th><th scope=col>AMT17</th><th scope=col>CNT17</th><th scope=col>AMT16</th><th scope=col>CNT16</th><th scope=col>AMT</th><th scope=col>CNT</th><th scope=col>AVG_AMT</th><th scope=col>AGE50_YN</th><th scope=col>AGE_GR10</th></tr>\n",
              "\t<tr><th scope=col>&lt;dbl&gt;</th><th scope=col>&lt;chr&gt;</th><th scope=col>&lt;dbl&gt;</th><th scope=col>&lt;chr&gt;</th><th scope=col>&lt;dbl&gt;</th><th scope=col>&lt;dbl&gt;</th><th scope=col>&lt;dbl&gt;</th><th scope=col>&lt;dbl&gt;</th><th scope=col>&lt;dbl&gt;</th><th scope=col>&lt;dbl&gt;</th><th scope=col>&lt;dbl&gt;</th><th scope=col>&lt;chr&gt;</th><th scope=col>&lt;chr&gt;</th></tr>\n",
              "</thead>\n",
              "<tbody>\n",
              "\t<tr><td>1</td><td>F</td><td>50</td><td>서울</td><td>1300000</td><td>50</td><td>100000</td><td>40</td><td>1400000</td><td>90</td><td>15555.56</td><td>Y</td><td>A1.50++</td></tr>\n",
              "\t<tr><td>5</td><td>M</td><td>27</td><td>서울</td><td> 845000</td><td>30</td><td>760000</td><td>28</td><td>1605000</td><td>58</td><td>27672.41</td><td>N</td><td>A4.2029</td></tr>\n",
              "\t<tr><td>8</td><td>F</td><td>47</td><td>서울</td><td> 570000</td><td>10</td><td>400000</td><td> 7</td><td> 970000</td><td>17</td><td>57058.82</td><td>N</td><td>A2.4049</td></tr>\n",
              "</tbody>\n",
              "</table>\n"
            ],
            "text/markdown": "\nA tibble: 3 × 13\n\n| ID &lt;dbl&gt; | SEX &lt;chr&gt; | AGE &lt;dbl&gt; | AREA &lt;chr&gt; | AMT17 &lt;dbl&gt; | CNT17 &lt;dbl&gt; | AMT16 &lt;dbl&gt; | CNT16 &lt;dbl&gt; | AMT &lt;dbl&gt; | CNT &lt;dbl&gt; | AVG_AMT &lt;dbl&gt; | AGE50_YN &lt;chr&gt; | AGE_GR10 &lt;chr&gt; |\n|---|---|---|---|---|---|---|---|---|---|---|---|---|\n| 1 | F | 50 | 서울 | 1300000 | 50 | 100000 | 40 | 1400000 | 90 | 15555.56 | Y | A1.50++ |\n| 5 | M | 27 | 서울 |  845000 | 30 | 760000 | 28 | 1605000 | 58 | 27672.41 | N | A4.2029 |\n| 8 | F | 47 | 서울 |  570000 | 10 | 400000 |  7 |  970000 | 17 | 57058.82 | N | A2.4049 |\n\n",
            "text/latex": "A tibble: 3 × 13\n\\begin{tabular}{lllllllllllll}\n ID & SEX & AGE & AREA & AMT17 & CNT17 & AMT16 & CNT16 & AMT & CNT & AVG\\_AMT & AGE50\\_YN & AGE\\_GR10\\\\\n <dbl> & <chr> & <dbl> & <chr> & <dbl> & <dbl> & <dbl> & <dbl> & <dbl> & <dbl> & <dbl> & <chr> & <chr>\\\\\n\\hline\n\t 1 & F & 50 & 서울 & 1300000 & 50 & 100000 & 40 & 1400000 & 90 & 15555.56 & Y & A1.50++\\\\\n\t 5 & M & 27 & 서울 &  845000 & 30 & 760000 & 28 & 1605000 & 58 & 27672.41 & N & A4.2029\\\\\n\t 8 & F & 47 & 서울 &  570000 & 10 & 400000 &  7 &  970000 & 17 & 57058.82 & N & A2.4049\\\\\n\\end{tabular}\n",
            "text/plain": [
              "  ID SEX AGE AREA AMT17   CNT17 AMT16  CNT16 AMT     CNT AVG_AMT  AGE50_YN\n",
              "1 1  F   50  서울 1300000 50    100000 40    1400000 90  15555.56 Y       \n",
              "2 5  M   27  서울  845000 30    760000 28    1605000 58  27672.41 N       \n",
              "3 8  F   47  서울  570000 10    400000  7     970000 17  57058.82 N       \n",
              "  AGE_GR10\n",
              "1 A1.50++ \n",
              "2 A4.2029 \n",
              "3 A2.4049 "
            ]
          },
          "metadata": {}
        }
      ]
    },
    {
      "cell_type": "markdown",
      "source": [
        "## arrange"
      ],
      "metadata": {
        "id": "FQoNJTPMCb5e"
      }
    },
    {
      "cell_type": "code",
      "source": [
        "df %>% arrange(AGE)"
      ],
      "metadata": {
        "id": "cSjDvcVYCf7R",
        "colab": {
          "base_uri": "https://localhost:8080/",
          "height": 412
        },
        "outputId": "6462ba3d-bd53-457a-f202-614a1ed3e632"
      },
      "execution_count": 44,
      "outputs": [
        {
          "output_type": "display_data",
          "data": {
            "text/html": [
              "<table class=\"dataframe\">\n",
              "<caption>A tibble: 10 × 13</caption>\n",
              "<thead>\n",
              "\t<tr><th scope=col>ID</th><th scope=col>SEX</th><th scope=col>AGE</th><th scope=col>AREA</th><th scope=col>AMT17</th><th scope=col>CNT17</th><th scope=col>AMT16</th><th scope=col>CNT16</th><th scope=col>AMT</th><th scope=col>CNT</th><th scope=col>AVG_AMT</th><th scope=col>AGE50_YN</th><th scope=col>AGE_GR10</th></tr>\n",
              "\t<tr><th scope=col>&lt;dbl&gt;</th><th scope=col>&lt;chr&gt;</th><th scope=col>&lt;dbl&gt;</th><th scope=col>&lt;chr&gt;</th><th scope=col>&lt;dbl&gt;</th><th scope=col>&lt;dbl&gt;</th><th scope=col>&lt;dbl&gt;</th><th scope=col>&lt;dbl&gt;</th><th scope=col>&lt;dbl&gt;</th><th scope=col>&lt;dbl&gt;</th><th scope=col>&lt;dbl&gt;</th><th scope=col>&lt;chr&gt;</th><th scope=col>&lt;chr&gt;</th></tr>\n",
              "</thead>\n",
              "<tbody>\n",
              "\t<tr><td> 9</td><td>M</td><td>20</td><td>인천</td><td> 930000</td><td> 4</td><td>250000</td><td> 2</td><td>1180000</td><td> 6</td><td>196666.67</td><td>N</td><td>A4.2029</td></tr>\n",
              "\t<tr><td> 6</td><td>F</td><td>23</td><td>서울</td><td>  42900</td><td> 1</td><td>300000</td><td> 6</td><td> 342900</td><td> 7</td><td> 48985.71</td><td>N</td><td>A4.2029</td></tr>\n",
              "\t<tr><td> 5</td><td>M</td><td>27</td><td>서울</td><td> 845000</td><td>30</td><td>760000</td><td>28</td><td>1605000</td><td>58</td><td> 27672.41</td><td>N</td><td>A4.2029</td></tr>\n",
              "\t<tr><td> 3</td><td>F</td><td>28</td><td>제주</td><td> 275000</td><td>10</td><td> 50000</td><td> 5</td><td> 325000</td><td>15</td><td> 21666.67</td><td>N</td><td>A4.2029</td></tr>\n",
              "\t<tr><td>10</td><td>F</td><td>38</td><td>경기</td><td> 520000</td><td>17</td><td>550000</td><td>16</td><td>1070000</td><td>33</td><td> 32424.24</td><td>N</td><td>A3.3039</td></tr>\n",
              "\t<tr><td> 2</td><td>M</td><td>40</td><td>경기</td><td> 450000</td><td>25</td><td>700000</td><td>30</td><td>1150000</td><td>55</td><td> 20909.09</td><td>N</td><td>A2.4049</td></tr>\n",
              "\t<tr><td> 8</td><td>F</td><td>47</td><td>서울</td><td> 570000</td><td>10</td><td>400000</td><td> 7</td><td> 970000</td><td>17</td><td> 57058.82</td><td>N</td><td>A2.4049</td></tr>\n",
              "\t<tr><td> 1</td><td>F</td><td>50</td><td>서울</td><td>1300000</td><td>50</td><td>100000</td><td>40</td><td>1400000</td><td>90</td><td> 15555.56</td><td>Y</td><td>A1.50++</td></tr>\n",
              "\t<tr><td> 4</td><td>M</td><td>50</td><td>서울</td><td> 400000</td><td> 8</td><td>125000</td><td> 3</td><td> 525000</td><td>11</td><td> 47727.27</td><td>Y</td><td>A1.50++</td></tr>\n",
              "\t<tr><td> 7</td><td>F</td><td>56</td><td>경기</td><td> 150000</td><td> 2</td><td>130000</td><td> 2</td><td> 280000</td><td> 4</td><td> 70000.00</td><td>Y</td><td>A1.50++</td></tr>\n",
              "</tbody>\n",
              "</table>\n"
            ],
            "text/markdown": "\nA tibble: 10 × 13\n\n| ID &lt;dbl&gt; | SEX &lt;chr&gt; | AGE &lt;dbl&gt; | AREA &lt;chr&gt; | AMT17 &lt;dbl&gt; | CNT17 &lt;dbl&gt; | AMT16 &lt;dbl&gt; | CNT16 &lt;dbl&gt; | AMT &lt;dbl&gt; | CNT &lt;dbl&gt; | AVG_AMT &lt;dbl&gt; | AGE50_YN &lt;chr&gt; | AGE_GR10 &lt;chr&gt; |\n|---|---|---|---|---|---|---|---|---|---|---|---|---|\n|  9 | M | 20 | 인천 |  930000 |  4 | 250000 |  2 | 1180000 |  6 | 196666.67 | N | A4.2029 |\n|  6 | F | 23 | 서울 |   42900 |  1 | 300000 |  6 |  342900 |  7 |  48985.71 | N | A4.2029 |\n|  5 | M | 27 | 서울 |  845000 | 30 | 760000 | 28 | 1605000 | 58 |  27672.41 | N | A4.2029 |\n|  3 | F | 28 | 제주 |  275000 | 10 |  50000 |  5 |  325000 | 15 |  21666.67 | N | A4.2029 |\n| 10 | F | 38 | 경기 |  520000 | 17 | 550000 | 16 | 1070000 | 33 |  32424.24 | N | A3.3039 |\n|  2 | M | 40 | 경기 |  450000 | 25 | 700000 | 30 | 1150000 | 55 |  20909.09 | N | A2.4049 |\n|  8 | F | 47 | 서울 |  570000 | 10 | 400000 |  7 |  970000 | 17 |  57058.82 | N | A2.4049 |\n|  1 | F | 50 | 서울 | 1300000 | 50 | 100000 | 40 | 1400000 | 90 |  15555.56 | Y | A1.50++ |\n|  4 | M | 50 | 서울 |  400000 |  8 | 125000 |  3 |  525000 | 11 |  47727.27 | Y | A1.50++ |\n|  7 | F | 56 | 경기 |  150000 |  2 | 130000 |  2 |  280000 |  4 |  70000.00 | Y | A1.50++ |\n\n",
            "text/latex": "A tibble: 10 × 13\n\\begin{tabular}{lllllllllllll}\n ID & SEX & AGE & AREA & AMT17 & CNT17 & AMT16 & CNT16 & AMT & CNT & AVG\\_AMT & AGE50\\_YN & AGE\\_GR10\\\\\n <dbl> & <chr> & <dbl> & <chr> & <dbl> & <dbl> & <dbl> & <dbl> & <dbl> & <dbl> & <dbl> & <chr> & <chr>\\\\\n\\hline\n\t  9 & M & 20 & 인천 &  930000 &  4 & 250000 &  2 & 1180000 &  6 & 196666.67 & N & A4.2029\\\\\n\t  6 & F & 23 & 서울 &   42900 &  1 & 300000 &  6 &  342900 &  7 &  48985.71 & N & A4.2029\\\\\n\t  5 & M & 27 & 서울 &  845000 & 30 & 760000 & 28 & 1605000 & 58 &  27672.41 & N & A4.2029\\\\\n\t  3 & F & 28 & 제주 &  275000 & 10 &  50000 &  5 &  325000 & 15 &  21666.67 & N & A4.2029\\\\\n\t 10 & F & 38 & 경기 &  520000 & 17 & 550000 & 16 & 1070000 & 33 &  32424.24 & N & A3.3039\\\\\n\t  2 & M & 40 & 경기 &  450000 & 25 & 700000 & 30 & 1150000 & 55 &  20909.09 & N & A2.4049\\\\\n\t  8 & F & 47 & 서울 &  570000 & 10 & 400000 &  7 &  970000 & 17 &  57058.82 & N & A2.4049\\\\\n\t  1 & F & 50 & 서울 & 1300000 & 50 & 100000 & 40 & 1400000 & 90 &  15555.56 & Y & A1.50++\\\\\n\t  4 & M & 50 & 서울 &  400000 &  8 & 125000 &  3 &  525000 & 11 &  47727.27 & Y & A1.50++\\\\\n\t  7 & F & 56 & 경기 &  150000 &  2 & 130000 &  2 &  280000 &  4 &  70000.00 & Y & A1.50++\\\\\n\\end{tabular}\n",
            "text/plain": [
              "   ID SEX AGE AREA AMT17   CNT17 AMT16  CNT16 AMT     CNT AVG_AMT   AGE50_YN\n",
              "1   9 M   20  인천  930000  4    250000  2    1180000  6  196666.67 N       \n",
              "2   6 F   23  서울   42900  1    300000  6     342900  7   48985.71 N       \n",
              "3   5 M   27  서울  845000 30    760000 28    1605000 58   27672.41 N       \n",
              "4   3 F   28  제주  275000 10     50000  5     325000 15   21666.67 N       \n",
              "5  10 F   38  경기  520000 17    550000 16    1070000 33   32424.24 N       \n",
              "6   2 M   40  경기  450000 25    700000 30    1150000 55   20909.09 N       \n",
              "7   8 F   47  서울  570000 10    400000  7     970000 17   57058.82 N       \n",
              "8   1 F   50  서울 1300000 50    100000 40    1400000 90   15555.56 Y       \n",
              "9   4 M   50  서울  400000  8    125000  3     525000 11   47727.27 Y       \n",
              "10  7 F   56  경기  150000  2    130000  2     280000  4   70000.00 Y       \n",
              "   AGE_GR10\n",
              "1  A4.2029 \n",
              "2  A4.2029 \n",
              "3  A4.2029 \n",
              "4  A4.2029 \n",
              "5  A3.3039 \n",
              "6  A2.4049 \n",
              "7  A2.4049 \n",
              "8  A1.50++ \n",
              "9  A1.50++ \n",
              "10 A1.50++ "
            ]
          },
          "metadata": {}
        }
      ]
    },
    {
      "cell_type": "code",
      "source": [
        "df %>% arrange(desc(AGE))"
      ],
      "metadata": {
        "colab": {
          "base_uri": "https://localhost:8080/",
          "height": 412
        },
        "id": "PEQ3wYMprjdC",
        "outputId": "41cfd81e-97a9-4ea1-d796-0200681270fc"
      },
      "execution_count": 45,
      "outputs": [
        {
          "output_type": "display_data",
          "data": {
            "text/html": [
              "<table class=\"dataframe\">\n",
              "<caption>A tibble: 10 × 13</caption>\n",
              "<thead>\n",
              "\t<tr><th scope=col>ID</th><th scope=col>SEX</th><th scope=col>AGE</th><th scope=col>AREA</th><th scope=col>AMT17</th><th scope=col>CNT17</th><th scope=col>AMT16</th><th scope=col>CNT16</th><th scope=col>AMT</th><th scope=col>CNT</th><th scope=col>AVG_AMT</th><th scope=col>AGE50_YN</th><th scope=col>AGE_GR10</th></tr>\n",
              "\t<tr><th scope=col>&lt;dbl&gt;</th><th scope=col>&lt;chr&gt;</th><th scope=col>&lt;dbl&gt;</th><th scope=col>&lt;chr&gt;</th><th scope=col>&lt;dbl&gt;</th><th scope=col>&lt;dbl&gt;</th><th scope=col>&lt;dbl&gt;</th><th scope=col>&lt;dbl&gt;</th><th scope=col>&lt;dbl&gt;</th><th scope=col>&lt;dbl&gt;</th><th scope=col>&lt;dbl&gt;</th><th scope=col>&lt;chr&gt;</th><th scope=col>&lt;chr&gt;</th></tr>\n",
              "</thead>\n",
              "<tbody>\n",
              "\t<tr><td> 7</td><td>F</td><td>56</td><td>경기</td><td> 150000</td><td> 2</td><td>130000</td><td> 2</td><td> 280000</td><td> 4</td><td> 70000.00</td><td>Y</td><td>A1.50++</td></tr>\n",
              "\t<tr><td> 1</td><td>F</td><td>50</td><td>서울</td><td>1300000</td><td>50</td><td>100000</td><td>40</td><td>1400000</td><td>90</td><td> 15555.56</td><td>Y</td><td>A1.50++</td></tr>\n",
              "\t<tr><td> 4</td><td>M</td><td>50</td><td>서울</td><td> 400000</td><td> 8</td><td>125000</td><td> 3</td><td> 525000</td><td>11</td><td> 47727.27</td><td>Y</td><td>A1.50++</td></tr>\n",
              "\t<tr><td> 8</td><td>F</td><td>47</td><td>서울</td><td> 570000</td><td>10</td><td>400000</td><td> 7</td><td> 970000</td><td>17</td><td> 57058.82</td><td>N</td><td>A2.4049</td></tr>\n",
              "\t<tr><td> 2</td><td>M</td><td>40</td><td>경기</td><td> 450000</td><td>25</td><td>700000</td><td>30</td><td>1150000</td><td>55</td><td> 20909.09</td><td>N</td><td>A2.4049</td></tr>\n",
              "\t<tr><td>10</td><td>F</td><td>38</td><td>경기</td><td> 520000</td><td>17</td><td>550000</td><td>16</td><td>1070000</td><td>33</td><td> 32424.24</td><td>N</td><td>A3.3039</td></tr>\n",
              "\t<tr><td> 3</td><td>F</td><td>28</td><td>제주</td><td> 275000</td><td>10</td><td> 50000</td><td> 5</td><td> 325000</td><td>15</td><td> 21666.67</td><td>N</td><td>A4.2029</td></tr>\n",
              "\t<tr><td> 5</td><td>M</td><td>27</td><td>서울</td><td> 845000</td><td>30</td><td>760000</td><td>28</td><td>1605000</td><td>58</td><td> 27672.41</td><td>N</td><td>A4.2029</td></tr>\n",
              "\t<tr><td> 6</td><td>F</td><td>23</td><td>서울</td><td>  42900</td><td> 1</td><td>300000</td><td> 6</td><td> 342900</td><td> 7</td><td> 48985.71</td><td>N</td><td>A4.2029</td></tr>\n",
              "\t<tr><td> 9</td><td>M</td><td>20</td><td>인천</td><td> 930000</td><td> 4</td><td>250000</td><td> 2</td><td>1180000</td><td> 6</td><td>196666.67</td><td>N</td><td>A4.2029</td></tr>\n",
              "</tbody>\n",
              "</table>\n"
            ],
            "text/markdown": "\nA tibble: 10 × 13\n\n| ID &lt;dbl&gt; | SEX &lt;chr&gt; | AGE &lt;dbl&gt; | AREA &lt;chr&gt; | AMT17 &lt;dbl&gt; | CNT17 &lt;dbl&gt; | AMT16 &lt;dbl&gt; | CNT16 &lt;dbl&gt; | AMT &lt;dbl&gt; | CNT &lt;dbl&gt; | AVG_AMT &lt;dbl&gt; | AGE50_YN &lt;chr&gt; | AGE_GR10 &lt;chr&gt; |\n|---|---|---|---|---|---|---|---|---|---|---|---|---|\n|  7 | F | 56 | 경기 |  150000 |  2 | 130000 |  2 |  280000 |  4 |  70000.00 | Y | A1.50++ |\n|  1 | F | 50 | 서울 | 1300000 | 50 | 100000 | 40 | 1400000 | 90 |  15555.56 | Y | A1.50++ |\n|  4 | M | 50 | 서울 |  400000 |  8 | 125000 |  3 |  525000 | 11 |  47727.27 | Y | A1.50++ |\n|  8 | F | 47 | 서울 |  570000 | 10 | 400000 |  7 |  970000 | 17 |  57058.82 | N | A2.4049 |\n|  2 | M | 40 | 경기 |  450000 | 25 | 700000 | 30 | 1150000 | 55 |  20909.09 | N | A2.4049 |\n| 10 | F | 38 | 경기 |  520000 | 17 | 550000 | 16 | 1070000 | 33 |  32424.24 | N | A3.3039 |\n|  3 | F | 28 | 제주 |  275000 | 10 |  50000 |  5 |  325000 | 15 |  21666.67 | N | A4.2029 |\n|  5 | M | 27 | 서울 |  845000 | 30 | 760000 | 28 | 1605000 | 58 |  27672.41 | N | A4.2029 |\n|  6 | F | 23 | 서울 |   42900 |  1 | 300000 |  6 |  342900 |  7 |  48985.71 | N | A4.2029 |\n|  9 | M | 20 | 인천 |  930000 |  4 | 250000 |  2 | 1180000 |  6 | 196666.67 | N | A4.2029 |\n\n",
            "text/latex": "A tibble: 10 × 13\n\\begin{tabular}{lllllllllllll}\n ID & SEX & AGE & AREA & AMT17 & CNT17 & AMT16 & CNT16 & AMT & CNT & AVG\\_AMT & AGE50\\_YN & AGE\\_GR10\\\\\n <dbl> & <chr> & <dbl> & <chr> & <dbl> & <dbl> & <dbl> & <dbl> & <dbl> & <dbl> & <dbl> & <chr> & <chr>\\\\\n\\hline\n\t  7 & F & 56 & 경기 &  150000 &  2 & 130000 &  2 &  280000 &  4 &  70000.00 & Y & A1.50++\\\\\n\t  1 & F & 50 & 서울 & 1300000 & 50 & 100000 & 40 & 1400000 & 90 &  15555.56 & Y & A1.50++\\\\\n\t  4 & M & 50 & 서울 &  400000 &  8 & 125000 &  3 &  525000 & 11 &  47727.27 & Y & A1.50++\\\\\n\t  8 & F & 47 & 서울 &  570000 & 10 & 400000 &  7 &  970000 & 17 &  57058.82 & N & A2.4049\\\\\n\t  2 & M & 40 & 경기 &  450000 & 25 & 700000 & 30 & 1150000 & 55 &  20909.09 & N & A2.4049\\\\\n\t 10 & F & 38 & 경기 &  520000 & 17 & 550000 & 16 & 1070000 & 33 &  32424.24 & N & A3.3039\\\\\n\t  3 & F & 28 & 제주 &  275000 & 10 &  50000 &  5 &  325000 & 15 &  21666.67 & N & A4.2029\\\\\n\t  5 & M & 27 & 서울 &  845000 & 30 & 760000 & 28 & 1605000 & 58 &  27672.41 & N & A4.2029\\\\\n\t  6 & F & 23 & 서울 &   42900 &  1 & 300000 &  6 &  342900 &  7 &  48985.71 & N & A4.2029\\\\\n\t  9 & M & 20 & 인천 &  930000 &  4 & 250000 &  2 & 1180000 &  6 & 196666.67 & N & A4.2029\\\\\n\\end{tabular}\n",
            "text/plain": [
              "   ID SEX AGE AREA AMT17   CNT17 AMT16  CNT16 AMT     CNT AVG_AMT   AGE50_YN\n",
              "1   7 F   56  경기  150000  2    130000  2     280000  4   70000.00 Y       \n",
              "2   1 F   50  서울 1300000 50    100000 40    1400000 90   15555.56 Y       \n",
              "3   4 M   50  서울  400000  8    125000  3     525000 11   47727.27 Y       \n",
              "4   8 F   47  서울  570000 10    400000  7     970000 17   57058.82 N       \n",
              "5   2 M   40  경기  450000 25    700000 30    1150000 55   20909.09 N       \n",
              "6  10 F   38  경기  520000 17    550000 16    1070000 33   32424.24 N       \n",
              "7   3 F   28  제주  275000 10     50000  5     325000 15   21666.67 N       \n",
              "8   5 M   27  서울  845000 30    760000 28    1605000 58   27672.41 N       \n",
              "9   6 F   23  서울   42900  1    300000  6     342900  7   48985.71 N       \n",
              "10  9 M   20  인천  930000  4    250000  2    1180000  6  196666.67 N       \n",
              "   AGE_GR10\n",
              "1  A1.50++ \n",
              "2  A1.50++ \n",
              "3  A1.50++ \n",
              "4  A2.4049 \n",
              "5  A2.4049 \n",
              "6  A3.3039 \n",
              "7  A4.2029 \n",
              "8  A4.2029 \n",
              "9  A4.2029 \n",
              "10 A4.2029 "
            ]
          },
          "metadata": {}
        }
      ]
    },
    {
      "cell_type": "markdown",
      "source": [
        "# 4. Aggregating"
      ],
      "metadata": {
        "id": "G6z4lNnkCgPC"
      }
    },
    {
      "cell_type": "markdown",
      "source": [
        "## Statistic Functions"
      ],
      "metadata": {
        "id": "kLplPD8UBN12"
      }
    },
    {
      "cell_type": "code",
      "source": [
        "install.packages(\"psych\")\n",
        "library(psych)"
      ],
      "metadata": {
        "colab": {
          "base_uri": "https://localhost:8080/"
        },
        "id": "rrACLouP_wzN",
        "outputId": "fc42dc57-85fb-4318-83a2-e833a5494c9f"
      },
      "execution_count": 59,
      "outputs": [
        {
          "output_type": "stream",
          "name": "stderr",
          "text": [
            "Installing package into ‘/usr/local/lib/R/site-library’\n",
            "(as ‘lib’ is unspecified)\n",
            "\n",
            "also installing the dependency ‘mnormt’\n",
            "\n",
            "\n"
          ]
        }
      ]
    },
    {
      "cell_type": "code",
      "source": [
        "# 합계\n",
        "sum(df$AGE)\n",
        "\n",
        "# 평균\n",
        "mean(df$AGE)\n",
        "\n",
        "# 중앙값\n",
        "median(df$AGE)\n",
        "\n",
        "# 최댓값\n",
        "max(df$AGE)\n",
        "\n",
        "# 최솟값\n",
        "min(df$AGE)\n",
        "\n",
        "# 범위\n",
        "range(df$AGE)\n",
        "\n",
        "# 분위수\n",
        "quantile(df$AGE, probs = seq(0, 1, 0.25))\n",
        "\n",
        "# 분산\n",
        "var(df$AGE)\n",
        "\n",
        "# 표준편차\n",
        "sd(df$AGE)\n",
        "\n",
        "# 첨도\n",
        "kurtosi(df$AGE)\n",
        "\n",
        "# 왜도\n",
        "skew(df$AGE)"
      ],
      "metadata": {
        "colab": {
          "base_uri": "https://localhost:8080/",
          "height": 208
        },
        "id": "FPucM3p3-zPc",
        "outputId": "6c65aaa3-1d26-400c-bdf5-f5882e680755"
      },
      "execution_count": 64,
      "outputs": [
        {
          "output_type": "display_data",
          "data": {
            "text/html": [
              "379"
            ],
            "text/markdown": "379",
            "text/latex": "379",
            "text/plain": [
              "[1] 379"
            ]
          },
          "metadata": {}
        },
        {
          "output_type": "display_data",
          "data": {
            "text/html": [
              "37.9"
            ],
            "text/markdown": "37.9",
            "text/latex": "37.9",
            "text/plain": [
              "[1] 37.9"
            ]
          },
          "metadata": {}
        },
        {
          "output_type": "display_data",
          "data": {
            "text/html": [
              "39"
            ],
            "text/markdown": "39",
            "text/latex": "39",
            "text/plain": [
              "[1] 39"
            ]
          },
          "metadata": {}
        },
        {
          "output_type": "display_data",
          "data": {
            "text/html": [
              "56"
            ],
            "text/markdown": "56",
            "text/latex": "56",
            "text/plain": [
              "[1] 56"
            ]
          },
          "metadata": {}
        },
        {
          "output_type": "display_data",
          "data": {
            "text/html": [
              "20"
            ],
            "text/markdown": "20",
            "text/latex": "20",
            "text/plain": [
              "[1] 20"
            ]
          },
          "metadata": {}
        },
        {
          "output_type": "display_data",
          "data": {
            "text/html": [
              "<style>\n",
              ".list-inline {list-style: none; margin:0; padding: 0}\n",
              ".list-inline>li {display: inline-block}\n",
              ".list-inline>li:not(:last-child)::after {content: \"\\00b7\"; padding: 0 .5ex}\n",
              "</style>\n",
              "<ol class=list-inline><li>20</li><li>56</li></ol>\n"
            ],
            "text/markdown": "1. 20\n2. 56\n\n\n",
            "text/latex": "\\begin{enumerate*}\n\\item 20\n\\item 56\n\\end{enumerate*}\n",
            "text/plain": [
              "[1] 20 56"
            ]
          },
          "metadata": {}
        },
        {
          "output_type": "display_data",
          "data": {
            "text/html": [
              "<style>\n",
              ".dl-inline {width: auto; margin:0; padding: 0}\n",
              ".dl-inline>dt, .dl-inline>dd {float: none; width: auto; display: inline-block}\n",
              ".dl-inline>dt::after {content: \":\\0020\"; padding-right: .5ex}\n",
              ".dl-inline>dt:not(:first-of-type) {padding-left: .5ex}\n",
              "</style><dl class=dl-inline><dt>0%</dt><dd>20</dd><dt>25%</dt><dd>27.25</dd><dt>50%</dt><dd>39</dd><dt>75%</dt><dd>49.25</dd><dt>100%</dt><dd>56</dd></dl>\n"
            ],
            "text/markdown": "0%\n:   2025%\n:   27.2550%\n:   3975%\n:   49.25100%\n:   56\n\n",
            "text/latex": "\\begin{description*}\n\\item[0\\textbackslash{}\\%] 20\n\\item[25\\textbackslash{}\\%] 27.25\n\\item[50\\textbackslash{}\\%] 39\n\\item[75\\textbackslash{}\\%] 49.25\n\\item[100\\textbackslash{}\\%] 56\n\\end{description*}\n",
            "text/plain": [
              "   0%   25%   50%   75%  100% \n",
              "20.00 27.25 39.00 49.25 56.00 "
            ]
          },
          "metadata": {}
        },
        {
          "output_type": "display_data",
          "data": {
            "text/html": [
              "162.988888888889"
            ],
            "text/markdown": "162.988888888889",
            "text/latex": "162.988888888889",
            "text/plain": [
              "[1] 162.9889"
            ]
          },
          "metadata": {}
        },
        {
          "output_type": "display_data",
          "data": {
            "text/html": [
              "12.7667101826935"
            ],
            "text/markdown": "12.7667101826935",
            "text/latex": "12.7667101826935",
            "text/plain": [
              "[1] 12.76671"
            ]
          },
          "metadata": {}
        },
        {
          "output_type": "display_data",
          "data": {
            "text/html": [
              "-1.74743051562411"
            ],
            "text/markdown": "-1.74743051562411",
            "text/latex": "-1.74743051562411",
            "text/plain": [
              "[1] -1.747431"
            ]
          },
          "metadata": {}
        },
        {
          "output_type": "display_data",
          "data": {
            "text/html": [
              "-0.0515620697742034"
            ],
            "text/markdown": "-0.0515620697742034",
            "text/latex": "-0.0515620697742034",
            "text/plain": [
              "[1] -0.05156207"
            ]
          },
          "metadata": {}
        }
      ]
    },
    {
      "cell_type": "code",
      "source": [
        "summary(df)"
      ],
      "metadata": {
        "colab": {
          "base_uri": "https://localhost:8080/",
          "height": 517
        },
        "id": "WXMUZZFM_nv4",
        "outputId": "94aeeaee-69ae-4681-920c-4fff2c4b81a9"
      },
      "execution_count": 80,
      "outputs": [
        {
          "output_type": "display_data",
          "data": {
            "text/plain": [
              "       ID            SEX                 AGE            AREA          \n",
              " Min.   : 1.00   Length:10          Min.   :20.00   Length:10         \n",
              " 1st Qu.: 3.25   Class :character   1st Qu.:27.25   Class :character  \n",
              " Median : 5.50   Mode  :character   Median :39.00   Mode  :character  \n",
              " Mean   : 5.50                      Mean   :37.90                     \n",
              " 3rd Qu.: 7.75                      3rd Qu.:49.25                     \n",
              " Max.   :10.00                      Max.   :56.00                     \n",
              "     AMT17             CNT17          AMT16            CNT16     \n",
              " Min.   :  42900   Min.   : 1.0   Min.   : 50000   Min.   : 2.0  \n",
              " 1st Qu.: 306250   1st Qu.: 5.0   1st Qu.:126250   1st Qu.: 3.5  \n",
              " Median : 485000   Median :10.0   Median :275000   Median : 6.5  \n",
              " Mean   : 548290   Mean   :15.7   Mean   :336500   Mean   :13.9  \n",
              " 3rd Qu.: 776250   3rd Qu.:23.0   3rd Qu.:512500   3rd Qu.:25.0  \n",
              " Max.   :1300000   Max.   :50.0   Max.   :760000   Max.   :40.0  \n",
              "      AMT               CNT          AVG_AMT         AGE50_YN        \n",
              " Min.   : 280000   Min.   : 4.0   Min.   : 15556   Length:10         \n",
              " 1st Qu.: 388425   1st Qu.: 8.0   1st Qu.: 23168   Class :character  \n",
              " Median :1020000   Median :16.0   Median : 40076   Mode  :character  \n",
              " Mean   : 884790   Mean   :29.6   Mean   : 53867                     \n",
              " 3rd Qu.:1172500   3rd Qu.:49.5   3rd Qu.: 55041                     \n",
              " Max.   :1605000   Max.   :90.0   Max.   :196667                     \n",
              "   AGE_GR10        \n",
              " Length:10         \n",
              " Class :character  \n",
              " Mode  :character  \n",
              "                   \n",
              "                   \n",
              "                   "
            ]
          },
          "metadata": {}
        }
      ]
    },
    {
      "cell_type": "code",
      "source": [
        "describe(df)"
      ],
      "metadata": {
        "colab": {
          "base_uri": "https://localhost:8080/",
          "height": 526
        },
        "id": "iaKKpW-s_l8z",
        "outputId": "74ff8b58-53ea-4b1c-8a44-cd95d992dfa2"
      },
      "execution_count": 81,
      "outputs": [
        {
          "output_type": "display_data",
          "data": {
            "text/html": [
              "<table class=\"dataframe\">\n",
              "<caption>A psych: 13 × 13</caption>\n",
              "<thead>\n",
              "\t<tr><th></th><th scope=col>vars</th><th scope=col>n</th><th scope=col>mean</th><th scope=col>sd</th><th scope=col>median</th><th scope=col>trimmed</th><th scope=col>mad</th><th scope=col>min</th><th scope=col>max</th><th scope=col>range</th><th scope=col>skew</th><th scope=col>kurtosis</th><th scope=col>se</th></tr>\n",
              "\t<tr><th></th><th scope=col>&lt;int&gt;</th><th scope=col>&lt;dbl&gt;</th><th scope=col>&lt;dbl&gt;</th><th scope=col>&lt;dbl&gt;</th><th scope=col>&lt;dbl&gt;</th><th scope=col>&lt;dbl&gt;</th><th scope=col>&lt;dbl&gt;</th><th scope=col>&lt;dbl&gt;</th><th scope=col>&lt;dbl&gt;</th><th scope=col>&lt;dbl&gt;</th><th scope=col>&lt;dbl&gt;</th><th scope=col>&lt;dbl&gt;</th><th scope=col>&lt;dbl&gt;</th></tr>\n",
              "</thead>\n",
              "<tbody>\n",
              "\t<tr><th scope=row>ID</th><td> 1</td><td>10</td><td>     5.50</td><td>3.027650e+00</td><td>      5.50</td><td>     5.500</td><td>     3.7065</td><td>     1.00</td><td>     10.0</td><td>      9.0</td><td> 0.00000000</td><td>-1.5616364</td><td>9.574271e-01</td></tr>\n",
              "\t<tr><th scope=row>SEX*</th><td> 2</td><td>10</td><td>     1.40</td><td>5.163978e-01</td><td>      1.00</td><td>     1.375</td><td>     0.0000</td><td>     1.00</td><td>      2.0</td><td>      1.0</td><td> 0.34856850</td><td>-2.0550000</td><td>1.632993e-01</td></tr>\n",
              "\t<tr><th scope=row>AGE</th><td> 3</td><td>10</td><td>    37.90</td><td>1.276671e+01</td><td>     39.00</td><td>    37.875</td><td>    16.3086</td><td>    20.00</td><td>     56.0</td><td>     36.0</td><td>-0.05156207</td><td>-1.7474305</td><td>4.037188e+00</td></tr>\n",
              "\t<tr><th scope=row>AREA*</th><td> 4</td><td>10</td><td>     2.00</td><td>9.428090e-01</td><td>      2.00</td><td>     1.875</td><td>     0.7413</td><td>     1.00</td><td>      4.0</td><td>      3.0</td><td> 0.71594562</td><td>-0.4687500</td><td>2.981424e-01</td></tr>\n",
              "\t<tr><th scope=row>AMT17</th><td> 5</td><td>10</td><td>548290.00</td><td>3.830392e+05</td><td> 485000.00</td><td>517500.000</td><td>404008.5000</td><td> 42900.00</td><td>1300000.0</td><td>1257100.0</td><td> 0.51531327</td><td>-0.9335146</td><td>1.211276e+05</td></tr>\n",
              "\t<tr><th scope=row>CNT17</th><td> 6</td><td>10</td><td>    15.70</td><td>1.539877e+01</td><td>     10.00</td><td>    13.250</td><td>    11.1195</td><td>     1.00</td><td>     50.0</td><td>     49.0</td><td> 0.98340486</td><td>-0.2616048</td><td>4.869520e+00</td></tr>\n",
              "\t<tr><th scope=row>AMT16</th><td> 7</td><td>10</td><td>336500.00</td><td>2.571862e+05</td><td> 275000.00</td><td>319375.000</td><td>240922.5000</td><td> 50000.00</td><td> 760000.0</td><td> 710000.0</td><td> 0.46008110</td><td>-1.5037415</td><td>8.132941e+04</td></tr>\n",
              "\t<tr><th scope=row>CNT16</th><td> 8</td><td>10</td><td>    13.90</td><td>1.388404e+01</td><td>      6.50</td><td>    12.125</td><td>     6.6717</td><td>     2.00</td><td>     40.0</td><td>     38.0</td><td> 0.69397748</td><td>-1.2845596</td><td>4.390520e+00</td></tr>\n",
              "\t<tr><th scope=row>AMT</th><td> 9</td><td>10</td><td>884790.00</td><td>4.813663e+05</td><td>1020000.00</td><td>870362.500</td><td>648637.5000</td><td>280000.00</td><td>1605000.0</td><td>1325000.0</td><td>-0.03644006</td><td>-1.7181262</td><td>1.522214e+05</td></tr>\n",
              "\t<tr><th scope=row>CNT</th><td>10</td><td>10</td><td>    29.60</td><td>2.896818e+01</td><td>     16.00</td><td>    25.250</td><td>    16.3086</td><td>     4.00</td><td>     90.0</td><td>     86.0</td><td> 0.85018359</td><td>-0.7893667</td><td>9.160543e+00</td></tr>\n",
              "\t<tr><th scope=row>AVG_AMT</th><td>11</td><td>10</td><td> 53866.64</td><td>5.318785e+04</td><td>  40075.76</td><td> 40805.528</td><td> 26236.2059</td><td> 15555.56</td><td> 196666.7</td><td> 181111.1</td><td> 1.83602911</td><td> 2.2604201</td><td>1.681948e+04</td></tr>\n",
              "\t<tr><th scope=row>AGE50_YN*</th><td>12</td><td>10</td><td>     1.30</td><td>4.830459e-01</td><td>      1.00</td><td>     1.250</td><td>     0.0000</td><td>     1.00</td><td>      2.0</td><td>      1.0</td><td> 0.74527080</td><td>-1.5728571</td><td>1.527525e-01</td></tr>\n",
              "\t<tr><th scope=row>AGE_GR10*</th><td>13</td><td>10</td><td>     2.60</td><td>1.349897e+00</td><td>      2.50</td><td>     2.625</td><td>     2.2239</td><td>     1.00</td><td>      4.0</td><td>      3.0</td><td>-0.06829789</td><td>-1.9365437</td><td>4.268749e-01</td></tr>\n",
              "</tbody>\n",
              "</table>\n"
            ],
            "text/markdown": "\nA psych: 13 × 13\n\n| <!--/--> | vars &lt;int&gt; | n &lt;dbl&gt; | mean &lt;dbl&gt; | sd &lt;dbl&gt; | median &lt;dbl&gt; | trimmed &lt;dbl&gt; | mad &lt;dbl&gt; | min &lt;dbl&gt; | max &lt;dbl&gt; | range &lt;dbl&gt; | skew &lt;dbl&gt; | kurtosis &lt;dbl&gt; | se &lt;dbl&gt; |\n|---|---|---|---|---|---|---|---|---|---|---|---|---|---|\n| ID |  1 | 10 |      5.50 | 3.027650e+00 |       5.50 |      5.500 |      3.7065 |      1.00 |      10.0 |       9.0 |  0.00000000 | -1.5616364 | 9.574271e-01 |\n| SEX* |  2 | 10 |      1.40 | 5.163978e-01 |       1.00 |      1.375 |      0.0000 |      1.00 |       2.0 |       1.0 |  0.34856850 | -2.0550000 | 1.632993e-01 |\n| AGE |  3 | 10 |     37.90 | 1.276671e+01 |      39.00 |     37.875 |     16.3086 |     20.00 |      56.0 |      36.0 | -0.05156207 | -1.7474305 | 4.037188e+00 |\n| AREA* |  4 | 10 |      2.00 | 9.428090e-01 |       2.00 |      1.875 |      0.7413 |      1.00 |       4.0 |       3.0 |  0.71594562 | -0.4687500 | 2.981424e-01 |\n| AMT17 |  5 | 10 | 548290.00 | 3.830392e+05 |  485000.00 | 517500.000 | 404008.5000 |  42900.00 | 1300000.0 | 1257100.0 |  0.51531327 | -0.9335146 | 1.211276e+05 |\n| CNT17 |  6 | 10 |     15.70 | 1.539877e+01 |      10.00 |     13.250 |     11.1195 |      1.00 |      50.0 |      49.0 |  0.98340486 | -0.2616048 | 4.869520e+00 |\n| AMT16 |  7 | 10 | 336500.00 | 2.571862e+05 |  275000.00 | 319375.000 | 240922.5000 |  50000.00 |  760000.0 |  710000.0 |  0.46008110 | -1.5037415 | 8.132941e+04 |\n| CNT16 |  8 | 10 |     13.90 | 1.388404e+01 |       6.50 |     12.125 |      6.6717 |      2.00 |      40.0 |      38.0 |  0.69397748 | -1.2845596 | 4.390520e+00 |\n| AMT |  9 | 10 | 884790.00 | 4.813663e+05 | 1020000.00 | 870362.500 | 648637.5000 | 280000.00 | 1605000.0 | 1325000.0 | -0.03644006 | -1.7181262 | 1.522214e+05 |\n| CNT | 10 | 10 |     29.60 | 2.896818e+01 |      16.00 |     25.250 |     16.3086 |      4.00 |      90.0 |      86.0 |  0.85018359 | -0.7893667 | 9.160543e+00 |\n| AVG_AMT | 11 | 10 |  53866.64 | 5.318785e+04 |   40075.76 |  40805.528 |  26236.2059 |  15555.56 |  196666.7 |  181111.1 |  1.83602911 |  2.2604201 | 1.681948e+04 |\n| AGE50_YN* | 12 | 10 |      1.30 | 4.830459e-01 |       1.00 |      1.250 |      0.0000 |      1.00 |       2.0 |       1.0 |  0.74527080 | -1.5728571 | 1.527525e-01 |\n| AGE_GR10* | 13 | 10 |      2.60 | 1.349897e+00 |       2.50 |      2.625 |      2.2239 |      1.00 |       4.0 |       3.0 | -0.06829789 | -1.9365437 | 4.268749e-01 |\n\n",
            "text/latex": "A psych: 13 × 13\n\\begin{tabular}{r|lllllllllllll}\n  & vars & n & mean & sd & median & trimmed & mad & min & max & range & skew & kurtosis & se\\\\\n  & <int> & <dbl> & <dbl> & <dbl> & <dbl> & <dbl> & <dbl> & <dbl> & <dbl> & <dbl> & <dbl> & <dbl> & <dbl>\\\\\n\\hline\n\tID &  1 & 10 &      5.50 & 3.027650e+00 &       5.50 &      5.500 &      3.7065 &      1.00 &      10.0 &       9.0 &  0.00000000 & -1.5616364 & 9.574271e-01\\\\\n\tSEX* &  2 & 10 &      1.40 & 5.163978e-01 &       1.00 &      1.375 &      0.0000 &      1.00 &       2.0 &       1.0 &  0.34856850 & -2.0550000 & 1.632993e-01\\\\\n\tAGE &  3 & 10 &     37.90 & 1.276671e+01 &      39.00 &     37.875 &     16.3086 &     20.00 &      56.0 &      36.0 & -0.05156207 & -1.7474305 & 4.037188e+00\\\\\n\tAREA* &  4 & 10 &      2.00 & 9.428090e-01 &       2.00 &      1.875 &      0.7413 &      1.00 &       4.0 &       3.0 &  0.71594562 & -0.4687500 & 2.981424e-01\\\\\n\tAMT17 &  5 & 10 & 548290.00 & 3.830392e+05 &  485000.00 & 517500.000 & 404008.5000 &  42900.00 & 1300000.0 & 1257100.0 &  0.51531327 & -0.9335146 & 1.211276e+05\\\\\n\tCNT17 &  6 & 10 &     15.70 & 1.539877e+01 &      10.00 &     13.250 &     11.1195 &      1.00 &      50.0 &      49.0 &  0.98340486 & -0.2616048 & 4.869520e+00\\\\\n\tAMT16 &  7 & 10 & 336500.00 & 2.571862e+05 &  275000.00 & 319375.000 & 240922.5000 &  50000.00 &  760000.0 &  710000.0 &  0.46008110 & -1.5037415 & 8.132941e+04\\\\\n\tCNT16 &  8 & 10 &     13.90 & 1.388404e+01 &       6.50 &     12.125 &      6.6717 &      2.00 &      40.0 &      38.0 &  0.69397748 & -1.2845596 & 4.390520e+00\\\\\n\tAMT &  9 & 10 & 884790.00 & 4.813663e+05 & 1020000.00 & 870362.500 & 648637.5000 & 280000.00 & 1605000.0 & 1325000.0 & -0.03644006 & -1.7181262 & 1.522214e+05\\\\\n\tCNT & 10 & 10 &     29.60 & 2.896818e+01 &      16.00 &     25.250 &     16.3086 &      4.00 &      90.0 &      86.0 &  0.85018359 & -0.7893667 & 9.160543e+00\\\\\n\tAVG\\_AMT & 11 & 10 &  53866.64 & 5.318785e+04 &   40075.76 &  40805.528 &  26236.2059 &  15555.56 &  196666.7 &  181111.1 &  1.83602911 &  2.2604201 & 1.681948e+04\\\\\n\tAGE50\\_YN* & 12 & 10 &      1.30 & 4.830459e-01 &       1.00 &      1.250 &      0.0000 &      1.00 &       2.0 &       1.0 &  0.74527080 & -1.5728571 & 1.527525e-01\\\\\n\tAGE\\_GR10* & 13 & 10 &      2.60 & 1.349897e+00 &       2.50 &      2.625 &      2.2239 &      1.00 &       4.0 &       3.0 & -0.06829789 & -1.9365437 & 4.268749e-01\\\\\n\\end{tabular}\n",
            "text/plain": [
              "          vars n  mean      sd           median     trimmed    mad        \n",
              "ID         1   10      5.50 3.027650e+00       5.50      5.500      3.7065\n",
              "SEX*       2   10      1.40 5.163978e-01       1.00      1.375      0.0000\n",
              "AGE        3   10     37.90 1.276671e+01      39.00     37.875     16.3086\n",
              "AREA*      4   10      2.00 9.428090e-01       2.00      1.875      0.7413\n",
              "AMT17      5   10 548290.00 3.830392e+05  485000.00 517500.000 404008.5000\n",
              "CNT17      6   10     15.70 1.539877e+01      10.00     13.250     11.1195\n",
              "AMT16      7   10 336500.00 2.571862e+05  275000.00 319375.000 240922.5000\n",
              "CNT16      8   10     13.90 1.388404e+01       6.50     12.125      6.6717\n",
              "AMT        9   10 884790.00 4.813663e+05 1020000.00 870362.500 648637.5000\n",
              "CNT       10   10     29.60 2.896818e+01      16.00     25.250     16.3086\n",
              "AVG_AMT   11   10  53866.64 5.318785e+04   40075.76  40805.528  26236.2059\n",
              "AGE50_YN* 12   10      1.30 4.830459e-01       1.00      1.250      0.0000\n",
              "AGE_GR10* 13   10      2.60 1.349897e+00       2.50      2.625      2.2239\n",
              "          min       max       range     skew        kurtosis   se          \n",
              "ID             1.00      10.0       9.0  0.00000000 -1.5616364 9.574271e-01\n",
              "SEX*           1.00       2.0       1.0  0.34856850 -2.0550000 1.632993e-01\n",
              "AGE           20.00      56.0      36.0 -0.05156207 -1.7474305 4.037188e+00\n",
              "AREA*          1.00       4.0       3.0  0.71594562 -0.4687500 2.981424e-01\n",
              "AMT17      42900.00 1300000.0 1257100.0  0.51531327 -0.9335146 1.211276e+05\n",
              "CNT17          1.00      50.0      49.0  0.98340486 -0.2616048 4.869520e+00\n",
              "AMT16      50000.00  760000.0  710000.0  0.46008110 -1.5037415 8.132941e+04\n",
              "CNT16          2.00      40.0      38.0  0.69397748 -1.2845596 4.390520e+00\n",
              "AMT       280000.00 1605000.0 1325000.0 -0.03644006 -1.7181262 1.522214e+05\n",
              "CNT            4.00      90.0      86.0  0.85018359 -0.7893667 9.160543e+00\n",
              "AVG_AMT    15555.56  196666.7  181111.1  1.83602911  2.2604201 1.681948e+04\n",
              "AGE50_YN*      1.00       2.0       1.0  0.74527080 -1.5728571 1.527525e-01\n",
              "AGE_GR10*      1.00       4.0       3.0 -0.06829789 -1.9365437 4.268749e-01"
            ]
          },
          "metadata": {}
        }
      ]
    },
    {
      "cell_type": "markdown",
      "source": [
        "## Group by Cat Variable"
      ],
      "metadata": {
        "id": "QqwwXOpUBRA-"
      }
    },
    {
      "cell_type": "code",
      "source": [
        "df %>% group_by(AREA) %>% summarize(합계 = sum(AGE))"
      ],
      "metadata": {
        "colab": {
          "base_uri": "https://localhost:8080/",
          "height": 224
        },
        "id": "syfczKg6-a-S",
        "outputId": "8f9252b6-2208-4ce9-92b7-465e256ef9f8"
      },
      "execution_count": 51,
      "outputs": [
        {
          "output_type": "display_data",
          "data": {
            "text/html": [
              "<table class=\"dataframe\">\n",
              "<caption>A tibble: 4 × 2</caption>\n",
              "<thead>\n",
              "\t<tr><th scope=col>AREA</th><th scope=col>합계</th></tr>\n",
              "\t<tr><th scope=col>&lt;chr&gt;</th><th scope=col>&lt;dbl&gt;</th></tr>\n",
              "</thead>\n",
              "<tbody>\n",
              "\t<tr><td>경기</td><td>134</td></tr>\n",
              "\t<tr><td>서울</td><td>197</td></tr>\n",
              "\t<tr><td>인천</td><td> 20</td></tr>\n",
              "\t<tr><td>제주</td><td> 28</td></tr>\n",
              "</tbody>\n",
              "</table>\n"
            ],
            "text/markdown": "\nA tibble: 4 × 2\n\n| AREA &lt;chr&gt; | 합계 &lt;dbl&gt; |\n|---|---|\n| 경기 | 134 |\n| 서울 | 197 |\n| 인천 |  20 |\n| 제주 |  28 |\n\n",
            "text/latex": "A tibble: 4 × 2\n\\begin{tabular}{ll}\n AREA & 합계\\\\\n <chr> & <dbl>\\\\\n\\hline\n\t 경기 & 134\\\\\n\t 서울 & 197\\\\\n\t 인천 &  20\\\\\n\t 제주 &  28\\\\\n\\end{tabular}\n",
            "text/plain": [
              "  AREA 합계\n",
              "1 경기 134 \n",
              "2 서울 197 \n",
              "3 인천  20 \n",
              "4 제주  28 "
            ]
          },
          "metadata": {}
        }
      ]
    },
    {
      "cell_type": "code",
      "source": [
        "df %>% group_by(AREA) %>% reframe(\n",
        "    평균 = mean(AGE),\n",
        "    중앙값 = median(AGE),\n",
        "    최댓값 = max(AGE),\n",
        "    최솟값 = min(AGE)\n",
        "    )"
      ],
      "metadata": {
        "id": "XUHPDFOXCp26",
        "colab": {
          "base_uri": "https://localhost:8080/",
          "height": 224
        },
        "outputId": "36778c3e-dbdb-42f6-c2f6-7dccdb1311a0"
      },
      "execution_count": 52,
      "outputs": [
        {
          "output_type": "display_data",
          "data": {
            "text/html": [
              "<table class=\"dataframe\">\n",
              "<caption>A tibble: 4 × 5</caption>\n",
              "<thead>\n",
              "\t<tr><th scope=col>AREA</th><th scope=col>평균</th><th scope=col>중앙값</th><th scope=col>최댓값</th><th scope=col>최솟값</th></tr>\n",
              "\t<tr><th scope=col>&lt;chr&gt;</th><th scope=col>&lt;dbl&gt;</th><th scope=col>&lt;dbl&gt;</th><th scope=col>&lt;dbl&gt;</th><th scope=col>&lt;dbl&gt;</th></tr>\n",
              "</thead>\n",
              "<tbody>\n",
              "\t<tr><td>경기</td><td>44.66667</td><td>40</td><td>56</td><td>38</td></tr>\n",
              "\t<tr><td>서울</td><td>39.40000</td><td>47</td><td>50</td><td>23</td></tr>\n",
              "\t<tr><td>인천</td><td>20.00000</td><td>20</td><td>20</td><td>20</td></tr>\n",
              "\t<tr><td>제주</td><td>28.00000</td><td>28</td><td>28</td><td>28</td></tr>\n",
              "</tbody>\n",
              "</table>\n"
            ],
            "text/markdown": "\nA tibble: 4 × 5\n\n| AREA &lt;chr&gt; | 평균 &lt;dbl&gt; | 중앙값 &lt;dbl&gt; | 최댓값 &lt;dbl&gt; | 최솟값 &lt;dbl&gt; |\n|---|---|---|---|---|\n| 경기 | 44.66667 | 40 | 56 | 38 |\n| 서울 | 39.40000 | 47 | 50 | 23 |\n| 인천 | 20.00000 | 20 | 20 | 20 |\n| 제주 | 28.00000 | 28 | 28 | 28 |\n\n",
            "text/latex": "A tibble: 4 × 5\n\\begin{tabular}{lllll}\n AREA & 평균 & 중앙값 & 최댓값 & 최솟값\\\\\n <chr> & <dbl> & <dbl> & <dbl> & <dbl>\\\\\n\\hline\n\t 경기 & 44.66667 & 40 & 56 & 38\\\\\n\t 서울 & 39.40000 & 47 & 50 & 23\\\\\n\t 인천 & 20.00000 & 20 & 20 & 20\\\\\n\t 제주 & 28.00000 & 28 & 28 & 28\\\\\n\\end{tabular}\n",
            "text/plain": [
              "  AREA 평균     중앙값 최댓값 최솟값\n",
              "1 경기 44.66667 40     56     38    \n",
              "2 서울 39.40000 47     50     23    \n",
              "3 인천 20.00000 20     20     20    \n",
              "4 제주 28.00000 28     28     28    "
            ]
          },
          "metadata": {}
        }
      ]
    },
    {
      "cell_type": "markdown",
      "source": [
        "## Visualizing"
      ],
      "metadata": {
        "id": "IY82nljdCpGB"
      }
    },
    {
      "cell_type": "code",
      "source": [
        "install.packages(\"descr\")\n",
        "library(descr)"
      ],
      "metadata": {
        "colab": {
          "base_uri": "https://localhost:8080/"
        },
        "id": "ucB1P1HpBu63",
        "outputId": "f77c9241-091a-4644-fe21-b54b86bd2235"
      },
      "execution_count": 70,
      "outputs": [
        {
          "output_type": "stream",
          "name": "stderr",
          "text": [
            "Installing package into ‘/usr/local/lib/R/site-library’\n",
            "(as ‘lib’ is unspecified)\n",
            "\n",
            "also installing the dependency ‘xtable’\n",
            "\n",
            "\n"
          ]
        }
      ]
    },
    {
      "cell_type": "markdown",
      "source": [
        "### Frequency"
      ],
      "metadata": {
        "id": "-iq8ClmTE33p"
      }
    },
    {
      "cell_type": "code",
      "source": [
        "table(df$AREA)"
      ],
      "metadata": {
        "colab": {
          "base_uri": "https://localhost:8080/",
          "height": 71
        },
        "id": "acTAy8QaDreu",
        "outputId": "2c50231d-be00-49c1-a31a-8ec65376e6f7"
      },
      "execution_count": 83,
      "outputs": [
        {
          "output_type": "display_data",
          "data": {
            "text/plain": [
              "\n",
              "경기 서울 인천 제주 \n",
              "   3    5    1    1 "
            ]
          },
          "metadata": {}
        }
      ]
    },
    {
      "cell_type": "code",
      "source": [
        "freq(\n",
        "    df$AREA,\n",
        "    plot = TRUE,\n",
        "    main = \"by Area\"\n",
        "    )"
      ],
      "metadata": {
        "colab": {
          "base_uri": "https://localhost:8080/",
          "height": 644
        },
        "id": "1uQnwIe1BeKI",
        "outputId": "b9dc6856-3c2e-4e29-8bf3-b342d162d33b"
      },
      "execution_count": 77,
      "outputs": [
        {
          "output_type": "display_data",
          "data": {
            "text/html": [
              "<table class=\"dataframe\">\n",
              "<caption>A freqtable: 5 × 2 of type dbl</caption>\n",
              "<thead>\n",
              "\t<tr><th></th><th scope=col>Frequency</th><th scope=col>Percent</th></tr>\n",
              "</thead>\n",
              "<tbody>\n",
              "\t<tr><th scope=row>경기</th><td> 3</td><td> 30</td></tr>\n",
              "\t<tr><th scope=row>서울</th><td> 5</td><td> 50</td></tr>\n",
              "\t<tr><th scope=row>인천</th><td> 1</td><td> 10</td></tr>\n",
              "\t<tr><th scope=row>제주</th><td> 1</td><td> 10</td></tr>\n",
              "\t<tr><th scope=row>Total</th><td>10</td><td>100</td></tr>\n",
              "</tbody>\n",
              "</table>\n"
            ],
            "text/markdown": "\nA freqtable: 5 × 2 of type dbl\n\n| <!--/--> | Frequency | Percent |\n|---|---|---|\n| 경기 |  3 |  30 |\n| 서울 |  5 |  50 |\n| 인천 |  1 |  10 |\n| 제주 |  1 |  10 |\n| Total | 10 | 100 |\n\n",
            "text/latex": "A freqtable: 5 × 2 of type dbl\n\\begin{tabular}{r|ll}\n  & Frequency & Percent\\\\\n\\hline\n\t경기 &  3 &  30\\\\\n\t서울 &  5 &  50\\\\\n\t인천 &  1 &  10\\\\\n\t제주 &  1 &  10\\\\\n\tTotal & 10 & 100\\\\\n\\end{tabular}\n",
            "text/plain": [
              "      Frequency Percent\n",
              "경기   3         30    \n",
              "서울   5         50    \n",
              "인천   1         10    \n",
              "제주   1         10    \n",
              "Total 10        100    "
            ]
          },
          "metadata": {}
        },
        {
          "output_type": "display_data",
          "data": {
            "text/plain": [
              "Plot with title “by Area”"
            ],
            "image/png": "[encoded data removed]"
          },
          "metadata": {
            "image/png": {
              "width": 420,
              "height": 420
            }
          }
        }
      ]
    },
    {
      "cell_type": "markdown",
      "source": [
        "### hist"
      ],
      "metadata": {
        "id": "iCP2RozjE5_D"
      }
    },
    {
      "cell_type": "code",
      "source": [
        "hist(\n",
        "    df$AGE,\n",
        "    xlim = c(0, 60),\n",
        "    ylim = c(0, 5),\n",
        "    main = \"by Age\"\n",
        "    )"
      ],
      "metadata": {
        "colab": {
          "base_uri": "https://localhost:8080/",
          "height": 437
        },
        "id": "qNHIUF4xC7P_",
        "outputId": "d86d8b80-1808-4986-a90f-a19d32a299ba"
      },
      "execution_count": 78,
      "outputs": [
        {
          "output_type": "display_data",
          "data": {
            "text/plain": [
              "Plot with title “by Age”"
            ],
            "image/png": "[encoded data removed]"
          },
          "metadata": {
            "image/png": {
              "width": 420,
              "height": 420
            }
          }
        }
      ]
    },
    {
      "cell_type": "markdown",
      "source": [
        "### bar"
      ],
      "metadata": {
        "id": "wtdjIST_E8Dd"
      }
    },
    {
      "cell_type": "code",
      "source": [
        "barplot(\n",
        "    table(df$SEX),\n",
        "    main = \"by Sex\",\n",
        "    xlab = \"Sex\",\n",
        "    ylab = \"Frequency\",\n",
        "    names = c(\"female\", \"male\"),\n",
        "    col = c(\"pink\", \"navy\")\n",
        "    )"
      ],
      "metadata": {
        "colab": {
          "base_uri": "https://localhost:8080/",
          "height": 437
        },
        "id": "qKxleW6kEKVb",
        "outputId": "fa0448bc-3475-41f3-d37f-5926002c8364"
      },
      "execution_count": 87,
      "outputs": [
        {
          "output_type": "display_data",
          "data": {
            "text/plain": [
              "Plot with title “by Sex”"
            ],
            "image/png": "[encoded data removed]"
          },
          "metadata": {
            "image/png": {
              "width": 420,
              "height": 420
            }
          }
        }
      ]
    },
    {
      "cell_type": "markdown",
      "source": [
        "### box"
      ],
      "metadata": {
        "id": "mxbn2EXaFMLk"
      }
    },
    {
      "cell_type": "code",
      "source": [
        "boxplot(\n",
        "    df$CNT17, df$CNT16,\n",
        "    main = \"Count by Year\",\n",
        "    xlab = \"Year\",\n",
        "    ylab = \"Count\",\n",
        "    names = c(\"2017\", \"2016\"),\n",
        "    col = c(\"yellow\", \"green\")\n",
        "    )"
      ],
      "metadata": {
        "colab": {
          "base_uri": "https://localhost:8080/",
          "height": 437
        },
        "id": "l0ie-S9jFOW-",
        "outputId": "6ad5d08a-d60f-442a-b104-4c58c78bbb54"
      },
      "execution_count": 89,
      "outputs": [
        {
          "output_type": "display_data",
          "data": {
            "text/plain": [
              "Plot with title “Count by Year”"
            ],
            "image/png": "[encoded data removed]"
          },
          "metadata": {
            "image/png": {
              "width": 420,
              "height": 420
            }
          }
        }
      ]
    },
    {
      "cell_type": "markdown",
      "source": [
        "# 5. Join"
      ],
      "metadata": {
        "id": "HELM99kBFn3y"
      }
    },
    {
      "cell_type": "markdown",
      "source": [
        "## 세로 결합(행 결합)"
      ],
      "metadata": {
        "id": "Kh3-XYGmJQ_L"
      }
    },
    {
      "cell_type": "code",
      "source": [
        "m_history <- read_excel(\"data/Sample2.xlsx\")\n",
        "f_history <- read_excel(\"data/Sample3.xlsx\")"
      ],
      "metadata": {
        "id": "7xN6hevIKHQ4"
      },
      "execution_count": null,
      "outputs": []
    },
    {
      "cell_type": "code",
      "source": [
        "history <- bind_rows(m_history, f_history)\n",
        "history"
      ],
      "metadata": {
        "colab": {
          "base_uri": "https://localhost:8080/",
          "height": 412
        },
        "id": "s0d5K9z5Fuhv",
        "outputId": "40e2f3b7-eaed-4731-ce20-41d24d95e335"
      },
      "execution_count": 91,
      "outputs": [
        {
          "output_type": "display_data",
          "data": {
            "text/html": [
              "<table class=\"dataframe\">\n",
              "<caption>A tibble: 10 × 8</caption>\n",
              "<thead>\n",
              "\t<tr><th scope=col>ID</th><th scope=col>SEX</th><th scope=col>AGE</th><th scope=col>AREA</th><th scope=col>AMT17</th><th scope=col>Y17_CNT</th><th scope=col>AMT16</th><th scope=col>Y16_CNT</th></tr>\n",
              "\t<tr><th scope=col>&lt;dbl&gt;</th><th scope=col>&lt;chr&gt;</th><th scope=col>&lt;dbl&gt;</th><th scope=col>&lt;chr&gt;</th><th scope=col>&lt;dbl&gt;</th><th scope=col>&lt;dbl&gt;</th><th scope=col>&lt;dbl&gt;</th><th scope=col>&lt;dbl&gt;</th></tr>\n",
              "</thead>\n",
              "<tbody>\n",
              "\t<tr><td> 2</td><td>M</td><td>40</td><td>경기</td><td> 450000</td><td>25</td><td>700000</td><td>30</td></tr>\n",
              "\t<tr><td> 4</td><td>M</td><td>50</td><td>서울</td><td> 400000</td><td> 8</td><td>125000</td><td> 3</td></tr>\n",
              "\t<tr><td> 5</td><td>M</td><td>27</td><td>서울</td><td> 845000</td><td>30</td><td>760000</td><td>28</td></tr>\n",
              "\t<tr><td> 9</td><td>M</td><td>20</td><td>인천</td><td> 930000</td><td> 4</td><td>250000</td><td> 2</td></tr>\n",
              "\t<tr><td> 1</td><td>F</td><td>50</td><td>서울</td><td>1300000</td><td>50</td><td>100000</td><td>40</td></tr>\n",
              "\t<tr><td> 3</td><td>F</td><td>28</td><td>제주</td><td> 275000</td><td>10</td><td> 50000</td><td> 5</td></tr>\n",
              "\t<tr><td> 6</td><td>F</td><td>23</td><td>서울</td><td>  42900</td><td> 1</td><td>300000</td><td> 6</td></tr>\n",
              "\t<tr><td> 7</td><td>F</td><td>56</td><td>경기</td><td> 150000</td><td> 2</td><td>130000</td><td> 2</td></tr>\n",
              "\t<tr><td> 8</td><td>F</td><td>47</td><td>서울</td><td> 570000</td><td>10</td><td>400000</td><td> 7</td></tr>\n",
              "\t<tr><td>10</td><td>F</td><td>38</td><td>경기</td><td> 520000</td><td>17</td><td>550000</td><td>16</td></tr>\n",
              "</tbody>\n",
              "</table>\n"
            ],
            "text/markdown": "\nA tibble: 10 × 8\n\n| ID &lt;dbl&gt; | SEX &lt;chr&gt; | AGE &lt;dbl&gt; | AREA &lt;chr&gt; | AMT17 &lt;dbl&gt; | Y17_CNT &lt;dbl&gt; | AMT16 &lt;dbl&gt; | Y16_CNT &lt;dbl&gt; |\n|---|---|---|---|---|---|---|---|\n|  2 | M | 40 | 경기 |  450000 | 25 | 700000 | 30 |\n|  4 | M | 50 | 서울 |  400000 |  8 | 125000 |  3 |\n|  5 | M | 27 | 서울 |  845000 | 30 | 760000 | 28 |\n|  9 | M | 20 | 인천 |  930000 |  4 | 250000 |  2 |\n|  1 | F | 50 | 서울 | 1300000 | 50 | 100000 | 40 |\n|  3 | F | 28 | 제주 |  275000 | 10 |  50000 |  5 |\n|  6 | F | 23 | 서울 |   42900 |  1 | 300000 |  6 |\n|  7 | F | 56 | 경기 |  150000 |  2 | 130000 |  2 |\n|  8 | F | 47 | 서울 |  570000 | 10 | 400000 |  7 |\n| 10 | F | 38 | 경기 |  520000 | 17 | 550000 | 16 |\n\n",
            "text/latex": "A tibble: 10 × 8\n\\begin{tabular}{llllllll}\n ID & SEX & AGE & AREA & AMT17 & Y17\\_CNT & AMT16 & Y16\\_CNT\\\\\n <dbl> & <chr> & <dbl> & <chr> & <dbl> & <dbl> & <dbl> & <dbl>\\\\\n\\hline\n\t  2 & M & 40 & 경기 &  450000 & 25 & 700000 & 30\\\\\n\t  4 & M & 50 & 서울 &  400000 &  8 & 125000 &  3\\\\\n\t  5 & M & 27 & 서울 &  845000 & 30 & 760000 & 28\\\\\n\t  9 & M & 20 & 인천 &  930000 &  4 & 250000 &  2\\\\\n\t  1 & F & 50 & 서울 & 1300000 & 50 & 100000 & 40\\\\\n\t  3 & F & 28 & 제주 &  275000 & 10 &  50000 &  5\\\\\n\t  6 & F & 23 & 서울 &   42900 &  1 & 300000 &  6\\\\\n\t  7 & F & 56 & 경기 &  150000 &  2 & 130000 &  2\\\\\n\t  8 & F & 47 & 서울 &  570000 & 10 & 400000 &  7\\\\\n\t 10 & F & 38 & 경기 &  520000 & 17 & 550000 & 16\\\\\n\\end{tabular}\n",
            "text/plain": [
              "   ID SEX AGE AREA AMT17   Y17_CNT AMT16  Y16_CNT\n",
              "1   2 M   40  경기  450000 25      700000 30     \n",
              "2   4 M   50  서울  400000  8      125000  3     \n",
              "3   5 M   27  서울  845000 30      760000 28     \n",
              "4   9 M   20  인천  930000  4      250000  2     \n",
              "5   1 F   50  서울 1300000 50      100000 40     \n",
              "6   3 F   28  제주  275000 10       50000  5     \n",
              "7   6 F   23  서울   42900  1      300000  6     \n",
              "8   7 F   56  경기  150000  2      130000  2     \n",
              "9   8 F   47  서울  570000 10      400000  7     \n",
              "10 10 F   38  경기  520000 17      550000 16     "
            ]
          },
          "metadata": {}
        }
      ]
    },
    {
      "cell_type": "markdown",
      "source": [
        "## 가로 결합(열 결합)"
      ],
      "metadata": {
        "id": "o0rl-S4jJwGS"
      }
    },
    {
      "cell_type": "code",
      "source": [
        "y17_history <- read_excel(\"data/Sample4.xlsx\")\n",
        "y16_history <- read_excel(\"data/Sample5.xlsx\")"
      ],
      "metadata": {
        "id": "9FkklIF4KMX6"
      },
      "execution_count": 93,
      "outputs": []
    },
    {
      "cell_type": "markdown",
      "source": [
        "### left_join"
      ],
      "metadata": {
        "id": "ZX77zU9zJzQp"
      }
    },
    {
      "cell_type": "code",
      "source": [
        "# 결합 기준 변수 ID 에 대하여 좌측 데이터 세트(y17_history) 중심으로 결합\n",
        "# ID == 3, 6 인 데이터는 좌측 데이터 세트에 존재하지 않으므로 누락되었음\n",
        "\n",
        "left_join(y17_history, y16_history, by = \"ID\")"
      ],
      "metadata": {
        "colab": {
          "base_uri": "https://localhost:8080/",
          "height": 349
        },
        "id": "P2h3mIYLJ8We",
        "outputId": "6a4d138d-17f9-4470-b878-ac31a9725133"
      },
      "execution_count": 94,
      "outputs": [
        {
          "output_type": "display_data",
          "data": {
            "text/html": [
              "<table class=\"dataframe\">\n",
              "<caption>A tibble: 8 × 8</caption>\n",
              "<thead>\n",
              "\t<tr><th scope=col>ID</th><th scope=col>SEX</th><th scope=col>AGE</th><th scope=col>AREA</th><th scope=col>AMT17</th><th scope=col>Y17_CNT</th><th scope=col>AMT16</th><th scope=col>Y16_CNT</th></tr>\n",
              "\t<tr><th scope=col>&lt;dbl&gt;</th><th scope=col>&lt;chr&gt;</th><th scope=col>&lt;dbl&gt;</th><th scope=col>&lt;chr&gt;</th><th scope=col>&lt;dbl&gt;</th><th scope=col>&lt;dbl&gt;</th><th scope=col>&lt;dbl&gt;</th><th scope=col>&lt;dbl&gt;</th></tr>\n",
              "</thead>\n",
              "<tbody>\n",
              "\t<tr><td> 1</td><td>F</td><td>50</td><td>서울</td><td>1300000</td><td>50</td><td>100000</td><td>40</td></tr>\n",
              "\t<tr><td> 2</td><td>M</td><td>40</td><td>경기</td><td> 450000</td><td>25</td><td>700000</td><td>30</td></tr>\n",
              "\t<tr><td> 4</td><td>M</td><td>50</td><td>서울</td><td> 400000</td><td> 8</td><td>125000</td><td> 3</td></tr>\n",
              "\t<tr><td> 5</td><td>M</td><td>27</td><td>서울</td><td> 845000</td><td>30</td><td>760000</td><td>28</td></tr>\n",
              "\t<tr><td> 7</td><td>F</td><td>56</td><td>경기</td><td> 150000</td><td> 2</td><td>130000</td><td> 2</td></tr>\n",
              "\t<tr><td> 8</td><td>F</td><td>47</td><td>서울</td><td> 570000</td><td>10</td><td>400000</td><td> 7</td></tr>\n",
              "\t<tr><td> 9</td><td>M</td><td>20</td><td>인천</td><td> 930000</td><td> 4</td><td>    NA</td><td>NA</td></tr>\n",
              "\t<tr><td>10</td><td>F</td><td>38</td><td>경기</td><td> 520000</td><td>17</td><td>550000</td><td>16</td></tr>\n",
              "</tbody>\n",
              "</table>\n"
            ],
            "text/markdown": "\nA tibble: 8 × 8\n\n| ID &lt;dbl&gt; | SEX &lt;chr&gt; | AGE &lt;dbl&gt; | AREA &lt;chr&gt; | AMT17 &lt;dbl&gt; | Y17_CNT &lt;dbl&gt; | AMT16 &lt;dbl&gt; | Y16_CNT &lt;dbl&gt; |\n|---|---|---|---|---|---|---|---|\n|  1 | F | 50 | 서울 | 1300000 | 50 | 100000 | 40 |\n|  2 | M | 40 | 경기 |  450000 | 25 | 700000 | 30 |\n|  4 | M | 50 | 서울 |  400000 |  8 | 125000 |  3 |\n|  5 | M | 27 | 서울 |  845000 | 30 | 760000 | 28 |\n|  7 | F | 56 | 경기 |  150000 |  2 | 130000 |  2 |\n|  8 | F | 47 | 서울 |  570000 | 10 | 400000 |  7 |\n|  9 | M | 20 | 인천 |  930000 |  4 |     NA | NA |\n| 10 | F | 38 | 경기 |  520000 | 17 | 550000 | 16 |\n\n",
            "text/latex": "A tibble: 8 × 8\n\\begin{tabular}{llllllll}\n ID & SEX & AGE & AREA & AMT17 & Y17\\_CNT & AMT16 & Y16\\_CNT\\\\\n <dbl> & <chr> & <dbl> & <chr> & <dbl> & <dbl> & <dbl> & <dbl>\\\\\n\\hline\n\t  1 & F & 50 & 서울 & 1300000 & 50 & 100000 & 40\\\\\n\t  2 & M & 40 & 경기 &  450000 & 25 & 700000 & 30\\\\\n\t  4 & M & 50 & 서울 &  400000 &  8 & 125000 &  3\\\\\n\t  5 & M & 27 & 서울 &  845000 & 30 & 760000 & 28\\\\\n\t  7 & F & 56 & 경기 &  150000 &  2 & 130000 &  2\\\\\n\t  8 & F & 47 & 서울 &  570000 & 10 & 400000 &  7\\\\\n\t  9 & M & 20 & 인천 &  930000 &  4 &     NA & NA\\\\\n\t 10 & F & 38 & 경기 &  520000 & 17 & 550000 & 16\\\\\n\\end{tabular}\n",
            "text/plain": [
              "  ID SEX AGE AREA AMT17   Y17_CNT AMT16  Y16_CNT\n",
              "1  1 F   50  서울 1300000 50      100000 40     \n",
              "2  2 M   40  경기  450000 25      700000 30     \n",
              "3  4 M   50  서울  400000  8      125000  3     \n",
              "4  5 M   27  서울  845000 30      760000 28     \n",
              "5  7 F   56  경기  150000  2      130000  2     \n",
              "6  8 F   47  서울  570000 10      400000  7     \n",
              "7  9 M   20  인천  930000  4          NA NA     \n",
              "8 10 F   38  경기  520000 17      550000 16     "
            ]
          },
          "metadata": {}
        }
      ]
    },
    {
      "cell_type": "markdown",
      "source": [
        "### inner_join"
      ],
      "metadata": {
        "id": "HABhgEINJ8z-"
      }
    },
    {
      "cell_type": "code",
      "source": [
        "# 결합 기준 변수 ID 에 대하여 두 데이터 세트의 교집합만 결합\n",
        "# ID == 3, 6 은 좌측 데이터 세트에, ID == 9 는 우측 데이터 세트에 존재하지 않으므로 누락되었음\n",
        "\n",
        "inner_join(y17_history, y16_history, by = \"ID\")"
      ],
      "metadata": {
        "colab": {
          "base_uri": "https://localhost:8080/",
          "height": 318
        },
        "id": "vZWLmQOmKCaW",
        "outputId": "2415f053-feb1-4a99-8089-6c39e894728f"
      },
      "execution_count": 97,
      "outputs": [
        {
          "output_type": "display_data",
          "data": {
            "text/html": [
              "<table class=\"dataframe\">\n",
              "<caption>A tibble: 7 × 8</caption>\n",
              "<thead>\n",
              "\t<tr><th scope=col>ID</th><th scope=col>SEX</th><th scope=col>AGE</th><th scope=col>AREA</th><th scope=col>AMT17</th><th scope=col>Y17_CNT</th><th scope=col>AMT16</th><th scope=col>Y16_CNT</th></tr>\n",
              "\t<tr><th scope=col>&lt;dbl&gt;</th><th scope=col>&lt;chr&gt;</th><th scope=col>&lt;dbl&gt;</th><th scope=col>&lt;chr&gt;</th><th scope=col>&lt;dbl&gt;</th><th scope=col>&lt;dbl&gt;</th><th scope=col>&lt;dbl&gt;</th><th scope=col>&lt;dbl&gt;</th></tr>\n",
              "</thead>\n",
              "<tbody>\n",
              "\t<tr><td> 1</td><td>F</td><td>50</td><td>서울</td><td>1300000</td><td>50</td><td>100000</td><td>40</td></tr>\n",
              "\t<tr><td> 2</td><td>M</td><td>40</td><td>경기</td><td> 450000</td><td>25</td><td>700000</td><td>30</td></tr>\n",
              "\t<tr><td> 4</td><td>M</td><td>50</td><td>서울</td><td> 400000</td><td> 8</td><td>125000</td><td> 3</td></tr>\n",
              "\t<tr><td> 5</td><td>M</td><td>27</td><td>서울</td><td> 845000</td><td>30</td><td>760000</td><td>28</td></tr>\n",
              "\t<tr><td> 7</td><td>F</td><td>56</td><td>경기</td><td> 150000</td><td> 2</td><td>130000</td><td> 2</td></tr>\n",
              "\t<tr><td> 8</td><td>F</td><td>47</td><td>서울</td><td> 570000</td><td>10</td><td>400000</td><td> 7</td></tr>\n",
              "\t<tr><td>10</td><td>F</td><td>38</td><td>경기</td><td> 520000</td><td>17</td><td>550000</td><td>16</td></tr>\n",
              "</tbody>\n",
              "</table>\n"
            ],
            "text/markdown": "\nA tibble: 7 × 8\n\n| ID &lt;dbl&gt; | SEX &lt;chr&gt; | AGE &lt;dbl&gt; | AREA &lt;chr&gt; | AMT17 &lt;dbl&gt; | Y17_CNT &lt;dbl&gt; | AMT16 &lt;dbl&gt; | Y16_CNT &lt;dbl&gt; |\n|---|---|---|---|---|---|---|---|\n|  1 | F | 50 | 서울 | 1300000 | 50 | 100000 | 40 |\n|  2 | M | 40 | 경기 |  450000 | 25 | 700000 | 30 |\n|  4 | M | 50 | 서울 |  400000 |  8 | 125000 |  3 |\n|  5 | M | 27 | 서울 |  845000 | 30 | 760000 | 28 |\n|  7 | F | 56 | 경기 |  150000 |  2 | 130000 |  2 |\n|  8 | F | 47 | 서울 |  570000 | 10 | 400000 |  7 |\n| 10 | F | 38 | 경기 |  520000 | 17 | 550000 | 16 |\n\n",
            "text/latex": "A tibble: 7 × 8\n\\begin{tabular}{llllllll}\n ID & SEX & AGE & AREA & AMT17 & Y17\\_CNT & AMT16 & Y16\\_CNT\\\\\n <dbl> & <chr> & <dbl> & <chr> & <dbl> & <dbl> & <dbl> & <dbl>\\\\\n\\hline\n\t  1 & F & 50 & 서울 & 1300000 & 50 & 100000 & 40\\\\\n\t  2 & M & 40 & 경기 &  450000 & 25 & 700000 & 30\\\\\n\t  4 & M & 50 & 서울 &  400000 &  8 & 125000 &  3\\\\\n\t  5 & M & 27 & 서울 &  845000 & 30 & 760000 & 28\\\\\n\t  7 & F & 56 & 경기 &  150000 &  2 & 130000 &  2\\\\\n\t  8 & F & 47 & 서울 &  570000 & 10 & 400000 &  7\\\\\n\t 10 & F & 38 & 경기 &  520000 & 17 & 550000 & 16\\\\\n\\end{tabular}\n",
            "text/plain": [
              "  ID SEX AGE AREA AMT17   Y17_CNT AMT16  Y16_CNT\n",
              "1  1 F   50  서울 1300000 50      100000 40     \n",
              "2  2 M   40  경기  450000 25      700000 30     \n",
              "3  4 M   50  서울  400000  8      125000  3     \n",
              "4  5 M   27  서울  845000 30      760000 28     \n",
              "5  7 F   56  경기  150000  2      130000  2     \n",
              "6  8 F   47  서울  570000 10      400000  7     \n",
              "7 10 F   38  경기  520000 17      550000 16     "
            ]
          },
          "metadata": {}
        }
      ]
    },
    {
      "cell_type": "markdown",
      "source": [
        "### full_join"
      ],
      "metadata": {
        "id": "E3mek9EDJ_wf"
      }
    },
    {
      "cell_type": "code",
      "source": [
        "# 결합 기준 변수 ID 에 대하여 두 데이터 세트의 합집합을 결합\n",
        "\n",
        "full_join(y17_history, y16_history, by = \"ID\")"
      ],
      "metadata": {
        "colab": {
          "base_uri": "https://localhost:8080/",
          "height": 412
        },
        "id": "Jq2QvTq7KDTM",
        "outputId": "c29d1613-ef48-4c20-c839-3247a7306c9e"
      },
      "execution_count": 98,
      "outputs": [
        {
          "output_type": "display_data",
          "data": {
            "text/html": [
              "<table class=\"dataframe\">\n",
              "<caption>A tibble: 10 × 8</caption>\n",
              "<thead>\n",
              "\t<tr><th scope=col>ID</th><th scope=col>SEX</th><th scope=col>AGE</th><th scope=col>AREA</th><th scope=col>AMT17</th><th scope=col>Y17_CNT</th><th scope=col>AMT16</th><th scope=col>Y16_CNT</th></tr>\n",
              "\t<tr><th scope=col>&lt;dbl&gt;</th><th scope=col>&lt;chr&gt;</th><th scope=col>&lt;dbl&gt;</th><th scope=col>&lt;chr&gt;</th><th scope=col>&lt;dbl&gt;</th><th scope=col>&lt;dbl&gt;</th><th scope=col>&lt;dbl&gt;</th><th scope=col>&lt;dbl&gt;</th></tr>\n",
              "</thead>\n",
              "<tbody>\n",
              "\t<tr><td> 1</td><td>F </td><td>50</td><td>서울</td><td>1300000</td><td>50</td><td>100000</td><td>40</td></tr>\n",
              "\t<tr><td> 2</td><td>M </td><td>40</td><td>경기</td><td> 450000</td><td>25</td><td>700000</td><td>30</td></tr>\n",
              "\t<tr><td> 4</td><td>M </td><td>50</td><td>서울</td><td> 400000</td><td> 8</td><td>125000</td><td> 3</td></tr>\n",
              "\t<tr><td> 5</td><td>M </td><td>27</td><td>서울</td><td> 845000</td><td>30</td><td>760000</td><td>28</td></tr>\n",
              "\t<tr><td> 7</td><td>F </td><td>56</td><td>경기</td><td> 150000</td><td> 2</td><td>130000</td><td> 2</td></tr>\n",
              "\t<tr><td> 8</td><td>F </td><td>47</td><td>서울</td><td> 570000</td><td>10</td><td>400000</td><td> 7</td></tr>\n",
              "\t<tr><td> 9</td><td>M </td><td>20</td><td>인천</td><td> 930000</td><td> 4</td><td>    NA</td><td>NA</td></tr>\n",
              "\t<tr><td>10</td><td>F </td><td>38</td><td>경기</td><td> 520000</td><td>17</td><td>550000</td><td>16</td></tr>\n",
              "\t<tr><td> 3</td><td>NA</td><td>NA</td><td>NA  </td><td>     NA</td><td>NA</td><td> 50000</td><td> 5</td></tr>\n",
              "\t<tr><td> 6</td><td>NA</td><td>NA</td><td>NA  </td><td>     NA</td><td>NA</td><td>300000</td><td> 6</td></tr>\n",
              "</tbody>\n",
              "</table>\n"
            ],
            "text/markdown": "\nA tibble: 10 × 8\n\n| ID &lt;dbl&gt; | SEX &lt;chr&gt; | AGE &lt;dbl&gt; | AREA &lt;chr&gt; | AMT17 &lt;dbl&gt; | Y17_CNT &lt;dbl&gt; | AMT16 &lt;dbl&gt; | Y16_CNT &lt;dbl&gt; |\n|---|---|---|---|---|---|---|---|\n|  1 | F  | 50 | 서울 | 1300000 | 50 | 100000 | 40 |\n|  2 | M  | 40 | 경기 |  450000 | 25 | 700000 | 30 |\n|  4 | M  | 50 | 서울 |  400000 |  8 | 125000 |  3 |\n|  5 | M  | 27 | 서울 |  845000 | 30 | 760000 | 28 |\n|  7 | F  | 56 | 경기 |  150000 |  2 | 130000 |  2 |\n|  8 | F  | 47 | 서울 |  570000 | 10 | 400000 |  7 |\n|  9 | M  | 20 | 인천 |  930000 |  4 |     NA | NA |\n| 10 | F  | 38 | 경기 |  520000 | 17 | 550000 | 16 |\n|  3 | NA | NA | NA   |      NA | NA |  50000 |  5 |\n|  6 | NA | NA | NA   |      NA | NA | 300000 |  6 |\n\n",
            "text/latex": "A tibble: 10 × 8\n\\begin{tabular}{llllllll}\n ID & SEX & AGE & AREA & AMT17 & Y17\\_CNT & AMT16 & Y16\\_CNT\\\\\n <dbl> & <chr> & <dbl> & <chr> & <dbl> & <dbl> & <dbl> & <dbl>\\\\\n\\hline\n\t  1 & F  & 50 & 서울 & 1300000 & 50 & 100000 & 40\\\\\n\t  2 & M  & 40 & 경기 &  450000 & 25 & 700000 & 30\\\\\n\t  4 & M  & 50 & 서울 &  400000 &  8 & 125000 &  3\\\\\n\t  5 & M  & 27 & 서울 &  845000 & 30 & 760000 & 28\\\\\n\t  7 & F  & 56 & 경기 &  150000 &  2 & 130000 &  2\\\\\n\t  8 & F  & 47 & 서울 &  570000 & 10 & 400000 &  7\\\\\n\t  9 & M  & 20 & 인천 &  930000 &  4 &     NA & NA\\\\\n\t 10 & F  & 38 & 경기 &  520000 & 17 & 550000 & 16\\\\\n\t  3 & NA & NA & NA   &      NA & NA &  50000 &  5\\\\\n\t  6 & NA & NA & NA   &      NA & NA & 300000 &  6\\\\\n\\end{tabular}\n",
            "text/plain": [
              "   ID SEX AGE AREA AMT17   Y17_CNT AMT16  Y16_CNT\n",
              "1   1 F   50  서울 1300000 50      100000 40     \n",
              "2   2 M   40  경기  450000 25      700000 30     \n",
              "3   4 M   50  서울  400000  8      125000  3     \n",
              "4   5 M   27  서울  845000 30      760000 28     \n",
              "5   7 F   56  경기  150000  2      130000  2     \n",
              "6   8 F   47  서울  570000 10      400000  7     \n",
              "7   9 M   20  인천  930000  4          NA NA     \n",
              "8  10 F   38  경기  520000 17      550000 16     \n",
              "9   3 NA  NA  NA        NA NA       50000  5     \n",
              "10  6 NA  NA  NA        NA NA      300000  6     "
            ]
          },
          "metadata": {}
        }
      ]
    }
  ]
}