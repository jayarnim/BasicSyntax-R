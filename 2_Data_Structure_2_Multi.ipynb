{
  "nbformat": 4,
  "nbformat_minor": 0,
  "metadata": {
    "colab": {
      "provenance": [],
      "authorship_tag": "ABX9TyPJFG4OfPqGb5kA8BJQF2Md",
      "include_colab_link": true
    },
    "kernelspec": {
      "name": "ir",
      "display_name": "R"
    },
    "language_info": {
      "name": "R"
    }
  },
  "cells": [
    {
      "cell_type": "markdown",
      "metadata": {
        "id": "view-in-github",
        "colab_type": "text"
      },
      "source": [
        "<a href=\"https://colab.research.google.com/github/jayarnim/study-RBasicSyntax/blob/main/2_Data_Structure_2_Multi.ipynb\" target=\"_parent\"><img src=\"https://colab.research.google.com/assets/colab-badge.svg\" alt=\"Open In Colab\"/></a>"
      ]
    },
    {
      "cell_type": "markdown",
      "source": [
        "# 0. 다중집합자료형(Multi Data Sturcture)\n",
        "\n",
        "- 정의 : 원소의 자료형이 다양한 집합자료형\n",
        "\n",
        "- 종류\n",
        "    - 리스트(list) : 1차원 다중집합자료형\n",
        "    - 데이터프레임(data.frame) : 2차원 다중집합자료형"
      ],
      "metadata": {
        "id": "rmi2PYU1u2H1"
      }
    },
    {
      "cell_type": "markdown",
      "source": [
        "# 1. List"
      ],
      "metadata": {
        "id": "Q4sVYemxwDBo"
      }
    },
    {
      "cell_type": "markdown",
      "source": [
        "## 리스트 생성하기"
      ],
      "metadata": {
        "id": "TvBLO1_AwHIr"
      }
    },
    {
      "cell_type": "code",
      "source": [
        "list1 <- list(c(1, 2, 3), 10, TRUE, \"hello\")\n",
        "list1"
      ],
      "metadata": {
        "id": "x0PAJl1SwOhq",
        "colab": {
          "base_uri": "https://localhost:8080/",
          "height": 114
        },
        "outputId": "0db67e13-dfed-416c-b975-ed1b13f925d6"
      },
      "execution_count": 1,
      "outputs": [
        {
          "output_type": "display_data",
          "data": {
            "text/html": [
              "<ol>\n",
              "\t<li><style>\n",
              ".list-inline {list-style: none; margin:0; padding: 0}\n",
              ".list-inline>li {display: inline-block}\n",
              ".list-inline>li:not(:last-child)::after {content: \"\\00b7\"; padding: 0 .5ex}\n",
              "</style>\n",
              "<ol class=list-inline><li>1</li><li>2</li><li>3</li></ol>\n",
              "</li>\n",
              "\t<li>10</li>\n",
              "\t<li>TRUE</li>\n",
              "\t<li>'hello'</li>\n",
              "</ol>\n"
            ],
            "text/markdown": "1. 1. 1\n2. 2\n3. 3\n\n\n\n2. 10\n3. TRUE\n4. 'hello'\n\n\n",
            "text/latex": "\\begin{enumerate}\n\\item \\begin{enumerate*}\n\\item 1\n\\item 2\n\\item 3\n\\end{enumerate*}\n\n\\item 10\n\\item TRUE\n\\item 'hello'\n\\end{enumerate}\n",
            "text/plain": [
              "[[1]]\n",
              "[1] 1 2 3\n",
              "\n",
              "[[2]]\n",
              "[1] 10\n",
              "\n",
              "[[3]]\n",
              "[1] TRUE\n",
              "\n",
              "[[4]]\n",
              "[1] \"hello\"\n"
            ]
          },
          "metadata": {}
        }
      ]
    },
    {
      "cell_type": "markdown",
      "source": [
        "## Keyword Mapping"
      ],
      "metadata": {
        "id": "BcGV83t8wIhA"
      }
    },
    {
      "cell_type": "markdown",
      "source": [
        "- names 함수를 통한 keyword mapping"
      ],
      "metadata": {
        "id": "lwX2Nb_qe-s1"
      }
    },
    {
      "cell_type": "code",
      "source": [
        "names(list1) <- c(\"vec_value\", \"int_value\", \"bool_value\", \"char_value\")\n",
        "list1"
      ],
      "metadata": {
        "id": "gNToZ2YCwUCO",
        "colab": {
          "base_uri": "https://localhost:8080/",
          "height": 184
        },
        "outputId": "42d1717b-5914-48b0-acbc-1c6db6e7ff07"
      },
      "execution_count": 2,
      "outputs": [
        {
          "output_type": "display_data",
          "data": {
            "text/html": [
              "<dl>\n",
              "\t<dt>$vec_value</dt>\n",
              "\t\t<dd><style>\n",
              ".list-inline {list-style: none; margin:0; padding: 0}\n",
              ".list-inline>li {display: inline-block}\n",
              ".list-inline>li:not(:last-child)::after {content: \"\\00b7\"; padding: 0 .5ex}\n",
              "</style>\n",
              "<ol class=list-inline><li>1</li><li>2</li><li>3</li></ol>\n",
              "</dd>\n",
              "\t<dt>$int_value</dt>\n",
              "\t\t<dd>10</dd>\n",
              "\t<dt>$bool_value</dt>\n",
              "\t\t<dd>TRUE</dd>\n",
              "\t<dt>$char_value</dt>\n",
              "\t\t<dd>'hello'</dd>\n",
              "</dl>\n"
            ],
            "text/markdown": "$vec_value\n:   1. 1\n2. 2\n3. 3\n\n\n\n$int_value\n:   10\n$bool_value\n:   TRUE\n$char_value\n:   'hello'\n\n\n",
            "text/latex": "\\begin{description}\n\\item[\\$vec\\_value] \\begin{enumerate*}\n\\item 1\n\\item 2\n\\item 3\n\\end{enumerate*}\n\n\\item[\\$int\\_value] 10\n\\item[\\$bool\\_value] TRUE\n\\item[\\$char\\_value] 'hello'\n\\end{description}\n",
            "text/plain": [
              "$vec_value\n",
              "[1] 1 2 3\n",
              "\n",
              "$int_value\n",
              "[1] 10\n",
              "\n",
              "$bool_value\n",
              "[1] TRUE\n",
              "\n",
              "$char_value\n",
              "[1] \"hello\"\n"
            ]
          },
          "metadata": {}
        }
      ]
    },
    {
      "cell_type": "markdown",
      "source": [
        "- list 생성자를 통해 객체 생성 시 keyword mapping"
      ],
      "metadata": {
        "id": "7bMduJMwfE1t"
      }
    },
    {
      "cell_type": "code",
      "source": [
        "list2 <- list(\n",
        "    vec_value = c(1, 2, 3),\n",
        "    int_value = 10,\n",
        "    bool_value = TRUE,\n",
        "    char_value = \"hello\"\n",
        "    )\n",
        "\n",
        "list2"
      ],
      "metadata": {
        "colab": {
          "base_uri": "https://localhost:8080/",
          "height": 184
        },
        "id": "S1piNiJufDmV",
        "outputId": "b7b03fd5-5cf0-430e-f637-9a9c88fde5e8"
      },
      "execution_count": 3,
      "outputs": [
        {
          "output_type": "display_data",
          "data": {
            "text/html": [
              "<dl>\n",
              "\t<dt>$vec_value</dt>\n",
              "\t\t<dd><style>\n",
              ".list-inline {list-style: none; margin:0; padding: 0}\n",
              ".list-inline>li {display: inline-block}\n",
              ".list-inline>li:not(:last-child)::after {content: \"\\00b7\"; padding: 0 .5ex}\n",
              "</style>\n",
              "<ol class=list-inline><li>1</li><li>2</li><li>3</li></ol>\n",
              "</dd>\n",
              "\t<dt>$int_value</dt>\n",
              "\t\t<dd>10</dd>\n",
              "\t<dt>$bool_value</dt>\n",
              "\t\t<dd>TRUE</dd>\n",
              "\t<dt>$char_value</dt>\n",
              "\t\t<dd>'hello'</dd>\n",
              "</dl>\n"
            ],
            "text/markdown": "$vec_value\n:   1. 1\n2. 2\n3. 3\n\n\n\n$int_value\n:   10\n$bool_value\n:   TRUE\n$char_value\n:   'hello'\n\n\n",
            "text/latex": "\\begin{description}\n\\item[\\$vec\\_value] \\begin{enumerate*}\n\\item 1\n\\item 2\n\\item 3\n\\end{enumerate*}\n\n\\item[\\$int\\_value] 10\n\\item[\\$bool\\_value] TRUE\n\\item[\\$char\\_value] 'hello'\n\\end{description}\n",
            "text/plain": [
              "$vec_value\n",
              "[1] 1 2 3\n",
              "\n",
              "$int_value\n",
              "[1] 10\n",
              "\n",
              "$bool_value\n",
              "[1] TRUE\n",
              "\n",
              "$char_value\n",
              "[1] \"hello\"\n"
            ]
          },
          "metadata": {}
        }
      ]
    },
    {
      "cell_type": "markdown",
      "source": [
        "## 리스트 탐색하기"
      ],
      "metadata": {
        "id": "ypKjPrn6gk25"
      }
    },
    {
      "cell_type": "code",
      "source": [
        "str(list2)"
      ],
      "metadata": {
        "colab": {
          "base_uri": "https://localhost:8080/"
        },
        "id": "jbDUxds9f9_I",
        "outputId": "c07468e6-e824-4974-cb02-02e5dd2ce46c"
      },
      "execution_count": 4,
      "outputs": [
        {
          "output_type": "stream",
          "name": "stdout",
          "text": [
            "List of 4\n",
            " $ vec_value : num [1:3] 1 2 3\n",
            " $ int_value : num 10\n",
            " $ bool_value: logi TRUE\n",
            " $ char_value: chr \"hello\"\n"
          ]
        }
      ]
    },
    {
      "cell_type": "markdown",
      "source": [
        "### 자료형"
      ],
      "metadata": {
        "id": "SrRR86B6gSg-"
      }
    },
    {
      "cell_type": "code",
      "source": [
        "class(list2)"
      ],
      "metadata": {
        "colab": {
          "base_uri": "https://localhost:8080/",
          "height": 34
        },
        "id": "ioln1hczgW_3",
        "outputId": "538c7229-236c-4b91-cd3a-42351bddfc5c"
      },
      "execution_count": 5,
      "outputs": [
        {
          "output_type": "display_data",
          "data": {
            "text/html": [
              "'list'"
            ],
            "text/markdown": "'list'",
            "text/latex": "'list'",
            "text/plain": [
              "[1] \"list\""
            ]
          },
          "metadata": {}
        }
      ]
    },
    {
      "cell_type": "code",
      "source": [
        "mode(list2)"
      ],
      "metadata": {
        "colab": {
          "base_uri": "https://localhost:8080/",
          "height": 34
        },
        "id": "fiCsj8m8gYPK",
        "outputId": "9be5b086-440c-4e9c-b921-7bf5bfb99a10"
      },
      "execution_count": 6,
      "outputs": [
        {
          "output_type": "display_data",
          "data": {
            "text/html": [
              "'list'"
            ],
            "text/markdown": "'list'",
            "text/latex": "'list'",
            "text/plain": [
              "[1] \"list\""
            ]
          },
          "metadata": {}
        }
      ]
    },
    {
      "cell_type": "code",
      "source": [
        "typeof(list2)"
      ],
      "metadata": {
        "colab": {
          "base_uri": "https://localhost:8080/",
          "height": 34
        },
        "id": "uJs5sQc0gZSw",
        "outputId": "3ecca462-737d-467f-f363-5a49f0e02dc5"
      },
      "execution_count": 7,
      "outputs": [
        {
          "output_type": "display_data",
          "data": {
            "text/html": [
              "'list'"
            ],
            "text/markdown": "'list'",
            "text/latex": "'list'",
            "text/plain": [
              "[1] \"list\""
            ]
          },
          "metadata": {}
        }
      ]
    },
    {
      "cell_type": "markdown",
      "source": [
        "### 원소 갯수"
      ],
      "metadata": {
        "id": "9KAzcLw2gcNd"
      }
    },
    {
      "cell_type": "code",
      "source": [
        "length(list2)"
      ],
      "metadata": {
        "colab": {
          "base_uri": "https://localhost:8080/",
          "height": 34
        },
        "id": "COaDlw-BgdmH",
        "outputId": "7f6c0476-bad8-4fca-c253-df4802e68bab"
      },
      "execution_count": 8,
      "outputs": [
        {
          "output_type": "display_data",
          "data": {
            "text/html": [
              "4"
            ],
            "text/markdown": "4",
            "text/latex": "4",
            "text/plain": [
              "[1] 4"
            ]
          },
          "metadata": {}
        }
      ]
    },
    {
      "cell_type": "markdown",
      "source": [
        "### Unique Value"
      ],
      "metadata": {
        "id": "nw-d0LkPgfpd"
      }
    },
    {
      "cell_type": "code",
      "source": [
        "unique(list2)"
      ],
      "metadata": {
        "colab": {
          "base_uri": "https://localhost:8080/",
          "height": 114
        },
        "id": "f2wL6e3Ighte",
        "outputId": "99ab1718-8dee-4c20-bfcc-b84e71a93a3b"
      },
      "execution_count": 9,
      "outputs": [
        {
          "output_type": "display_data",
          "data": {
            "text/html": [
              "<ol>\n",
              "\t<li><style>\n",
              ".list-inline {list-style: none; margin:0; padding: 0}\n",
              ".list-inline>li {display: inline-block}\n",
              ".list-inline>li:not(:last-child)::after {content: \"\\00b7\"; padding: 0 .5ex}\n",
              "</style>\n",
              "<ol class=list-inline><li>1</li><li>2</li><li>3</li></ol>\n",
              "</li>\n",
              "\t<li>10</li>\n",
              "\t<li>TRUE</li>\n",
              "\t<li>'hello'</li>\n",
              "</ol>\n"
            ],
            "text/markdown": "1. 1. 1\n2. 2\n3. 3\n\n\n\n2. 10\n3. TRUE\n4. 'hello'\n\n\n",
            "text/latex": "\\begin{enumerate}\n\\item \\begin{enumerate*}\n\\item 1\n\\item 2\n\\item 3\n\\end{enumerate*}\n\n\\item 10\n\\item TRUE\n\\item 'hello'\n\\end{enumerate}\n",
            "text/plain": [
              "[[1]]\n",
              "[1] 1 2 3\n",
              "\n",
              "[[2]]\n",
              "[1] 10\n",
              "\n",
              "[[3]]\n",
              "[1] TRUE\n",
              "\n",
              "[[4]]\n",
              "[1] \"hello\"\n"
            ]
          },
          "metadata": {}
        }
      ]
    },
    {
      "cell_type": "markdown",
      "source": [
        "## Indexing"
      ],
      "metadata": {
        "id": "2gNWlclQwW--"
      }
    },
    {
      "cell_type": "markdown",
      "source": [
        "### with Index"
      ],
      "metadata": {
        "id": "A337BsKEfesR"
      }
    },
    {
      "cell_type": "code",
      "source": [
        "# return key & value\n",
        "list2[1]"
      ],
      "metadata": {
        "id": "cvxxjfJUwdjJ",
        "colab": {
          "base_uri": "https://localhost:8080/",
          "height": 52
        },
        "outputId": "c1b3ebb6-54b6-4dc2-f1be-c3e907a70bf9"
      },
      "execution_count": 10,
      "outputs": [
        {
          "output_type": "display_data",
          "data": {
            "text/html": [
              "<strong>$vec_value</strong> = <style>\n",
              ".list-inline {list-style: none; margin:0; padding: 0}\n",
              ".list-inline>li {display: inline-block}\n",
              ".list-inline>li:not(:last-child)::after {content: \"\\00b7\"; padding: 0 .5ex}\n",
              "</style>\n",
              "<ol class=list-inline><li>1</li><li>2</li><li>3</li></ol>\n"
            ],
            "text/markdown": "**$vec_value** = 1. 1\n2. 2\n3. 3\n\n\n",
            "text/latex": "\\textbf{\\$vec\\_value} = \\begin{enumerate*}\n\\item 1\n\\item 2\n\\item 3\n\\end{enumerate*}\n",
            "text/plain": [
              "$vec_value\n",
              "[1] 1 2 3\n"
            ]
          },
          "metadata": {}
        }
      ]
    },
    {
      "cell_type": "code",
      "source": [
        "# return value\n",
        "list2[[1]]"
      ],
      "metadata": {
        "colab": {
          "base_uri": "https://localhost:8080/",
          "height": 34
        },
        "id": "3ogtfOJWftmW",
        "outputId": "36bcb407-27f5-4c55-d7e9-8bb73941a4d5"
      },
      "execution_count": 11,
      "outputs": [
        {
          "output_type": "display_data",
          "data": {
            "text/html": [
              "<style>\n",
              ".list-inline {list-style: none; margin:0; padding: 0}\n",
              ".list-inline>li {display: inline-block}\n",
              ".list-inline>li:not(:last-child)::after {content: \"\\00b7\"; padding: 0 .5ex}\n",
              "</style>\n",
              "<ol class=list-inline><li>1</li><li>2</li><li>3</li></ol>\n"
            ],
            "text/markdown": "1. 1\n2. 2\n3. 3\n\n\n",
            "text/latex": "\\begin{enumerate*}\n\\item 1\n\\item 2\n\\item 3\n\\end{enumerate*}\n",
            "text/plain": [
              "[1] 1 2 3"
            ]
          },
          "metadata": {}
        }
      ]
    },
    {
      "cell_type": "markdown",
      "source": [
        "### with Keyword"
      ],
      "metadata": {
        "id": "ZS-EGN_LfZ6S"
      }
    },
    {
      "cell_type": "code",
      "source": [
        "list2$vec_value"
      ],
      "metadata": {
        "colab": {
          "base_uri": "https://localhost:8080/",
          "height": 34
        },
        "id": "kxSjOjhvfb-4",
        "outputId": "9d4dbfb7-eea7-40af-9854-9753992e93be"
      },
      "execution_count": 12,
      "outputs": [
        {
          "output_type": "display_data",
          "data": {
            "text/html": [
              "<style>\n",
              ".list-inline {list-style: none; margin:0; padding: 0}\n",
              ".list-inline>li {display: inline-block}\n",
              ".list-inline>li:not(:last-child)::after {content: \"\\00b7\"; padding: 0 .5ex}\n",
              "</style>\n",
              "<ol class=list-inline><li>1</li><li>2</li><li>3</li></ol>\n"
            ],
            "text/markdown": "1. 1\n2. 2\n3. 3\n\n\n",
            "text/latex": "\\begin{enumerate*}\n\\item 1\n\\item 2\n\\item 3\n\\end{enumerate*}\n",
            "text/plain": [
              "[1] 1 2 3"
            ]
          },
          "metadata": {}
        }
      ]
    },
    {
      "cell_type": "markdown",
      "source": [
        "# 2. Data Frame"
      ],
      "metadata": {
        "id": "xO3vFyuWrh-s"
      }
    },
    {
      "cell_type": "markdown",
      "source": [
        "## 데이터프레임 생성하기"
      ],
      "metadata": {
        "id": "fz2pLjWmhorl"
      }
    },
    {
      "cell_type": "code",
      "source": [
        "vt1 <- c(1:10)\n",
        "vt2 <- c(\"F\", \"M\", \"F\", \"M\", \"M\", \"F\", \"F\", \"F\", \"M\", \"F\")\n",
        "vt3 <- c(50, 40, 28, 50, 27, 23, 56, 47, 20, 38)\n",
        "vt4 <- c(\"서울\", \"경기\", \"제주\", \"서울\", \"서울\", \"서울\", \"경기\", \"서울\", \"인천\", \"경기\")\n",
        "\n",
        "df <- data.frame(vt1, vt2, vt3, vt4)\n",
        "View(df)"
      ],
      "metadata": {
        "colab": {
          "base_uri": "https://localhost:8080/",
          "height": 412
        },
        "id": "cph5p92khRDp",
        "outputId": "e7f176a9-83ee-4076-93c2-39a21fdfd32d"
      },
      "execution_count": 13,
      "outputs": [
        {
          "output_type": "display_data",
          "data": {
            "text/plain": [
              "   vt1 vt2 vt3 vt4 \n",
              "1   1  F   50  서울\n",
              "2   2  M   40  경기\n",
              "3   3  F   28  제주\n",
              "4   4  M   50  서울\n",
              "5   5  M   27  서울\n",
              "6   6  F   23  서울\n",
              "7   7  F   56  경기\n",
              "8   8  F   47  서울\n",
              "9   9  M   20  인천\n",
              "10 10  F   38  경기"
            ],
            "text/html": [
              "<table class=\"dataframe\">\n",
              "<caption>A data.frame: 10 × 4</caption>\n",
              "<thead>\n",
              "\t<tr><th scope=col>vt1</th><th scope=col>vt2</th><th scope=col>vt3</th><th scope=col>vt4</th></tr>\n",
              "\t<tr><th scope=col>&lt;int&gt;</th><th scope=col>&lt;chr&gt;</th><th scope=col>&lt;dbl&gt;</th><th scope=col>&lt;chr&gt;</th></tr>\n",
              "</thead>\n",
              "<tbody>\n",
              "\t<tr><td> 1</td><td>F</td><td>50</td><td>서울</td></tr>\n",
              "\t<tr><td> 2</td><td>M</td><td>40</td><td>경기</td></tr>\n",
              "\t<tr><td> 3</td><td>F</td><td>28</td><td>제주</td></tr>\n",
              "\t<tr><td> 4</td><td>M</td><td>50</td><td>서울</td></tr>\n",
              "\t<tr><td> 5</td><td>M</td><td>27</td><td>서울</td></tr>\n",
              "\t<tr><td> 6</td><td>F</td><td>23</td><td>서울</td></tr>\n",
              "\t<tr><td> 7</td><td>F</td><td>56</td><td>경기</td></tr>\n",
              "\t<tr><td> 8</td><td>F</td><td>47</td><td>서울</td></tr>\n",
              "\t<tr><td> 9</td><td>M</td><td>20</td><td>인천</td></tr>\n",
              "\t<tr><td>10</td><td>F</td><td>38</td><td>경기</td></tr>\n",
              "</tbody>\n",
              "</table>\n"
            ],
            "text/markdown": "\nA data.frame: 10 × 4\n\n| vt1 &lt;int&gt; | vt2 &lt;chr&gt; | vt3 &lt;dbl&gt; | vt4 &lt;chr&gt; |\n|---|---|---|---|\n|  1 | F | 50 | 서울 |\n|  2 | M | 40 | 경기 |\n|  3 | F | 28 | 제주 |\n|  4 | M | 50 | 서울 |\n|  5 | M | 27 | 서울 |\n|  6 | F | 23 | 서울 |\n|  7 | F | 56 | 경기 |\n|  8 | F | 47 | 서울 |\n|  9 | M | 20 | 인천 |\n| 10 | F | 38 | 경기 |\n\n",
            "text/latex": "A data.frame: 10 × 4\n\\begin{tabular}{llll}\n vt1 & vt2 & vt3 & vt4\\\\\n <int> & <chr> & <dbl> & <chr>\\\\\n\\hline\n\t  1 & F & 50 & 서울\\\\\n\t  2 & M & 40 & 경기\\\\\n\t  3 & F & 28 & 제주\\\\\n\t  4 & M & 50 & 서울\\\\\n\t  5 & M & 27 & 서울\\\\\n\t  6 & F & 23 & 서울\\\\\n\t  7 & F & 56 & 경기\\\\\n\t  8 & F & 47 & 서울\\\\\n\t  9 & M & 20 & 인천\\\\\n\t 10 & F & 38 & 경기\\\\\n\\end{tabular}\n"
          },
          "metadata": {}
        }
      ]
    },
    {
      "cell_type": "markdown",
      "source": [
        "## 데이터프레임 탐색하기"
      ],
      "metadata": {
        "id": "1oPVGcvuhlzs"
      }
    },
    {
      "cell_type": "markdown",
      "source": [
        "### 행, 열 이름"
      ],
      "metadata": {
        "id": "3O_lQzpsiuJu"
      }
    },
    {
      "cell_type": "code",
      "source": [
        "colnames(df)"
      ],
      "metadata": {
        "colab": {
          "base_uri": "https://localhost:8080/",
          "height": 34
        },
        "id": "yCZiDmoAhYJj",
        "outputId": "6811a5c7-590c-4447-b446-556b622e14b6"
      },
      "execution_count": 14,
      "outputs": [
        {
          "output_type": "display_data",
          "data": {
            "text/html": [
              "<style>\n",
              ".list-inline {list-style: none; margin:0; padding: 0}\n",
              ".list-inline>li {display: inline-block}\n",
              ".list-inline>li:not(:last-child)::after {content: \"\\00b7\"; padding: 0 .5ex}\n",
              "</style>\n",
              "<ol class=list-inline><li>'vt1'</li><li>'vt2'</li><li>'vt3'</li><li>'vt4'</li></ol>\n"
            ],
            "text/markdown": "1. 'vt1'\n2. 'vt2'\n3. 'vt3'\n4. 'vt4'\n\n\n",
            "text/latex": "\\begin{enumerate*}\n\\item 'vt1'\n\\item 'vt2'\n\\item 'vt3'\n\\item 'vt4'\n\\end{enumerate*}\n",
            "text/plain": [
              "[1] \"vt1\" \"vt2\" \"vt3\" \"vt4\""
            ]
          },
          "metadata": {}
        }
      ]
    },
    {
      "cell_type": "code",
      "source": [
        "rownames(df)"
      ],
      "metadata": {
        "colab": {
          "base_uri": "https://localhost:8080/",
          "height": 34
        },
        "id": "36zG78S-hgxW",
        "outputId": "eca0fda8-b78f-49a2-b7a2-15b7021bf8d9"
      },
      "execution_count": 15,
      "outputs": [
        {
          "output_type": "display_data",
          "data": {
            "text/html": [
              "<style>\n",
              ".list-inline {list-style: none; margin:0; padding: 0}\n",
              ".list-inline>li {display: inline-block}\n",
              ".list-inline>li:not(:last-child)::after {content: \"\\00b7\"; padding: 0 .5ex}\n",
              "</style>\n",
              "<ol class=list-inline><li>'1'</li><li>'2'</li><li>'3'</li><li>'4'</li><li>'5'</li><li>'6'</li><li>'7'</li><li>'8'</li><li>'9'</li><li>'10'</li></ol>\n"
            ],
            "text/markdown": "1. '1'\n2. '2'\n3. '3'\n4. '4'\n5. '5'\n6. '6'\n7. '7'\n8. '8'\n9. '9'\n10. '10'\n\n\n",
            "text/latex": "\\begin{enumerate*}\n\\item '1'\n\\item '2'\n\\item '3'\n\\item '4'\n\\item '5'\n\\item '6'\n\\item '7'\n\\item '8'\n\\item '9'\n\\item '10'\n\\end{enumerate*}\n",
            "text/plain": [
              " [1] \"1\"  \"2\"  \"3\"  \"4\"  \"5\"  \"6\"  \"7\"  \"8\"  \"9\"  \"10\""
            ]
          },
          "metadata": {}
        }
      ]
    },
    {
      "cell_type": "markdown",
      "source": [
        "### 크기"
      ],
      "metadata": {
        "id": "JArzg2PCiq-x"
      }
    },
    {
      "cell_type": "code",
      "source": [
        "dim(df)"
      ],
      "metadata": {
        "colab": {
          "base_uri": "https://localhost:8080/",
          "height": 34
        },
        "id": "C-iwLm-nhxnG",
        "outputId": "e3dc4892-2348-4ae9-ab2a-92388bb54200"
      },
      "execution_count": 16,
      "outputs": [
        {
          "output_type": "display_data",
          "data": {
            "text/html": [
              "<style>\n",
              ".list-inline {list-style: none; margin:0; padding: 0}\n",
              ".list-inline>li {display: inline-block}\n",
              ".list-inline>li:not(:last-child)::after {content: \"\\00b7\"; padding: 0 .5ex}\n",
              "</style>\n",
              "<ol class=list-inline><li>10</li><li>4</li></ol>\n"
            ],
            "text/markdown": "1. 10\n2. 4\n\n\n",
            "text/latex": "\\begin{enumerate*}\n\\item 10\n\\item 4\n\\end{enumerate*}\n",
            "text/plain": [
              "[1] 10  4"
            ]
          },
          "metadata": {}
        }
      ]
    },
    {
      "cell_type": "code",
      "source": [
        "nrow(df)"
      ],
      "metadata": {
        "colab": {
          "base_uri": "https://localhost:8080/",
          "height": 34
        },
        "id": "sfWe9XMZh9_n",
        "outputId": "e8fc0042-b3f6-463f-f979-7f387075f989"
      },
      "execution_count": 17,
      "outputs": [
        {
          "output_type": "display_data",
          "data": {
            "text/html": [
              "10"
            ],
            "text/markdown": "10",
            "text/latex": "10",
            "text/plain": [
              "[1] 10"
            ]
          },
          "metadata": {}
        }
      ]
    },
    {
      "cell_type": "code",
      "source": [
        "ncol(df)"
      ],
      "metadata": {
        "colab": {
          "base_uri": "https://localhost:8080/",
          "height": 34
        },
        "id": "pjOTu8oDh8dL",
        "outputId": "c3d10aa8-d33b-423b-c3ce-55aaac495ed5"
      },
      "execution_count": 18,
      "outputs": [
        {
          "output_type": "display_data",
          "data": {
            "text/html": [
              "4"
            ],
            "text/markdown": "4",
            "text/latex": "4",
            "text/plain": [
              "[1] 4"
            ]
          },
          "metadata": {}
        }
      ]
    },
    {
      "cell_type": "markdown",
      "source": [
        "### 자료 형상"
      ],
      "metadata": {
        "id": "-hX0pWdWipFf"
      }
    },
    {
      "cell_type": "code",
      "source": [
        "str(df)"
      ],
      "metadata": {
        "colab": {
          "base_uri": "https://localhost:8080/"
        },
        "id": "mytcVgtYhvN9",
        "outputId": "dcb45d70-dd43-404b-c76c-8e6633ee5a90"
      },
      "execution_count": 19,
      "outputs": [
        {
          "output_type": "stream",
          "name": "stdout",
          "text": [
            "'data.frame':\t10 obs. of  4 variables:\n",
            " $ vt1: int  1 2 3 4 5 6 7 8 9 10\n",
            " $ vt2: chr  \"F\" \"M\" \"F\" \"M\" ...\n",
            " $ vt3: num  50 40 28 50 27 23 56 47 20 38\n",
            " $ vt4: chr  \"서울\" \"경기\" \"제주\" \"서울\" ...\n"
          ]
        }
      ]
    },
    {
      "cell_type": "code",
      "source": [
        "summary(df)"
      ],
      "metadata": {
        "colab": {
          "base_uri": "https://localhost:8080/",
          "height": 142
        },
        "id": "vA_gJKxEiEVe",
        "outputId": "0ae77070-26a5-4d70-de0a-fe3615e0bbe7"
      },
      "execution_count": 20,
      "outputs": [
        {
          "output_type": "display_data",
          "data": {
            "text/plain": [
              "      vt1            vt2                 vt3            vt4           \n",
              " Min.   : 1.00   Length:10          Min.   :20.00   Length:10         \n",
              " 1st Qu.: 3.25   Class :character   1st Qu.:27.25   Class :character  \n",
              " Median : 5.50   Mode  :character   Median :39.00   Mode  :character  \n",
              " Mean   : 5.50                      Mean   :37.90                     \n",
              " 3rd Qu.: 7.75                      3rd Qu.:49.25                     \n",
              " Max.   :10.00                      Max.   :56.00                     "
            ]
          },
          "metadata": {}
        }
      ]
    },
    {
      "cell_type": "markdown",
      "source": [
        "### 데이터프레임 일부만 조회"
      ],
      "metadata": {
        "id": "lBmQPXa4iwkd"
      }
    },
    {
      "cell_type": "code",
      "source": [
        "head(df, 3)"
      ],
      "metadata": {
        "colab": {
          "base_uri": "https://localhost:8080/",
          "height": 192
        },
        "id": "xygemOJwhcZ2",
        "outputId": "918ebb65-7b53-47ae-8b25-03dbd2dc98f4"
      },
      "execution_count": 21,
      "outputs": [
        {
          "output_type": "display_data",
          "data": {
            "text/html": [
              "<table class=\"dataframe\">\n",
              "<caption>A data.frame: 3 × 4</caption>\n",
              "<thead>\n",
              "\t<tr><th></th><th scope=col>vt1</th><th scope=col>vt2</th><th scope=col>vt3</th><th scope=col>vt4</th></tr>\n",
              "\t<tr><th></th><th scope=col>&lt;int&gt;</th><th scope=col>&lt;chr&gt;</th><th scope=col>&lt;dbl&gt;</th><th scope=col>&lt;chr&gt;</th></tr>\n",
              "</thead>\n",
              "<tbody>\n",
              "\t<tr><th scope=row>1</th><td>1</td><td>F</td><td>50</td><td>서울</td></tr>\n",
              "\t<tr><th scope=row>2</th><td>2</td><td>M</td><td>40</td><td>경기</td></tr>\n",
              "\t<tr><th scope=row>3</th><td>3</td><td>F</td><td>28</td><td>제주</td></tr>\n",
              "</tbody>\n",
              "</table>\n"
            ],
            "text/markdown": "\nA data.frame: 3 × 4\n\n| <!--/--> | vt1 &lt;int&gt; | vt2 &lt;chr&gt; | vt3 &lt;dbl&gt; | vt4 &lt;chr&gt; |\n|---|---|---|---|---|\n| 1 | 1 | F | 50 | 서울 |\n| 2 | 2 | M | 40 | 경기 |\n| 3 | 3 | F | 28 | 제주 |\n\n",
            "text/latex": "A data.frame: 3 × 4\n\\begin{tabular}{r|llll}\n  & vt1 & vt2 & vt3 & vt4\\\\\n  & <int> & <chr> & <dbl> & <chr>\\\\\n\\hline\n\t1 & 1 & F & 50 & 서울\\\\\n\t2 & 2 & M & 40 & 경기\\\\\n\t3 & 3 & F & 28 & 제주\\\\\n\\end{tabular}\n",
            "text/plain": [
              "  vt1 vt2 vt3 vt4 \n",
              "1 1   F   50  서울\n",
              "2 2   M   40  경기\n",
              "3 3   F   28  제주"
            ]
          },
          "metadata": {}
        }
      ]
    },
    {
      "cell_type": "code",
      "source": [
        "tail(df, 3)"
      ],
      "metadata": {
        "colab": {
          "base_uri": "https://localhost:8080/",
          "height": 192
        },
        "id": "bMDCU-kKhev0",
        "outputId": "e16e8da9-32e2-4392-dac9-f444d7d34892"
      },
      "execution_count": 22,
      "outputs": [
        {
          "output_type": "display_data",
          "data": {
            "text/html": [
              "<table class=\"dataframe\">\n",
              "<caption>A data.frame: 3 × 4</caption>\n",
              "<thead>\n",
              "\t<tr><th></th><th scope=col>vt1</th><th scope=col>vt2</th><th scope=col>vt3</th><th scope=col>vt4</th></tr>\n",
              "\t<tr><th></th><th scope=col>&lt;int&gt;</th><th scope=col>&lt;chr&gt;</th><th scope=col>&lt;dbl&gt;</th><th scope=col>&lt;chr&gt;</th></tr>\n",
              "</thead>\n",
              "<tbody>\n",
              "\t<tr><th scope=row>8</th><td> 8</td><td>F</td><td>47</td><td>서울</td></tr>\n",
              "\t<tr><th scope=row>9</th><td> 9</td><td>M</td><td>20</td><td>인천</td></tr>\n",
              "\t<tr><th scope=row>10</th><td>10</td><td>F</td><td>38</td><td>경기</td></tr>\n",
              "</tbody>\n",
              "</table>\n"
            ],
            "text/markdown": "\nA data.frame: 3 × 4\n\n| <!--/--> | vt1 &lt;int&gt; | vt2 &lt;chr&gt; | vt3 &lt;dbl&gt; | vt4 &lt;chr&gt; |\n|---|---|---|---|---|\n| 8 |  8 | F | 47 | 서울 |\n| 9 |  9 | M | 20 | 인천 |\n| 10 | 10 | F | 38 | 경기 |\n\n",
            "text/latex": "A data.frame: 3 × 4\n\\begin{tabular}{r|llll}\n  & vt1 & vt2 & vt3 & vt4\\\\\n  & <int> & <chr> & <dbl> & <chr>\\\\\n\\hline\n\t8 &  8 & F & 47 & 서울\\\\\n\t9 &  9 & M & 20 & 인천\\\\\n\t10 & 10 & F & 38 & 경기\\\\\n\\end{tabular}\n",
            "text/plain": [
              "   vt1 vt2 vt3 vt4 \n",
              "8   8  F   47  서울\n",
              "9   9  M   20  인천\n",
              "10 10  F   38  경기"
            ]
          },
          "metadata": {}
        }
      ]
    },
    {
      "cell_type": "markdown",
      "source": [
        "## Indexing"
      ],
      "metadata": {
        "id": "tsxJ5vEgiMt6"
      }
    },
    {
      "cell_type": "code",
      "source": [
        "df[1:3, c(2, 4)]"
      ],
      "metadata": {
        "colab": {
          "base_uri": "https://localhost:8080/",
          "height": 192
        },
        "id": "yR0EV1jgiO22",
        "outputId": "8f87e9b8-29ca-4993-bd1c-aa32d944a20c"
      },
      "execution_count": 23,
      "outputs": [
        {
          "output_type": "display_data",
          "data": {
            "text/html": [
              "<table class=\"dataframe\">\n",
              "<caption>A data.frame: 3 × 2</caption>\n",
              "<thead>\n",
              "\t<tr><th></th><th scope=col>vt2</th><th scope=col>vt4</th></tr>\n",
              "\t<tr><th></th><th scope=col>&lt;chr&gt;</th><th scope=col>&lt;chr&gt;</th></tr>\n",
              "</thead>\n",
              "<tbody>\n",
              "\t<tr><th scope=row>1</th><td>F</td><td>서울</td></tr>\n",
              "\t<tr><th scope=row>2</th><td>M</td><td>경기</td></tr>\n",
              "\t<tr><th scope=row>3</th><td>F</td><td>제주</td></tr>\n",
              "</tbody>\n",
              "</table>\n"
            ],
            "text/markdown": "\nA data.frame: 3 × 2\n\n| <!--/--> | vt2 &lt;chr&gt; | vt4 &lt;chr&gt; |\n|---|---|---|\n| 1 | F | 서울 |\n| 2 | M | 경기 |\n| 3 | F | 제주 |\n\n",
            "text/latex": "A data.frame: 3 × 2\n\\begin{tabular}{r|ll}\n  & vt2 & vt4\\\\\n  & <chr> & <chr>\\\\\n\\hline\n\t1 & F & 서울\\\\\n\t2 & M & 경기\\\\\n\t3 & F & 제주\\\\\n\\end{tabular}\n",
            "text/plain": [
              "  vt2 vt4 \n",
              "1 F   서울\n",
              "2 M   경기\n",
              "3 F   제주"
            ]
          },
          "metadata": {}
        }
      ]
    },
    {
      "cell_type": "code",
      "source": [
        "df[1:3, c(\"vt1\", \"vt3\")]"
      ],
      "metadata": {
        "colab": {
          "base_uri": "https://localhost:8080/",
          "height": 192
        },
        "id": "IQLMsMuJiWfJ",
        "outputId": "399ab311-50c4-4a25-8806-b8f99460384b"
      },
      "execution_count": 24,
      "outputs": [
        {
          "output_type": "display_data",
          "data": {
            "text/html": [
              "<table class=\"dataframe\">\n",
              "<caption>A data.frame: 3 × 2</caption>\n",
              "<thead>\n",
              "\t<tr><th></th><th scope=col>vt1</th><th scope=col>vt3</th></tr>\n",
              "\t<tr><th></th><th scope=col>&lt;int&gt;</th><th scope=col>&lt;dbl&gt;</th></tr>\n",
              "</thead>\n",
              "<tbody>\n",
              "\t<tr><th scope=row>1</th><td>1</td><td>50</td></tr>\n",
              "\t<tr><th scope=row>2</th><td>2</td><td>40</td></tr>\n",
              "\t<tr><th scope=row>3</th><td>3</td><td>28</td></tr>\n",
              "</tbody>\n",
              "</table>\n"
            ],
            "text/markdown": "\nA data.frame: 3 × 2\n\n| <!--/--> | vt1 &lt;int&gt; | vt3 &lt;dbl&gt; |\n|---|---|---|\n| 1 | 1 | 50 |\n| 2 | 2 | 40 |\n| 3 | 3 | 28 |\n\n",
            "text/latex": "A data.frame: 3 × 2\n\\begin{tabular}{r|ll}\n  & vt1 & vt3\\\\\n  & <int> & <dbl>\\\\\n\\hline\n\t1 & 1 & 50\\\\\n\t2 & 2 & 40\\\\\n\t3 & 3 & 28\\\\\n\\end{tabular}\n",
            "text/plain": [
              "  vt1 vt3\n",
              "1 1   50 \n",
              "2 2   40 \n",
              "3 3   28 "
            ]
          },
          "metadata": {}
        }
      ]
    }
  ]
}